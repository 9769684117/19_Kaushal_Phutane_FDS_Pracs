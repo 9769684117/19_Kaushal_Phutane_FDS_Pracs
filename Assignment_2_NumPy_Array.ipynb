{
  "cells": [
    {
      "cell_type": "markdown",
      "metadata": {
        "id": "view-in-github",
        "colab_type": "text"
      },
      "source": [
        "<a href=\"https://colab.research.google.com/github/kaushal-codes/Data-Science/blob/main/Assignment_2_NumPy_Array.ipynb\" target=\"_parent\"><img src=\"https://colab.research.google.com/assets/colab-badge.svg\" alt=\"Open In Colab\"/></a>"
      ]
    },
    {
      "cell_type": "markdown",
      "id": "3c5179d4",
      "metadata": {
        "id": "3c5179d4"
      },
      "source": [
        "---\n",
        "# **Table of Contents**\n",
        "---"
      ]
    },
    {
      "cell_type": "markdown",
      "id": "77515672",
      "metadata": {
        "id": "77515672"
      },
      "source": [
        "**1.** [**Array Initialization**](#Section1)<br>\n",
        "**2.** [**Array Initialization using Random Numbers**](#Section2)<br>\n",
        "**3.** [**Numpy Indexing**](#Section3)<br>\n",
        "  - **3.1** [**Array Slicing**](#Section31)\n",
        "  - **3.2** [**Conditional Array Indexing**](#Section32)\n",
        "\n",
        "**4.** [**Numpy Array Operations**](#Section4)<br>\n",
        "  - **4.1** [**Numpy Broadcasting**](#Section41)\n",
        "  - **4.2** [**Numpy Mathematical Functions**](#Section42)\n",
        "  - **4.3** [**Numpy Unique Items and Counts**](#Section43)\n",
        "  - **4.4** [**Array Manipulation**](#Section44)\n",
        "    - **4.4.1** [**Array Shape Manipulation**](#Section441)\n",
        "    - **4.4.2** [**Array Merging & Splitting**](#Section442)\n",
        "\n",
        "**5.** [**Conclusion**](#Section5)<br>"
      ]
    },
    {
      "cell_type": "code",
      "execution_count": 49,
      "id": "c4caf78d",
      "metadata": {
        "id": "c4caf78d"
      },
      "outputs": [],
      "source": [
        "import numpy as np"
      ]
    },
    {
      "cell_type": "markdown",
      "id": "2051437e",
      "metadata": {
        "id": "2051437e"
      },
      "source": [
        "---\n",
        "<a name = Section1></a>\n",
        "# **1. Array Initialization**\n",
        "---\n",
        "\n",
        "- In this section, we will learn some array initalization methods such as:\n",
        "\n",
        "  - **.arange():** Generates an array of specifed range, step size (default is 1) and type of data to be stored.\n",
        "\n",
        "  - **.zeros():** Generate an array containing zero values.\n",
        "\n",
        "  - **.ones():** Generates an array containing ones as value.\n",
        "\n",
        "  - **.linspace():** Generates an evenly spaced numbers over a specified interval.\n",
        "\n",
        "  - **.eye():** Generates a 2-D array with ones on the diagonal and zeros elsewhere.\n",
        "  \n",
        "  - **.empty():** Generates an array with random values."
      ]
    },
    {
      "cell_type": "code",
      "execution_count": 50,
      "id": "b99fb0c3",
      "metadata": {
        "colab": {
          "base_uri": "https://localhost:8080/"
        },
        "id": "b99fb0c3",
        "outputId": "44a30230-0804-4fa3-b30d-6cea8dcc8501"
      },
      "outputs": [
        {
          "output_type": "execute_result",
          "data": {
            "text/plain": [
              "array([0, 1, 2, 3, 4, 5, 6, 7, 8, 9])"
            ]
          },
          "metadata": {},
          "execution_count": 50
        }
      ],
      "source": [
        "# Generating an array of size 10 with a step size of 1\n",
        "np.arange(0,10,1,dtype=None)\n"
      ]
    },
    {
      "cell_type": "code",
      "execution_count": 51,
      "id": "79a98b33",
      "metadata": {
        "colab": {
          "base_uri": "https://localhost:8080/"
        },
        "id": "79a98b33",
        "outputId": "1d71f837-51db-469c-d690-57a2a95f29fd"
      },
      "outputs": [
        {
          "output_type": "execute_result",
          "data": {
            "text/plain": [
              "array([0, 2, 4, 6, 8])"
            ]
          },
          "metadata": {},
          "execution_count": 51
        }
      ],
      "source": [
        "# Generating an array of size 10 with a step size of 2\n",
        "np.arange(0,10,2,dtype=None)"
      ]
    },
    {
      "cell_type": "markdown",
      "id": "9e676c02",
      "metadata": {
        "id": "9e676c02"
      },
      "source": [
        "Specifying your data type\n",
        "\n",
        "While the default data type is floating point (np.float64), you can explicitly specify which data type you want using the dtype keyword."
      ]
    },
    {
      "cell_type": "code",
      "execution_count": 52,
      "id": "f53331f5",
      "metadata": {
        "colab": {
          "base_uri": "https://localhost:8080/"
        },
        "id": "f53331f5",
        "outputId": "9c16e770-6e8c-40e2-e9fc-a32c99aa5b2c"
      },
      "outputs": [
        {
          "output_type": "execute_result",
          "data": {
            "text/plain": [
              "array([0, 1, 2, 3, 4])"
            ]
          },
          "metadata": {},
          "execution_count": 52
        }
      ],
      "source": [
        "x = np.arange(0,5,1, dtype=np.int64)\n",
        "x"
      ]
    },
    {
      "cell_type": "code",
      "execution_count": 53,
      "id": "0b16e573",
      "metadata": {
        "colab": {
          "base_uri": "https://localhost:8080/"
        },
        "id": "0b16e573",
        "outputId": "f7982006-a896-4104-881a-f2b71b6010b5"
      },
      "outputs": [
        {
          "output_type": "execute_result",
          "data": {
            "text/plain": [
              "dtype('int64')"
            ]
          },
          "metadata": {},
          "execution_count": 53
        }
      ],
      "source": [
        "x.dtype"
      ]
    },
    {
      "cell_type": "code",
      "execution_count": 54,
      "id": "f74edff8",
      "metadata": {
        "colab": {
          "base_uri": "https://localhost:8080/"
        },
        "id": "f74edff8",
        "outputId": "2434314c-e901-4919-8948-906d987a7046"
      },
      "outputs": [
        {
          "output_type": "execute_result",
          "data": {
            "text/plain": [
              "array([0., 0., 0., 0., 0.])"
            ]
          },
          "metadata": {},
          "execution_count": 54
        }
      ],
      "source": [
        "# Generates an array of size 5 containing zeros\n",
        "x=np.zeros(shape=5) \n",
        "x"
      ]
    },
    {
      "cell_type": "code",
      "execution_count": 55,
      "id": "cc8df4dd",
      "metadata": {
        "colab": {
          "base_uri": "https://localhost:8080/"
        },
        "id": "cc8df4dd",
        "outputId": "7351e698-16b4-48f1-e4e1-dda534c8bc19"
      },
      "outputs": [
        {
          "output_type": "execute_result",
          "data": {
            "text/plain": [
              "dtype('float64')"
            ]
          },
          "metadata": {},
          "execution_count": 55
        }
      ],
      "source": [
        "x.dtype  # default data type is float64"
      ]
    },
    {
      "cell_type": "code",
      "execution_count": 56,
      "id": "a4502351",
      "metadata": {
        "colab": {
          "base_uri": "https://localhost:8080/"
        },
        "id": "a4502351",
        "outputId": "5534b6c6-f986-46f9-c874-c4c6f28565bf"
      },
      "outputs": [
        {
          "output_type": "stream",
          "name": "stdout",
          "text": [
            "Dimentions: 2\n"
          ]
        },
        {
          "output_type": "execute_result",
          "data": {
            "text/plain": [
              "array([[0., 0., 0.],\n",
              "       [0., 0., 0.],\n",
              "       [0., 0., 0.]])"
            ]
          },
          "metadata": {},
          "execution_count": 56
        }
      ],
      "source": [
        "# Generates an array of size 3 X 3 containing zeros\n",
        "x=np.zeros(shape=(3,3))\n",
        "\n",
        "# Display the resolution of two_dim_zeros variable\n",
        "print(\"Dimentions:\",x.ndim)\n",
        "\n",
        "# Output the result\n",
        "x"
      ]
    },
    {
      "cell_type": "code",
      "execution_count": 57,
      "id": "e9891186",
      "metadata": {
        "colab": {
          "base_uri": "https://localhost:8080/"
        },
        "id": "e9891186",
        "outputId": "09c15cb3-38b7-4edb-d6ec-537d89817dd4"
      },
      "outputs": [
        {
          "output_type": "execute_result",
          "data": {
            "text/plain": [
              "array([[1., 1., 1.],\n",
              "       [1., 1., 1.],\n",
              "       [1., 1., 1.]])"
            ]
          },
          "metadata": {},
          "execution_count": 57
        }
      ],
      "source": [
        "# Generates an array of size 3 X 3 containing ones\n",
        "np.ones(shape=(3, 3)) "
      ]
    },
    {
      "cell_type": "code",
      "execution_count": 58,
      "id": "2e5c4085",
      "metadata": {
        "colab": {
          "base_uri": "https://localhost:8080/"
        },
        "id": "2e5c4085",
        "outputId": "ced87b28-0d94-4a06-e84b-e18af4a19558"
      },
      "outputs": [
        {
          "output_type": "execute_result",
          "data": {
            "text/plain": [
              "array([4.68394578e-310, 0.00000000e+000])"
            ]
          },
          "metadata": {},
          "execution_count": 58
        }
      ],
      "source": [
        "# Create an empty array with 2 elements\n",
        "# The function empty creates an array whose initial content is random and depends on the state of the memory. \n",
        "# The reason to use empty over zeros (or something similar) is speed - just make sure to fill every element afterwards!\n",
        "\n",
        "np.empty(2)"
      ]
    },
    {
      "cell_type": "code",
      "execution_count": 59,
      "id": "20c7664f",
      "metadata": {
        "colab": {
          "base_uri": "https://localhost:8080/"
        },
        "id": "20c7664f",
        "outputId": "b3b8faa2-5535-491a-e26c-5c9347869be5"
      },
      "outputs": [
        {
          "output_type": "execute_result",
          "data": {
            "text/plain": [
              "array([ 0,  2,  5,  7, 10])"
            ]
          },
          "metadata": {},
          "execution_count": 59
        }
      ],
      "source": [
        "# Generates an evenly spaced numbers from 0 to 5\n",
        "np.linspace(0,10,num=5,dtype=np.int64)"
      ]
    },
    {
      "cell_type": "code",
      "execution_count": 60,
      "id": "2b00996c",
      "metadata": {
        "colab": {
          "base_uri": "https://localhost:8080/"
        },
        "id": "2b00996c",
        "outputId": "fbea052b-4cf6-4271-acd5-0b7dcdf0e677"
      },
      "outputs": [
        {
          "output_type": "execute_result",
          "data": {
            "text/plain": [
              "array([[1., 0., 0.],\n",
              "       [0., 1., 0.],\n",
              "       [0., 0., 1.]])"
            ]
          },
          "metadata": {},
          "execution_count": 60
        }
      ],
      "source": [
        "# Generates a 2-D array with ones on the diagonal and zeros elsewhere\n",
        "np.eye(N=3,M=3)"
      ]
    },
    {
      "cell_type": "markdown",
      "id": "10da01e7",
      "metadata": {
        "id": "10da01e7"
      },
      "source": [
        "<a name = Section2></a>\n",
        "# **2. Random Array Initialization**\n",
        "---\n",
        "\n",
        "- In this section we are going to see how to populate array with random numbers.\n",
        "\n",
        "- We will get to know about the following two function of numpy:\n",
        "\n",
        "  - **.random.rand():** Create an array of the given shape and populate it with random samples from a uniform distribution over [0, 1).\n",
        "\n",
        "  - **.random.randn():** Return a sample (or samples) from the “standard normal” distribution of mean 0 and variance 1."
      ]
    },
    {
      "cell_type": "code",
      "execution_count": 61,
      "id": "5aa39bf5",
      "metadata": {
        "colab": {
          "base_uri": "https://localhost:8080/"
        },
        "id": "5aa39bf5",
        "outputId": "df33f68d-6b8e-4129-eec0-f2b5fd3d4f2f"
      },
      "outputs": [
        {
          "output_type": "execute_result",
          "data": {
            "text/plain": [
              "array([0.43566258, 0.99629051, 0.43568945, 0.04782391, 0.07659072])"
            ]
          },
          "metadata": {},
          "execution_count": 61
        }
      ],
      "source": [
        "# Generates an array of 5 random values\n",
        "np.random.rand(5)"
      ]
    },
    {
      "cell_type": "code",
      "execution_count": 62,
      "id": "1569af78",
      "metadata": {
        "colab": {
          "base_uri": "https://localhost:8080/"
        },
        "id": "1569af78",
        "outputId": "835bad1d-cb29-48eb-c285-20001088b7a6"
      },
      "outputs": [
        {
          "output_type": "execute_result",
          "data": {
            "text/plain": [
              "array([[0.87025362, 0.12226143, 0.69654663, 0.27457999, 0.8357601 ],\n",
              "       [0.71033341, 0.49815998, 0.81630335, 0.17604147, 0.11919108],\n",
              "       [0.51798941, 0.09364017, 0.46980495, 0.88449308, 0.1111774 ],\n",
              "       [0.52260653, 0.27678121, 0.34255934, 0.34072125, 0.39068181],\n",
              "       [0.09316794, 0.27619651, 0.96334023, 0.16775363, 0.78007785]])"
            ]
          },
          "metadata": {},
          "execution_count": 62
        }
      ],
      "source": [
        "# Generates an array of random values having resolution of 5 X 5\n",
        "np.random.rand(5,5)"
      ]
    },
    {
      "cell_type": "code",
      "execution_count": 63,
      "id": "61a57a66",
      "metadata": {
        "colab": {
          "base_uri": "https://localhost:8080/"
        },
        "id": "61a57a66",
        "outputId": "dfb8c7b5-fe90-486b-8a22-07340597b069"
      },
      "outputs": [
        {
          "output_type": "execute_result",
          "data": {
            "text/plain": [
              "array([[ 1.13709614e+00,  2.13985423e-01, -4.27347412e-01,\n",
              "        -4.70421377e-02],\n",
              "       [ 5.34512105e-01,  9.06821297e-01, -8.35601791e-01,\n",
              "        -1.59034898e+00],\n",
              "       [-1.20321959e-03, -7.72666574e-02,  3.91327485e-01,\n",
              "         3.45530077e-01],\n",
              "       [-5.78655076e-01,  5.04761311e-01, -1.00785779e+00,\n",
              "        -1.96178445e+00]])"
            ]
          },
          "metadata": {},
          "execution_count": 63
        }
      ],
      "source": [
        "# Generates an array of random values having resolution of 4 X 4\n",
        "np.random.randn(4,4)"
      ]
    },
    {
      "cell_type": "code",
      "execution_count": 64,
      "id": "1aa5f475",
      "metadata": {
        "colab": {
          "base_uri": "https://localhost:8080/"
        },
        "id": "1aa5f475",
        "outputId": "b8dc97cf-76bc-4b50-93ca-7f3f2fc0a2c8"
      },
      "outputs": [
        {
          "output_type": "stream",
          "name": "stdout",
          "text": [
            "Random Array [0.68398987 0.88997321 0.5398686  0.63869298 0.88300727 0.27990884]\n",
            "Array Resolution: 1\n"
          ]
        },
        {
          "output_type": "execute_result",
          "data": {
            "text/plain": [
              "array([[0.68398987, 0.88997321],\n",
              "       [0.5398686 , 0.63869298],\n",
              "       [0.88300727, 0.27990884]])"
            ]
          },
          "metadata": {},
          "execution_count": 64
        }
      ],
      "source": [
        "# Generates an array of 6 random values\n",
        "rand_array = np.random.rand(6)\n",
        "\n",
        "# Display array containing random values\n",
        "print('Random Array', rand_array)\n",
        "\n",
        "# Display the resolution of the rand_array variable\n",
        "print('Array Resolution:', rand_array.ndim)\n",
        "\n",
        "# Reshape the 1-D array to 3 X 2 array and output the result\n",
        "rand_array.reshape(3, 2) "
      ]
    },
    {
      "cell_type": "code",
      "execution_count": 65,
      "id": "ee5fc6a8",
      "metadata": {
        "colab": {
          "base_uri": "https://localhost:8080/"
        },
        "id": "ee5fc6a8",
        "outputId": "6a2bd32e-c2b6-4a7b-b927-d515b6f6fe89"
      },
      "outputs": [
        {
          "output_type": "execute_result",
          "data": {
            "text/plain": [
              "array([[0.68398987, 0.88997321, 0.5398686 , 0.63869298, 0.88300727,\n",
              "        0.27990884]])"
            ]
          },
          "metadata": {},
          "execution_count": 65
        }
      ],
      "source": [
        "# With np.reshape, you can specify a few optional parameters:\n",
        "np.reshape(rand_array, newshape=(1, 6), order='C')"
      ]
    },
    {
      "cell_type": "markdown",
      "id": "445c7e33",
      "metadata": {
        "id": "445c7e33"
      },
      "source": [
        "a - is the array to be reshaped.\n",
        "\n",
        "newshape - is the new shape you want. You can specify an integer or a tuple of integers. If you specify an integer, the result will be an array of that length. The shape should be compatible with the original shape.\n",
        "\n",
        "order - C means to read/write the elements using C-like index order, F means to read/write the elements using Fortran-like index order, A means to read/write the elements in Fortran-like index order if a is Fortran contiguous in memory, C-like order otherwise. (This is an optional parameter and doesn’t need to be specified.)"
      ]
    },
    {
      "cell_type": "markdown",
      "id": "003aa8b9",
      "metadata": {
        "id": "003aa8b9"
      },
      "source": [
        "**Observation:**\n",
        "\n",
        "- In various applications(like assigning weights in **Artificial Neural Networks**) arrays need to be initialized randomly."
      ]
    },
    {
      "cell_type": "markdown",
      "id": "b7d256a0",
      "metadata": {
        "id": "b7d256a0"
      },
      "source": [
        "<a name = Section3></a>\n",
        "# **3. Numpy Indexing**\n",
        "---\n",
        "\n",
        "- In this section we will show how numpy based elements are indexed and how to access these elements."
      ]
    },
    {
      "cell_type": "code",
      "execution_count": 66,
      "id": "62a1073a",
      "metadata": {
        "colab": {
          "base_uri": "https://localhost:8080/"
        },
        "id": "62a1073a",
        "outputId": "54288eda-0939-4f76-8c28-40a731770709"
      },
      "outputs": [
        {
          "output_type": "stream",
          "name": "stdout",
          "text": [
            "Full Array: [ 0  1  2  3  4  5  6  7  8  9 10]\n",
            "First element: 1\n"
          ]
        }
      ],
      "source": [
        "# Creating an array of 10 values ranging from 0 to 11\n",
        "my_array=np.arange(11)\n",
        "\n",
        "# Display the array elements\n",
        "print('Full Array:', my_array)\n",
        "\n",
        "# Display the element present at index 1\n",
        "print('First element:', my_array[1])"
      ]
    },
    {
      "cell_type": "markdown",
      "id": "3b6515e8",
      "metadata": {
        "id": "3b6515e8"
      },
      "source": [
        "**Observation:**\n",
        "\n",
        "- We just saw that we can access individual elements of an array by calling them by their indices."
      ]
    },
    {
      "cell_type": "markdown",
      "id": "2f59ae28",
      "metadata": {
        "id": "2f59ae28"
      },
      "source": [
        "<a name = Section31></a>\n",
        "## **3.1 Array Slicing**\n",
        "\n",
        "- To access more than one element of an array use slicing operations."
      ]
    },
    {
      "cell_type": "code",
      "execution_count": 67,
      "id": "cce2f75d",
      "metadata": {
        "colab": {
          "base_uri": "https://localhost:8080/"
        },
        "id": "cce2f75d",
        "outputId": "295d1465-f4d0-4ea6-be59-e58822574a48"
      },
      "outputs": [
        {
          "output_type": "stream",
          "name": "stdout",
          "text": [
            "Full Array: [ 0  1  2  3  4  5  6  7  8  9 10]\n"
          ]
        }
      ],
      "source": [
        "# Creating an array of 10 values ranging from 0 to 11\n",
        "my_arr = np.arange(0, 11, 1)\n",
        "\n",
        "# Display the array elements\n",
        "print('Full Array:', my_arr)"
      ]
    },
    {
      "cell_type": "code",
      "execution_count": 68,
      "id": "05064f5d",
      "metadata": {
        "colab": {
          "base_uri": "https://localhost:8080/"
        },
        "id": "05064f5d",
        "outputId": "2b80bff6-2c26-4a00-d478-b7ef45a5ef93"
      },
      "outputs": [
        {
          "output_type": "execute_result",
          "data": {
            "text/plain": [
              "array([1, 2, 3, 4])"
            ]
          },
          "metadata": {},
          "execution_count": 68
        }
      ],
      "source": [
        "# Accessing elements ranging from index 1 to 5\n",
        "my_arr[1:5]"
      ]
    },
    {
      "cell_type": "markdown",
      "id": "bd9084cb",
      "metadata": {
        "id": "bd9084cb"
      },
      "source": [
        "- **Note:** The first element that is extracted is of index 1 and the last element to be extracted is of index 5-1=4."
      ]
    },
    {
      "cell_type": "code",
      "execution_count": 69,
      "id": "494a021d",
      "metadata": {
        "colab": {
          "base_uri": "https://localhost:8080/"
        },
        "id": "494a021d",
        "outputId": "b016a2b6-0e31-4480-8a47-6bdc40b733cf"
      },
      "outputs": [
        {
          "output_type": "execute_result",
          "data": {
            "text/plain": [
              "array([ 8,  9, 10])"
            ]
          },
          "metadata": {},
          "execution_count": 69
        }
      ],
      "source": [
        "# Accessing elements ranging from index 8 onwards\n",
        "my_arr[8:]"
      ]
    },
    {
      "cell_type": "code",
      "execution_count": 70,
      "id": "5dd64a00",
      "metadata": {
        "colab": {
          "base_uri": "https://localhost:8080/"
        },
        "id": "5dd64a00",
        "outputId": "54c92e8b-015c-4f6e-b617-c95554621405"
      },
      "outputs": [
        {
          "output_type": "execute_result",
          "data": {
            "text/plain": [
              "array([0, 1, 2, 3, 4, 5])"
            ]
          },
          "metadata": {},
          "execution_count": 70
        }
      ],
      "source": [
        "# Accessing elements ranging till index 6\n",
        "my_arr[:6]"
      ]
    },
    {
      "cell_type": "markdown",
      "id": "084d19d0",
      "metadata": {
        "id": "084d19d0"
      },
      "source": [
        "- **Note:** Numpy arrays are **mutable**. It implies that you can change the values of the array."
      ]
    },
    {
      "cell_type": "code",
      "execution_count": 71,
      "id": "4c39be9b",
      "metadata": {
        "id": "4c39be9b"
      },
      "outputs": [],
      "source": [
        "# Mapping value -5 ranging index 0 to 5\n",
        "my_arr[0:5]=-5"
      ]
    },
    {
      "cell_type": "code",
      "execution_count": 72,
      "id": "c9f5bedf",
      "metadata": {
        "colab": {
          "base_uri": "https://localhost:8080/"
        },
        "id": "c9f5bedf",
        "outputId": "699c9454-4461-4a7f-d6b6-76e4c0bff147"
      },
      "outputs": [
        {
          "output_type": "execute_result",
          "data": {
            "text/plain": [
              "array([-5, -5, -5, -5, -5,  5,  6,  7,  8,  9, 10])"
            ]
          },
          "metadata": {},
          "execution_count": 72
        }
      ],
      "source": [
        "my_arr"
      ]
    },
    {
      "cell_type": "markdown",
      "id": "356e3751",
      "metadata": {
        "id": "356e3751"
      },
      "source": [
        "- You can also perform slicing operations on 2-D array."
      ]
    },
    {
      "cell_type": "code",
      "execution_count": 73,
      "id": "c6291eb9",
      "metadata": {
        "id": "c6291eb9"
      },
      "outputs": [],
      "source": [
        "# Initializing an array of resolution 4 X 3\n",
        "arr2d = np.array([[1,2,3],\n",
        "                [4,5,6],\n",
        "                [7,8,9],\n",
        "                [10,11,12]])"
      ]
    },
    {
      "cell_type": "code",
      "execution_count": 74,
      "id": "ac11124e",
      "metadata": {
        "colab": {
          "base_uri": "https://localhost:8080/"
        },
        "id": "ac11124e",
        "outputId": "40586be1-b827-4f9a-80c8-0a9fef5cac7b"
      },
      "outputs": [
        {
          "output_type": "execute_result",
          "data": {
            "text/plain": [
              "array([[ 1,  2,  3],\n",
              "       [ 4,  5,  6],\n",
              "       [ 7,  8,  9],\n",
              "       [10, 11, 12]])"
            ]
          },
          "metadata": {},
          "execution_count": 74
        }
      ],
      "source": [
        "# Ouput the 2-D array\n",
        "arr2d"
      ]
    },
    {
      "cell_type": "code",
      "execution_count": 75,
      "id": "ad8ac232",
      "metadata": {
        "id": "ad8ac232"
      },
      "outputs": [],
      "source": [
        "# It could also be achieved using arange(0, 12), and then using reshape(4, 3)\n",
        "arr2d = np.arange(12).reshape(4,3)"
      ]
    },
    {
      "cell_type": "code",
      "execution_count": 76,
      "id": "b30f7876",
      "metadata": {
        "colab": {
          "base_uri": "https://localhost:8080/"
        },
        "id": "b30f7876",
        "outputId": "74db06de-5a6d-4ad6-ac97-e1ab929e48b5"
      },
      "outputs": [
        {
          "output_type": "execute_result",
          "data": {
            "text/plain": [
              "array([[ 0,  1,  2],\n",
              "       [ 3,  4,  5],\n",
              "       [ 6,  7,  8],\n",
              "       [ 9, 10, 11]])"
            ]
          },
          "metadata": {},
          "execution_count": 76
        }
      ],
      "source": [
        "arr2d"
      ]
    },
    {
      "cell_type": "code",
      "execution_count": 77,
      "id": "9850062a",
      "metadata": {
        "colab": {
          "base_uri": "https://localhost:8080/"
        },
        "id": "9850062a",
        "outputId": "c23c2fa9-6ea3-413a-b5dc-3bbfc444e166"
      },
      "outputs": [
        {
          "output_type": "execute_result",
          "data": {
            "text/plain": [
              "2"
            ]
          },
          "metadata": {},
          "execution_count": 77
        }
      ],
      "source": [
        "# Accessing element present at 0th row and 2nd column\n",
        "arr2d[0,2]"
      ]
    },
    {
      "cell_type": "code",
      "execution_count": 78,
      "id": "3b3436c8",
      "metadata": {
        "colab": {
          "base_uri": "https://localhost:8080/"
        },
        "id": "3b3436c8",
        "outputId": "443a0ac7-4599-4301-d4f9-90313c2abfed"
      },
      "outputs": [
        {
          "output_type": "execute_result",
          "data": {
            "text/plain": [
              "array([[0, 1],\n",
              "       [3, 4]])"
            ]
          },
          "metadata": {},
          "execution_count": 78
        }
      ],
      "source": [
        "# Accessing elements from rows (1st and 2nd) and columns (1st and 2nd)\n",
        "arr2d[0:2,0:2]"
      ]
    },
    {
      "cell_type": "code",
      "execution_count": 79,
      "id": "4207647c",
      "metadata": {
        "colab": {
          "base_uri": "https://localhost:8080/"
        },
        "id": "4207647c",
        "outputId": "4f1abc11-1503-4a32-eafa-62b36fb790ee"
      },
      "outputs": [
        {
          "output_type": "execute_result",
          "data": {
            "text/plain": [
              "array([[1, 2],\n",
              "       [4, 5]])"
            ]
          },
          "metadata": {},
          "execution_count": 79
        }
      ],
      "source": [
        "# Accessing elements from rows (till 2nd) and columns (1st onwards)\n",
        "arr2d[:2,1:]"
      ]
    },
    {
      "cell_type": "markdown",
      "id": "89bcc7a5",
      "metadata": {
        "id": "89bcc7a5"
      },
      "source": [
        "**Observation:**\n",
        "\n",
        "- So, through these examples we have seen that we can access one or multiple elements of an array using slicing.\n",
        "\n",
        "- Also at times when needed we can extract subarrays from an array."
      ]
    },
    {
      "cell_type": "markdown",
      "id": "e6850c89",
      "metadata": {
        "id": "e6850c89"
      },
      "source": [
        "<a name = Section32></a>\n",
        "## **3.2 Conditional Array Indexing**\n",
        "\n",
        "- Here, we will observe how to **filter** element of an **array** based on some conditions.\n",
        "\n",
        "- First, we need to create a **boolean array** based on an conditional statement using **conditional operators** for comparison.\n",
        "\n",
        "- Then this boolean array is passed as index of the original array to return the filtered elements."
      ]
    },
    {
      "cell_type": "code",
      "execution_count": 80,
      "id": "8e998145",
      "metadata": {
        "colab": {
          "base_uri": "https://localhost:8080/"
        },
        "id": "8e998145",
        "outputId": "ee5901f5-b064-4489-d31a-156f478603d3"
      },
      "outputs": [
        {
          "output_type": "stream",
          "name": "stdout",
          "text": [
            "Elements: [1 2 3 4 5 6]\n"
          ]
        },
        {
          "output_type": "execute_result",
          "data": {
            "text/plain": [
              "array([False, False,  True,  True,  True,  True])"
            ]
          },
          "metadata": {},
          "execution_count": 80
        }
      ],
      "source": [
        "# Create a list of elements\n",
        "my_list=[1,2,3,4,5,6]\n",
        "\n",
        "# Cast to numpy array\n",
        "arr = np.array(object=my_list)\n",
        "\n",
        "# Display the array elements\n",
        "print(\"Elements:\",arr)\n",
        "\n",
        "# Output boolean values (True for element greater than 2)\n",
        "arr>2"
      ]
    },
    {
      "cell_type": "code",
      "execution_count": 81,
      "id": "ddc1dc86",
      "metadata": {
        "colab": {
          "base_uri": "https://localhost:8080/"
        },
        "id": "ddc1dc86",
        "outputId": "60f41439-1335-4dfb-8363-3c72efb8045b"
      },
      "outputs": [
        {
          "output_type": "stream",
          "name": "stdout",
          "text": [
            "Array: [ 2  3  4  5  6  7  8  9 10 11 12 13 14]\n",
            "Length: 13\n"
          ]
        }
      ],
      "source": [
        "# Initialize an array ranging from 2 to 15\n",
        "my_array = np.arange(2,15)\n",
        "\n",
        "# Display the elements of an array\n",
        "print('Array:', my_array)\n",
        "\n",
        "# Display the lenght of array\n",
        "print('Length:',len(my_array))\n"
      ]
    },
    {
      "cell_type": "code",
      "execution_count": 82,
      "id": "4026a6f7",
      "metadata": {
        "colab": {
          "base_uri": "https://localhost:8080/"
        },
        "id": "4026a6f7",
        "outputId": "a6027f0b-1670-43dd-e9dc-b07aa74f3c92"
      },
      "outputs": [
        {
          "output_type": "execute_result",
          "data": {
            "text/plain": [
              "array([2, 4, 6])"
            ]
          },
          "metadata": {},
          "execution_count": 82
        }
      ],
      "source": [
        "# Example 1: Output elements that have True as condition\n",
        "my_array[[True, False, True, False, True, False, False, False, False, False, False, False, False]]"
      ]
    },
    {
      "cell_type": "code",
      "execution_count": 83,
      "id": "34a633d6",
      "metadata": {
        "colab": {
          "base_uri": "https://localhost:8080/"
        },
        "id": "34a633d6",
        "outputId": "86171bd3-2310-4c77-c160-9b29a561ab45"
      },
      "outputs": [
        {
          "output_type": "execute_result",
          "data": {
            "text/plain": [
              "array([ 9, 10, 11, 12, 13, 14])"
            ]
          },
          "metadata": {},
          "execution_count": 83
        }
      ],
      "source": [
        "# Example 2: Output elements that have True as condition\n",
        "my_array[[False, False, False, False, False, False, False, True, True, True, True, True, True]]"
      ]
    },
    {
      "cell_type": "code",
      "execution_count": 84,
      "id": "bc27884d",
      "metadata": {
        "colab": {
          "base_uri": "https://localhost:8080/"
        },
        "id": "bc27884d",
        "outputId": "06b92eb4-e279-444c-a211-f8600e6bde86"
      },
      "outputs": [
        {
          "output_type": "execute_result",
          "data": {
            "text/plain": [
              "array([False, False, False, False, False, False, False,  True,  True,\n",
              "        True,  True,  True,  True])"
            ]
          },
          "metadata": {},
          "execution_count": 84
        }
      ],
      "source": [
        "# Output boolean values (True for element greater than 8)\n",
        "my_array>8"
      ]
    },
    {
      "cell_type": "code",
      "execution_count": 85,
      "id": "37cf67cf",
      "metadata": {
        "colab": {
          "base_uri": "https://localhost:8080/"
        },
        "id": "37cf67cf",
        "outputId": "1717d37b-cd36-4e75-8eeb-12d405aab56d"
      },
      "outputs": [
        {
          "output_type": "execute_result",
          "data": {
            "text/plain": [
              "array([ 9, 10, 11, 12, 13, 14])"
            ]
          },
          "metadata": {},
          "execution_count": 85
        }
      ],
      "source": [
        "# Output actual values based on the condition passed (elements greater than 8)\n",
        "my_array[my_array>8]"
      ]
    },
    {
      "cell_type": "code",
      "execution_count": 86,
      "id": "8b10438c",
      "metadata": {
        "colab": {
          "base_uri": "https://localhost:8080/"
        },
        "id": "8b10438c",
        "outputId": "ad903f3d-741e-43fb-9f7e-ca06ef3a9a27"
      },
      "outputs": [
        {
          "output_type": "execute_result",
          "data": {
            "text/plain": [
              "array([3, 6])"
            ]
          },
          "metadata": {},
          "execution_count": 86
        }
      ],
      "source": [
        "# Output values present at index 1 and 4\n",
        "my_array[[1,4]]"
      ]
    },
    {
      "cell_type": "code",
      "execution_count": 87,
      "id": "d23f9aa4",
      "metadata": {
        "colab": {
          "base_uri": "https://localhost:8080/"
        },
        "id": "d23f9aa4",
        "outputId": "d08de143-9a29-4896-eada-91a10d3e4062"
      },
      "outputs": [
        {
          "output_type": "execute_result",
          "data": {
            "text/plain": [
              "array([3, 6])"
            ]
          },
          "metadata": {},
          "execution_count": 87
        }
      ],
      "source": [
        "# Output elements that have True as condition\n",
        "my_array[[False, True, False, False, True, False, False, False, False, False, False, False, False]]"
      ]
    },
    {
      "cell_type": "markdown",
      "id": "0c402bd2",
      "metadata": {
        "id": "0c402bd2"
      },
      "source": [
        "**Observation:**\n",
        "\n",
        "- Use conditional indexing to filter out some values like null or outliers in an array.\n",
        "\n",
        "- Given below is a table where you can see what are the various operators available in Python.\n",
        "\n",
        "<center><img src=\"https://www.oreilly.com/library/view/visual-basic-2012/9781118332085/images/f253-01.jpg\"></center>"
      ]
    },
    {
      "cell_type": "markdown",
      "id": "08b4de51",
      "metadata": {
        "id": "08b4de51"
      },
      "source": [
        "---\n",
        "<a name = Section4></a>\n",
        "# **4. Numpy Array Operations**\n",
        "---\n",
        "\n",
        "- In this section we will observe various arithmatic operations on numpy arrays."
      ]
    },
    {
      "cell_type": "markdown",
      "id": "2f6613c2",
      "metadata": {
        "id": "2f6613c2"
      },
      "source": [
        "<a name = Section41></a>\n",
        "## **4.1 Numpy Broadcasting**\n",
        "\n",
        "- The term broadcasting describes **how numpy treats arrays** with **different shapes** during arithmetic operations. \n",
        "\n",
        "- Subject to certain constraints, the smaller array is “broadcast” across the larger array so that they have compatible shapes.\n",
        "\n",
        "- Broadcasting provides a means of **vectorizing array operations** so that looping occurs in C instead of Python. \n",
        "\n",
        "- It does this **without** making **needless copies of data** and usually leads to efficient algorithm implementations. \n",
        "\n",
        "- There are, however, cases where broadcasting is a bad idea because it leads to inefficient use of memory that slows computation.\n",
        "\n",
        "- NumPy operations are usually done on pairs of arrays on an element-by-element basis. \n",
        "\n",
        "- In the simplest case, the two arrays must have exactly the same shape, as in the following example:"
      ]
    },
    {
      "cell_type": "code",
      "execution_count": 88,
      "id": "d2cecf27",
      "metadata": {
        "colab": {
          "base_uri": "https://localhost:8080/"
        },
        "id": "d2cecf27",
        "outputId": "73b7d00a-2047-48d4-f790-2c8954984a61"
      },
      "outputs": [
        {
          "output_type": "execute_result",
          "data": {
            "text/plain": [
              "array([2., 4., 6.])"
            ]
          },
          "metadata": {},
          "execution_count": 88
        }
      ],
      "source": [
        "# First array of three elements\n",
        "a = np.array([1.0, 2.0, 3.0])\n",
        "\n",
        "# Second array of three elements\n",
        "b = np.array([2.0, 2.0, 2.0])\n",
        "\n",
        "# Output the result of broadcasting\n",
        "a*b"
      ]
    },
    {
      "cell_type": "code",
      "execution_count": 89,
      "id": "6a59a407",
      "metadata": {
        "colab": {
          "base_uri": "https://localhost:8080/"
        },
        "id": "6a59a407",
        "outputId": "04154962-5609-4aa5-98e2-6b1a47ffe6d3"
      },
      "outputs": [
        {
          "output_type": "execute_result",
          "data": {
            "text/plain": [
              "array([3., 4., 5.])"
            ]
          },
          "metadata": {},
          "execution_count": 89
        }
      ],
      "source": [
        "# Output the result of broadcasting\n",
        "a+b"
      ]
    },
    {
      "cell_type": "markdown",
      "id": "d2d9b37c",
      "metadata": {
        "id": "d2d9b37c"
      },
      "source": [
        "- NumPy’s broadcasting rule relaxes this constraint when the arrays’ shapes meet certain constraints. \n",
        "\n",
        "- The simplest broadcasting example occurs when an array and a scalar value are combined in an operation:"
      ]
    },
    {
      "cell_type": "code",
      "execution_count": 90,
      "id": "08e2b93e",
      "metadata": {
        "colab": {
          "base_uri": "https://localhost:8080/"
        },
        "id": "08e2b93e",
        "outputId": "a56268c1-6823-4b68-deab-b357fa957997"
      },
      "outputs": [
        {
          "output_type": "execute_result",
          "data": {
            "text/plain": [
              "array([2., 4., 6.])"
            ]
          },
          "metadata": {},
          "execution_count": 90
        }
      ],
      "source": [
        "# An array of three elements\n",
        "a = np.array([1.0, 2.0, 3.0])\n",
        "\n",
        "\n",
        "# Initialize variable with scalar value\n",
        "b = 2.0\n",
        "\n",
        "# Output the result of broadcasting\n",
        "a * b"
      ]
    },
    {
      "cell_type": "code",
      "execution_count": 91,
      "id": "1d467f7a",
      "metadata": {
        "colab": {
          "base_uri": "https://localhost:8080/"
        },
        "id": "1d467f7a",
        "outputId": "7efde50a-de9a-4d9e-dabc-c5415dd04840"
      },
      "outputs": [
        {
          "output_type": "stream",
          "name": "stdout",
          "text": [
            "Shape of Array: (4, 3)\n"
          ]
        },
        {
          "output_type": "execute_result",
          "data": {
            "text/plain": [
              "array([[ 1,  2,  3],\n",
              "       [ 4,  5,  6],\n",
              "       [ 7,  8,  9],\n",
              "       [10, 11, 12]])"
            ]
          },
          "metadata": {},
          "execution_count": 91
        }
      ],
      "source": [
        "# Initialized array of resolution 4 X 3\n",
        "my_arr = np.arange(1,13).reshape(4,3)\n",
        "\n",
        "# Initialize scaler with a constant value\n",
        "scalar = 3\n",
        "\n",
        "# Display the shape of 2-D array\n",
        "print('Shape of Array:', my_arr.shape)\n",
        "\n",
        "# Output the 2-D array\n",
        "my_arr"
      ]
    },
    {
      "cell_type": "code",
      "execution_count": 92,
      "id": "bd5d498f",
      "metadata": {
        "colab": {
          "base_uri": "https://localhost:8080/"
        },
        "id": "bd5d498f",
        "outputId": "ea6d3787-57b8-4422-819c-753652cf9125"
      },
      "outputs": [
        {
          "output_type": "execute_result",
          "data": {
            "text/plain": [
              "array([[ 4,  5,  6],\n",
              "       [ 7,  8,  9],\n",
              "       [10, 11, 12],\n",
              "       [13, 14, 15]])"
            ]
          },
          "metadata": {},
          "execution_count": 92
        }
      ],
      "source": [
        "# Output of broadcasting scalar value to the array\n",
        "my_arr + scalar"
      ]
    },
    {
      "cell_type": "markdown",
      "id": "518d4d9a",
      "metadata": {
        "id": "518d4d9a"
      },
      "source": [
        "**Observation:**\n",
        "\n",
        "- We can observe that scalar is stretched and is added to all of the elements of an array."
      ]
    },
    {
      "cell_type": "code",
      "execution_count": 93,
      "id": "6c66e065",
      "metadata": {
        "colab": {
          "base_uri": "https://localhost:8080/"
        },
        "id": "6c66e065",
        "outputId": "f576e8fd-b294-4057-ca2b-3a337ebdfb29"
      },
      "outputs": [
        {
          "output_type": "stream",
          "name": "stdout",
          "text": [
            "shape: (3,)\n"
          ]
        },
        {
          "output_type": "execute_result",
          "data": {
            "text/plain": [
              "array([10, 10, 10])"
            ]
          },
          "metadata": {},
          "execution_count": 93
        }
      ],
      "source": [
        "# Initialized 1-D array\n",
        "arr_1d = np.array([10, 10, 10])\n",
        "\n",
        "# Display the shape of 1-D array\n",
        "print('shape:', arr_1d.shape)\n",
        "\n",
        "# Output the 1-D array\n",
        "arr_1d"
      ]
    },
    {
      "cell_type": "code",
      "execution_count": 94,
      "id": "5b96105c",
      "metadata": {
        "colab": {
          "base_uri": "https://localhost:8080/"
        },
        "id": "5b96105c",
        "outputId": "7b1e181a-e1b8-45cf-905d-122c6635c14b"
      },
      "outputs": [
        {
          "output_type": "execute_result",
          "data": {
            "text/plain": [
              "array([[11, 12, 13],\n",
              "       [14, 15, 16],\n",
              "       [17, 18, 19],\n",
              "       [20, 21, 22]])"
            ]
          },
          "metadata": {},
          "execution_count": 94
        }
      ],
      "source": [
        "# Ouput broadcasted values to the 2-D array\n",
        "my_arr + arr_1d"
      ]
    },
    {
      "cell_type": "markdown",
      "id": "dc75fd81",
      "metadata": {
        "id": "dc75fd81"
      },
      "source": [
        "**Observation:**\n",
        "\n",
        "- We observed that array with lower dimension i.e. arr_1d is stretched such that it matches the dimensions of arr_2d.\n",
        "\n",
        "- Let's learn it better with one diagramatic example.\n",
        "\n",
        "<center><img src=\"https://github.com/insaid2018/Term-1/blob/master/Images/broadcasting.png?raw=true\"></center>"
      ]
    },
    {
      "cell_type": "markdown",
      "id": "bc1704bf",
      "metadata": {
        "id": "bc1704bf"
      },
      "source": [
        "- From the above image you can see how and when the **data** is **stretched** to carry out the mathematical operations. \n",
        "\n",
        "- Here we have performed addition on arrays of varying dimensions. Always Remember to stretch the data as per the __broadcasting rules.__\n",
        "\n",
        "- Now lets look at a different shape of array."
      ]
    },
    {
      "cell_type": "code",
      "execution_count": 95,
      "id": "61a7d8e2",
      "metadata": {
        "colab": {
          "base_uri": "https://localhost:8080/"
        },
        "id": "61a7d8e2",
        "outputId": "ec7a5d07-12d3-44dd-c5cc-8eda8c9f84fb"
      },
      "outputs": [
        {
          "output_type": "stream",
          "name": "stdout",
          "text": [
            "shape: (1, 4)\n"
          ]
        },
        {
          "output_type": "execute_result",
          "data": {
            "text/plain": [
              "array([[1, 1, 1, 1]])"
            ]
          },
          "metadata": {},
          "execution_count": 95
        }
      ],
      "source": [
        "# Initialized 2-D array\n",
        "arr = np.array([[1, 1, 1, 1]])\n",
        "\n",
        "# Display the shape of 2-D array\n",
        "print('shape:', arr.shape)\n",
        "\n",
        "# Output the 2-D array\n",
        "arr"
      ]
    },
    {
      "cell_type": "code",
      "execution_count": 96,
      "id": "023ef261",
      "metadata": {
        "colab": {
          "base_uri": "https://localhost:8080/",
          "height": 183
        },
        "id": "023ef261",
        "outputId": "11905033-8e87-4187-d3b1-52e06deb4bf9"
      },
      "outputs": [
        {
          "output_type": "error",
          "ename": "NameError",
          "evalue": "ignored",
          "traceback": [
            "\u001b[0;31m---------------------------------------------------------------------------\u001b[0m",
            "\u001b[0;31mNameError\u001b[0m                                 Traceback (most recent call last)",
            "\u001b[0;32m<ipython-input-96-d07f081190f3>\u001b[0m in \u001b[0;36m<module>\u001b[0;34m()\u001b[0m\n\u001b[1;32m      1\u001b[0m \u001b[0;31m# Ouput broadcasted values to the 2-D array\u001b[0m\u001b[0;34m\u001b[0m\u001b[0;34m\u001b[0m\u001b[0;34m\u001b[0m\u001b[0m\n\u001b[0;32m----> 2\u001b[0;31m \u001b[0marr_2d\u001b[0m \u001b[0;34m+\u001b[0m \u001b[0marr\u001b[0m\u001b[0;34m\u001b[0m\u001b[0;34m\u001b[0m\u001b[0m\n\u001b[0m",
            "\u001b[0;31mNameError\u001b[0m: name 'arr_2d' is not defined"
          ]
        }
      ],
      "source": [
        "# Ouput broadcasted values to the 2-D array\n",
        "arr_2d + arr"
      ]
    },
    {
      "cell_type": "markdown",
      "id": "f3063293",
      "metadata": {
        "id": "f3063293"
      },
      "source": [
        "**Observation:**\n",
        "\n",
        "- If the **dimensions do not match** it will **throw** an **exception**.\n",
        "\n",
        "- It is **advisable** to **keep a note of the shape** or dimension of the arrays before applying any mathematical operation.\n",
        "\n",
        "- And make sure they satisfy the broadcasting rules else value error may occur."
      ]
    },
    {
      "cell_type": "markdown",
      "id": "c0e8c0c1",
      "metadata": {
        "id": "c0e8c0c1"
      },
      "source": [
        "<a name = Section42></a>\n",
        "## **4.2 Numpy Mathematical Functions**\n",
        "\n",
        "- In this section we will observe faster and optimized mathematicalfunctions that we can apply for large size arrays.\n",
        "\n",
        "- We will try out following functions with respect to an array:\n",
        "\n",
        "  - **.min():** Return the minimum along a given axis.\n",
        "\n",
        "  - **.max():** Return the maximum along a given axis.\n",
        "\n",
        "  - **.argmin():** Returns the indices of the minimum values along an axis.\n",
        "\n",
        "  - **.argmax():** Returns the indices of the maximum values along an axis.\n",
        "\n",
        "  - **.sqrt():** Return the non-negative square-root of an array, element-wise.\n",
        "\n",
        "  - **.mean():** Compute the arithmetic mean along the specified axis.\n",
        "\n",
        "  - **.exp():** Calculate the exponential of all elements in the input array."
      ]
    },
    {
      "cell_type": "code",
      "execution_count": null,
      "id": "dd8f0cbb",
      "metadata": {
        "id": "dd8f0cbb"
      },
      "outputs": [],
      "source": [
        "# Initialize an array of elements ranging from 1 to 11\n",
        "arr= np.arange(1,11)\n",
        "\n",
        "# Output the array\n",
        "arr"
      ]
    },
    {
      "cell_type": "code",
      "execution_count": null,
      "id": "e9559585",
      "metadata": {
        "id": "e9559585"
      },
      "outputs": [],
      "source": [
        "print('Minimum value in an array:', arr.min())\n",
        "print('Maximum value in an array:', arr.max())\n",
        "print('Minimum index in an array:', arr.argmin())\n",
        "print('Maximum index in an array:', arr.argmax())\n",
        "print('Mean of an array:', arr.mean())"
      ]
    },
    {
      "cell_type": "code",
      "execution_count": null,
      "id": "3f010391",
      "metadata": {
        "id": "3f010391"
      },
      "outputs": [],
      "source": [
        "arr = np.array([ 5,  2,  3,  4,  1,  6,  7,  8,  9, 10])"
      ]
    },
    {
      "cell_type": "code",
      "execution_count": null,
      "id": "b83ad732",
      "metadata": {
        "id": "b83ad732"
      },
      "outputs": [],
      "source": [
        "print('Minimum value in an array:', arr.min())\n",
        "print('Maximum value in an array:', arr.max())\n",
        "print('Minimum index in an array:', arr.argmin())\n",
        "print('Maximum index in an array:', arr.argmax())\n",
        "print('Mean of an array:', arr.mean())"
      ]
    },
    {
      "cell_type": "code",
      "execution_count": null,
      "id": "8056a0e2",
      "metadata": {
        "id": "8056a0e2"
      },
      "outputs": [],
      "source": [
        "print('Square Root of elements in an array:', np.sqrt(arr))\n",
        "print('Exponent of elements in an array:', np.exp(arr))"
      ]
    },
    {
      "cell_type": "markdown",
      "id": "e84c2e74",
      "metadata": {
        "id": "e84c2e74"
      },
      "source": [
        "- You can aggregate matrices the same way you aggregated vectors:"
      ]
    },
    {
      "cell_type": "code",
      "execution_count": null,
      "id": "2f12f1d9",
      "metadata": {
        "id": "2f12f1d9"
      },
      "outputs": [],
      "source": [
        "data = np.array([[1, 2], [3, 4], [5, 6]])\n",
        "data"
      ]
    },
    {
      "cell_type": "code",
      "execution_count": null,
      "id": "b6af00c6",
      "metadata": {
        "id": "b6af00c6"
      },
      "outputs": [],
      "source": [
        "data.max()"
      ]
    },
    {
      "cell_type": "code",
      "execution_count": null,
      "id": "a07c0b0c",
      "metadata": {
        "id": "a07c0b0c"
      },
      "outputs": [],
      "source": [
        "data.min()"
      ]
    },
    {
      "cell_type": "code",
      "execution_count": null,
      "id": "9b12899b",
      "metadata": {
        "id": "9b12899b"
      },
      "outputs": [],
      "source": [
        "data.sum()"
      ]
    },
    {
      "cell_type": "markdown",
      "id": "90ae7585",
      "metadata": {
        "id": "90ae7585"
      },
      "source": [
        "- You can aggregate all the values in a matrix and you can aggregate them across columns or rows using the axis parameter:"
      ]
    },
    {
      "cell_type": "code",
      "execution_count": null,
      "id": "2c5420a1",
      "metadata": {
        "id": "2c5420a1"
      },
      "outputs": [],
      "source": [
        "data.max(axis=0)"
      ]
    },
    {
      "cell_type": "code",
      "execution_count": null,
      "id": "850afaf3",
      "metadata": {
        "id": "850afaf3"
      },
      "outputs": [],
      "source": [
        "data.max(axis=1)"
      ]
    },
    {
      "cell_type": "markdown",
      "id": "1bf56a40",
      "metadata": {
        "id": "1bf56a40"
      },
      "source": [
        "**Observation:**\n",
        "\n",
        "- We saw various methods to do various mathematical operations like minimum, maximum, finding mean, finding exponent.\n",
        "\n",
        "- There are more functions available to calculate various statistical parameters."
      ]
    },
    {
      "cell_type": "markdown",
      "id": "7368f7c7",
      "metadata": {
        "id": "7368f7c7"
      },
      "source": [
        "<a name = Section43></a>\n",
        "## **4.3 How to get unique items and counts**"
      ]
    },
    {
      "cell_type": "markdown",
      "id": "4f879307",
      "metadata": {
        "id": "4f879307"
      },
      "source": [
        "- **You can find the unique elements in an array easily with np.unique.**"
      ]
    },
    {
      "cell_type": "code",
      "execution_count": 97,
      "id": "a31aa004",
      "metadata": {
        "colab": {
          "base_uri": "https://localhost:8080/"
        },
        "id": "a31aa004",
        "outputId": "c2af146a-93d4-4fbe-d6b2-fd92674df1d5"
      },
      "outputs": [
        {
          "output_type": "stream",
          "name": "stdout",
          "text": [
            "[11 12 13 14 15 16 17 18 19 20]\n"
          ]
        }
      ],
      "source": [
        "a = np.array([11, 11, 12, 13, 14, 15, 16, 17, 12, 13, 11, 14, 18, 19, 20])\n",
        "    \n",
        "unique_values = np.unique(a)\n",
        "print(unique_values)"
      ]
    },
    {
      "cell_type": "markdown",
      "id": "63484ddf",
      "metadata": {
        "id": "63484ddf"
      },
      "source": [
        "- **To get the indices of unique values in a NumPy array (an array of first index positions of unique values in the array), just pass the return_index argument in np.unique() as well as your array.**"
      ]
    },
    {
      "cell_type": "code",
      "execution_count": 98,
      "id": "778b1fcf",
      "metadata": {
        "colab": {
          "base_uri": "https://localhost:8080/"
        },
        "id": "778b1fcf",
        "outputId": "a4e149ce-9584-4ffd-8e12-7f89acdd9d2c"
      },
      "outputs": [
        {
          "output_type": "stream",
          "name": "stdout",
          "text": [
            "[11 12 13 14 15 16 17 18 19 20]\n",
            "[ 0  2  3  4  5  6  7 12 13 14]\n"
          ]
        }
      ],
      "source": [
        "unique_values,unique_index = np.unique(a,return_index=True)\n",
        "\n",
        "print(unique_values)\n",
        "print(unique_index)"
      ]
    },
    {
      "cell_type": "markdown",
      "id": "16d1f081",
      "metadata": {
        "id": "16d1f081"
      },
      "source": [
        "- **You can pass the return_counts argument in np.unique() along with your array to get the frequency count of unique values in a NumPy array.**"
      ]
    },
    {
      "cell_type": "code",
      "execution_count": 99,
      "id": "4ba51307",
      "metadata": {
        "colab": {
          "base_uri": "https://localhost:8080/"
        },
        "id": "4ba51307",
        "outputId": "3796c294-a38a-4c5b-c609-b04f70695ff9"
      },
      "outputs": [
        {
          "output_type": "stream",
          "name": "stdout",
          "text": [
            "[3 2 2 2 1 1 1 1 1 1]\n",
            "[11 12 13 14 15 16 17 18 19 20]\n"
          ]
        }
      ],
      "source": [
        "unique_values,occurrence_count = np.unique(a, return_counts=True)\n",
        "\n",
        "print(occurrence_count, end=\"\\n\")\n",
        "print(unique_values)"
      ]
    },
    {
      "cell_type": "markdown",
      "id": "f042790d",
      "metadata": {
        "id": "f042790d"
      },
      "source": [
        "- **This also works with 2D arrays! If you start with this array:**"
      ]
    },
    {
      "cell_type": "code",
      "execution_count": 100,
      "id": "10eb7fe6",
      "metadata": {
        "id": "10eb7fe6"
      },
      "outputs": [],
      "source": [
        "a_2d = np.array([[1, 2, 3, 4], [5, 6, 7, 8], [9, 10, 11, 12], [1, 2, 3, 4]])"
      ]
    },
    {
      "cell_type": "code",
      "execution_count": 101,
      "id": "00a745c0",
      "metadata": {
        "colab": {
          "base_uri": "https://localhost:8080/"
        },
        "id": "00a745c0",
        "outputId": "7220abf2-3c69-42ce-9912-6124c7135024"
      },
      "outputs": [
        {
          "output_type": "stream",
          "name": "stdout",
          "text": [
            "[ 1  2  3  4  5  6  7  8  9 10 11 12]\n"
          ]
        }
      ],
      "source": [
        "unique_values = np.unique(a_2d)\n",
        "print(unique_values)"
      ]
    },
    {
      "cell_type": "markdown",
      "id": "010b82b4",
      "metadata": {
        "id": "010b82b4"
      },
      "source": [
        "- **If the axis argument isn’t passed, your 2D array will be flattened.**\n",
        "\n",
        "- **If you want to get the unique rows or columns, make sure to pass the axis argument. To find the unique rows, specify axis=0 and for columns, specify axis=1.**"
      ]
    },
    {
      "cell_type": "code",
      "execution_count": 102,
      "id": "d05c6ecb",
      "metadata": {
        "colab": {
          "base_uri": "https://localhost:8080/"
        },
        "id": "d05c6ecb",
        "outputId": "719b3e39-58f1-4a7e-c409-3392c052bc67"
      },
      "outputs": [
        {
          "output_type": "execute_result",
          "data": {
            "text/plain": [
              "array([[ 1,  2,  3,  4],\n",
              "       [ 5,  6,  7,  8],\n",
              "       [ 9, 10, 11, 12],\n",
              "       [ 1,  2,  3,  4]])"
            ]
          },
          "metadata": {},
          "execution_count": 102
        }
      ],
      "source": [
        "a_2d"
      ]
    },
    {
      "cell_type": "code",
      "execution_count": 103,
      "id": "c81673b4",
      "metadata": {
        "colab": {
          "base_uri": "https://localhost:8080/"
        },
        "id": "c81673b4",
        "outputId": "a9353588-3754-40fd-f09a-a13c12ea507b"
      },
      "outputs": [
        {
          "output_type": "execute_result",
          "data": {
            "text/plain": [
              "array([[ 1,  2,  3,  4],\n",
              "       [ 5,  6,  7,  8],\n",
              "       [ 9, 10, 11, 12]])"
            ]
          },
          "metadata": {},
          "execution_count": 103
        }
      ],
      "source": [
        "unique_rows = np.unique(a_2d, axis=0)\n",
        "\n",
        "unique_rows"
      ]
    },
    {
      "cell_type": "code",
      "execution_count": 104,
      "id": "286209f2",
      "metadata": {
        "id": "286209f2"
      },
      "outputs": [],
      "source": [
        "unique_rows, indices, occurrence_count = np.unique(a_2d, axis=0, return_counts=True, return_index=True)"
      ]
    },
    {
      "cell_type": "code",
      "execution_count": 105,
      "id": "4040e685",
      "metadata": {
        "colab": {
          "base_uri": "https://localhost:8080/"
        },
        "id": "4040e685",
        "outputId": "6a8ba0d3-2f9b-4d46-d12a-397ac1464fc9"
      },
      "outputs": [
        {
          "output_type": "stream",
          "name": "stdout",
          "text": [
            "[[ 1  2  3  4]\n",
            " [ 5  6  7  8]\n",
            " [ 9 10 11 12]]\n"
          ]
        }
      ],
      "source": [
        "print(unique_rows)"
      ]
    },
    {
      "cell_type": "code",
      "execution_count": 106,
      "id": "b9d13b72",
      "metadata": {
        "colab": {
          "base_uri": "https://localhost:8080/"
        },
        "id": "b9d13b72",
        "outputId": "5f726817-0589-49a6-bf34-b4594074e249"
      },
      "outputs": [
        {
          "output_type": "stream",
          "name": "stdout",
          "text": [
            "[0 1 2]\n"
          ]
        }
      ],
      "source": [
        "print(indices)"
      ]
    },
    {
      "cell_type": "code",
      "execution_count": 107,
      "id": "b33ea8ba",
      "metadata": {
        "colab": {
          "base_uri": "https://localhost:8080/"
        },
        "id": "b33ea8ba",
        "outputId": "65d9b78d-dfee-431e-f3b0-9dd82bfe7df7"
      },
      "outputs": [
        {
          "output_type": "stream",
          "name": "stdout",
          "text": [
            "[2 1 1]\n"
          ]
        }
      ],
      "source": [
        "print(occurrence_count)"
      ]
    },
    {
      "cell_type": "markdown",
      "id": "c4f2e56c",
      "metadata": {
        "id": "c4f2e56c"
      },
      "source": [
        "<a name = Section44></a>\n",
        "## **4.4 Array Manipulation**\n",
        "\n",
        "- In this section we will see some numpy functions that can change the structure (shape) of an array."
      ]
    },
    {
      "cell_type": "markdown",
      "id": "3121641e",
      "metadata": {
        "id": "3121641e"
      },
      "source": [
        "<a name = Section441></a>\n",
        "### **4.4.1 Array Shape Manipulation**\n",
        "\n",
        "- We will explore following functions that will perform array shape manipulation:\n",
        "\n",
        "  - **.reshape():** Gives a new shape to an array without changing its data.\n",
        "\n",
        "  - **.flatten():** Return a copy of the array collapsed into one dimension.\n",
        "\n",
        "  - **.transpose()**: Reverse or permute the axes of an array and returns the modified array.\n",
        "  \n",
        "  - **.flip()** : Function allows you to flip, or reverse, the contents of an array along an axis."
      ]
    },
    {
      "cell_type": "code",
      "execution_count": 108,
      "id": "1ee74e1f",
      "metadata": {
        "colab": {
          "base_uri": "https://localhost:8080/"
        },
        "id": "1ee74e1f",
        "outputId": "54a14346-c854-4c60-bd1e-9295622b3ef9"
      },
      "outputs": [
        {
          "output_type": "execute_result",
          "data": {
            "text/plain": [
              "array([ 0,  1,  2,  3,  4,  5,  6,  7,  8,  9, 10, 11, 12, 13, 14, 15])"
            ]
          },
          "metadata": {},
          "execution_count": 108
        }
      ],
      "source": [
        "# Initialize an array of elements ranging from 0 to 116\n",
        "arr = np.arange(0,16)\n",
        "\n",
        "# Output the array\n",
        "arr"
      ]
    },
    {
      "cell_type": "code",
      "execution_count": 109,
      "id": "755c4aac",
      "metadata": {
        "colab": {
          "base_uri": "https://localhost:8080/"
        },
        "id": "755c4aac",
        "outputId": "8747b23e-c693-4515-c57d-54734002801f"
      },
      "outputs": [
        {
          "output_type": "execute_result",
          "data": {
            "text/plain": [
              "array([[ 0,  1,  2,  3],\n",
              "       [ 4,  5,  6,  7],\n",
              "       [ 8,  9, 10, 11],\n",
              "       [12, 13, 14, 15]])"
            ]
          },
          "metadata": {},
          "execution_count": 109
        }
      ],
      "source": [
        "# Reshaping array with resolution of 4 X 4 \n",
        "arr_2D = arr.reshape(4, 4)\n",
        "\n",
        "arr_2D"
      ]
    },
    {
      "cell_type": "code",
      "execution_count": 110,
      "id": "dc085f52",
      "metadata": {
        "colab": {
          "base_uri": "https://localhost:8080/"
        },
        "id": "dc085f52",
        "outputId": "fb21e7d0-2773-426a-f1f1-8f8a31baee2a"
      },
      "outputs": [
        {
          "output_type": "execute_result",
          "data": {
            "text/plain": [
              "array([ 0,  1,  2,  3,  4,  5,  6,  7,  8,  9, 10, 11, 12, 13, 14, 15])"
            ]
          },
          "metadata": {},
          "execution_count": 110
        }
      ],
      "source": [
        "# Transform 2-D array to 1-D array\n",
        "arr_2D.flatten()"
      ]
    },
    {
      "cell_type": "code",
      "execution_count": 111,
      "id": "56af6bd3",
      "metadata": {
        "colab": {
          "base_uri": "https://localhost:8080/"
        },
        "id": "56af6bd3",
        "outputId": "4b42ac96-37ad-4517-c5ee-f11c00a60e1e"
      },
      "outputs": [
        {
          "output_type": "execute_result",
          "data": {
            "text/plain": [
              "array([[ 0,  4,  8, 12],\n",
              "       [ 1,  5,  9, 13],\n",
              "       [ 2,  6, 10, 14],\n",
              "       [ 3,  7, 11, 15]])"
            ]
          },
          "metadata": {},
          "execution_count": 111
        }
      ],
      "source": [
        "# Transpose the elements of 2-D array\n",
        "arr_2D.transpose()"
      ]
    },
    {
      "cell_type": "code",
      "execution_count": 112,
      "id": "cbca91fd",
      "metadata": {
        "colab": {
          "base_uri": "https://localhost:8080/"
        },
        "id": "cbca91fd",
        "outputId": "10b02090-454d-4bd0-e789-d6b8c3331fff"
      },
      "outputs": [
        {
          "output_type": "stream",
          "name": "stdout",
          "text": [
            "Reversed Array:  [8 7 6 5 4 3 2 1]\n"
          ]
        }
      ],
      "source": [
        "# Reversing a 1D array\n",
        "\n",
        "arr = np.array([1, 2, 3, 4, 5, 6, 7, 8])\n",
        "reversed_arr = np.flip(arr)\n",
        "print('Reversed Array: ', reversed_arr)"
      ]
    },
    {
      "cell_type": "code",
      "execution_count": 113,
      "id": "4c4263c2",
      "metadata": {
        "colab": {
          "base_uri": "https://localhost:8080/"
        },
        "id": "4c4263c2",
        "outputId": "908a6e81-af4c-4782-da6d-3ddb1897cb66"
      },
      "outputs": [
        {
          "output_type": "stream",
          "name": "stdout",
          "text": [
            "Normal Array:\n",
            "[[ 1  2  3  4]\n",
            " [ 5  6  7  8]\n",
            " [ 9 10 11 12]]\n",
            "Reversed Array\n",
            "[[12 11 10  9]\n",
            " [ 8  7  6  5]\n",
            " [ 4  3  2  1]]\n"
          ]
        }
      ],
      "source": [
        "# Reversing a 2D array\n",
        "\n",
        "arr_2d = np.array([[1, 2, 3, 4], [5, 6, 7, 8], [9, 10, 11, 12]])\n",
        "reversed_arr = np.flip(arr_2d)\n",
        "\n",
        "print(\"Normal Array:\")\n",
        "print(arr_2d)\n",
        "\n",
        "print(\"Reversed Array\")\n",
        "print(reversed_arr)"
      ]
    },
    {
      "cell_type": "code",
      "execution_count": 114,
      "id": "92a2caa8",
      "metadata": {
        "colab": {
          "base_uri": "https://localhost:8080/"
        },
        "id": "92a2caa8",
        "outputId": "72925c2c-2ab7-4387-a185-5094c435baaf"
      },
      "outputs": [
        {
          "output_type": "stream",
          "name": "stdout",
          "text": [
            "[[ 9 10 11 12]\n",
            " [ 5  6  7  8]\n",
            " [ 1  2  3  4]]\n"
          ]
        }
      ],
      "source": [
        "# Reverse only the rows with:\n",
        "\n",
        "reversed_arr_rows = np.flip(arr_2d, axis=0)\n",
        "print(reversed_arr_rows)"
      ]
    },
    {
      "cell_type": "code",
      "execution_count": 115,
      "id": "e11c04e8",
      "metadata": {
        "colab": {
          "base_uri": "https://localhost:8080/"
        },
        "id": "e11c04e8",
        "outputId": "d0eae48e-0450-444c-89ec-a3e1032d0734"
      },
      "outputs": [
        {
          "output_type": "stream",
          "name": "stdout",
          "text": [
            "[[ 4  3  2  1]\n",
            " [ 8  7  6  5]\n",
            " [12 11 10  9]]\n"
          ]
        }
      ],
      "source": [
        "# Reverse only the columns with:\n",
        "reversed_arr_columns = np.flip(arr_2d, axis=1)\n",
        "print(reversed_arr_columns)"
      ]
    },
    {
      "cell_type": "code",
      "execution_count": 116,
      "id": "5f198186",
      "metadata": {
        "id": "5f198186"
      },
      "outputs": [],
      "source": [
        "# Reverse the contents of only one column or row. \n",
        "# For example, you can reverse the contents of the row at index position 1 (the second row):"
      ]
    },
    {
      "cell_type": "code",
      "execution_count": 117,
      "id": "7b933377",
      "metadata": {
        "colab": {
          "base_uri": "https://localhost:8080/"
        },
        "id": "7b933377",
        "outputId": "74ec827d-1951-4de6-f79c-af72559e50f3"
      },
      "outputs": [
        {
          "output_type": "stream",
          "name": "stdout",
          "text": [
            "[[ 1  2  3  4]\n",
            " [ 8  7  6  5]\n",
            " [ 9 10 11 12]]\n"
          ]
        }
      ],
      "source": [
        "arr_2d[1] = np.flip(arr_2d[1])\n",
        "print(arr_2d)"
      ]
    },
    {
      "cell_type": "code",
      "execution_count": 118,
      "id": "8f799217",
      "metadata": {
        "colab": {
          "base_uri": "https://localhost:8080/"
        },
        "id": "8f799217",
        "outputId": "7b5b05ac-16ce-4b5e-ce5f-8bb83d9d94ae"
      },
      "outputs": [
        {
          "output_type": "stream",
          "name": "stdout",
          "text": [
            "[[ 1 10  3  4]\n",
            " [ 8  7  6  5]\n",
            " [ 9  2 11 12]]\n"
          ]
        }
      ],
      "source": [
        "arr_2d[:,1] = np.flip(arr_2d[:,1])\n",
        "print(arr_2d)"
      ]
    },
    {
      "cell_type": "markdown",
      "id": "b646cb17",
      "metadata": {
        "id": "b646cb17"
      },
      "source": [
        "<a name = Section442></a>\n",
        "### **4.4.2 Array Merging and Splitting**\n",
        "\n",
        "- We will explore following functions that will perform array merging and splitting:\n",
        "\n",
        "  - **.concatenate():** Join a sequence of arrays along an existing axis.\n",
        "\n",
        "  - **.hsplit():** Split an array into multiple sub-arrays horizontally (column-wise).\n",
        "\n",
        "  - **.vsplit():** Split an array into multiple sub-arrays vertically (row-wise).\n",
        "  \n",
        "  - **.sort():** Sorting an array."
      ]
    },
    {
      "cell_type": "code",
      "execution_count": 119,
      "id": "920ffe19",
      "metadata": {
        "id": "920ffe19"
      },
      "outputs": [],
      "source": [
        "# Initialize a first 2-D array of shape 2 X 4\n",
        "arr_x = np.array([[1, 2, 3, 4], \n",
        "                  [5, 6, 7, 8]])\n",
        "\n",
        "# Initialize a second 2-D array of shape 2 X 4\n",
        "arr_y = np.array([[21, 22, 23, 24], \n",
        "                  [25, 26, 27, 28]])"
      ]
    },
    {
      "cell_type": "code",
      "execution_count": 120,
      "id": "e6f4f9f7",
      "metadata": {
        "colab": {
          "base_uri": "https://localhost:8080/"
        },
        "id": "e6f4f9f7",
        "outputId": "0fbab4fd-ebb7-418e-aa40-bd736c46cd6d"
      },
      "outputs": [
        {
          "output_type": "execute_result",
          "data": {
            "text/plain": [
              "array([[ 1,  2,  3,  4, 21, 22, 23, 24],\n",
              "       [ 5,  6,  7,  8, 25, 26, 27, 28]])"
            ]
          },
          "metadata": {},
          "execution_count": 120
        }
      ],
      "source": [
        "# Concatenation of two 2-D arrays column-wise\n",
        "concat_col_wise = np.concatenate((arr_x, arr_y), axis=1)\n",
        "\n",
        "# Output the result of concatenation of two 2-D arrays column-wise\n",
        "concat_col_wise"
      ]
    },
    {
      "cell_type": "code",
      "execution_count": 121,
      "id": "1a49cb30",
      "metadata": {
        "colab": {
          "base_uri": "https://localhost:8080/"
        },
        "id": "1a49cb30",
        "outputId": "7406ad2c-7124-42fa-9848-a43810a6d358"
      },
      "outputs": [
        {
          "output_type": "execute_result",
          "data": {
            "text/plain": [
              "array([[ 1,  2,  3,  4],\n",
              "       [ 5,  6,  7,  8],\n",
              "       [21, 22, 23, 24],\n",
              "       [25, 26, 27, 28]])"
            ]
          },
          "metadata": {},
          "execution_count": 121
        }
      ],
      "source": [
        "# Concatenation of two 2-D arrays row-wise\n",
        "concat_row_wise = np.concatenate((arr_x, arr_y), axis=0)\n",
        "\n",
        "# Output the result of concatenation of two 2-D arrays row-wise\n",
        "concat_row_wise"
      ]
    },
    {
      "cell_type": "code",
      "execution_count": 122,
      "id": "a0167952",
      "metadata": {
        "colab": {
          "base_uri": "https://localhost:8080/"
        },
        "id": "a0167952",
        "outputId": "e411e488-f51c-42db-e591-357a7ef0ed3e"
      },
      "outputs": [
        {
          "output_type": "execute_result",
          "data": {
            "text/plain": [
              "[array([[ 1,  2],\n",
              "        [ 5,  6],\n",
              "        [21, 22],\n",
              "        [25, 26]]), array([[ 3,  4],\n",
              "        [ 7,  8],\n",
              "        [23, 24],\n",
              "        [27, 28]])]"
            ]
          },
          "metadata": {},
          "execution_count": 122
        }
      ],
      "source": [
        "# Split an array into multiple sub-arrays horizontally (column-wise)\n",
        "horizontal = np.hsplit(ary=concat_row_wise, indices_or_sections=2)\n",
        "\n",
        "# Output the result\n",
        "horizontal"
      ]
    },
    {
      "cell_type": "code",
      "execution_count": 123,
      "id": "f922d231",
      "metadata": {
        "colab": {
          "base_uri": "https://localhost:8080/"
        },
        "id": "f922d231",
        "outputId": "d607cc8e-7afc-4e20-96b2-a3cfc58c9621"
      },
      "outputs": [
        {
          "output_type": "execute_result",
          "data": {
            "text/plain": [
              "[array([[1, 2, 3, 4],\n",
              "        [5, 6, 7, 8]]), array([[21, 22, 23, 24],\n",
              "        [25, 26, 27, 28]])]"
            ]
          },
          "metadata": {},
          "execution_count": 123
        }
      ],
      "source": [
        "# Split an array into multiple sub-arrays horizontally (column-wise)\n",
        "verticle = np.vsplit(ary=concat_row_wise, indices_or_sections=2)\n",
        "\n",
        "# Output the result\n",
        "verticle"
      ]
    },
    {
      "cell_type": "markdown",
      "id": "9150ac34",
      "metadata": {
        "id": "9150ac34"
      },
      "source": [
        "- **Sorting an element**"
      ]
    },
    {
      "cell_type": "code",
      "execution_count": 124,
      "id": "ec61c903",
      "metadata": {
        "colab": {
          "base_uri": "https://localhost:8080/"
        },
        "id": "ec61c903",
        "outputId": "fb085071-b721-45ff-a793-040e74e511b9"
      },
      "outputs": [
        {
          "output_type": "execute_result",
          "data": {
            "text/plain": [
              "array([1, 2, 3, 4, 5, 6, 7, 8])"
            ]
          },
          "metadata": {},
          "execution_count": 124
        }
      ],
      "source": [
        "\n",
        "arr = np.array([2, 1, 5, 3, 7, 4, 6, 8])\n",
        "np.sort(arr)"
      ]
    },
    {
      "cell_type": "markdown",
      "id": "083852d9",
      "metadata": {
        "id": "083852d9"
      },
      "source": [
        "In addition to sort, which returns a sorted copy of an array, you can use:\n",
        "\n",
        " - argsort, which is an indirect sort along a specified axis,\n",
        "\n",
        "- lexsort, which is an indirect stable sort on multiple keys,\n",
        "\n",
        "- searchsorted, which will find elements in a sorted array, and\n",
        "\n",
        "- partition, which is a partial sort."
      ]
    },
    {
      "cell_type": "markdown",
      "id": "4701fdca",
      "metadata": {
        "id": "4701fdca"
      },
      "source": [
        "**Observation:**\n",
        "\n",
        "- Using **concatenate** function we can merge arrays **columnwise** and **rowwise**. \n",
        "\n",
        "- Also arrays can be **horizontally** and **vertically** spliited using hsplit and vsplit."
      ]
    },
    {
      "cell_type": "markdown",
      "id": "285a2613",
      "metadata": {
        "id": "285a2613"
      },
      "source": [
        "---\n",
        "<a name = Section5></a>\n",
        "# **5. Conclusion**\n",
        "---\n",
        "\n",
        "- **Numpy** is an **open-source** add-on module to Python.\n",
        "\n",
        "- By using Numpy you can **speed up** your **workflow** operations.\n",
        "\n",
        "- You can **interface** with **other packages** in the Python ecosystem that use Numpy under the hood.\n",
        "\n",
        "- A growing plethora of scientific and mathematical Python-based packages are using NumPy arrays.\n",
        "\n",
        "- It provides common mathematical and numerical routines in pre-compiled, fast functions.\n",
        "\n",
        "- It **provides basic routines** for manipulating large arrays and matrices of numeric data.\n",
        "\n",
        "- NumPy arrays have a fixed size decided at the time of creation. \n",
        "\n",
        "- Changing the size of an array will create a new array and delete the original.\n",
        "\n",
        "- The **elements** in a NumPy array are all **required** to be of the **same data type**, and thus will be the same size in memory.\n",
        "\n",
        "- NumPy arrays **facilitate advanced mathematical** and other types of **operations** on large numbers of data."
      ]
    },
    {
      "cell_type": "code",
      "execution_count": null,
      "id": "cffe81af",
      "metadata": {
        "id": "cffe81af"
      },
      "outputs": [],
      "source": [
        ""
      ]
    }
  ],
  "metadata": {
    "kernelspec": {
      "display_name": "Python 3",
      "language": "python",
      "name": "python3"
    },
    "language_info": {
      "codemirror_mode": {
        "name": "ipython",
        "version": 3
      },
      "file_extension": ".py",
      "mimetype": "text/x-python",
      "name": "python",
      "nbconvert_exporter": "python",
      "pygments_lexer": "ipython3",
      "version": "3.8.8"
    },
    "colab": {
      "name": "Assignment 2 - NumPy Array.ipynb",
      "provenance": [],
      "include_colab_link": true
    }
  },
  "nbformat": 4,
  "nbformat_minor": 5
}