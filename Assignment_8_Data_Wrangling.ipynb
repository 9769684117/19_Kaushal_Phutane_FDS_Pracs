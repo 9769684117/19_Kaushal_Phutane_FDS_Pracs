{
  "cells": [
    {
      "cell_type": "markdown",
      "metadata": {
        "id": "view-in-github",
        "colab_type": "text"
      },
      "source": [
        "<a href=\"https://colab.research.google.com/github/kaushal-codes/Data-Science/blob/main/Assignment_8_Data_Wrangling.ipynb\" target=\"_parent\"><img src=\"https://colab.research.google.com/assets/colab-badge.svg\" alt=\"Open In Colab\"/></a>"
      ]
    },
    {
      "cell_type": "markdown",
      "id": "efa458fb",
      "metadata": {
        "id": "efa458fb"
      },
      "source": [
        "<h1><center>DATA WRANGLING</center></h1>"
      ]
    },
    {
      "cell_type": "markdown",
      "id": "780e7d7e",
      "metadata": {
        "id": "780e7d7e"
      },
      "source": [
        "## Hierarchical Indexing\n",
        "\n",
        "Hierarchical indexing is an important feature of pandas that enables you to have mul‐\n",
        "tiple (two or more) index levels on an axis."
      ]
    },
    {
      "cell_type": "code",
      "execution_count": null,
      "id": "80b88156",
      "metadata": {
        "id": "80b88156"
      },
      "outputs": [],
      "source": [
        "import pandas as pd\n",
        "import numpy as np"
      ]
    },
    {
      "cell_type": "code",
      "execution_count": null,
      "id": "5cf039e7",
      "metadata": {
        "id": "5cf039e7"
      },
      "outputs": [],
      "source": [
        "data = pd.Series(np.random.randn(9),index=[['a','a','a','b','b','c','c','d','d'],[1,2,3,1,3,1,2,2,3]])"
      ]
    },
    {
      "cell_type": "code",
      "execution_count": null,
      "id": "c4546543",
      "metadata": {
        "id": "c4546543",
        "outputId": "d7b82390-965f-480c-d151-1aaf4c5bd06f"
      },
      "outputs": [
        {
          "data": {
            "text/plain": [
              "a  1   -1.500312\n",
              "   2    0.984660\n",
              "   3    0.304341\n",
              "b  1    0.296940\n",
              "   3   -1.425450\n",
              "c  1   -1.177166\n",
              "   2   -0.324394\n",
              "d  2    0.974205\n",
              "   3    0.617651\n",
              "dtype: float64"
            ]
          },
          "execution_count": 9,
          "metadata": {},
          "output_type": "execute_result"
        }
      ],
      "source": [
        "data"
      ]
    },
    {
      "cell_type": "code",
      "execution_count": null,
      "id": "ba71274e",
      "metadata": {
        "id": "ba71274e",
        "outputId": "fcf3ddf8-6c6f-44f5-93bf-292092ef0dee"
      },
      "outputs": [
        {
          "data": {
            "text/plain": [
              "MultiIndex([('a', 1),\n",
              "            ('a', 2),\n",
              "            ('a', 3),\n",
              "            ('b', 1),\n",
              "            ('b', 3),\n",
              "            ('c', 1),\n",
              "            ('c', 2),\n",
              "            ('d', 2),\n",
              "            ('d', 3)],\n",
              "           )"
            ]
          },
          "execution_count": 10,
          "metadata": {},
          "output_type": "execute_result"
        }
      ],
      "source": [
        "data.index"
      ]
    },
    {
      "cell_type": "code",
      "execution_count": null,
      "id": "5e410337",
      "metadata": {
        "id": "5e410337",
        "outputId": "e27b5de5-fe6b-4dff-d678-55dc3eeafb81"
      },
      "outputs": [
        {
          "data": {
            "text/plain": [
              "1    0.29694\n",
              "3   -1.42545\n",
              "dtype: float64"
            ]
          },
          "execution_count": 11,
          "metadata": {},
          "output_type": "execute_result"
        }
      ],
      "source": [
        "data['b']"
      ]
    },
    {
      "cell_type": "code",
      "execution_count": null,
      "id": "a3588bb1",
      "metadata": {
        "id": "a3588bb1",
        "outputId": "4a9bcd44-075d-460e-d8cd-8ae22b476bcc"
      },
      "outputs": [
        {
          "data": {
            "text/plain": [
              "b  1    0.296940\n",
              "   3   -1.425450\n",
              "c  1   -1.177166\n",
              "   2   -0.324394\n",
              "dtype: float64"
            ]
          },
          "execution_count": 12,
          "metadata": {},
          "output_type": "execute_result"
        }
      ],
      "source": [
        "data['b':'c']"
      ]
    },
    {
      "cell_type": "code",
      "execution_count": null,
      "id": "8c3bc234",
      "metadata": {
        "id": "8c3bc234",
        "outputId": "0a40157b-9a88-496c-d217-1a4fb3de4be2"
      },
      "outputs": [
        {
          "data": {
            "text/plain": [
              "c  1   -1.177166\n",
              "   2   -0.324394\n",
              "d  2    0.974205\n",
              "   3    0.617651\n",
              "dtype: float64"
            ]
          },
          "execution_count": 13,
          "metadata": {},
          "output_type": "execute_result"
        }
      ],
      "source": [
        "data['c':'d']"
      ]
    },
    {
      "cell_type": "code",
      "execution_count": null,
      "id": "ac238d35",
      "metadata": {
        "id": "ac238d35",
        "outputId": "e0573e34-2056-4ce5-eaf4-4b5578d48682"
      },
      "outputs": [
        {
          "data": {
            "text/plain": [
              "b  1    0.296940\n",
              "   3   -1.425450\n",
              "d  2    0.974205\n",
              "   3    0.617651\n",
              "dtype: float64"
            ]
          },
          "execution_count": 15,
          "metadata": {},
          "output_type": "execute_result"
        }
      ],
      "source": [
        "data.loc[['b','d']]"
      ]
    },
    {
      "cell_type": "code",
      "execution_count": null,
      "id": "e9b96a92",
      "metadata": {
        "id": "e9b96a92",
        "outputId": "edf10e60-3843-4cb2-8ed0-b5342b0d6043"
      },
      "outputs": [
        {
          "data": {
            "text/plain": [
              "a    0.984660\n",
              "c   -0.324394\n",
              "d    0.974205\n",
              "dtype: float64"
            ]
          },
          "execution_count": 16,
          "metadata": {},
          "output_type": "execute_result"
        }
      ],
      "source": [
        "data.loc[:,2]"
      ]
    },
    {
      "cell_type": "code",
      "execution_count": null,
      "id": "5c18665a",
      "metadata": {
        "id": "5c18665a",
        "outputId": "92f5e215-81fb-4750-d2cd-75fd5a21b057"
      },
      "outputs": [
        {
          "data": {
            "text/html": [
              "<div>\n",
              "<style scoped>\n",
              "    .dataframe tbody tr th:only-of-type {\n",
              "        vertical-align: middle;\n",
              "    }\n",
              "\n",
              "    .dataframe tbody tr th {\n",
              "        vertical-align: top;\n",
              "    }\n",
              "\n",
              "    .dataframe thead th {\n",
              "        text-align: right;\n",
              "    }\n",
              "</style>\n",
              "<table border=\"1\" class=\"dataframe\">\n",
              "  <thead>\n",
              "    <tr style=\"text-align: right;\">\n",
              "      <th></th>\n",
              "      <th>1</th>\n",
              "      <th>2</th>\n",
              "      <th>3</th>\n",
              "    </tr>\n",
              "  </thead>\n",
              "  <tbody>\n",
              "    <tr>\n",
              "      <th>a</th>\n",
              "      <td>-1.500312</td>\n",
              "      <td>0.984660</td>\n",
              "      <td>0.304341</td>\n",
              "    </tr>\n",
              "    <tr>\n",
              "      <th>b</th>\n",
              "      <td>0.296940</td>\n",
              "      <td>NaN</td>\n",
              "      <td>-1.425450</td>\n",
              "    </tr>\n",
              "    <tr>\n",
              "      <th>c</th>\n",
              "      <td>-1.177166</td>\n",
              "      <td>-0.324394</td>\n",
              "      <td>NaN</td>\n",
              "    </tr>\n",
              "    <tr>\n",
              "      <th>d</th>\n",
              "      <td>NaN</td>\n",
              "      <td>0.974205</td>\n",
              "      <td>0.617651</td>\n",
              "    </tr>\n",
              "  </tbody>\n",
              "</table>\n",
              "</div>"
            ],
            "text/plain": [
              "          1         2         3\n",
              "a -1.500312  0.984660  0.304341\n",
              "b  0.296940       NaN -1.425450\n",
              "c -1.177166 -0.324394       NaN\n",
              "d       NaN  0.974205  0.617651"
            ]
          },
          "execution_count": 17,
          "metadata": {},
          "output_type": "execute_result"
        }
      ],
      "source": [
        "# Rearrange the data into a DataFrame using its unstack method:\n",
        "\n",
        "data.unstack()   "
      ]
    },
    {
      "cell_type": "code",
      "execution_count": null,
      "id": "d0affa1d",
      "metadata": {
        "id": "d0affa1d",
        "outputId": "3c4bd3df-2533-4390-e6a4-84aa5631d91e"
      },
      "outputs": [
        {
          "data": {
            "text/plain": [
              "a  1   -1.500312\n",
              "   2    0.984660\n",
              "   3    0.304341\n",
              "b  1    0.296940\n",
              "   3   -1.425450\n",
              "c  1   -1.177166\n",
              "   2   -0.324394\n",
              "d  2    0.974205\n",
              "   3    0.617651\n",
              "dtype: float64"
            ]
          },
          "execution_count": 19,
          "metadata": {},
          "output_type": "execute_result"
        }
      ],
      "source": [
        "# The inverse operation of unstack is stack:\n",
        "\n",
        "data.unstack().stack()"
      ]
    },
    {
      "cell_type": "code",
      "execution_count": null,
      "id": "f55def8d",
      "metadata": {
        "id": "f55def8d"
      },
      "outputs": [],
      "source": [
        "# With a DataFrame, either axis can have a hierarchical index:\n",
        "\n",
        "frame = pd.DataFrame(np.arange(12).reshape((4, 3)), index=[['a', 'a', 'b', 'b'], [1, 2, 1, 2]],\n",
        "        columns=[['Ohio', 'Ohio', 'Colorado'],['Green', 'Red', 'Green']])\n"
      ]
    },
    {
      "cell_type": "code",
      "execution_count": null,
      "id": "0f2079f6",
      "metadata": {
        "id": "0f2079f6",
        "outputId": "e7b16877-3667-479f-f9e7-349e60cfb1e1"
      },
      "outputs": [
        {
          "data": {
            "text/html": [
              "<div>\n",
              "<style scoped>\n",
              "    .dataframe tbody tr th:only-of-type {\n",
              "        vertical-align: middle;\n",
              "    }\n",
              "\n",
              "    .dataframe tbody tr th {\n",
              "        vertical-align: top;\n",
              "    }\n",
              "\n",
              "    .dataframe thead tr th {\n",
              "        text-align: left;\n",
              "    }\n",
              "</style>\n",
              "<table border=\"1\" class=\"dataframe\">\n",
              "  <thead>\n",
              "    <tr>\n",
              "      <th></th>\n",
              "      <th></th>\n",
              "      <th colspan=\"2\" halign=\"left\">Ohio</th>\n",
              "      <th>Colorado</th>\n",
              "    </tr>\n",
              "    <tr>\n",
              "      <th></th>\n",
              "      <th></th>\n",
              "      <th>Green</th>\n",
              "      <th>Red</th>\n",
              "      <th>Green</th>\n",
              "    </tr>\n",
              "  </thead>\n",
              "  <tbody>\n",
              "    <tr>\n",
              "      <th rowspan=\"2\" valign=\"top\">a</th>\n",
              "      <th>1</th>\n",
              "      <td>0</td>\n",
              "      <td>1</td>\n",
              "      <td>2</td>\n",
              "    </tr>\n",
              "    <tr>\n",
              "      <th>2</th>\n",
              "      <td>3</td>\n",
              "      <td>4</td>\n",
              "      <td>5</td>\n",
              "    </tr>\n",
              "    <tr>\n",
              "      <th rowspan=\"2\" valign=\"top\">b</th>\n",
              "      <th>1</th>\n",
              "      <td>6</td>\n",
              "      <td>7</td>\n",
              "      <td>8</td>\n",
              "    </tr>\n",
              "    <tr>\n",
              "      <th>2</th>\n",
              "      <td>9</td>\n",
              "      <td>10</td>\n",
              "      <td>11</td>\n",
              "    </tr>\n",
              "  </tbody>\n",
              "</table>\n",
              "</div>"
            ],
            "text/plain": [
              "     Ohio     Colorado\n",
              "    Green Red    Green\n",
              "a 1     0   1        2\n",
              "  2     3   4        5\n",
              "b 1     6   7        8\n",
              "  2     9  10       11"
            ]
          },
          "execution_count": 133,
          "metadata": {},
          "output_type": "execute_result"
        }
      ],
      "source": [
        "frame"
      ]
    },
    {
      "cell_type": "code",
      "execution_count": null,
      "id": "eeea5e6f",
      "metadata": {
        "id": "eeea5e6f"
      },
      "outputs": [],
      "source": [
        "frame.index.names=['Key1','Key2']"
      ]
    },
    {
      "cell_type": "code",
      "execution_count": null,
      "id": "05d5bf93",
      "metadata": {
        "id": "05d5bf93",
        "outputId": "30491fc2-2cae-4dfa-e6bf-5a28c7cf0e08"
      },
      "outputs": [
        {
          "data": {
            "text/html": [
              "<div>\n",
              "<style scoped>\n",
              "    .dataframe tbody tr th:only-of-type {\n",
              "        vertical-align: middle;\n",
              "    }\n",
              "\n",
              "    .dataframe tbody tr th {\n",
              "        vertical-align: top;\n",
              "    }\n",
              "\n",
              "    .dataframe thead tr th {\n",
              "        text-align: left;\n",
              "    }\n",
              "\n",
              "    .dataframe thead tr:last-of-type th {\n",
              "        text-align: right;\n",
              "    }\n",
              "</style>\n",
              "<table border=\"1\" class=\"dataframe\">\n",
              "  <thead>\n",
              "    <tr>\n",
              "      <th></th>\n",
              "      <th></th>\n",
              "      <th colspan=\"2\" halign=\"left\">Ohio</th>\n",
              "      <th>Colorado</th>\n",
              "    </tr>\n",
              "    <tr>\n",
              "      <th></th>\n",
              "      <th></th>\n",
              "      <th>Green</th>\n",
              "      <th>Red</th>\n",
              "      <th>Green</th>\n",
              "    </tr>\n",
              "    <tr>\n",
              "      <th>Key1</th>\n",
              "      <th>Key2</th>\n",
              "      <th></th>\n",
              "      <th></th>\n",
              "      <th></th>\n",
              "    </tr>\n",
              "  </thead>\n",
              "  <tbody>\n",
              "    <tr>\n",
              "      <th rowspan=\"2\" valign=\"top\">a</th>\n",
              "      <th>1</th>\n",
              "      <td>0</td>\n",
              "      <td>1</td>\n",
              "      <td>2</td>\n",
              "    </tr>\n",
              "    <tr>\n",
              "      <th>2</th>\n",
              "      <td>3</td>\n",
              "      <td>4</td>\n",
              "      <td>5</td>\n",
              "    </tr>\n",
              "    <tr>\n",
              "      <th rowspan=\"2\" valign=\"top\">b</th>\n",
              "      <th>1</th>\n",
              "      <td>6</td>\n",
              "      <td>7</td>\n",
              "      <td>8</td>\n",
              "    </tr>\n",
              "    <tr>\n",
              "      <th>2</th>\n",
              "      <td>9</td>\n",
              "      <td>10</td>\n",
              "      <td>11</td>\n",
              "    </tr>\n",
              "  </tbody>\n",
              "</table>\n",
              "</div>"
            ],
            "text/plain": [
              "           Ohio     Colorado\n",
              "          Green Red    Green\n",
              "Key1 Key2                   \n",
              "a    1        0   1        2\n",
              "     2        3   4        5\n",
              "b    1        6   7        8\n",
              "     2        9  10       11"
            ]
          },
          "execution_count": 135,
          "metadata": {},
          "output_type": "execute_result"
        }
      ],
      "source": [
        "frame"
      ]
    },
    {
      "cell_type": "code",
      "execution_count": null,
      "id": "2c3205e4",
      "metadata": {
        "id": "2c3205e4"
      },
      "outputs": [],
      "source": [
        "frame.columns.names = ['state','color']"
      ]
    },
    {
      "cell_type": "code",
      "execution_count": null,
      "id": "936f92b5",
      "metadata": {
        "id": "936f92b5",
        "outputId": "2a3dff2f-a7f7-4772-fd55-21f44bebda17"
      },
      "outputs": [
        {
          "data": {
            "text/html": [
              "<div>\n",
              "<style scoped>\n",
              "    .dataframe tbody tr th:only-of-type {\n",
              "        vertical-align: middle;\n",
              "    }\n",
              "\n",
              "    .dataframe tbody tr th {\n",
              "        vertical-align: top;\n",
              "    }\n",
              "\n",
              "    .dataframe thead tr th {\n",
              "        text-align: left;\n",
              "    }\n",
              "\n",
              "    .dataframe thead tr:last-of-type th {\n",
              "        text-align: right;\n",
              "    }\n",
              "</style>\n",
              "<table border=\"1\" class=\"dataframe\">\n",
              "  <thead>\n",
              "    <tr>\n",
              "      <th></th>\n",
              "      <th>state</th>\n",
              "      <th colspan=\"2\" halign=\"left\">Ohio</th>\n",
              "      <th>Colorado</th>\n",
              "    </tr>\n",
              "    <tr>\n",
              "      <th></th>\n",
              "      <th>color</th>\n",
              "      <th>Green</th>\n",
              "      <th>Red</th>\n",
              "      <th>Green</th>\n",
              "    </tr>\n",
              "    <tr>\n",
              "      <th>Key1</th>\n",
              "      <th>Key2</th>\n",
              "      <th></th>\n",
              "      <th></th>\n",
              "      <th></th>\n",
              "    </tr>\n",
              "  </thead>\n",
              "  <tbody>\n",
              "    <tr>\n",
              "      <th rowspan=\"2\" valign=\"top\">a</th>\n",
              "      <th>1</th>\n",
              "      <td>0</td>\n",
              "      <td>1</td>\n",
              "      <td>2</td>\n",
              "    </tr>\n",
              "    <tr>\n",
              "      <th>2</th>\n",
              "      <td>3</td>\n",
              "      <td>4</td>\n",
              "      <td>5</td>\n",
              "    </tr>\n",
              "    <tr>\n",
              "      <th rowspan=\"2\" valign=\"top\">b</th>\n",
              "      <th>1</th>\n",
              "      <td>6</td>\n",
              "      <td>7</td>\n",
              "      <td>8</td>\n",
              "    </tr>\n",
              "    <tr>\n",
              "      <th>2</th>\n",
              "      <td>9</td>\n",
              "      <td>10</td>\n",
              "      <td>11</td>\n",
              "    </tr>\n",
              "  </tbody>\n",
              "</table>\n",
              "</div>"
            ],
            "text/plain": [
              "state      Ohio     Colorado\n",
              "color     Green Red    Green\n",
              "Key1 Key2                   \n",
              "a    1        0   1        2\n",
              "     2        3   4        5\n",
              "b    1        6   7        8\n",
              "     2        9  10       11"
            ]
          },
          "execution_count": 137,
          "metadata": {},
          "output_type": "execute_result"
        }
      ],
      "source": [
        "frame"
      ]
    },
    {
      "cell_type": "code",
      "execution_count": null,
      "id": "cd59f4ba",
      "metadata": {
        "id": "cd59f4ba",
        "outputId": "7dccaf52-a677-4b6c-d528-adbcdbc4ef17"
      },
      "outputs": [
        {
          "data": {
            "text/html": [
              "<div>\n",
              "<style scoped>\n",
              "    .dataframe tbody tr th:only-of-type {\n",
              "        vertical-align: middle;\n",
              "    }\n",
              "\n",
              "    .dataframe tbody tr th {\n",
              "        vertical-align: top;\n",
              "    }\n",
              "\n",
              "    .dataframe thead th {\n",
              "        text-align: right;\n",
              "    }\n",
              "</style>\n",
              "<table border=\"1\" class=\"dataframe\">\n",
              "  <thead>\n",
              "    <tr style=\"text-align: right;\">\n",
              "      <th></th>\n",
              "      <th>color</th>\n",
              "      <th>Green</th>\n",
              "      <th>Red</th>\n",
              "    </tr>\n",
              "    <tr>\n",
              "      <th>Key1</th>\n",
              "      <th>Key2</th>\n",
              "      <th></th>\n",
              "      <th></th>\n",
              "    </tr>\n",
              "  </thead>\n",
              "  <tbody>\n",
              "    <tr>\n",
              "      <th rowspan=\"2\" valign=\"top\">a</th>\n",
              "      <th>1</th>\n",
              "      <td>0</td>\n",
              "      <td>1</td>\n",
              "    </tr>\n",
              "    <tr>\n",
              "      <th>2</th>\n",
              "      <td>3</td>\n",
              "      <td>4</td>\n",
              "    </tr>\n",
              "    <tr>\n",
              "      <th rowspan=\"2\" valign=\"top\">b</th>\n",
              "      <th>1</th>\n",
              "      <td>6</td>\n",
              "      <td>7</td>\n",
              "    </tr>\n",
              "    <tr>\n",
              "      <th>2</th>\n",
              "      <td>9</td>\n",
              "      <td>10</td>\n",
              "    </tr>\n",
              "  </tbody>\n",
              "</table>\n",
              "</div>"
            ],
            "text/plain": [
              "color      Green  Red\n",
              "Key1 Key2            \n",
              "a    1         0    1\n",
              "     2         3    4\n",
              "b    1         6    7\n",
              "     2         9   10"
            ]
          },
          "execution_count": 31,
          "metadata": {},
          "output_type": "execute_result"
        }
      ],
      "source": [
        "# With partial column indexing you can similarly select groups of columns:\n",
        "\n",
        "frame['Ohio']"
      ]
    },
    {
      "cell_type": "code",
      "execution_count": null,
      "id": "493a8635",
      "metadata": {
        "id": "493a8635"
      },
      "outputs": [],
      "source": [
        "'''A MultiIndex can be created by itself and then reused; the columns in the preceding\n",
        "DataFrame with level names could be created like this:'''\n",
        "\n",
        "from pandas import MultiIndex\n",
        "\n",
        "MIndex = MultiIndex.from_arrays([['Ohio', 'Ohio', 'Colorado'], ['Green', 'Red', 'Green']],names=['state', 'color'])"
      ]
    },
    {
      "cell_type": "code",
      "execution_count": null,
      "id": "182e9095",
      "metadata": {
        "id": "182e9095"
      },
      "outputs": [],
      "source": [
        "frame = pd.DataFrame(np.arange(12).reshape((4, 3)), index=[['a', 'a', 'b', 'b'], [1, 2, 1, 2]],\n",
        "        columns = MIndex)"
      ]
    },
    {
      "cell_type": "code",
      "execution_count": null,
      "id": "e3ad728b",
      "metadata": {
        "id": "e3ad728b",
        "outputId": "b86f980f-cfc5-4a3d-b702-04c96e0fa290"
      },
      "outputs": [
        {
          "data": {
            "text/html": [
              "<div>\n",
              "<style scoped>\n",
              "    .dataframe tbody tr th:only-of-type {\n",
              "        vertical-align: middle;\n",
              "    }\n",
              "\n",
              "    .dataframe tbody tr th {\n",
              "        vertical-align: top;\n",
              "    }\n",
              "\n",
              "    .dataframe thead tr th {\n",
              "        text-align: left;\n",
              "    }\n",
              "</style>\n",
              "<table border=\"1\" class=\"dataframe\">\n",
              "  <thead>\n",
              "    <tr>\n",
              "      <th></th>\n",
              "      <th>state</th>\n",
              "      <th colspan=\"2\" halign=\"left\">Ohio</th>\n",
              "      <th>Colorado</th>\n",
              "    </tr>\n",
              "    <tr>\n",
              "      <th></th>\n",
              "      <th>color</th>\n",
              "      <th>Green</th>\n",
              "      <th>Red</th>\n",
              "      <th>Green</th>\n",
              "    </tr>\n",
              "  </thead>\n",
              "  <tbody>\n",
              "    <tr>\n",
              "      <th rowspan=\"2\" valign=\"top\">a</th>\n",
              "      <th>1</th>\n",
              "      <td>0</td>\n",
              "      <td>1</td>\n",
              "      <td>2</td>\n",
              "    </tr>\n",
              "    <tr>\n",
              "      <th>2</th>\n",
              "      <td>3</td>\n",
              "      <td>4</td>\n",
              "      <td>5</td>\n",
              "    </tr>\n",
              "    <tr>\n",
              "      <th rowspan=\"2\" valign=\"top\">b</th>\n",
              "      <th>1</th>\n",
              "      <td>6</td>\n",
              "      <td>7</td>\n",
              "      <td>8</td>\n",
              "    </tr>\n",
              "    <tr>\n",
              "      <th>2</th>\n",
              "      <td>9</td>\n",
              "      <td>10</td>\n",
              "      <td>11</td>\n",
              "    </tr>\n",
              "  </tbody>\n",
              "</table>\n",
              "</div>"
            ],
            "text/plain": [
              "state  Ohio     Colorado\n",
              "color Green Red    Green\n",
              "a 1       0   1        2\n",
              "  2       3   4        5\n",
              "b 1       6   7        8\n",
              "  2       9  10       11"
            ]
          },
          "execution_count": 39,
          "metadata": {},
          "output_type": "execute_result"
        }
      ],
      "source": [
        "frame"
      ]
    },
    {
      "cell_type": "markdown",
      "id": "f4526fdf",
      "metadata": {
        "id": "f4526fdf"
      },
      "source": [
        "## Reordering and Sorting Levels"
      ]
    },
    {
      "cell_type": "markdown",
      "id": "ed202bc6",
      "metadata": {
        "id": "ed202bc6"
      },
      "source": [
        "At times you will need to rearrange the order of the levels on an axis or sort the data\n",
        "by the values in one specific level. The swaplevel takes two level numbers or names\n",
        "and returns a new object with the levels interchanged (but the data is otherwise\n",
        "unaltered):"
      ]
    },
    {
      "cell_type": "code",
      "execution_count": null,
      "id": "fe1a7147",
      "metadata": {
        "id": "fe1a7147",
        "outputId": "5c291d64-6732-4c43-e2b9-1ef1bbf3a538"
      },
      "outputs": [
        {
          "data": {
            "text/html": [
              "<div>\n",
              "<style scoped>\n",
              "    .dataframe tbody tr th:only-of-type {\n",
              "        vertical-align: middle;\n",
              "    }\n",
              "\n",
              "    .dataframe tbody tr th {\n",
              "        vertical-align: top;\n",
              "    }\n",
              "\n",
              "    .dataframe thead tr th {\n",
              "        text-align: left;\n",
              "    }\n",
              "\n",
              "    .dataframe thead tr:last-of-type th {\n",
              "        text-align: right;\n",
              "    }\n",
              "</style>\n",
              "<table border=\"1\" class=\"dataframe\">\n",
              "  <thead>\n",
              "    <tr>\n",
              "      <th></th>\n",
              "      <th></th>\n",
              "      <th colspan=\"2\" halign=\"left\">Ohio</th>\n",
              "      <th>Colorado</th>\n",
              "    </tr>\n",
              "    <tr>\n",
              "      <th></th>\n",
              "      <th></th>\n",
              "      <th>Green</th>\n",
              "      <th>Red</th>\n",
              "      <th>Green</th>\n",
              "    </tr>\n",
              "    <tr>\n",
              "      <th>Key2</th>\n",
              "      <th>Key1</th>\n",
              "      <th></th>\n",
              "      <th></th>\n",
              "      <th></th>\n",
              "    </tr>\n",
              "  </thead>\n",
              "  <tbody>\n",
              "    <tr>\n",
              "      <th>1</th>\n",
              "      <th>a</th>\n",
              "      <td>0</td>\n",
              "      <td>1</td>\n",
              "      <td>2</td>\n",
              "    </tr>\n",
              "    <tr>\n",
              "      <th>2</th>\n",
              "      <th>a</th>\n",
              "      <td>3</td>\n",
              "      <td>4</td>\n",
              "      <td>5</td>\n",
              "    </tr>\n",
              "    <tr>\n",
              "      <th>1</th>\n",
              "      <th>b</th>\n",
              "      <td>6</td>\n",
              "      <td>7</td>\n",
              "      <td>8</td>\n",
              "    </tr>\n",
              "    <tr>\n",
              "      <th>2</th>\n",
              "      <th>b</th>\n",
              "      <td>9</td>\n",
              "      <td>10</td>\n",
              "      <td>11</td>\n",
              "    </tr>\n",
              "  </tbody>\n",
              "</table>\n",
              "</div>"
            ],
            "text/plain": [
              "           Ohio     Colorado\n",
              "          Green Red    Green\n",
              "Key2 Key1                   \n",
              "1    a        0   1        2\n",
              "2    a        3   4        5\n",
              "1    b        6   7        8\n",
              "2    b        9  10       11"
            ]
          },
          "execution_count": 47,
          "metadata": {},
          "output_type": "execute_result"
        }
      ],
      "source": [
        "frame.swaplevel('Key1','Key2')"
      ]
    },
    {
      "cell_type": "code",
      "execution_count": null,
      "id": "d49a9347",
      "metadata": {
        "id": "d49a9347",
        "outputId": "62642ec8-f0c0-4911-ff96-697072a943d4"
      },
      "outputs": [
        {
          "data": {
            "text/html": [
              "<div>\n",
              "<style scoped>\n",
              "    .dataframe tbody tr th:only-of-type {\n",
              "        vertical-align: middle;\n",
              "    }\n",
              "\n",
              "    .dataframe tbody tr th {\n",
              "        vertical-align: top;\n",
              "    }\n",
              "\n",
              "    .dataframe thead tr th {\n",
              "        text-align: left;\n",
              "    }\n",
              "\n",
              "    .dataframe thead tr:last-of-type th {\n",
              "        text-align: right;\n",
              "    }\n",
              "</style>\n",
              "<table border=\"1\" class=\"dataframe\">\n",
              "  <thead>\n",
              "    <tr>\n",
              "      <th></th>\n",
              "      <th></th>\n",
              "      <th colspan=\"2\" halign=\"left\">Ohio</th>\n",
              "      <th>Colorado</th>\n",
              "    </tr>\n",
              "    <tr>\n",
              "      <th></th>\n",
              "      <th></th>\n",
              "      <th>Green</th>\n",
              "      <th>Red</th>\n",
              "      <th>Green</th>\n",
              "    </tr>\n",
              "    <tr>\n",
              "      <th>Key1</th>\n",
              "      <th>Key2</th>\n",
              "      <th></th>\n",
              "      <th></th>\n",
              "      <th></th>\n",
              "    </tr>\n",
              "  </thead>\n",
              "  <tbody>\n",
              "    <tr>\n",
              "      <th>a</th>\n",
              "      <th>1</th>\n",
              "      <td>0</td>\n",
              "      <td>1</td>\n",
              "      <td>2</td>\n",
              "    </tr>\n",
              "    <tr>\n",
              "      <th>b</th>\n",
              "      <th>1</th>\n",
              "      <td>6</td>\n",
              "      <td>7</td>\n",
              "      <td>8</td>\n",
              "    </tr>\n",
              "    <tr>\n",
              "      <th>a</th>\n",
              "      <th>2</th>\n",
              "      <td>3</td>\n",
              "      <td>4</td>\n",
              "      <td>5</td>\n",
              "    </tr>\n",
              "    <tr>\n",
              "      <th>b</th>\n",
              "      <th>2</th>\n",
              "      <td>9</td>\n",
              "      <td>10</td>\n",
              "      <td>11</td>\n",
              "    </tr>\n",
              "  </tbody>\n",
              "</table>\n",
              "</div>"
            ],
            "text/plain": [
              "           Ohio     Colorado\n",
              "          Green Red    Green\n",
              "Key1 Key2                   \n",
              "a    1        0   1        2\n",
              "b    1        6   7        8\n",
              "a    2        3   4        5\n",
              "b    2        9  10       11"
            ]
          },
          "execution_count": 52,
          "metadata": {},
          "output_type": "execute_result"
        }
      ],
      "source": [
        "frame.sort_index(level=1)"
      ]
    },
    {
      "cell_type": "code",
      "execution_count": null,
      "id": "57deea1f",
      "metadata": {
        "id": "57deea1f",
        "outputId": "2c26935b-2593-4208-e6ff-39e80edfe4c3"
      },
      "outputs": [
        {
          "data": {
            "text/html": [
              "<div>\n",
              "<style scoped>\n",
              "    .dataframe tbody tr th:only-of-type {\n",
              "        vertical-align: middle;\n",
              "    }\n",
              "\n",
              "    .dataframe tbody tr th {\n",
              "        vertical-align: top;\n",
              "    }\n",
              "\n",
              "    .dataframe thead tr th {\n",
              "        text-align: left;\n",
              "    }\n",
              "\n",
              "    .dataframe thead tr:last-of-type th {\n",
              "        text-align: right;\n",
              "    }\n",
              "</style>\n",
              "<table border=\"1\" class=\"dataframe\">\n",
              "  <thead>\n",
              "    <tr>\n",
              "      <th></th>\n",
              "      <th></th>\n",
              "      <th colspan=\"2\" halign=\"left\">Ohio</th>\n",
              "      <th>Colorado</th>\n",
              "    </tr>\n",
              "    <tr>\n",
              "      <th></th>\n",
              "      <th></th>\n",
              "      <th>Green</th>\n",
              "      <th>Red</th>\n",
              "      <th>Green</th>\n",
              "    </tr>\n",
              "    <tr>\n",
              "      <th>Key2</th>\n",
              "      <th>Key1</th>\n",
              "      <th></th>\n",
              "      <th></th>\n",
              "      <th></th>\n",
              "    </tr>\n",
              "  </thead>\n",
              "  <tbody>\n",
              "    <tr>\n",
              "      <th rowspan=\"2\" valign=\"top\">1</th>\n",
              "      <th>a</th>\n",
              "      <td>0</td>\n",
              "      <td>1</td>\n",
              "      <td>2</td>\n",
              "    </tr>\n",
              "    <tr>\n",
              "      <th>b</th>\n",
              "      <td>6</td>\n",
              "      <td>7</td>\n",
              "      <td>8</td>\n",
              "    </tr>\n",
              "    <tr>\n",
              "      <th rowspan=\"2\" valign=\"top\">2</th>\n",
              "      <th>a</th>\n",
              "      <td>3</td>\n",
              "      <td>4</td>\n",
              "      <td>5</td>\n",
              "    </tr>\n",
              "    <tr>\n",
              "      <th>b</th>\n",
              "      <td>9</td>\n",
              "      <td>10</td>\n",
              "      <td>11</td>\n",
              "    </tr>\n",
              "  </tbody>\n",
              "</table>\n",
              "</div>"
            ],
            "text/plain": [
              "           Ohio     Colorado\n",
              "          Green Red    Green\n",
              "Key2 Key1                   \n",
              "1    a        0   1        2\n",
              "     b        6   7        8\n",
              "2    a        3   4        5\n",
              "     b        9  10       11"
            ]
          },
          "execution_count": 53,
          "metadata": {},
          "output_type": "execute_result"
        }
      ],
      "source": [
        "frame.swaplevel('Key1','Key2').sort_index(level=0)"
      ]
    },
    {
      "cell_type": "code",
      "execution_count": null,
      "id": "289684b9",
      "metadata": {
        "id": "289684b9",
        "outputId": "e31fa45a-e2b8-4ab6-a079-0a2d4748ff40"
      },
      "outputs": [
        {
          "data": {
            "text/html": [
              "<div>\n",
              "<style scoped>\n",
              "    .dataframe tbody tr th:only-of-type {\n",
              "        vertical-align: middle;\n",
              "    }\n",
              "\n",
              "    .dataframe tbody tr th {\n",
              "        vertical-align: top;\n",
              "    }\n",
              "\n",
              "    .dataframe thead tr th {\n",
              "        text-align: left;\n",
              "    }\n",
              "\n",
              "    .dataframe thead tr:last-of-type th {\n",
              "        text-align: right;\n",
              "    }\n",
              "</style>\n",
              "<table border=\"1\" class=\"dataframe\">\n",
              "  <thead>\n",
              "    <tr>\n",
              "      <th></th>\n",
              "      <th>state</th>\n",
              "      <th colspan=\"2\" halign=\"left\">Ohio</th>\n",
              "      <th>Colorado</th>\n",
              "    </tr>\n",
              "    <tr>\n",
              "      <th></th>\n",
              "      <th>color</th>\n",
              "      <th>Green</th>\n",
              "      <th>Red</th>\n",
              "      <th>Green</th>\n",
              "    </tr>\n",
              "    <tr>\n",
              "      <th>Key2</th>\n",
              "      <th>Key1</th>\n",
              "      <th></th>\n",
              "      <th></th>\n",
              "      <th></th>\n",
              "    </tr>\n",
              "  </thead>\n",
              "  <tbody>\n",
              "    <tr>\n",
              "      <th rowspan=\"2\" valign=\"top\">1</th>\n",
              "      <th>a</th>\n",
              "      <td>0</td>\n",
              "      <td>1</td>\n",
              "      <td>2</td>\n",
              "    </tr>\n",
              "    <tr>\n",
              "      <th>b</th>\n",
              "      <td>6</td>\n",
              "      <td>7</td>\n",
              "      <td>8</td>\n",
              "    </tr>\n",
              "    <tr>\n",
              "      <th rowspan=\"2\" valign=\"top\">2</th>\n",
              "      <th>a</th>\n",
              "      <td>3</td>\n",
              "      <td>4</td>\n",
              "      <td>5</td>\n",
              "    </tr>\n",
              "    <tr>\n",
              "      <th>b</th>\n",
              "      <td>9</td>\n",
              "      <td>10</td>\n",
              "      <td>11</td>\n",
              "    </tr>\n",
              "  </tbody>\n",
              "</table>\n",
              "</div>"
            ],
            "text/plain": [
              "state      Ohio     Colorado\n",
              "color     Green Red    Green\n",
              "Key2 Key1                   \n",
              "1    a        0   1        2\n",
              "     b        6   7        8\n",
              "2    a        3   4        5\n",
              "     b        9  10       11"
            ]
          },
          "execution_count": 139,
          "metadata": {},
          "output_type": "execute_result"
        }
      ],
      "source": [
        "frame.swaplevel(1, 0).sort_index(level=0)"
      ]
    },
    {
      "cell_type": "markdown",
      "id": "cb32e157",
      "metadata": {
        "id": "cb32e157"
      },
      "source": [
        "## Summary Statistics by Level"
      ]
    },
    {
      "cell_type": "markdown",
      "id": "aaf80123",
      "metadata": {
        "id": "aaf80123"
      },
      "source": [
        "Many descriptive and summary statistics on DataFrame and Series have a level\n",
        "option in which you can specify the level you want to aggregate by on a particular\n",
        "axis. Consider the above DataFrame; we can aggregate by level on either the rows or\n",
        "columns like so:\n"
      ]
    },
    {
      "cell_type": "code",
      "execution_count": null,
      "id": "e2c7f3dc",
      "metadata": {
        "id": "e2c7f3dc",
        "outputId": "2a2fd91b-9501-448a-f39c-663fbfabbd56"
      },
      "outputs": [
        {
          "data": {
            "text/html": [
              "<div>\n",
              "<style scoped>\n",
              "    .dataframe tbody tr th:only-of-type {\n",
              "        vertical-align: middle;\n",
              "    }\n",
              "\n",
              "    .dataframe tbody tr th {\n",
              "        vertical-align: top;\n",
              "    }\n",
              "\n",
              "    .dataframe thead tr th {\n",
              "        text-align: left;\n",
              "    }\n",
              "\n",
              "    .dataframe thead tr:last-of-type th {\n",
              "        text-align: right;\n",
              "    }\n",
              "</style>\n",
              "<table border=\"1\" class=\"dataframe\">\n",
              "  <thead>\n",
              "    <tr>\n",
              "      <th></th>\n",
              "      <th colspan=\"2\" halign=\"left\">Ohio</th>\n",
              "      <th>Colorado</th>\n",
              "    </tr>\n",
              "    <tr>\n",
              "      <th></th>\n",
              "      <th>Green</th>\n",
              "      <th>Red</th>\n",
              "      <th>Green</th>\n",
              "    </tr>\n",
              "    <tr>\n",
              "      <th>Key1</th>\n",
              "      <th></th>\n",
              "      <th></th>\n",
              "      <th></th>\n",
              "    </tr>\n",
              "  </thead>\n",
              "  <tbody>\n",
              "    <tr>\n",
              "      <th>a</th>\n",
              "      <td>3</td>\n",
              "      <td>5</td>\n",
              "      <td>7</td>\n",
              "    </tr>\n",
              "    <tr>\n",
              "      <th>b</th>\n",
              "      <td>15</td>\n",
              "      <td>17</td>\n",
              "      <td>19</td>\n",
              "    </tr>\n",
              "  </tbody>\n",
              "</table>\n",
              "</div>"
            ],
            "text/plain": [
              "      Ohio     Colorado\n",
              "     Green Red    Green\n",
              "Key1                   \n",
              "a        3   5        7\n",
              "b       15  17       19"
            ]
          },
          "execution_count": 58,
          "metadata": {},
          "output_type": "execute_result"
        }
      ],
      "source": [
        "frame.sum(level='Key1')"
      ]
    },
    {
      "cell_type": "code",
      "execution_count": null,
      "id": "93f44c16",
      "metadata": {
        "id": "93f44c16",
        "outputId": "01a27c0d-f980-4438-91f8-6ac929fc5baa"
      },
      "outputs": [
        {
          "data": {
            "text/html": [
              "<div>\n",
              "<style scoped>\n",
              "    .dataframe tbody tr th:only-of-type {\n",
              "        vertical-align: middle;\n",
              "    }\n",
              "\n",
              "    .dataframe tbody tr th {\n",
              "        vertical-align: top;\n",
              "    }\n",
              "\n",
              "    .dataframe thead tr th {\n",
              "        text-align: left;\n",
              "    }\n",
              "\n",
              "    .dataframe thead tr:last-of-type th {\n",
              "        text-align: right;\n",
              "    }\n",
              "</style>\n",
              "<table border=\"1\" class=\"dataframe\">\n",
              "  <thead>\n",
              "    <tr>\n",
              "      <th></th>\n",
              "      <th></th>\n",
              "      <th colspan=\"2\" halign=\"left\">Ohio</th>\n",
              "      <th>Colorado</th>\n",
              "    </tr>\n",
              "    <tr>\n",
              "      <th></th>\n",
              "      <th></th>\n",
              "      <th>Green</th>\n",
              "      <th>Red</th>\n",
              "      <th>Green</th>\n",
              "    </tr>\n",
              "    <tr>\n",
              "      <th>Key1</th>\n",
              "      <th>Key2</th>\n",
              "      <th></th>\n",
              "      <th></th>\n",
              "      <th></th>\n",
              "    </tr>\n",
              "  </thead>\n",
              "  <tbody>\n",
              "    <tr>\n",
              "      <th rowspan=\"2\" valign=\"top\">a</th>\n",
              "      <th>1</th>\n",
              "      <td>0</td>\n",
              "      <td>1</td>\n",
              "      <td>2</td>\n",
              "    </tr>\n",
              "    <tr>\n",
              "      <th>2</th>\n",
              "      <td>3</td>\n",
              "      <td>4</td>\n",
              "      <td>5</td>\n",
              "    </tr>\n",
              "    <tr>\n",
              "      <th rowspan=\"2\" valign=\"top\">b</th>\n",
              "      <th>1</th>\n",
              "      <td>6</td>\n",
              "      <td>7</td>\n",
              "      <td>8</td>\n",
              "    </tr>\n",
              "    <tr>\n",
              "      <th>2</th>\n",
              "      <td>9</td>\n",
              "      <td>10</td>\n",
              "      <td>11</td>\n",
              "    </tr>\n",
              "  </tbody>\n",
              "</table>\n",
              "</div>"
            ],
            "text/plain": [
              "           Ohio     Colorado\n",
              "          Green Red    Green\n",
              "Key1 Key2                   \n",
              "a    1        0   1        2\n",
              "     2        3   4        5\n",
              "b    1        6   7        8\n",
              "     2        9  10       11"
            ]
          },
          "execution_count": 62,
          "metadata": {},
          "output_type": "execute_result"
        }
      ],
      "source": [
        "frame"
      ]
    },
    {
      "cell_type": "code",
      "execution_count": null,
      "id": "e4b5d46a",
      "metadata": {
        "id": "e4b5d46a"
      },
      "outputs": [],
      "source": [
        "frame.columns.names = ['state','color']"
      ]
    },
    {
      "cell_type": "code",
      "execution_count": null,
      "id": "7516fabc",
      "metadata": {
        "id": "7516fabc",
        "outputId": "dc095934-f233-4afe-972b-1f99dba5aad2"
      },
      "outputs": [
        {
          "data": {
            "text/html": [
              "<div>\n",
              "<style scoped>\n",
              "    .dataframe tbody tr th:only-of-type {\n",
              "        vertical-align: middle;\n",
              "    }\n",
              "\n",
              "    .dataframe tbody tr th {\n",
              "        vertical-align: top;\n",
              "    }\n",
              "\n",
              "    .dataframe thead tr th {\n",
              "        text-align: left;\n",
              "    }\n",
              "\n",
              "    .dataframe thead tr:last-of-type th {\n",
              "        text-align: right;\n",
              "    }\n",
              "</style>\n",
              "<table border=\"1\" class=\"dataframe\">\n",
              "  <thead>\n",
              "    <tr>\n",
              "      <th></th>\n",
              "      <th>state</th>\n",
              "      <th colspan=\"2\" halign=\"left\">Ohio</th>\n",
              "      <th>Colorado</th>\n",
              "    </tr>\n",
              "    <tr>\n",
              "      <th></th>\n",
              "      <th>color</th>\n",
              "      <th>Green</th>\n",
              "      <th>Red</th>\n",
              "      <th>Green</th>\n",
              "    </tr>\n",
              "    <tr>\n",
              "      <th>Key1</th>\n",
              "      <th>Key2</th>\n",
              "      <th></th>\n",
              "      <th></th>\n",
              "      <th></th>\n",
              "    </tr>\n",
              "  </thead>\n",
              "  <tbody>\n",
              "    <tr>\n",
              "      <th rowspan=\"2\" valign=\"top\">a</th>\n",
              "      <th>1</th>\n",
              "      <td>0</td>\n",
              "      <td>1</td>\n",
              "      <td>2</td>\n",
              "    </tr>\n",
              "    <tr>\n",
              "      <th>2</th>\n",
              "      <td>3</td>\n",
              "      <td>4</td>\n",
              "      <td>5</td>\n",
              "    </tr>\n",
              "    <tr>\n",
              "      <th rowspan=\"2\" valign=\"top\">b</th>\n",
              "      <th>1</th>\n",
              "      <td>6</td>\n",
              "      <td>7</td>\n",
              "      <td>8</td>\n",
              "    </tr>\n",
              "    <tr>\n",
              "      <th>2</th>\n",
              "      <td>9</td>\n",
              "      <td>10</td>\n",
              "      <td>11</td>\n",
              "    </tr>\n",
              "  </tbody>\n",
              "</table>\n",
              "</div>"
            ],
            "text/plain": [
              "state      Ohio     Colorado\n",
              "color     Green Red    Green\n",
              "Key1 Key2                   \n",
              "a    1        0   1        2\n",
              "     2        3   4        5\n",
              "b    1        6   7        8\n",
              "     2        9  10       11"
            ]
          },
          "execution_count": 65,
          "metadata": {},
          "output_type": "execute_result"
        }
      ],
      "source": [
        "frame"
      ]
    },
    {
      "cell_type": "code",
      "execution_count": null,
      "id": "64d2325d",
      "metadata": {
        "id": "64d2325d",
        "outputId": "e8cd6326-67da-47b6-eb8f-17c38d633685"
      },
      "outputs": [
        {
          "data": {
            "text/html": [
              "<div>\n",
              "<style scoped>\n",
              "    .dataframe tbody tr th:only-of-type {\n",
              "        vertical-align: middle;\n",
              "    }\n",
              "\n",
              "    .dataframe tbody tr th {\n",
              "        vertical-align: top;\n",
              "    }\n",
              "\n",
              "    .dataframe thead tr th {\n",
              "        text-align: left;\n",
              "    }\n",
              "\n",
              "    .dataframe thead tr:last-of-type th {\n",
              "        text-align: right;\n",
              "    }\n",
              "</style>\n",
              "<table border=\"1\" class=\"dataframe\">\n",
              "  <thead>\n",
              "    <tr>\n",
              "      <th></th>\n",
              "      <th>state</th>\n",
              "      <th colspan=\"2\" halign=\"left\">Ohio</th>\n",
              "      <th>Colorado</th>\n",
              "    </tr>\n",
              "    <tr>\n",
              "      <th></th>\n",
              "      <th>color</th>\n",
              "      <th>Green</th>\n",
              "      <th>Red</th>\n",
              "      <th>Green</th>\n",
              "    </tr>\n",
              "    <tr>\n",
              "      <th>Key2</th>\n",
              "      <th>Key1</th>\n",
              "      <th></th>\n",
              "      <th></th>\n",
              "      <th></th>\n",
              "    </tr>\n",
              "  </thead>\n",
              "  <tbody>\n",
              "    <tr>\n",
              "      <th>1</th>\n",
              "      <th>a</th>\n",
              "      <td>0</td>\n",
              "      <td>1</td>\n",
              "      <td>2</td>\n",
              "    </tr>\n",
              "    <tr>\n",
              "      <th>2</th>\n",
              "      <th>a</th>\n",
              "      <td>3</td>\n",
              "      <td>4</td>\n",
              "      <td>5</td>\n",
              "    </tr>\n",
              "    <tr>\n",
              "      <th>1</th>\n",
              "      <th>b</th>\n",
              "      <td>6</td>\n",
              "      <td>7</td>\n",
              "      <td>8</td>\n",
              "    </tr>\n",
              "    <tr>\n",
              "      <th>2</th>\n",
              "      <th>b</th>\n",
              "      <td>9</td>\n",
              "      <td>10</td>\n",
              "      <td>11</td>\n",
              "    </tr>\n",
              "  </tbody>\n",
              "</table>\n",
              "</div>"
            ],
            "text/plain": [
              "state      Ohio     Colorado\n",
              "color     Green Red    Green\n",
              "Key2 Key1                   \n",
              "1    a        0   1        2\n",
              "2    a        3   4        5\n",
              "1    b        6   7        8\n",
              "2    b        9  10       11"
            ]
          },
          "execution_count": 74,
          "metadata": {},
          "output_type": "execute_result"
        }
      ],
      "source": [
        "frame.swaplevel('Key1','Key2')"
      ]
    },
    {
      "cell_type": "code",
      "execution_count": null,
      "id": "4c2955f5",
      "metadata": {
        "id": "4c2955f5",
        "outputId": "efeea4d7-6821-4f39-dc6e-b99c8a908518"
      },
      "outputs": [
        {
          "data": {
            "text/html": [
              "<div>\n",
              "<style scoped>\n",
              "    .dataframe tbody tr th:only-of-type {\n",
              "        vertical-align: middle;\n",
              "    }\n",
              "\n",
              "    .dataframe tbody tr th {\n",
              "        vertical-align: top;\n",
              "    }\n",
              "\n",
              "    .dataframe thead tr th {\n",
              "        text-align: left;\n",
              "    }\n",
              "\n",
              "    .dataframe thead tr:last-of-type th {\n",
              "        text-align: right;\n",
              "    }\n",
              "</style>\n",
              "<table border=\"1\" class=\"dataframe\">\n",
              "  <thead>\n",
              "    <tr>\n",
              "      <th>state</th>\n",
              "      <th colspan=\"2\" halign=\"left\">Ohio</th>\n",
              "      <th>Colorado</th>\n",
              "    </tr>\n",
              "    <tr>\n",
              "      <th>color</th>\n",
              "      <th>Green</th>\n",
              "      <th>Red</th>\n",
              "      <th>Green</th>\n",
              "    </tr>\n",
              "    <tr>\n",
              "      <th>Key1</th>\n",
              "      <th></th>\n",
              "      <th></th>\n",
              "      <th></th>\n",
              "    </tr>\n",
              "  </thead>\n",
              "  <tbody>\n",
              "    <tr>\n",
              "      <th>a</th>\n",
              "      <td>3</td>\n",
              "      <td>5</td>\n",
              "      <td>7</td>\n",
              "    </tr>\n",
              "    <tr>\n",
              "      <th>b</th>\n",
              "      <td>15</td>\n",
              "      <td>17</td>\n",
              "      <td>19</td>\n",
              "    </tr>\n",
              "  </tbody>\n",
              "</table>\n",
              "</div>"
            ],
            "text/plain": [
              "state  Ohio     Colorado\n",
              "color Green Red    Green\n",
              "Key1                    \n",
              "a         3   5        7\n",
              "b        15  17       19"
            ]
          },
          "execution_count": 73,
          "metadata": {},
          "output_type": "execute_result"
        }
      ],
      "source": [
        "frame.sum(level=\"Key1\",axis=0)"
      ]
    },
    {
      "cell_type": "code",
      "execution_count": null,
      "id": "4c2cf4c1",
      "metadata": {
        "id": "4c2cf4c1",
        "outputId": "650fd820-92bb-4417-9829-4bff887b5bb0"
      },
      "outputs": [
        {
          "data": {
            "text/html": [
              "<div>\n",
              "<style scoped>\n",
              "    .dataframe tbody tr th:only-of-type {\n",
              "        vertical-align: middle;\n",
              "    }\n",
              "\n",
              "    .dataframe tbody tr th {\n",
              "        vertical-align: top;\n",
              "    }\n",
              "\n",
              "    .dataframe thead tr th {\n",
              "        text-align: left;\n",
              "    }\n",
              "\n",
              "    .dataframe thead tr:last-of-type th {\n",
              "        text-align: right;\n",
              "    }\n",
              "</style>\n",
              "<table border=\"1\" class=\"dataframe\">\n",
              "  <thead>\n",
              "    <tr>\n",
              "      <th>state</th>\n",
              "      <th colspan=\"2\" halign=\"left\">Ohio</th>\n",
              "      <th>Colorado</th>\n",
              "    </tr>\n",
              "    <tr>\n",
              "      <th>color</th>\n",
              "      <th>Green</th>\n",
              "      <th>Red</th>\n",
              "      <th>Green</th>\n",
              "    </tr>\n",
              "    <tr>\n",
              "      <th>Key2</th>\n",
              "      <th></th>\n",
              "      <th></th>\n",
              "      <th></th>\n",
              "    </tr>\n",
              "  </thead>\n",
              "  <tbody>\n",
              "    <tr>\n",
              "      <th>1</th>\n",
              "      <td>6</td>\n",
              "      <td>8</td>\n",
              "      <td>10</td>\n",
              "    </tr>\n",
              "    <tr>\n",
              "      <th>2</th>\n",
              "      <td>12</td>\n",
              "      <td>14</td>\n",
              "      <td>16</td>\n",
              "    </tr>\n",
              "  </tbody>\n",
              "</table>\n",
              "</div>"
            ],
            "text/plain": [
              "state  Ohio     Colorado\n",
              "color Green Red    Green\n",
              "Key2                    \n",
              "1         6   8       10\n",
              "2        12  14       16"
            ]
          },
          "execution_count": 75,
          "metadata": {},
          "output_type": "execute_result"
        }
      ],
      "source": [
        "frame.sum(level=\"Key2\",axis=0)"
      ]
    },
    {
      "cell_type": "markdown",
      "id": "ce7326ae",
      "metadata": {
        "id": "ce7326ae"
      },
      "source": [
        "## Indexing with a DataFrame’s columns"
      ]
    },
    {
      "cell_type": "code",
      "execution_count": null,
      "id": "438f6d12",
      "metadata": {
        "id": "438f6d12"
      },
      "outputs": [],
      "source": [
        "frame = pd.DataFrame({'a': range(7), 'b': range(7, 0, -1),'c': ['one', 'one', 'one', 'two', 'two','two', 'two'],\n",
        "        'd': [0, 1, 2, 0, 1, 2, 3]})"
      ]
    },
    {
      "cell_type": "code",
      "execution_count": null,
      "id": "cc842a60",
      "metadata": {
        "id": "cc842a60",
        "outputId": "1e0a058d-3fe2-442f-b887-1ab6bdb9f054"
      },
      "outputs": [
        {
          "data": {
            "text/html": [
              "<div>\n",
              "<style scoped>\n",
              "    .dataframe tbody tr th:only-of-type {\n",
              "        vertical-align: middle;\n",
              "    }\n",
              "\n",
              "    .dataframe tbody tr th {\n",
              "        vertical-align: top;\n",
              "    }\n",
              "\n",
              "    .dataframe thead th {\n",
              "        text-align: right;\n",
              "    }\n",
              "</style>\n",
              "<table border=\"1\" class=\"dataframe\">\n",
              "  <thead>\n",
              "    <tr style=\"text-align: right;\">\n",
              "      <th></th>\n",
              "      <th>a</th>\n",
              "      <th>b</th>\n",
              "      <th>c</th>\n",
              "      <th>d</th>\n",
              "    </tr>\n",
              "  </thead>\n",
              "  <tbody>\n",
              "    <tr>\n",
              "      <th>0</th>\n",
              "      <td>0</td>\n",
              "      <td>7</td>\n",
              "      <td>one</td>\n",
              "      <td>0</td>\n",
              "    </tr>\n",
              "    <tr>\n",
              "      <th>1</th>\n",
              "      <td>1</td>\n",
              "      <td>6</td>\n",
              "      <td>one</td>\n",
              "      <td>1</td>\n",
              "    </tr>\n",
              "    <tr>\n",
              "      <th>2</th>\n",
              "      <td>2</td>\n",
              "      <td>5</td>\n",
              "      <td>one</td>\n",
              "      <td>2</td>\n",
              "    </tr>\n",
              "    <tr>\n",
              "      <th>3</th>\n",
              "      <td>3</td>\n",
              "      <td>4</td>\n",
              "      <td>two</td>\n",
              "      <td>0</td>\n",
              "    </tr>\n",
              "    <tr>\n",
              "      <th>4</th>\n",
              "      <td>4</td>\n",
              "      <td>3</td>\n",
              "      <td>two</td>\n",
              "      <td>1</td>\n",
              "    </tr>\n",
              "    <tr>\n",
              "      <th>5</th>\n",
              "      <td>5</td>\n",
              "      <td>2</td>\n",
              "      <td>two</td>\n",
              "      <td>2</td>\n",
              "    </tr>\n",
              "    <tr>\n",
              "      <th>6</th>\n",
              "      <td>6</td>\n",
              "      <td>1</td>\n",
              "      <td>two</td>\n",
              "      <td>3</td>\n",
              "    </tr>\n",
              "  </tbody>\n",
              "</table>\n",
              "</div>"
            ],
            "text/plain": [
              "   a  b    c  d\n",
              "0  0  7  one  0\n",
              "1  1  6  one  1\n",
              "2  2  5  one  2\n",
              "3  3  4  two  0\n",
              "4  4  3  two  1\n",
              "5  5  2  two  2\n",
              "6  6  1  two  3"
            ]
          },
          "execution_count": 77,
          "metadata": {},
          "output_type": "execute_result"
        }
      ],
      "source": [
        "frame"
      ]
    },
    {
      "cell_type": "code",
      "execution_count": null,
      "id": "2f5b7ca2",
      "metadata": {
        "id": "2f5b7ca2"
      },
      "outputs": [],
      "source": [
        "frame2=frame.set_index(['c','d'])"
      ]
    },
    {
      "cell_type": "code",
      "execution_count": null,
      "id": "b184a48c",
      "metadata": {
        "id": "b184a48c",
        "outputId": "c853796d-0e09-4252-de51-05479941da7d"
      },
      "outputs": [
        {
          "data": {
            "text/html": [
              "<div>\n",
              "<style scoped>\n",
              "    .dataframe tbody tr th:only-of-type {\n",
              "        vertical-align: middle;\n",
              "    }\n",
              "\n",
              "    .dataframe tbody tr th {\n",
              "        vertical-align: top;\n",
              "    }\n",
              "\n",
              "    .dataframe thead th {\n",
              "        text-align: right;\n",
              "    }\n",
              "</style>\n",
              "<table border=\"1\" class=\"dataframe\">\n",
              "  <thead>\n",
              "    <tr style=\"text-align: right;\">\n",
              "      <th></th>\n",
              "      <th></th>\n",
              "      <th>a</th>\n",
              "      <th>b</th>\n",
              "    </tr>\n",
              "    <tr>\n",
              "      <th>c</th>\n",
              "      <th>d</th>\n",
              "      <th></th>\n",
              "      <th></th>\n",
              "    </tr>\n",
              "  </thead>\n",
              "  <tbody>\n",
              "    <tr>\n",
              "      <th rowspan=\"3\" valign=\"top\">one</th>\n",
              "      <th>0</th>\n",
              "      <td>0</td>\n",
              "      <td>7</td>\n",
              "    </tr>\n",
              "    <tr>\n",
              "      <th>1</th>\n",
              "      <td>1</td>\n",
              "      <td>6</td>\n",
              "    </tr>\n",
              "    <tr>\n",
              "      <th>2</th>\n",
              "      <td>2</td>\n",
              "      <td>5</td>\n",
              "    </tr>\n",
              "    <tr>\n",
              "      <th rowspan=\"4\" valign=\"top\">two</th>\n",
              "      <th>0</th>\n",
              "      <td>3</td>\n",
              "      <td>4</td>\n",
              "    </tr>\n",
              "    <tr>\n",
              "      <th>1</th>\n",
              "      <td>4</td>\n",
              "      <td>3</td>\n",
              "    </tr>\n",
              "    <tr>\n",
              "      <th>2</th>\n",
              "      <td>5</td>\n",
              "      <td>2</td>\n",
              "    </tr>\n",
              "    <tr>\n",
              "      <th>3</th>\n",
              "      <td>6</td>\n",
              "      <td>1</td>\n",
              "    </tr>\n",
              "  </tbody>\n",
              "</table>\n",
              "</div>"
            ],
            "text/plain": [
              "       a  b\n",
              "c   d      \n",
              "one 0  0  7\n",
              "    1  1  6\n",
              "    2  2  5\n",
              "two 0  3  4\n",
              "    1  4  3\n",
              "    2  5  2\n",
              "    3  6  1"
            ]
          },
          "execution_count": 91,
          "metadata": {},
          "output_type": "execute_result"
        }
      ],
      "source": [
        "frame2"
      ]
    },
    {
      "cell_type": "markdown",
      "id": "4610431a",
      "metadata": {
        "id": "4610431a"
      },
      "source": [
        "By default the columns are removed from the DataFrame, though you can leave them\n",
        "in:"
      ]
    },
    {
      "cell_type": "code",
      "execution_count": null,
      "id": "d9d04fea",
      "metadata": {
        "id": "d9d04fea"
      },
      "outputs": [],
      "source": [
        "frame2=frame.set_index(['c','d'],drop=False)"
      ]
    },
    {
      "cell_type": "code",
      "execution_count": null,
      "id": "a31f8e76",
      "metadata": {
        "id": "a31f8e76",
        "outputId": "934ef286-88e0-41fc-e78c-22902b651c74"
      },
      "outputs": [
        {
          "data": {
            "text/html": [
              "<div>\n",
              "<style scoped>\n",
              "    .dataframe tbody tr th:only-of-type {\n",
              "        vertical-align: middle;\n",
              "    }\n",
              "\n",
              "    .dataframe tbody tr th {\n",
              "        vertical-align: top;\n",
              "    }\n",
              "\n",
              "    .dataframe thead th {\n",
              "        text-align: right;\n",
              "    }\n",
              "</style>\n",
              "<table border=\"1\" class=\"dataframe\">\n",
              "  <thead>\n",
              "    <tr style=\"text-align: right;\">\n",
              "      <th></th>\n",
              "      <th></th>\n",
              "      <th>a</th>\n",
              "      <th>b</th>\n",
              "      <th>c</th>\n",
              "      <th>d</th>\n",
              "    </tr>\n",
              "    <tr>\n",
              "      <th>c</th>\n",
              "      <th>d</th>\n",
              "      <th></th>\n",
              "      <th></th>\n",
              "      <th></th>\n",
              "      <th></th>\n",
              "    </tr>\n",
              "  </thead>\n",
              "  <tbody>\n",
              "    <tr>\n",
              "      <th rowspan=\"3\" valign=\"top\">one</th>\n",
              "      <th>0</th>\n",
              "      <td>0</td>\n",
              "      <td>7</td>\n",
              "      <td>one</td>\n",
              "      <td>0</td>\n",
              "    </tr>\n",
              "    <tr>\n",
              "      <th>1</th>\n",
              "      <td>1</td>\n",
              "      <td>6</td>\n",
              "      <td>one</td>\n",
              "      <td>1</td>\n",
              "    </tr>\n",
              "    <tr>\n",
              "      <th>2</th>\n",
              "      <td>2</td>\n",
              "      <td>5</td>\n",
              "      <td>one</td>\n",
              "      <td>2</td>\n",
              "    </tr>\n",
              "    <tr>\n",
              "      <th rowspan=\"4\" valign=\"top\">two</th>\n",
              "      <th>0</th>\n",
              "      <td>3</td>\n",
              "      <td>4</td>\n",
              "      <td>two</td>\n",
              "      <td>0</td>\n",
              "    </tr>\n",
              "    <tr>\n",
              "      <th>1</th>\n",
              "      <td>4</td>\n",
              "      <td>3</td>\n",
              "      <td>two</td>\n",
              "      <td>1</td>\n",
              "    </tr>\n",
              "    <tr>\n",
              "      <th>2</th>\n",
              "      <td>5</td>\n",
              "      <td>2</td>\n",
              "      <td>two</td>\n",
              "      <td>2</td>\n",
              "    </tr>\n",
              "    <tr>\n",
              "      <th>3</th>\n",
              "      <td>6</td>\n",
              "      <td>1</td>\n",
              "      <td>two</td>\n",
              "      <td>3</td>\n",
              "    </tr>\n",
              "  </tbody>\n",
              "</table>\n",
              "</div>"
            ],
            "text/plain": [
              "       a  b    c  d\n",
              "c   d              \n",
              "one 0  0  7  one  0\n",
              "    1  1  6  one  1\n",
              "    2  2  5  one  2\n",
              "two 0  3  4  two  0\n",
              "    1  4  3  two  1\n",
              "    2  5  2  two  2\n",
              "    3  6  1  two  3"
            ]
          },
          "execution_count": 83,
          "metadata": {},
          "output_type": "execute_result"
        }
      ],
      "source": [
        "frame2"
      ]
    },
    {
      "cell_type": "markdown",
      "id": "2be7f826",
      "metadata": {
        "id": "2be7f826"
      },
      "source": [
        "reset_index, on the other hand, does the opposite of set_index; the hierarchical\n",
        "index levels are moved into the columns:"
      ]
    },
    {
      "cell_type": "code",
      "execution_count": null,
      "id": "a288c151",
      "metadata": {
        "id": "a288c151",
        "outputId": "c827df3b-4115-4cea-c627-898e23467677"
      },
      "outputs": [
        {
          "data": {
            "text/html": [
              "<div>\n",
              "<style scoped>\n",
              "    .dataframe tbody tr th:only-of-type {\n",
              "        vertical-align: middle;\n",
              "    }\n",
              "\n",
              "    .dataframe tbody tr th {\n",
              "        vertical-align: top;\n",
              "    }\n",
              "\n",
              "    .dataframe thead th {\n",
              "        text-align: right;\n",
              "    }\n",
              "</style>\n",
              "<table border=\"1\" class=\"dataframe\">\n",
              "  <thead>\n",
              "    <tr style=\"text-align: right;\">\n",
              "      <th></th>\n",
              "      <th>c</th>\n",
              "      <th>d</th>\n",
              "      <th>a</th>\n",
              "      <th>b</th>\n",
              "    </tr>\n",
              "  </thead>\n",
              "  <tbody>\n",
              "    <tr>\n",
              "      <th>0</th>\n",
              "      <td>one</td>\n",
              "      <td>0</td>\n",
              "      <td>0</td>\n",
              "      <td>7</td>\n",
              "    </tr>\n",
              "    <tr>\n",
              "      <th>1</th>\n",
              "      <td>one</td>\n",
              "      <td>1</td>\n",
              "      <td>1</td>\n",
              "      <td>6</td>\n",
              "    </tr>\n",
              "    <tr>\n",
              "      <th>2</th>\n",
              "      <td>one</td>\n",
              "      <td>2</td>\n",
              "      <td>2</td>\n",
              "      <td>5</td>\n",
              "    </tr>\n",
              "    <tr>\n",
              "      <th>3</th>\n",
              "      <td>two</td>\n",
              "      <td>0</td>\n",
              "      <td>3</td>\n",
              "      <td>4</td>\n",
              "    </tr>\n",
              "    <tr>\n",
              "      <th>4</th>\n",
              "      <td>two</td>\n",
              "      <td>1</td>\n",
              "      <td>4</td>\n",
              "      <td>3</td>\n",
              "    </tr>\n",
              "    <tr>\n",
              "      <th>5</th>\n",
              "      <td>two</td>\n",
              "      <td>2</td>\n",
              "      <td>5</td>\n",
              "      <td>2</td>\n",
              "    </tr>\n",
              "    <tr>\n",
              "      <th>6</th>\n",
              "      <td>two</td>\n",
              "      <td>3</td>\n",
              "      <td>6</td>\n",
              "      <td>1</td>\n",
              "    </tr>\n",
              "  </tbody>\n",
              "</table>\n",
              "</div>"
            ],
            "text/plain": [
              "     c  d  a  b\n",
              "0  one  0  0  7\n",
              "1  one  1  1  6\n",
              "2  one  2  2  5\n",
              "3  two  0  3  4\n",
              "4  two  1  4  3\n",
              "5  two  2  5  2\n",
              "6  two  3  6  1"
            ]
          },
          "execution_count": 97,
          "metadata": {},
          "output_type": "execute_result"
        }
      ],
      "source": [
        "frame2.reset_index()"
      ]
    },
    {
      "cell_type": "markdown",
      "id": "27476e5e",
      "metadata": {
        "id": "27476e5e"
      },
      "source": [
        "## Combining and Merging Datasets"
      ]
    },
    {
      "cell_type": "markdown",
      "id": "d9eb57d4",
      "metadata": {
        "id": "d9eb57d4"
      },
      "source": [
        "Data contained in pandas objects can be combined together in a number of ways:\n",
        "- pandas.merge connects rows in DataFrames based on one or more keys. This will be familiar to users of SQL or other relational databases, as it implements -database join operations.\n",
        "- pandas.concat concatenates or “stacks” together objects along an axis.\n",
        "- The combine_first instance method enables splicing together overlapping data to fill in missing values in one object with values from another."
      ]
    },
    {
      "cell_type": "markdown",
      "id": "8397d657",
      "metadata": {
        "id": "8397d657"
      },
      "source": [
        "Different join types with how argument.\n",
        "\n",
        "- 'inner' Use only the key combinations observed in both tables\n",
        "- 'left' Use all key combinations found in the left table\n",
        "- 'right' Use all key combinations found in the right table\n",
        "- 'output' Use all key combinations observed in both tables together"
      ]
    },
    {
      "cell_type": "markdown",
      "id": "70ab7b5a",
      "metadata": {
        "id": "70ab7b5a"
      },
      "source": [
        "### merge function arguments\n",
        "\n",
        "- left - DataFrame to be merged on the left side.\n",
        "- right - DataFrame to be merged on the right side.\n",
        "- how - One of 'inner', 'outer', 'left', or 'right'; defaults to 'inner'.\n",
        "- on - Column names to join on. Must be found in both DataFrame objects. If not specified and no other join keys\n",
        "given, will use the intersection of the column names in left and right as the join keys.\n",
        "- left_on - Columns in left DataFrame to use as join keys.\n",
        "- right_on - Analogous to left_on for left DataFrame.\n",
        "- left_index - Use row index in left as its join key (or keys, if a MultiIndex).\n",
        "- right_index - Analogous to left_index.\n",
        "- sort - Sort merged data lexicographically by join keys; True by default (disable to get better performance in\n",
        "some cases on large datasets).\n",
        "- suffixes - Tuple of string values to append to column names in case of overlap; defaults to ('_x', '_y') (e.g., if\n",
        "'data' in both DataFrame objects, would appear as 'data_x' and 'data_y' in result).\n",
        "- copy - If False, avoid copying data into resulting data structure in some exceptional cases; by default always\n",
        "copies.\n",
        "- indicator - Adds a special column _merge that indicates the source of each row; values will be 'left_only',\n",
        "'right_only', or 'both' based on the origin of the joined data in each row.\n"
      ]
    },
    {
      "cell_type": "code",
      "execution_count": null,
      "id": "b9448ae6",
      "metadata": {
        "id": "b9448ae6"
      },
      "outputs": [],
      "source": [
        "df1 = pd.DataFrame({'key': ['b', 'b', 'a', 'c', 'a', 'a', 'b'],'data1': range(7)})"
      ]
    },
    {
      "cell_type": "code",
      "execution_count": null,
      "id": "10686114",
      "metadata": {
        "id": "10686114",
        "outputId": "4ff74fac-a3ad-4aee-ded2-08a509c62969"
      },
      "outputs": [
        {
          "data": {
            "text/html": [
              "<div>\n",
              "<style scoped>\n",
              "    .dataframe tbody tr th:only-of-type {\n",
              "        vertical-align: middle;\n",
              "    }\n",
              "\n",
              "    .dataframe tbody tr th {\n",
              "        vertical-align: top;\n",
              "    }\n",
              "\n",
              "    .dataframe thead th {\n",
              "        text-align: right;\n",
              "    }\n",
              "</style>\n",
              "<table border=\"1\" class=\"dataframe\">\n",
              "  <thead>\n",
              "    <tr style=\"text-align: right;\">\n",
              "      <th></th>\n",
              "      <th>key</th>\n",
              "      <th>data1</th>\n",
              "    </tr>\n",
              "  </thead>\n",
              "  <tbody>\n",
              "    <tr>\n",
              "      <th>0</th>\n",
              "      <td>b</td>\n",
              "      <td>0</td>\n",
              "    </tr>\n",
              "    <tr>\n",
              "      <th>1</th>\n",
              "      <td>b</td>\n",
              "      <td>1</td>\n",
              "    </tr>\n",
              "    <tr>\n",
              "      <th>2</th>\n",
              "      <td>a</td>\n",
              "      <td>2</td>\n",
              "    </tr>\n",
              "    <tr>\n",
              "      <th>3</th>\n",
              "      <td>c</td>\n",
              "      <td>3</td>\n",
              "    </tr>\n",
              "    <tr>\n",
              "      <th>4</th>\n",
              "      <td>a</td>\n",
              "      <td>4</td>\n",
              "    </tr>\n",
              "    <tr>\n",
              "      <th>5</th>\n",
              "      <td>a</td>\n",
              "      <td>5</td>\n",
              "    </tr>\n",
              "    <tr>\n",
              "      <th>6</th>\n",
              "      <td>b</td>\n",
              "      <td>6</td>\n",
              "    </tr>\n",
              "  </tbody>\n",
              "</table>\n",
              "</div>"
            ],
            "text/plain": [
              "  key  data1\n",
              "0   b      0\n",
              "1   b      1\n",
              "2   a      2\n",
              "3   c      3\n",
              "4   a      4\n",
              "5   a      5\n",
              "6   b      6"
            ]
          },
          "execution_count": 100,
          "metadata": {},
          "output_type": "execute_result"
        }
      ],
      "source": [
        "df1"
      ]
    },
    {
      "cell_type": "code",
      "execution_count": null,
      "id": "3dce9f68",
      "metadata": {
        "id": "3dce9f68"
      },
      "outputs": [],
      "source": [
        "df2 = pd.DataFrame({'key': ['a', 'b', 'd'],'data2': range(3)})"
      ]
    },
    {
      "cell_type": "code",
      "execution_count": null,
      "id": "4d4650db",
      "metadata": {
        "id": "4d4650db",
        "outputId": "aa3e12e7-a2b3-475f-8dcf-30bfb71abc75"
      },
      "outputs": [
        {
          "data": {
            "text/html": [
              "<div>\n",
              "<style scoped>\n",
              "    .dataframe tbody tr th:only-of-type {\n",
              "        vertical-align: middle;\n",
              "    }\n",
              "\n",
              "    .dataframe tbody tr th {\n",
              "        vertical-align: top;\n",
              "    }\n",
              "\n",
              "    .dataframe thead th {\n",
              "        text-align: right;\n",
              "    }\n",
              "</style>\n",
              "<table border=\"1\" class=\"dataframe\">\n",
              "  <thead>\n",
              "    <tr style=\"text-align: right;\">\n",
              "      <th></th>\n",
              "      <th>key</th>\n",
              "      <th>data2</th>\n",
              "    </tr>\n",
              "  </thead>\n",
              "  <tbody>\n",
              "    <tr>\n",
              "      <th>0</th>\n",
              "      <td>a</td>\n",
              "      <td>0</td>\n",
              "    </tr>\n",
              "    <tr>\n",
              "      <th>1</th>\n",
              "      <td>b</td>\n",
              "      <td>1</td>\n",
              "    </tr>\n",
              "    <tr>\n",
              "      <th>2</th>\n",
              "      <td>d</td>\n",
              "      <td>2</td>\n",
              "    </tr>\n",
              "  </tbody>\n",
              "</table>\n",
              "</div>"
            ],
            "text/plain": [
              "  key  data2\n",
              "0   a      0\n",
              "1   b      1\n",
              "2   d      2"
            ]
          },
          "execution_count": 103,
          "metadata": {},
          "output_type": "execute_result"
        }
      ],
      "source": [
        "df2"
      ]
    },
    {
      "cell_type": "code",
      "execution_count": null,
      "id": "7b93339a",
      "metadata": {
        "id": "7b93339a",
        "outputId": "f9dabf8a-63eb-464c-c6a3-9ffdde26a1a5"
      },
      "outputs": [
        {
          "data": {
            "text/html": [
              "<div>\n",
              "<style scoped>\n",
              "    .dataframe tbody tr th:only-of-type {\n",
              "        vertical-align: middle;\n",
              "    }\n",
              "\n",
              "    .dataframe tbody tr th {\n",
              "        vertical-align: top;\n",
              "    }\n",
              "\n",
              "    .dataframe thead th {\n",
              "        text-align: right;\n",
              "    }\n",
              "</style>\n",
              "<table border=\"1\" class=\"dataframe\">\n",
              "  <thead>\n",
              "    <tr style=\"text-align: right;\">\n",
              "      <th></th>\n",
              "      <th>key</th>\n",
              "      <th>data1</th>\n",
              "      <th>data2</th>\n",
              "    </tr>\n",
              "  </thead>\n",
              "  <tbody>\n",
              "    <tr>\n",
              "      <th>0</th>\n",
              "      <td>b</td>\n",
              "      <td>0</td>\n",
              "      <td>1</td>\n",
              "    </tr>\n",
              "    <tr>\n",
              "      <th>1</th>\n",
              "      <td>b</td>\n",
              "      <td>1</td>\n",
              "      <td>1</td>\n",
              "    </tr>\n",
              "    <tr>\n",
              "      <th>2</th>\n",
              "      <td>b</td>\n",
              "      <td>6</td>\n",
              "      <td>1</td>\n",
              "    </tr>\n",
              "    <tr>\n",
              "      <th>3</th>\n",
              "      <td>a</td>\n",
              "      <td>2</td>\n",
              "      <td>0</td>\n",
              "    </tr>\n",
              "    <tr>\n",
              "      <th>4</th>\n",
              "      <td>a</td>\n",
              "      <td>4</td>\n",
              "      <td>0</td>\n",
              "    </tr>\n",
              "    <tr>\n",
              "      <th>5</th>\n",
              "      <td>a</td>\n",
              "      <td>5</td>\n",
              "      <td>0</td>\n",
              "    </tr>\n",
              "  </tbody>\n",
              "</table>\n",
              "</div>"
            ],
            "text/plain": [
              "  key  data1  data2\n",
              "0   b      0      1\n",
              "1   b      1      1\n",
              "2   b      6      1\n",
              "3   a      2      0\n",
              "4   a      4      0\n",
              "5   a      5      0"
            ]
          },
          "execution_count": 104,
          "metadata": {},
          "output_type": "execute_result"
        }
      ],
      "source": [
        "pd.merge(df1,df2)"
      ]
    },
    {
      "cell_type": "markdown",
      "id": "e14ad808",
      "metadata": {
        "id": "e14ad808"
      },
      "source": [
        "Note that I didn’t specify which column to join on. If that information is not speci‐\n",
        "fied, merge uses the overlapping column names as the keys. It’s a good practice to\n",
        "specify explicitly, though:"
      ]
    },
    {
      "cell_type": "code",
      "execution_count": null,
      "id": "e899fa46",
      "metadata": {
        "id": "e899fa46",
        "outputId": "6e7381c6-02c7-4f11-e58a-9b511c851717"
      },
      "outputs": [
        {
          "data": {
            "text/html": [
              "<div>\n",
              "<style scoped>\n",
              "    .dataframe tbody tr th:only-of-type {\n",
              "        vertical-align: middle;\n",
              "    }\n",
              "\n",
              "    .dataframe tbody tr th {\n",
              "        vertical-align: top;\n",
              "    }\n",
              "\n",
              "    .dataframe thead th {\n",
              "        text-align: right;\n",
              "    }\n",
              "</style>\n",
              "<table border=\"1\" class=\"dataframe\">\n",
              "  <thead>\n",
              "    <tr style=\"text-align: right;\">\n",
              "      <th></th>\n",
              "      <th>key</th>\n",
              "      <th>data1</th>\n",
              "      <th>data2</th>\n",
              "    </tr>\n",
              "  </thead>\n",
              "  <tbody>\n",
              "    <tr>\n",
              "      <th>0</th>\n",
              "      <td>b</td>\n",
              "      <td>0</td>\n",
              "      <td>1</td>\n",
              "    </tr>\n",
              "    <tr>\n",
              "      <th>1</th>\n",
              "      <td>b</td>\n",
              "      <td>1</td>\n",
              "      <td>1</td>\n",
              "    </tr>\n",
              "    <tr>\n",
              "      <th>2</th>\n",
              "      <td>b</td>\n",
              "      <td>6</td>\n",
              "      <td>1</td>\n",
              "    </tr>\n",
              "    <tr>\n",
              "      <th>3</th>\n",
              "      <td>a</td>\n",
              "      <td>2</td>\n",
              "      <td>0</td>\n",
              "    </tr>\n",
              "    <tr>\n",
              "      <th>4</th>\n",
              "      <td>a</td>\n",
              "      <td>4</td>\n",
              "      <td>0</td>\n",
              "    </tr>\n",
              "    <tr>\n",
              "      <th>5</th>\n",
              "      <td>a</td>\n",
              "      <td>5</td>\n",
              "      <td>0</td>\n",
              "    </tr>\n",
              "  </tbody>\n",
              "</table>\n",
              "</div>"
            ],
            "text/plain": [
              "  key  data1  data2\n",
              "0   b      0      1\n",
              "1   b      1      1\n",
              "2   b      6      1\n",
              "3   a      2      0\n",
              "4   a      4      0\n",
              "5   a      5      0"
            ]
          },
          "execution_count": 105,
          "metadata": {},
          "output_type": "execute_result"
        }
      ],
      "source": [
        " pd.merge(df1, df2, on='key')"
      ]
    },
    {
      "cell_type": "markdown",
      "id": "81a65822",
      "metadata": {
        "id": "81a65822"
      },
      "source": [
        "If the column names are different in each object, you can specify them separately:"
      ]
    },
    {
      "cell_type": "code",
      "execution_count": null,
      "id": "3dec44f2",
      "metadata": {
        "id": "3dec44f2"
      },
      "outputs": [],
      "source": [
        "df3 = pd.DataFrame({'lkey': ['b', 'b', 'a', 'c', 'a', 'a', 'b'],'data1': range(7)})\n"
      ]
    },
    {
      "cell_type": "code",
      "execution_count": null,
      "id": "ab1392ef",
      "metadata": {
        "id": "ab1392ef"
      },
      "outputs": [],
      "source": [
        " df4 = pd.DataFrame({'rkey': ['a', 'b', 'd'],'data2': range(3)})\n"
      ]
    },
    {
      "cell_type": "code",
      "execution_count": null,
      "id": "dacc77fe",
      "metadata": {
        "id": "dacc77fe",
        "outputId": "447a4641-60ac-4e27-d30d-1bb2b965dcbc"
      },
      "outputs": [
        {
          "data": {
            "text/html": [
              "<div>\n",
              "<style scoped>\n",
              "    .dataframe tbody tr th:only-of-type {\n",
              "        vertical-align: middle;\n",
              "    }\n",
              "\n",
              "    .dataframe tbody tr th {\n",
              "        vertical-align: top;\n",
              "    }\n",
              "\n",
              "    .dataframe thead th {\n",
              "        text-align: right;\n",
              "    }\n",
              "</style>\n",
              "<table border=\"1\" class=\"dataframe\">\n",
              "  <thead>\n",
              "    <tr style=\"text-align: right;\">\n",
              "      <th></th>\n",
              "      <th>lkey</th>\n",
              "      <th>data1</th>\n",
              "    </tr>\n",
              "  </thead>\n",
              "  <tbody>\n",
              "    <tr>\n",
              "      <th>0</th>\n",
              "      <td>b</td>\n",
              "      <td>0</td>\n",
              "    </tr>\n",
              "    <tr>\n",
              "      <th>1</th>\n",
              "      <td>b</td>\n",
              "      <td>1</td>\n",
              "    </tr>\n",
              "    <tr>\n",
              "      <th>2</th>\n",
              "      <td>a</td>\n",
              "      <td>2</td>\n",
              "    </tr>\n",
              "    <tr>\n",
              "      <th>3</th>\n",
              "      <td>c</td>\n",
              "      <td>3</td>\n",
              "    </tr>\n",
              "    <tr>\n",
              "      <th>4</th>\n",
              "      <td>a</td>\n",
              "      <td>4</td>\n",
              "    </tr>\n",
              "    <tr>\n",
              "      <th>5</th>\n",
              "      <td>a</td>\n",
              "      <td>5</td>\n",
              "    </tr>\n",
              "    <tr>\n",
              "      <th>6</th>\n",
              "      <td>b</td>\n",
              "      <td>6</td>\n",
              "    </tr>\n",
              "  </tbody>\n",
              "</table>\n",
              "</div>"
            ],
            "text/plain": [
              "  lkey  data1\n",
              "0    b      0\n",
              "1    b      1\n",
              "2    a      2\n",
              "3    c      3\n",
              "4    a      4\n",
              "5    a      5\n",
              "6    b      6"
            ]
          },
          "execution_count": 109,
          "metadata": {},
          "output_type": "execute_result"
        }
      ],
      "source": [
        "df3"
      ]
    },
    {
      "cell_type": "code",
      "execution_count": null,
      "id": "c8e26c6f",
      "metadata": {
        "id": "c8e26c6f",
        "outputId": "ff05630f-fc89-4180-8f1c-64e39d30a7a5"
      },
      "outputs": [
        {
          "data": {
            "text/html": [
              "<div>\n",
              "<style scoped>\n",
              "    .dataframe tbody tr th:only-of-type {\n",
              "        vertical-align: middle;\n",
              "    }\n",
              "\n",
              "    .dataframe tbody tr th {\n",
              "        vertical-align: top;\n",
              "    }\n",
              "\n",
              "    .dataframe thead th {\n",
              "        text-align: right;\n",
              "    }\n",
              "</style>\n",
              "<table border=\"1\" class=\"dataframe\">\n",
              "  <thead>\n",
              "    <tr style=\"text-align: right;\">\n",
              "      <th></th>\n",
              "      <th>rkey</th>\n",
              "      <th>data2</th>\n",
              "    </tr>\n",
              "  </thead>\n",
              "  <tbody>\n",
              "    <tr>\n",
              "      <th>0</th>\n",
              "      <td>a</td>\n",
              "      <td>0</td>\n",
              "    </tr>\n",
              "    <tr>\n",
              "      <th>1</th>\n",
              "      <td>b</td>\n",
              "      <td>1</td>\n",
              "    </tr>\n",
              "    <tr>\n",
              "      <th>2</th>\n",
              "      <td>d</td>\n",
              "      <td>2</td>\n",
              "    </tr>\n",
              "  </tbody>\n",
              "</table>\n",
              "</div>"
            ],
            "text/plain": [
              "  rkey  data2\n",
              "0    a      0\n",
              "1    b      1\n",
              "2    d      2"
            ]
          },
          "execution_count": 110,
          "metadata": {},
          "output_type": "execute_result"
        }
      ],
      "source": [
        "df4"
      ]
    },
    {
      "cell_type": "code",
      "execution_count": null,
      "id": "3a3168cd",
      "metadata": {
        "id": "3a3168cd",
        "outputId": "1da5d103-13a9-4438-d741-f624202ebbd5"
      },
      "outputs": [
        {
          "data": {
            "text/html": [
              "<div>\n",
              "<style scoped>\n",
              "    .dataframe tbody tr th:only-of-type {\n",
              "        vertical-align: middle;\n",
              "    }\n",
              "\n",
              "    .dataframe tbody tr th {\n",
              "        vertical-align: top;\n",
              "    }\n",
              "\n",
              "    .dataframe thead th {\n",
              "        text-align: right;\n",
              "    }\n",
              "</style>\n",
              "<table border=\"1\" class=\"dataframe\">\n",
              "  <thead>\n",
              "    <tr style=\"text-align: right;\">\n",
              "      <th></th>\n",
              "      <th>lkey</th>\n",
              "      <th>data1</th>\n",
              "      <th>rkey</th>\n",
              "      <th>data2</th>\n",
              "    </tr>\n",
              "  </thead>\n",
              "  <tbody>\n",
              "    <tr>\n",
              "      <th>0</th>\n",
              "      <td>b</td>\n",
              "      <td>0</td>\n",
              "      <td>b</td>\n",
              "      <td>1</td>\n",
              "    </tr>\n",
              "    <tr>\n",
              "      <th>1</th>\n",
              "      <td>b</td>\n",
              "      <td>1</td>\n",
              "      <td>b</td>\n",
              "      <td>1</td>\n",
              "    </tr>\n",
              "    <tr>\n",
              "      <th>2</th>\n",
              "      <td>b</td>\n",
              "      <td>6</td>\n",
              "      <td>b</td>\n",
              "      <td>1</td>\n",
              "    </tr>\n",
              "    <tr>\n",
              "      <th>3</th>\n",
              "      <td>a</td>\n",
              "      <td>2</td>\n",
              "      <td>a</td>\n",
              "      <td>0</td>\n",
              "    </tr>\n",
              "    <tr>\n",
              "      <th>4</th>\n",
              "      <td>a</td>\n",
              "      <td>4</td>\n",
              "      <td>a</td>\n",
              "      <td>0</td>\n",
              "    </tr>\n",
              "    <tr>\n",
              "      <th>5</th>\n",
              "      <td>a</td>\n",
              "      <td>5</td>\n",
              "      <td>a</td>\n",
              "      <td>0</td>\n",
              "    </tr>\n",
              "  </tbody>\n",
              "</table>\n",
              "</div>"
            ],
            "text/plain": [
              "  lkey  data1 rkey  data2\n",
              "0    b      0    b      1\n",
              "1    b      1    b      1\n",
              "2    b      6    b      1\n",
              "3    a      2    a      0\n",
              "4    a      4    a      0\n",
              "5    a      5    a      0"
            ]
          },
          "execution_count": 111,
          "metadata": {},
          "output_type": "execute_result"
        }
      ],
      "source": [
        "pd.merge(df3, df4, left_on='lkey', right_on='rkey')"
      ]
    },
    {
      "cell_type": "code",
      "execution_count": null,
      "id": "d45ca853",
      "metadata": {
        "id": "d45ca853",
        "outputId": "b129b9d4-2402-43ff-9cde-599e3a5a1280"
      },
      "outputs": [
        {
          "data": {
            "text/html": [
              "<div>\n",
              "<style scoped>\n",
              "    .dataframe tbody tr th:only-of-type {\n",
              "        vertical-align: middle;\n",
              "    }\n",
              "\n",
              "    .dataframe tbody tr th {\n",
              "        vertical-align: top;\n",
              "    }\n",
              "\n",
              "    .dataframe thead th {\n",
              "        text-align: right;\n",
              "    }\n",
              "</style>\n",
              "<table border=\"1\" class=\"dataframe\">\n",
              "  <thead>\n",
              "    <tr style=\"text-align: right;\">\n",
              "      <th></th>\n",
              "      <th>key</th>\n",
              "      <th>data1</th>\n",
              "      <th>data2</th>\n",
              "    </tr>\n",
              "  </thead>\n",
              "  <tbody>\n",
              "    <tr>\n",
              "      <th>0</th>\n",
              "      <td>b</td>\n",
              "      <td>0.0</td>\n",
              "      <td>1.0</td>\n",
              "    </tr>\n",
              "    <tr>\n",
              "      <th>1</th>\n",
              "      <td>b</td>\n",
              "      <td>1.0</td>\n",
              "      <td>1.0</td>\n",
              "    </tr>\n",
              "    <tr>\n",
              "      <th>2</th>\n",
              "      <td>b</td>\n",
              "      <td>6.0</td>\n",
              "      <td>1.0</td>\n",
              "    </tr>\n",
              "    <tr>\n",
              "      <th>3</th>\n",
              "      <td>a</td>\n",
              "      <td>2.0</td>\n",
              "      <td>0.0</td>\n",
              "    </tr>\n",
              "    <tr>\n",
              "      <th>4</th>\n",
              "      <td>a</td>\n",
              "      <td>4.0</td>\n",
              "      <td>0.0</td>\n",
              "    </tr>\n",
              "    <tr>\n",
              "      <th>5</th>\n",
              "      <td>a</td>\n",
              "      <td>5.0</td>\n",
              "      <td>0.0</td>\n",
              "    </tr>\n",
              "    <tr>\n",
              "      <th>6</th>\n",
              "      <td>c</td>\n",
              "      <td>3.0</td>\n",
              "      <td>NaN</td>\n",
              "    </tr>\n",
              "    <tr>\n",
              "      <th>7</th>\n",
              "      <td>d</td>\n",
              "      <td>NaN</td>\n",
              "      <td>2.0</td>\n",
              "    </tr>\n",
              "  </tbody>\n",
              "</table>\n",
              "</div>"
            ],
            "text/plain": [
              "  key  data1  data2\n",
              "0   b    0.0    1.0\n",
              "1   b    1.0    1.0\n",
              "2   b    6.0    1.0\n",
              "3   a    2.0    0.0\n",
              "4   a    4.0    0.0\n",
              "5   a    5.0    0.0\n",
              "6   c    3.0    NaN\n",
              "7   d    NaN    2.0"
            ]
          },
          "execution_count": 112,
          "metadata": {},
          "output_type": "execute_result"
        }
      ],
      "source": [
        "pd.merge(df1, df2, how='outer')"
      ]
    },
    {
      "cell_type": "markdown",
      "id": "3f42fedc",
      "metadata": {
        "id": "3f42fedc"
      },
      "source": [
        "Many-to-many merges have well-defined, though not necessarily intuitive, behavior.\n",
        "Here’s an example:"
      ]
    },
    {
      "cell_type": "code",
      "execution_count": null,
      "id": "d0c48046",
      "metadata": {
        "id": "d0c48046"
      },
      "outputs": [],
      "source": [
        "df1 = pd.DataFrame({'key': ['b', 'b', 'a', 'c', 'a', 'b'],'data1': range(6)})"
      ]
    },
    {
      "cell_type": "code",
      "execution_count": null,
      "id": "24d4ab55",
      "metadata": {
        "id": "24d4ab55"
      },
      "outputs": [],
      "source": [
        "df2 = pd.DataFrame({'key': ['a', 'b', 'a', 'b', 'd'],'data2': range(5)})\n"
      ]
    },
    {
      "cell_type": "code",
      "execution_count": null,
      "id": "2ceaf860",
      "metadata": {
        "id": "2ceaf860",
        "outputId": "5e104dec-3b65-4cc1-b23f-89cf31243391"
      },
      "outputs": [
        {
          "data": {
            "text/html": [
              "<div>\n",
              "<style scoped>\n",
              "    .dataframe tbody tr th:only-of-type {\n",
              "        vertical-align: middle;\n",
              "    }\n",
              "\n",
              "    .dataframe tbody tr th {\n",
              "        vertical-align: top;\n",
              "    }\n",
              "\n",
              "    .dataframe thead th {\n",
              "        text-align: right;\n",
              "    }\n",
              "</style>\n",
              "<table border=\"1\" class=\"dataframe\">\n",
              "  <thead>\n",
              "    <tr style=\"text-align: right;\">\n",
              "      <th></th>\n",
              "      <th>key</th>\n",
              "      <th>data1</th>\n",
              "    </tr>\n",
              "  </thead>\n",
              "  <tbody>\n",
              "    <tr>\n",
              "      <th>0</th>\n",
              "      <td>b</td>\n",
              "      <td>0</td>\n",
              "    </tr>\n",
              "    <tr>\n",
              "      <th>1</th>\n",
              "      <td>b</td>\n",
              "      <td>1</td>\n",
              "    </tr>\n",
              "    <tr>\n",
              "      <th>2</th>\n",
              "      <td>a</td>\n",
              "      <td>2</td>\n",
              "    </tr>\n",
              "    <tr>\n",
              "      <th>3</th>\n",
              "      <td>c</td>\n",
              "      <td>3</td>\n",
              "    </tr>\n",
              "    <tr>\n",
              "      <th>4</th>\n",
              "      <td>a</td>\n",
              "      <td>4</td>\n",
              "    </tr>\n",
              "    <tr>\n",
              "      <th>5</th>\n",
              "      <td>b</td>\n",
              "      <td>5</td>\n",
              "    </tr>\n",
              "  </tbody>\n",
              "</table>\n",
              "</div>"
            ],
            "text/plain": [
              "  key  data1\n",
              "0   b      0\n",
              "1   b      1\n",
              "2   a      2\n",
              "3   c      3\n",
              "4   a      4\n",
              "5   b      5"
            ]
          },
          "execution_count": 116,
          "metadata": {},
          "output_type": "execute_result"
        }
      ],
      "source": [
        "df1"
      ]
    },
    {
      "cell_type": "code",
      "execution_count": null,
      "id": "ef992b4b",
      "metadata": {
        "id": "ef992b4b",
        "outputId": "a4635eec-2e1c-439c-e416-dcd17483247a"
      },
      "outputs": [
        {
          "data": {
            "text/html": [
              "<div>\n",
              "<style scoped>\n",
              "    .dataframe tbody tr th:only-of-type {\n",
              "        vertical-align: middle;\n",
              "    }\n",
              "\n",
              "    .dataframe tbody tr th {\n",
              "        vertical-align: top;\n",
              "    }\n",
              "\n",
              "    .dataframe thead th {\n",
              "        text-align: right;\n",
              "    }\n",
              "</style>\n",
              "<table border=\"1\" class=\"dataframe\">\n",
              "  <thead>\n",
              "    <tr style=\"text-align: right;\">\n",
              "      <th></th>\n",
              "      <th>key</th>\n",
              "      <th>data2</th>\n",
              "    </tr>\n",
              "  </thead>\n",
              "  <tbody>\n",
              "    <tr>\n",
              "      <th>0</th>\n",
              "      <td>a</td>\n",
              "      <td>0</td>\n",
              "    </tr>\n",
              "    <tr>\n",
              "      <th>1</th>\n",
              "      <td>b</td>\n",
              "      <td>1</td>\n",
              "    </tr>\n",
              "    <tr>\n",
              "      <th>2</th>\n",
              "      <td>a</td>\n",
              "      <td>2</td>\n",
              "    </tr>\n",
              "    <tr>\n",
              "      <th>3</th>\n",
              "      <td>b</td>\n",
              "      <td>3</td>\n",
              "    </tr>\n",
              "    <tr>\n",
              "      <th>4</th>\n",
              "      <td>d</td>\n",
              "      <td>4</td>\n",
              "    </tr>\n",
              "  </tbody>\n",
              "</table>\n",
              "</div>"
            ],
            "text/plain": [
              "  key  data2\n",
              "0   a      0\n",
              "1   b      1\n",
              "2   a      2\n",
              "3   b      3\n",
              "4   d      4"
            ]
          },
          "execution_count": 117,
          "metadata": {},
          "output_type": "execute_result"
        }
      ],
      "source": [
        "df2"
      ]
    },
    {
      "cell_type": "code",
      "execution_count": null,
      "id": "45a5c4cd",
      "metadata": {
        "id": "45a5c4cd",
        "outputId": "31e98cd6-bbf9-493b-83d4-f48c3ca9f3ce"
      },
      "outputs": [
        {
          "data": {
            "text/html": [
              "<div>\n",
              "<style scoped>\n",
              "    .dataframe tbody tr th:only-of-type {\n",
              "        vertical-align: middle;\n",
              "    }\n",
              "\n",
              "    .dataframe tbody tr th {\n",
              "        vertical-align: top;\n",
              "    }\n",
              "\n",
              "    .dataframe thead th {\n",
              "        text-align: right;\n",
              "    }\n",
              "</style>\n",
              "<table border=\"1\" class=\"dataframe\">\n",
              "  <thead>\n",
              "    <tr style=\"text-align: right;\">\n",
              "      <th></th>\n",
              "      <th>key</th>\n",
              "      <th>data1</th>\n",
              "      <th>data2</th>\n",
              "    </tr>\n",
              "  </thead>\n",
              "  <tbody>\n",
              "    <tr>\n",
              "      <th>0</th>\n",
              "      <td>b</td>\n",
              "      <td>0</td>\n",
              "      <td>1.0</td>\n",
              "    </tr>\n",
              "    <tr>\n",
              "      <th>1</th>\n",
              "      <td>b</td>\n",
              "      <td>0</td>\n",
              "      <td>3.0</td>\n",
              "    </tr>\n",
              "    <tr>\n",
              "      <th>2</th>\n",
              "      <td>b</td>\n",
              "      <td>1</td>\n",
              "      <td>1.0</td>\n",
              "    </tr>\n",
              "    <tr>\n",
              "      <th>3</th>\n",
              "      <td>b</td>\n",
              "      <td>1</td>\n",
              "      <td>3.0</td>\n",
              "    </tr>\n",
              "    <tr>\n",
              "      <th>4</th>\n",
              "      <td>a</td>\n",
              "      <td>2</td>\n",
              "      <td>0.0</td>\n",
              "    </tr>\n",
              "    <tr>\n",
              "      <th>5</th>\n",
              "      <td>a</td>\n",
              "      <td>2</td>\n",
              "      <td>2.0</td>\n",
              "    </tr>\n",
              "    <tr>\n",
              "      <th>6</th>\n",
              "      <td>c</td>\n",
              "      <td>3</td>\n",
              "      <td>NaN</td>\n",
              "    </tr>\n",
              "    <tr>\n",
              "      <th>7</th>\n",
              "      <td>a</td>\n",
              "      <td>4</td>\n",
              "      <td>0.0</td>\n",
              "    </tr>\n",
              "    <tr>\n",
              "      <th>8</th>\n",
              "      <td>a</td>\n",
              "      <td>4</td>\n",
              "      <td>2.0</td>\n",
              "    </tr>\n",
              "    <tr>\n",
              "      <th>9</th>\n",
              "      <td>b</td>\n",
              "      <td>5</td>\n",
              "      <td>1.0</td>\n",
              "    </tr>\n",
              "    <tr>\n",
              "      <th>10</th>\n",
              "      <td>b</td>\n",
              "      <td>5</td>\n",
              "      <td>3.0</td>\n",
              "    </tr>\n",
              "  </tbody>\n",
              "</table>\n",
              "</div>"
            ],
            "text/plain": [
              "   key  data1  data2\n",
              "0    b      0    1.0\n",
              "1    b      0    3.0\n",
              "2    b      1    1.0\n",
              "3    b      1    3.0\n",
              "4    a      2    0.0\n",
              "5    a      2    2.0\n",
              "6    c      3    NaN\n",
              "7    a      4    0.0\n",
              "8    a      4    2.0\n",
              "9    b      5    1.0\n",
              "10   b      5    3.0"
            ]
          },
          "execution_count": 118,
          "metadata": {},
          "output_type": "execute_result"
        }
      ],
      "source": [
        "pd.merge(df1,df2, on='key',how='left')"
      ]
    },
    {
      "cell_type": "markdown",
      "id": "2acc789f",
      "metadata": {
        "id": "2acc789f"
      },
      "source": [
        "Many-to-many joins form the Cartesian product of the rows. Since there were three\n",
        "'b' rows in the left DataFrame and two in the right one, there are six 'b' rows in the\n",
        "result. The join method only affects the distinct key values appearing in the result:\n"
      ]
    },
    {
      "cell_type": "code",
      "execution_count": null,
      "id": "b81a4205",
      "metadata": {
        "id": "b81a4205",
        "outputId": "d52158f6-d954-43a2-b8a5-9a1ee0eb7ae8"
      },
      "outputs": [
        {
          "data": {
            "text/html": [
              "<div>\n",
              "<style scoped>\n",
              "    .dataframe tbody tr th:only-of-type {\n",
              "        vertical-align: middle;\n",
              "    }\n",
              "\n",
              "    .dataframe tbody tr th {\n",
              "        vertical-align: top;\n",
              "    }\n",
              "\n",
              "    .dataframe thead th {\n",
              "        text-align: right;\n",
              "    }\n",
              "</style>\n",
              "<table border=\"1\" class=\"dataframe\">\n",
              "  <thead>\n",
              "    <tr style=\"text-align: right;\">\n",
              "      <th></th>\n",
              "      <th>key</th>\n",
              "      <th>data1</th>\n",
              "      <th>data2</th>\n",
              "    </tr>\n",
              "  </thead>\n",
              "  <tbody>\n",
              "    <tr>\n",
              "      <th>0</th>\n",
              "      <td>b</td>\n",
              "      <td>0</td>\n",
              "      <td>1</td>\n",
              "    </tr>\n",
              "    <tr>\n",
              "      <th>1</th>\n",
              "      <td>b</td>\n",
              "      <td>0</td>\n",
              "      <td>3</td>\n",
              "    </tr>\n",
              "    <tr>\n",
              "      <th>2</th>\n",
              "      <td>b</td>\n",
              "      <td>1</td>\n",
              "      <td>1</td>\n",
              "    </tr>\n",
              "    <tr>\n",
              "      <th>3</th>\n",
              "      <td>b</td>\n",
              "      <td>1</td>\n",
              "      <td>3</td>\n",
              "    </tr>\n",
              "    <tr>\n",
              "      <th>4</th>\n",
              "      <td>b</td>\n",
              "      <td>5</td>\n",
              "      <td>1</td>\n",
              "    </tr>\n",
              "    <tr>\n",
              "      <th>5</th>\n",
              "      <td>b</td>\n",
              "      <td>5</td>\n",
              "      <td>3</td>\n",
              "    </tr>\n",
              "    <tr>\n",
              "      <th>6</th>\n",
              "      <td>a</td>\n",
              "      <td>2</td>\n",
              "      <td>0</td>\n",
              "    </tr>\n",
              "    <tr>\n",
              "      <th>7</th>\n",
              "      <td>a</td>\n",
              "      <td>2</td>\n",
              "      <td>2</td>\n",
              "    </tr>\n",
              "    <tr>\n",
              "      <th>8</th>\n",
              "      <td>a</td>\n",
              "      <td>4</td>\n",
              "      <td>0</td>\n",
              "    </tr>\n",
              "    <tr>\n",
              "      <th>9</th>\n",
              "      <td>a</td>\n",
              "      <td>4</td>\n",
              "      <td>2</td>\n",
              "    </tr>\n",
              "  </tbody>\n",
              "</table>\n",
              "</div>"
            ],
            "text/plain": [
              "  key  data1  data2\n",
              "0   b      0      1\n",
              "1   b      0      3\n",
              "2   b      1      1\n",
              "3   b      1      3\n",
              "4   b      5      1\n",
              "5   b      5      3\n",
              "6   a      2      0\n",
              "7   a      2      2\n",
              "8   a      4      0\n",
              "9   a      4      2"
            ]
          },
          "execution_count": 119,
          "metadata": {},
          "output_type": "execute_result"
        }
      ],
      "source": [
        "pd.merge(df1, df2, how='inner')"
      ]
    },
    {
      "cell_type": "markdown",
      "id": "631e2940",
      "metadata": {
        "id": "631e2940"
      },
      "source": [
        "To merge with multiple keys, pass a list of column names"
      ]
    },
    {
      "cell_type": "code",
      "execution_count": null,
      "id": "3ba7b580",
      "metadata": {
        "id": "3ba7b580"
      },
      "outputs": [],
      "source": [
        "left = pd.DataFrame({'key1': ['foo', 'foo', 'bar'],'key2': ['one', 'two', 'one'],'lval': [1, 2, 3]})"
      ]
    },
    {
      "cell_type": "code",
      "execution_count": null,
      "id": "b9dddb38",
      "metadata": {
        "id": "b9dddb38",
        "outputId": "c4184d69-b12f-4852-a7e0-720cfa48957d"
      },
      "outputs": [
        {
          "data": {
            "text/html": [
              "<div>\n",
              "<style scoped>\n",
              "    .dataframe tbody tr th:only-of-type {\n",
              "        vertical-align: middle;\n",
              "    }\n",
              "\n",
              "    .dataframe tbody tr th {\n",
              "        vertical-align: top;\n",
              "    }\n",
              "\n",
              "    .dataframe thead th {\n",
              "        text-align: right;\n",
              "    }\n",
              "</style>\n",
              "<table border=\"1\" class=\"dataframe\">\n",
              "  <thead>\n",
              "    <tr style=\"text-align: right;\">\n",
              "      <th></th>\n",
              "      <th>key1</th>\n",
              "      <th>key2</th>\n",
              "      <th>lval</th>\n",
              "    </tr>\n",
              "  </thead>\n",
              "  <tbody>\n",
              "    <tr>\n",
              "      <th>0</th>\n",
              "      <td>foo</td>\n",
              "      <td>one</td>\n",
              "      <td>1</td>\n",
              "    </tr>\n",
              "    <tr>\n",
              "      <th>1</th>\n",
              "      <td>foo</td>\n",
              "      <td>two</td>\n",
              "      <td>2</td>\n",
              "    </tr>\n",
              "    <tr>\n",
              "      <th>2</th>\n",
              "      <td>bar</td>\n",
              "      <td>one</td>\n",
              "      <td>3</td>\n",
              "    </tr>\n",
              "  </tbody>\n",
              "</table>\n",
              "</div>"
            ],
            "text/plain": [
              "  key1 key2  lval\n",
              "0  foo  one     1\n",
              "1  foo  two     2\n",
              "2  bar  one     3"
            ]
          },
          "execution_count": 121,
          "metadata": {},
          "output_type": "execute_result"
        }
      ],
      "source": [
        "left"
      ]
    },
    {
      "cell_type": "code",
      "execution_count": null,
      "id": "2b859244",
      "metadata": {
        "id": "2b859244"
      },
      "outputs": [],
      "source": [
        "right = pd.DataFrame({'key1': ['foo', 'foo', 'bar', 'bar'],'key2': ['one', 'one', 'one', 'two'],'rval': [4, 5, 6, 7]})\n"
      ]
    },
    {
      "cell_type": "code",
      "execution_count": null,
      "id": "02563d26",
      "metadata": {
        "id": "02563d26",
        "outputId": "a1ca7db8-58e9-4c65-ad20-de3b416e888f"
      },
      "outputs": [
        {
          "data": {
            "text/html": [
              "<div>\n",
              "<style scoped>\n",
              "    .dataframe tbody tr th:only-of-type {\n",
              "        vertical-align: middle;\n",
              "    }\n",
              "\n",
              "    .dataframe tbody tr th {\n",
              "        vertical-align: top;\n",
              "    }\n",
              "\n",
              "    .dataframe thead th {\n",
              "        text-align: right;\n",
              "    }\n",
              "</style>\n",
              "<table border=\"1\" class=\"dataframe\">\n",
              "  <thead>\n",
              "    <tr style=\"text-align: right;\">\n",
              "      <th></th>\n",
              "      <th>key1</th>\n",
              "      <th>key2</th>\n",
              "      <th>rval</th>\n",
              "    </tr>\n",
              "  </thead>\n",
              "  <tbody>\n",
              "    <tr>\n",
              "      <th>0</th>\n",
              "      <td>foo</td>\n",
              "      <td>one</td>\n",
              "      <td>4</td>\n",
              "    </tr>\n",
              "    <tr>\n",
              "      <th>1</th>\n",
              "      <td>foo</td>\n",
              "      <td>one</td>\n",
              "      <td>5</td>\n",
              "    </tr>\n",
              "    <tr>\n",
              "      <th>2</th>\n",
              "      <td>bar</td>\n",
              "      <td>one</td>\n",
              "      <td>6</td>\n",
              "    </tr>\n",
              "    <tr>\n",
              "      <th>3</th>\n",
              "      <td>bar</td>\n",
              "      <td>two</td>\n",
              "      <td>7</td>\n",
              "    </tr>\n",
              "  </tbody>\n",
              "</table>\n",
              "</div>"
            ],
            "text/plain": [
              "  key1 key2  rval\n",
              "0  foo  one     4\n",
              "1  foo  one     5\n",
              "2  bar  one     6\n",
              "3  bar  two     7"
            ]
          },
          "execution_count": 123,
          "metadata": {},
          "output_type": "execute_result"
        }
      ],
      "source": [
        "right"
      ]
    },
    {
      "cell_type": "code",
      "execution_count": null,
      "id": "b67be65b",
      "metadata": {
        "id": "b67be65b",
        "outputId": "63d92bbe-0108-4db6-fd2d-a4916dc514c7"
      },
      "outputs": [
        {
          "data": {
            "text/html": [
              "<div>\n",
              "<style scoped>\n",
              "    .dataframe tbody tr th:only-of-type {\n",
              "        vertical-align: middle;\n",
              "    }\n",
              "\n",
              "    .dataframe tbody tr th {\n",
              "        vertical-align: top;\n",
              "    }\n",
              "\n",
              "    .dataframe thead th {\n",
              "        text-align: right;\n",
              "    }\n",
              "</style>\n",
              "<table border=\"1\" class=\"dataframe\">\n",
              "  <thead>\n",
              "    <tr style=\"text-align: right;\">\n",
              "      <th></th>\n",
              "      <th>key1</th>\n",
              "      <th>key2</th>\n",
              "      <th>lval</th>\n",
              "      <th>rval</th>\n",
              "    </tr>\n",
              "  </thead>\n",
              "  <tbody>\n",
              "    <tr>\n",
              "      <th>0</th>\n",
              "      <td>foo</td>\n",
              "      <td>one</td>\n",
              "      <td>1</td>\n",
              "      <td>4.0</td>\n",
              "    </tr>\n",
              "    <tr>\n",
              "      <th>1</th>\n",
              "      <td>foo</td>\n",
              "      <td>one</td>\n",
              "      <td>1</td>\n",
              "      <td>5.0</td>\n",
              "    </tr>\n",
              "    <tr>\n",
              "      <th>2</th>\n",
              "      <td>foo</td>\n",
              "      <td>two</td>\n",
              "      <td>2</td>\n",
              "      <td>NaN</td>\n",
              "    </tr>\n",
              "    <tr>\n",
              "      <th>3</th>\n",
              "      <td>bar</td>\n",
              "      <td>one</td>\n",
              "      <td>3</td>\n",
              "      <td>6.0</td>\n",
              "    </tr>\n",
              "  </tbody>\n",
              "</table>\n",
              "</div>"
            ],
            "text/plain": [
              "  key1 key2  lval  rval\n",
              "0  foo  one     1   4.0\n",
              "1  foo  one     1   5.0\n",
              "2  foo  two     2   NaN\n",
              "3  bar  one     3   6.0"
            ]
          },
          "execution_count": 128,
          "metadata": {},
          "output_type": "execute_result"
        }
      ],
      "source": [
        "pd.merge(left, right, on=['key1', 'key2'], how='left')"
      ]
    },
    {
      "cell_type": "markdown",
      "id": "3c7d750b",
      "metadata": {
        "id": "3c7d750b"
      },
      "source": [
        "A last issue to consider in merge operations is the treatment of overlapping column\n",
        "names. While you can address the overlap manually (see the earlier section on\n",
        "renaming axis labels), merge has a suffixes option for specifying strings to append\n",
        "to overlapping names in the left and right DataFrame objects:\n"
      ]
    },
    {
      "cell_type": "code",
      "execution_count": null,
      "id": "d9ef822d",
      "metadata": {
        "id": "d9ef822d",
        "outputId": "4a2381a9-314e-428b-ed24-317b02f9fe1a"
      },
      "outputs": [
        {
          "data": {
            "text/html": [
              "<div>\n",
              "<style scoped>\n",
              "    .dataframe tbody tr th:only-of-type {\n",
              "        vertical-align: middle;\n",
              "    }\n",
              "\n",
              "    .dataframe tbody tr th {\n",
              "        vertical-align: top;\n",
              "    }\n",
              "\n",
              "    .dataframe thead th {\n",
              "        text-align: right;\n",
              "    }\n",
              "</style>\n",
              "<table border=\"1\" class=\"dataframe\">\n",
              "  <thead>\n",
              "    <tr style=\"text-align: right;\">\n",
              "      <th></th>\n",
              "      <th>key1</th>\n",
              "      <th>key2_x</th>\n",
              "      <th>lval</th>\n",
              "      <th>key2_y</th>\n",
              "      <th>rval</th>\n",
              "    </tr>\n",
              "  </thead>\n",
              "  <tbody>\n",
              "    <tr>\n",
              "      <th>0</th>\n",
              "      <td>foo</td>\n",
              "      <td>one</td>\n",
              "      <td>1</td>\n",
              "      <td>one</td>\n",
              "      <td>4</td>\n",
              "    </tr>\n",
              "    <tr>\n",
              "      <th>1</th>\n",
              "      <td>foo</td>\n",
              "      <td>one</td>\n",
              "      <td>1</td>\n",
              "      <td>one</td>\n",
              "      <td>5</td>\n",
              "    </tr>\n",
              "    <tr>\n",
              "      <th>2</th>\n",
              "      <td>foo</td>\n",
              "      <td>two</td>\n",
              "      <td>2</td>\n",
              "      <td>one</td>\n",
              "      <td>4</td>\n",
              "    </tr>\n",
              "    <tr>\n",
              "      <th>3</th>\n",
              "      <td>foo</td>\n",
              "      <td>two</td>\n",
              "      <td>2</td>\n",
              "      <td>one</td>\n",
              "      <td>5</td>\n",
              "    </tr>\n",
              "    <tr>\n",
              "      <th>4</th>\n",
              "      <td>bar</td>\n",
              "      <td>one</td>\n",
              "      <td>3</td>\n",
              "      <td>one</td>\n",
              "      <td>6</td>\n",
              "    </tr>\n",
              "    <tr>\n",
              "      <th>5</th>\n",
              "      <td>bar</td>\n",
              "      <td>one</td>\n",
              "      <td>3</td>\n",
              "      <td>two</td>\n",
              "      <td>7</td>\n",
              "    </tr>\n",
              "  </tbody>\n",
              "</table>\n",
              "</div>"
            ],
            "text/plain": [
              "  key1 key2_x  lval key2_y  rval\n",
              "0  foo    one     1    one     4\n",
              "1  foo    one     1    one     5\n",
              "2  foo    two     2    one     4\n",
              "3  foo    two     2    one     5\n",
              "4  bar    one     3    one     6\n",
              "5  bar    one     3    two     7"
            ]
          },
          "execution_count": 129,
          "metadata": {},
          "output_type": "execute_result"
        }
      ],
      "source": [
        "pd.merge(left, right, on='key1')"
      ]
    },
    {
      "cell_type": "code",
      "execution_count": null,
      "id": "3734407d",
      "metadata": {
        "id": "3734407d",
        "outputId": "01483afa-e29f-43a1-81f4-9c7c8883830a"
      },
      "outputs": [
        {
          "data": {
            "text/html": [
              "<div>\n",
              "<style scoped>\n",
              "    .dataframe tbody tr th:only-of-type {\n",
              "        vertical-align: middle;\n",
              "    }\n",
              "\n",
              "    .dataframe tbody tr th {\n",
              "        vertical-align: top;\n",
              "    }\n",
              "\n",
              "    .dataframe thead th {\n",
              "        text-align: right;\n",
              "    }\n",
              "</style>\n",
              "<table border=\"1\" class=\"dataframe\">\n",
              "  <thead>\n",
              "    <tr style=\"text-align: right;\">\n",
              "      <th></th>\n",
              "      <th>key1</th>\n",
              "      <th>key2_left</th>\n",
              "      <th>lval</th>\n",
              "      <th>key2_right</th>\n",
              "      <th>rval</th>\n",
              "    </tr>\n",
              "  </thead>\n",
              "  <tbody>\n",
              "    <tr>\n",
              "      <th>0</th>\n",
              "      <td>foo</td>\n",
              "      <td>one</td>\n",
              "      <td>1</td>\n",
              "      <td>one</td>\n",
              "      <td>4</td>\n",
              "    </tr>\n",
              "    <tr>\n",
              "      <th>1</th>\n",
              "      <td>foo</td>\n",
              "      <td>one</td>\n",
              "      <td>1</td>\n",
              "      <td>one</td>\n",
              "      <td>5</td>\n",
              "    </tr>\n",
              "    <tr>\n",
              "      <th>2</th>\n",
              "      <td>foo</td>\n",
              "      <td>two</td>\n",
              "      <td>2</td>\n",
              "      <td>one</td>\n",
              "      <td>4</td>\n",
              "    </tr>\n",
              "    <tr>\n",
              "      <th>3</th>\n",
              "      <td>foo</td>\n",
              "      <td>two</td>\n",
              "      <td>2</td>\n",
              "      <td>one</td>\n",
              "      <td>5</td>\n",
              "    </tr>\n",
              "    <tr>\n",
              "      <th>4</th>\n",
              "      <td>bar</td>\n",
              "      <td>one</td>\n",
              "      <td>3</td>\n",
              "      <td>one</td>\n",
              "      <td>6</td>\n",
              "    </tr>\n",
              "    <tr>\n",
              "      <th>5</th>\n",
              "      <td>bar</td>\n",
              "      <td>one</td>\n",
              "      <td>3</td>\n",
              "      <td>two</td>\n",
              "      <td>7</td>\n",
              "    </tr>\n",
              "  </tbody>\n",
              "</table>\n",
              "</div>"
            ],
            "text/plain": [
              "  key1 key2_left  lval key2_right  rval\n",
              "0  foo       one     1        one     4\n",
              "1  foo       one     1        one     5\n",
              "2  foo       two     2        one     4\n",
              "3  foo       two     2        one     5\n",
              "4  bar       one     3        one     6\n",
              "5  bar       one     3        two     7"
            ]
          },
          "execution_count": 130,
          "metadata": {},
          "output_type": "execute_result"
        }
      ],
      "source": [
        " pd.merge(left, right, on='key1', suffixes=('_left', '_right'))"
      ]
    },
    {
      "cell_type": "markdown",
      "id": "d8f698e3",
      "metadata": {
        "id": "d8f698e3"
      },
      "source": [
        "### Merging on Index"
      ]
    },
    {
      "cell_type": "markdown",
      "id": "29df5d56",
      "metadata": {
        "id": "29df5d56"
      },
      "source": [
        "In some cases, the merge key(s) in a DataFrame will be found in its index. In this\n",
        "case, you can pass left_index=True or right_index=True (or both) to indicate that\n",
        "the index should be used as the merge key:"
      ]
    },
    {
      "cell_type": "code",
      "execution_count": null,
      "id": "737b1dc1",
      "metadata": {
        "id": "737b1dc1"
      },
      "outputs": [],
      "source": [
        "import pandas as pd\n",
        "import numpy as np\n",
        "left1 = pd.DataFrame({'Key':['a','b','c','d','e'],'value':range(5)})"
      ]
    },
    {
      "cell_type": "code",
      "execution_count": null,
      "id": "3e7bbad2",
      "metadata": {
        "id": "3e7bbad2"
      },
      "outputs": [],
      "source": [
        "left1.set_index('Key',inplace=True)"
      ]
    },
    {
      "cell_type": "code",
      "execution_count": null,
      "id": "f0f70d65",
      "metadata": {
        "id": "f0f70d65",
        "outputId": "795753df-840e-458e-9605-76323e534ca2"
      },
      "outputs": [
        {
          "data": {
            "text/html": [
              "<div>\n",
              "<style scoped>\n",
              "    .dataframe tbody tr th:only-of-type {\n",
              "        vertical-align: middle;\n",
              "    }\n",
              "\n",
              "    .dataframe tbody tr th {\n",
              "        vertical-align: top;\n",
              "    }\n",
              "\n",
              "    .dataframe thead th {\n",
              "        text-align: right;\n",
              "    }\n",
              "</style>\n",
              "<table border=\"1\" class=\"dataframe\">\n",
              "  <thead>\n",
              "    <tr style=\"text-align: right;\">\n",
              "      <th></th>\n",
              "      <th>value</th>\n",
              "    </tr>\n",
              "    <tr>\n",
              "      <th>Key</th>\n",
              "      <th></th>\n",
              "    </tr>\n",
              "  </thead>\n",
              "  <tbody>\n",
              "    <tr>\n",
              "      <th>a</th>\n",
              "      <td>0</td>\n",
              "    </tr>\n",
              "    <tr>\n",
              "      <th>b</th>\n",
              "      <td>1</td>\n",
              "    </tr>\n",
              "    <tr>\n",
              "      <th>c</th>\n",
              "      <td>2</td>\n",
              "    </tr>\n",
              "    <tr>\n",
              "      <th>d</th>\n",
              "      <td>3</td>\n",
              "    </tr>\n",
              "    <tr>\n",
              "      <th>e</th>\n",
              "      <td>4</td>\n",
              "    </tr>\n",
              "  </tbody>\n",
              "</table>\n",
              "</div>"
            ],
            "text/plain": [
              "     value\n",
              "Key       \n",
              "a        0\n",
              "b        1\n",
              "c        2\n",
              "d        3\n",
              "e        4"
            ]
          },
          "execution_count": 34,
          "metadata": {},
          "output_type": "execute_result"
        }
      ],
      "source": [
        "left1"
      ]
    },
    {
      "cell_type": "code",
      "execution_count": null,
      "id": "6cf2c23e",
      "metadata": {
        "id": "6cf2c23e"
      },
      "outputs": [],
      "source": [
        "right1 = pd.DataFrame({'key':['a','b'],'group_val': [3.5, 7]})\n"
      ]
    },
    {
      "cell_type": "code",
      "execution_count": null,
      "id": "e6451fd3",
      "metadata": {
        "id": "e6451fd3",
        "outputId": "321fb2e6-684b-4fec-dc55-defc60d6f9fd"
      },
      "outputs": [
        {
          "data": {
            "text/html": [
              "<div>\n",
              "<style scoped>\n",
              "    .dataframe tbody tr th:only-of-type {\n",
              "        vertical-align: middle;\n",
              "    }\n",
              "\n",
              "    .dataframe tbody tr th {\n",
              "        vertical-align: top;\n",
              "    }\n",
              "\n",
              "    .dataframe thead th {\n",
              "        text-align: right;\n",
              "    }\n",
              "</style>\n",
              "<table border=\"1\" class=\"dataframe\">\n",
              "  <thead>\n",
              "    <tr style=\"text-align: right;\">\n",
              "      <th></th>\n",
              "      <th>key</th>\n",
              "      <th>group_val</th>\n",
              "    </tr>\n",
              "  </thead>\n",
              "  <tbody>\n",
              "    <tr>\n",
              "      <th>0</th>\n",
              "      <td>a</td>\n",
              "      <td>3.5</td>\n",
              "    </tr>\n",
              "    <tr>\n",
              "      <th>1</th>\n",
              "      <td>b</td>\n",
              "      <td>7.0</td>\n",
              "    </tr>\n",
              "  </tbody>\n",
              "</table>\n",
              "</div>"
            ],
            "text/plain": [
              "  key  group_val\n",
              "0   a        3.5\n",
              "1   b        7.0"
            ]
          },
          "execution_count": 36,
          "metadata": {},
          "output_type": "execute_result"
        }
      ],
      "source": [
        "right1"
      ]
    },
    {
      "cell_type": "code",
      "execution_count": null,
      "id": "b324fb30",
      "metadata": {
        "id": "b324fb30",
        "outputId": "d9d11c89-bd18-40bc-d684-57a7def0fbb4"
      },
      "outputs": [
        {
          "data": {
            "text/html": [
              "<div>\n",
              "<style scoped>\n",
              "    .dataframe tbody tr th:only-of-type {\n",
              "        vertical-align: middle;\n",
              "    }\n",
              "\n",
              "    .dataframe tbody tr th {\n",
              "        vertical-align: top;\n",
              "    }\n",
              "\n",
              "    .dataframe thead th {\n",
              "        text-align: right;\n",
              "    }\n",
              "</style>\n",
              "<table border=\"1\" class=\"dataframe\">\n",
              "  <thead>\n",
              "    <tr style=\"text-align: right;\">\n",
              "      <th></th>\n",
              "      <th>value</th>\n",
              "      <th>key</th>\n",
              "      <th>group_val</th>\n",
              "    </tr>\n",
              "  </thead>\n",
              "  <tbody>\n",
              "    <tr>\n",
              "      <th>0</th>\n",
              "      <td>0</td>\n",
              "      <td>a</td>\n",
              "      <td>3.5</td>\n",
              "    </tr>\n",
              "    <tr>\n",
              "      <th>1</th>\n",
              "      <td>1</td>\n",
              "      <td>b</td>\n",
              "      <td>7.0</td>\n",
              "    </tr>\n",
              "  </tbody>\n",
              "</table>\n",
              "</div>"
            ],
            "text/plain": [
              "   value key  group_val\n",
              "0      0   a        3.5\n",
              "1      1   b        7.0"
            ]
          },
          "execution_count": 47,
          "metadata": {},
          "output_type": "execute_result"
        }
      ],
      "source": [
        "pd.merge(left1, right1,right_on='key',left_index = True,how='inner')\n"
      ]
    },
    {
      "cell_type": "markdown",
      "id": "c004f7d8",
      "metadata": {
        "id": "c004f7d8"
      },
      "source": [
        "Since the default merge method is to intersect the join keys, you can instead form the\n",
        "union of them with an outer join:"
      ]
    },
    {
      "cell_type": "code",
      "execution_count": null,
      "id": "c3421f1b",
      "metadata": {
        "id": "c3421f1b",
        "outputId": "0cdbda15-cbc1-4e60-9c11-faf68c5c4878"
      },
      "outputs": [
        {
          "data": {
            "text/html": [
              "<div>\n",
              "<style scoped>\n",
              "    .dataframe tbody tr th:only-of-type {\n",
              "        vertical-align: middle;\n",
              "    }\n",
              "\n",
              "    .dataframe tbody tr th {\n",
              "        vertical-align: top;\n",
              "    }\n",
              "\n",
              "    .dataframe thead th {\n",
              "        text-align: right;\n",
              "    }\n",
              "</style>\n",
              "<table border=\"1\" class=\"dataframe\">\n",
              "  <thead>\n",
              "    <tr style=\"text-align: right;\">\n",
              "      <th></th>\n",
              "      <th>value</th>\n",
              "      <th>key</th>\n",
              "      <th>group_val</th>\n",
              "    </tr>\n",
              "  </thead>\n",
              "  <tbody>\n",
              "    <tr>\n",
              "      <th>0.0</th>\n",
              "      <td>0</td>\n",
              "      <td>a</td>\n",
              "      <td>3.5</td>\n",
              "    </tr>\n",
              "    <tr>\n",
              "      <th>1.0</th>\n",
              "      <td>1</td>\n",
              "      <td>b</td>\n",
              "      <td>7.0</td>\n",
              "    </tr>\n",
              "    <tr>\n",
              "      <th>NaN</th>\n",
              "      <td>2</td>\n",
              "      <td>c</td>\n",
              "      <td>NaN</td>\n",
              "    </tr>\n",
              "    <tr>\n",
              "      <th>NaN</th>\n",
              "      <td>3</td>\n",
              "      <td>d</td>\n",
              "      <td>NaN</td>\n",
              "    </tr>\n",
              "    <tr>\n",
              "      <th>NaN</th>\n",
              "      <td>4</td>\n",
              "      <td>e</td>\n",
              "      <td>NaN</td>\n",
              "    </tr>\n",
              "  </tbody>\n",
              "</table>\n",
              "</div>"
            ],
            "text/plain": [
              "     value key  group_val\n",
              "0.0      0   a        3.5\n",
              "1.0      1   b        7.0\n",
              "NaN      2   c        NaN\n",
              "NaN      3   d        NaN\n",
              "NaN      4   e        NaN"
            ]
          },
          "execution_count": 49,
          "metadata": {},
          "output_type": "execute_result"
        }
      ],
      "source": [
        " pd.merge(left1, right1, right_on='key', left_index=True, how='outer')"
      ]
    },
    {
      "cell_type": "code",
      "execution_count": null,
      "id": "ee3fb13e",
      "metadata": {
        "id": "ee3fb13e"
      },
      "outputs": [],
      "source": [
        " lefth = pd.DataFrame({'key1': ['Ohio', 'Ohio', 'Ohio','Nevada', 'Nevada'],'key2': [2000, 2001, 2002, 2001, 2002],\n",
        " ....: 'data': np.arange(5.)})\n"
      ]
    },
    {
      "cell_type": "code",
      "execution_count": null,
      "id": "fb5e3e93",
      "metadata": {
        "id": "fb5e3e93",
        "outputId": "7d72f5d2-65db-48eb-ab4c-b41f997eee99"
      },
      "outputs": [
        {
          "data": {
            "text/html": [
              "<div>\n",
              "<style scoped>\n",
              "    .dataframe tbody tr th:only-of-type {\n",
              "        vertical-align: middle;\n",
              "    }\n",
              "\n",
              "    .dataframe tbody tr th {\n",
              "        vertical-align: top;\n",
              "    }\n",
              "\n",
              "    .dataframe thead th {\n",
              "        text-align: right;\n",
              "    }\n",
              "</style>\n",
              "<table border=\"1\" class=\"dataframe\">\n",
              "  <thead>\n",
              "    <tr style=\"text-align: right;\">\n",
              "      <th></th>\n",
              "      <th>key1</th>\n",
              "      <th>key2</th>\n",
              "      <th>data</th>\n",
              "    </tr>\n",
              "  </thead>\n",
              "  <tbody>\n",
              "    <tr>\n",
              "      <th>0</th>\n",
              "      <td>Ohio</td>\n",
              "      <td>2000</td>\n",
              "      <td>0.0</td>\n",
              "    </tr>\n",
              "    <tr>\n",
              "      <th>1</th>\n",
              "      <td>Ohio</td>\n",
              "      <td>2001</td>\n",
              "      <td>1.0</td>\n",
              "    </tr>\n",
              "    <tr>\n",
              "      <th>2</th>\n",
              "      <td>Ohio</td>\n",
              "      <td>2002</td>\n",
              "      <td>2.0</td>\n",
              "    </tr>\n",
              "    <tr>\n",
              "      <th>3</th>\n",
              "      <td>Nevada</td>\n",
              "      <td>2001</td>\n",
              "      <td>3.0</td>\n",
              "    </tr>\n",
              "    <tr>\n",
              "      <th>4</th>\n",
              "      <td>Nevada</td>\n",
              "      <td>2002</td>\n",
              "      <td>4.0</td>\n",
              "    </tr>\n",
              "  </tbody>\n",
              "</table>\n",
              "</div>"
            ],
            "text/plain": [
              "     key1  key2  data\n",
              "0    Ohio  2000   0.0\n",
              "1    Ohio  2001   1.0\n",
              "2    Ohio  2002   2.0\n",
              "3  Nevada  2001   3.0\n",
              "4  Nevada  2002   4.0"
            ]
          },
          "execution_count": 6,
          "metadata": {},
          "output_type": "execute_result"
        }
      ],
      "source": [
        "lefth"
      ]
    },
    {
      "cell_type": "code",
      "execution_count": null,
      "id": "ee217f83",
      "metadata": {
        "id": "ee217f83"
      },
      "outputs": [],
      "source": [
        "righth = pd.DataFrame(np.arange(12).reshape((6, 2)),index=[['Nevada', 'Nevada', 'Ohio', 'Ohio','Ohio', 'Ohio'],\n",
        " ....: [2001, 2000, 2000, 2000, 2001, 2002]],\n",
        " ....: columns=['event1', 'event2'])\n"
      ]
    },
    {
      "cell_type": "code",
      "execution_count": null,
      "id": "60284e2d",
      "metadata": {
        "id": "60284e2d",
        "outputId": "cd1db704-a74d-4ba6-8a6d-f05281d9fee3"
      },
      "outputs": [
        {
          "data": {
            "text/html": [
              "<div>\n",
              "<style scoped>\n",
              "    .dataframe tbody tr th:only-of-type {\n",
              "        vertical-align: middle;\n",
              "    }\n",
              "\n",
              "    .dataframe tbody tr th {\n",
              "        vertical-align: top;\n",
              "    }\n",
              "\n",
              "    .dataframe thead th {\n",
              "        text-align: right;\n",
              "    }\n",
              "</style>\n",
              "<table border=\"1\" class=\"dataframe\">\n",
              "  <thead>\n",
              "    <tr style=\"text-align: right;\">\n",
              "      <th></th>\n",
              "      <th></th>\n",
              "      <th>event1</th>\n",
              "      <th>event2</th>\n",
              "    </tr>\n",
              "  </thead>\n",
              "  <tbody>\n",
              "    <tr>\n",
              "      <th rowspan=\"2\" valign=\"top\">Nevada</th>\n",
              "      <th>2001</th>\n",
              "      <td>0</td>\n",
              "      <td>1</td>\n",
              "    </tr>\n",
              "    <tr>\n",
              "      <th>2000</th>\n",
              "      <td>2</td>\n",
              "      <td>3</td>\n",
              "    </tr>\n",
              "    <tr>\n",
              "      <th rowspan=\"4\" valign=\"top\">Ohio</th>\n",
              "      <th>2000</th>\n",
              "      <td>4</td>\n",
              "      <td>5</td>\n",
              "    </tr>\n",
              "    <tr>\n",
              "      <th>2000</th>\n",
              "      <td>6</td>\n",
              "      <td>7</td>\n",
              "    </tr>\n",
              "    <tr>\n",
              "      <th>2001</th>\n",
              "      <td>8</td>\n",
              "      <td>9</td>\n",
              "    </tr>\n",
              "    <tr>\n",
              "      <th>2002</th>\n",
              "      <td>10</td>\n",
              "      <td>11</td>\n",
              "    </tr>\n",
              "  </tbody>\n",
              "</table>\n",
              "</div>"
            ],
            "text/plain": [
              "             event1  event2\n",
              "Nevada 2001       0       1\n",
              "       2000       2       3\n",
              "Ohio   2000       4       5\n",
              "       2000       6       7\n",
              "       2001       8       9\n",
              "       2002      10      11"
            ]
          },
          "execution_count": 8,
          "metadata": {},
          "output_type": "execute_result"
        }
      ],
      "source": [
        "righth"
      ]
    },
    {
      "cell_type": "code",
      "execution_count": null,
      "id": "da48bd1b",
      "metadata": {
        "id": "da48bd1b",
        "outputId": "93b78a62-0b14-427a-a4c2-c3d4d4967acf"
      },
      "outputs": [
        {
          "data": {
            "text/html": [
              "<div>\n",
              "<style scoped>\n",
              "    .dataframe tbody tr th:only-of-type {\n",
              "        vertical-align: middle;\n",
              "    }\n",
              "\n",
              "    .dataframe tbody tr th {\n",
              "        vertical-align: top;\n",
              "    }\n",
              "\n",
              "    .dataframe thead th {\n",
              "        text-align: right;\n",
              "    }\n",
              "</style>\n",
              "<table border=\"1\" class=\"dataframe\">\n",
              "  <thead>\n",
              "    <tr style=\"text-align: right;\">\n",
              "      <th></th>\n",
              "      <th>key1</th>\n",
              "      <th>key2</th>\n",
              "      <th>data</th>\n",
              "      <th>event1</th>\n",
              "      <th>event2</th>\n",
              "    </tr>\n",
              "  </thead>\n",
              "  <tbody>\n",
              "    <tr>\n",
              "      <th>0</th>\n",
              "      <td>Ohio</td>\n",
              "      <td>2000</td>\n",
              "      <td>0.0</td>\n",
              "      <td>4</td>\n",
              "      <td>5</td>\n",
              "    </tr>\n",
              "    <tr>\n",
              "      <th>0</th>\n",
              "      <td>Ohio</td>\n",
              "      <td>2000</td>\n",
              "      <td>0.0</td>\n",
              "      <td>6</td>\n",
              "      <td>7</td>\n",
              "    </tr>\n",
              "    <tr>\n",
              "      <th>1</th>\n",
              "      <td>Ohio</td>\n",
              "      <td>2001</td>\n",
              "      <td>1.0</td>\n",
              "      <td>8</td>\n",
              "      <td>9</td>\n",
              "    </tr>\n",
              "    <tr>\n",
              "      <th>2</th>\n",
              "      <td>Ohio</td>\n",
              "      <td>2002</td>\n",
              "      <td>2.0</td>\n",
              "      <td>10</td>\n",
              "      <td>11</td>\n",
              "    </tr>\n",
              "    <tr>\n",
              "      <th>3</th>\n",
              "      <td>Nevada</td>\n",
              "      <td>2001</td>\n",
              "      <td>3.0</td>\n",
              "      <td>0</td>\n",
              "      <td>1</td>\n",
              "    </tr>\n",
              "  </tbody>\n",
              "</table>\n",
              "</div>"
            ],
            "text/plain": [
              "     key1  key2  data  event1  event2\n",
              "0    Ohio  2000   0.0       4       5\n",
              "0    Ohio  2000   0.0       6       7\n",
              "1    Ohio  2001   1.0       8       9\n",
              "2    Ohio  2002   2.0      10      11\n",
              "3  Nevada  2001   3.0       0       1"
            ]
          },
          "execution_count": 9,
          "metadata": {},
          "output_type": "execute_result"
        }
      ],
      "source": [
        " pd.merge(lefth, righth, left_on=['key1', 'key2'], right_index=True)"
      ]
    },
    {
      "cell_type": "code",
      "execution_count": null,
      "id": "bca473bf",
      "metadata": {
        "id": "bca473bf",
        "outputId": "68763bc3-4862-403c-f0a8-b249e749ac52"
      },
      "outputs": [
        {
          "data": {
            "text/html": [
              "<div>\n",
              "<style scoped>\n",
              "    .dataframe tbody tr th:only-of-type {\n",
              "        vertical-align: middle;\n",
              "    }\n",
              "\n",
              "    .dataframe tbody tr th {\n",
              "        vertical-align: top;\n",
              "    }\n",
              "\n",
              "    .dataframe thead th {\n",
              "        text-align: right;\n",
              "    }\n",
              "</style>\n",
              "<table border=\"1\" class=\"dataframe\">\n",
              "  <thead>\n",
              "    <tr style=\"text-align: right;\">\n",
              "      <th></th>\n",
              "      <th>key1</th>\n",
              "      <th>key2</th>\n",
              "      <th>data</th>\n",
              "      <th>event1</th>\n",
              "      <th>event2</th>\n",
              "    </tr>\n",
              "  </thead>\n",
              "  <tbody>\n",
              "    <tr>\n",
              "      <th>0</th>\n",
              "      <td>Ohio</td>\n",
              "      <td>2000</td>\n",
              "      <td>0.0</td>\n",
              "      <td>4.0</td>\n",
              "      <td>5.0</td>\n",
              "    </tr>\n",
              "    <tr>\n",
              "      <th>0</th>\n",
              "      <td>Ohio</td>\n",
              "      <td>2000</td>\n",
              "      <td>0.0</td>\n",
              "      <td>6.0</td>\n",
              "      <td>7.0</td>\n",
              "    </tr>\n",
              "    <tr>\n",
              "      <th>1</th>\n",
              "      <td>Ohio</td>\n",
              "      <td>2001</td>\n",
              "      <td>1.0</td>\n",
              "      <td>8.0</td>\n",
              "      <td>9.0</td>\n",
              "    </tr>\n",
              "    <tr>\n",
              "      <th>2</th>\n",
              "      <td>Ohio</td>\n",
              "      <td>2002</td>\n",
              "      <td>2.0</td>\n",
              "      <td>10.0</td>\n",
              "      <td>11.0</td>\n",
              "    </tr>\n",
              "    <tr>\n",
              "      <th>3</th>\n",
              "      <td>Nevada</td>\n",
              "      <td>2001</td>\n",
              "      <td>3.0</td>\n",
              "      <td>0.0</td>\n",
              "      <td>1.0</td>\n",
              "    </tr>\n",
              "    <tr>\n",
              "      <th>4</th>\n",
              "      <td>Nevada</td>\n",
              "      <td>2002</td>\n",
              "      <td>4.0</td>\n",
              "      <td>NaN</td>\n",
              "      <td>NaN</td>\n",
              "    </tr>\n",
              "    <tr>\n",
              "      <th>4</th>\n",
              "      <td>Nevada</td>\n",
              "      <td>2000</td>\n",
              "      <td>NaN</td>\n",
              "      <td>2.0</td>\n",
              "      <td>3.0</td>\n",
              "    </tr>\n",
              "  </tbody>\n",
              "</table>\n",
              "</div>"
            ],
            "text/plain": [
              "     key1  key2  data  event1  event2\n",
              "0    Ohio  2000   0.0     4.0     5.0\n",
              "0    Ohio  2000   0.0     6.0     7.0\n",
              "1    Ohio  2001   1.0     8.0     9.0\n",
              "2    Ohio  2002   2.0    10.0    11.0\n",
              "3  Nevada  2001   3.0     0.0     1.0\n",
              "4  Nevada  2002   4.0     NaN     NaN\n",
              "4  Nevada  2000   NaN     2.0     3.0"
            ]
          },
          "execution_count": 50,
          "metadata": {},
          "output_type": "execute_result"
        }
      ],
      "source": [
        " pd.merge(lefth, righth, left_on=['key1', 'key2'],right_index=True, how='outer')\n"
      ]
    },
    {
      "cell_type": "markdown",
      "id": "1ff494d3",
      "metadata": {
        "id": "1ff494d3"
      },
      "source": [
        "Using the indexes of both sides of the merge is also possible:\n"
      ]
    },
    {
      "cell_type": "code",
      "execution_count": null,
      "id": "c7b1be76",
      "metadata": {
        "id": "c7b1be76"
      },
      "outputs": [],
      "source": [
        "left2 = pd.DataFrame([[1., 2.], [3., 4.], [5., 6.]],index=['a', 'c', 'e'],columns=['Ohio', 'Nevada'])\n"
      ]
    },
    {
      "cell_type": "code",
      "execution_count": null,
      "id": "a1e57543",
      "metadata": {
        "id": "a1e57543"
      },
      "outputs": [],
      "source": [
        "right2 = pd.DataFrame([[7., 8.], [9., 10.], [11., 12.], [13, 14]],index=['b', 'c', 'd', 'e'],columns=['Missouri', 'Alabama'])"
      ]
    },
    {
      "cell_type": "code",
      "execution_count": null,
      "id": "e49eda4a",
      "metadata": {
        "id": "e49eda4a",
        "outputId": "2d30b2c3-ad17-43aa-a296-73033a5216a0"
      },
      "outputs": [
        {
          "data": {
            "text/html": [
              "<div>\n",
              "<style scoped>\n",
              "    .dataframe tbody tr th:only-of-type {\n",
              "        vertical-align: middle;\n",
              "    }\n",
              "\n",
              "    .dataframe tbody tr th {\n",
              "        vertical-align: top;\n",
              "    }\n",
              "\n",
              "    .dataframe thead th {\n",
              "        text-align: right;\n",
              "    }\n",
              "</style>\n",
              "<table border=\"1\" class=\"dataframe\">\n",
              "  <thead>\n",
              "    <tr style=\"text-align: right;\">\n",
              "      <th></th>\n",
              "      <th>Ohio</th>\n",
              "      <th>Nevada</th>\n",
              "    </tr>\n",
              "  </thead>\n",
              "  <tbody>\n",
              "    <tr>\n",
              "      <th>a</th>\n",
              "      <td>1.0</td>\n",
              "      <td>2.0</td>\n",
              "    </tr>\n",
              "    <tr>\n",
              "      <th>c</th>\n",
              "      <td>3.0</td>\n",
              "      <td>4.0</td>\n",
              "    </tr>\n",
              "    <tr>\n",
              "      <th>e</th>\n",
              "      <td>5.0</td>\n",
              "      <td>6.0</td>\n",
              "    </tr>\n",
              "  </tbody>\n",
              "</table>\n",
              "</div>"
            ],
            "text/plain": [
              "   Ohio  Nevada\n",
              "a   1.0     2.0\n",
              "c   3.0     4.0\n",
              "e   5.0     6.0"
            ]
          },
          "execution_count": 15,
          "metadata": {},
          "output_type": "execute_result"
        }
      ],
      "source": [
        "left2"
      ]
    },
    {
      "cell_type": "code",
      "execution_count": null,
      "id": "629de08e",
      "metadata": {
        "id": "629de08e",
        "outputId": "fdbef955-449b-44d2-8e3c-8cc5c81c0a22"
      },
      "outputs": [
        {
          "data": {
            "text/html": [
              "<div>\n",
              "<style scoped>\n",
              "    .dataframe tbody tr th:only-of-type {\n",
              "        vertical-align: middle;\n",
              "    }\n",
              "\n",
              "    .dataframe tbody tr th {\n",
              "        vertical-align: top;\n",
              "    }\n",
              "\n",
              "    .dataframe thead th {\n",
              "        text-align: right;\n",
              "    }\n",
              "</style>\n",
              "<table border=\"1\" class=\"dataframe\">\n",
              "  <thead>\n",
              "    <tr style=\"text-align: right;\">\n",
              "      <th></th>\n",
              "      <th>Missouri</th>\n",
              "      <th>Alabama</th>\n",
              "    </tr>\n",
              "  </thead>\n",
              "  <tbody>\n",
              "    <tr>\n",
              "      <th>b</th>\n",
              "      <td>7.0</td>\n",
              "      <td>8.0</td>\n",
              "    </tr>\n",
              "    <tr>\n",
              "      <th>c</th>\n",
              "      <td>9.0</td>\n",
              "      <td>10.0</td>\n",
              "    </tr>\n",
              "    <tr>\n",
              "      <th>d</th>\n",
              "      <td>11.0</td>\n",
              "      <td>12.0</td>\n",
              "    </tr>\n",
              "    <tr>\n",
              "      <th>e</th>\n",
              "      <td>13.0</td>\n",
              "      <td>14.0</td>\n",
              "    </tr>\n",
              "  </tbody>\n",
              "</table>\n",
              "</div>"
            ],
            "text/plain": [
              "   Missouri  Alabama\n",
              "b       7.0      8.0\n",
              "c       9.0     10.0\n",
              "d      11.0     12.0\n",
              "e      13.0     14.0"
            ]
          },
          "execution_count": 16,
          "metadata": {},
          "output_type": "execute_result"
        }
      ],
      "source": [
        "right2"
      ]
    },
    {
      "cell_type": "code",
      "execution_count": null,
      "id": "6cee0ce6",
      "metadata": {
        "id": "6cee0ce6",
        "outputId": "6c55cdbf-5e56-4bd5-a667-f1ca2782f43d"
      },
      "outputs": [
        {
          "data": {
            "text/html": [
              "<div>\n",
              "<style scoped>\n",
              "    .dataframe tbody tr th:only-of-type {\n",
              "        vertical-align: middle;\n",
              "    }\n",
              "\n",
              "    .dataframe tbody tr th {\n",
              "        vertical-align: top;\n",
              "    }\n",
              "\n",
              "    .dataframe thead th {\n",
              "        text-align: right;\n",
              "    }\n",
              "</style>\n",
              "<table border=\"1\" class=\"dataframe\">\n",
              "  <thead>\n",
              "    <tr style=\"text-align: right;\">\n",
              "      <th></th>\n",
              "      <th>Ohio</th>\n",
              "      <th>Nevada</th>\n",
              "      <th>Missouri</th>\n",
              "      <th>Alabama</th>\n",
              "    </tr>\n",
              "  </thead>\n",
              "  <tbody>\n",
              "    <tr>\n",
              "      <th>c</th>\n",
              "      <td>3.0</td>\n",
              "      <td>4.0</td>\n",
              "      <td>9.0</td>\n",
              "      <td>10.0</td>\n",
              "    </tr>\n",
              "    <tr>\n",
              "      <th>e</th>\n",
              "      <td>5.0</td>\n",
              "      <td>6.0</td>\n",
              "      <td>13.0</td>\n",
              "      <td>14.0</td>\n",
              "    </tr>\n",
              "  </tbody>\n",
              "</table>\n",
              "</div>"
            ],
            "text/plain": [
              "   Ohio  Nevada  Missouri  Alabama\n",
              "c   3.0     4.0       9.0     10.0\n",
              "e   5.0     6.0      13.0     14.0"
            ]
          },
          "execution_count": 54,
          "metadata": {},
          "output_type": "execute_result"
        }
      ],
      "source": [
        "pd.merge(left2, right2, how='inner',left_index=True,right_index=True)\n",
        "\n",
        "#perform merge operation in both left and right table index [left_index=True,right_index=True]"
      ]
    },
    {
      "cell_type": "code",
      "execution_count": null,
      "id": "ec823bd7",
      "metadata": {
        "id": "ec823bd7",
        "outputId": "6be8995d-3c5c-46f0-c7a3-e0d0b5e69c0b"
      },
      "outputs": [
        {
          "data": {
            "text/html": [
              "<div>\n",
              "<style scoped>\n",
              "    .dataframe tbody tr th:only-of-type {\n",
              "        vertical-align: middle;\n",
              "    }\n",
              "\n",
              "    .dataframe tbody tr th {\n",
              "        vertical-align: top;\n",
              "    }\n",
              "\n",
              "    .dataframe thead th {\n",
              "        text-align: right;\n",
              "    }\n",
              "</style>\n",
              "<table border=\"1\" class=\"dataframe\">\n",
              "  <thead>\n",
              "    <tr style=\"text-align: right;\">\n",
              "      <th></th>\n",
              "      <th>Ohio</th>\n",
              "      <th>Nevada</th>\n",
              "      <th>Missouri</th>\n",
              "      <th>Alabama</th>\n",
              "    </tr>\n",
              "  </thead>\n",
              "  <tbody>\n",
              "    <tr>\n",
              "      <th>a</th>\n",
              "      <td>1.0</td>\n",
              "      <td>2.0</td>\n",
              "      <td>NaN</td>\n",
              "      <td>NaN</td>\n",
              "    </tr>\n",
              "    <tr>\n",
              "      <th>b</th>\n",
              "      <td>NaN</td>\n",
              "      <td>NaN</td>\n",
              "      <td>7.0</td>\n",
              "      <td>8.0</td>\n",
              "    </tr>\n",
              "    <tr>\n",
              "      <th>c</th>\n",
              "      <td>3.0</td>\n",
              "      <td>4.0</td>\n",
              "      <td>9.0</td>\n",
              "      <td>10.0</td>\n",
              "    </tr>\n",
              "    <tr>\n",
              "      <th>d</th>\n",
              "      <td>NaN</td>\n",
              "      <td>NaN</td>\n",
              "      <td>11.0</td>\n",
              "      <td>12.0</td>\n",
              "    </tr>\n",
              "    <tr>\n",
              "      <th>e</th>\n",
              "      <td>5.0</td>\n",
              "      <td>6.0</td>\n",
              "      <td>13.0</td>\n",
              "      <td>14.0</td>\n",
              "    </tr>\n",
              "  </tbody>\n",
              "</table>\n",
              "</div>"
            ],
            "text/plain": [
              "   Ohio  Nevada  Missouri  Alabama\n",
              "a   1.0     2.0       NaN      NaN\n",
              "b   NaN     NaN       7.0      8.0\n",
              "c   3.0     4.0       9.0     10.0\n",
              "d   NaN     NaN      11.0     12.0\n",
              "e   5.0     6.0      13.0     14.0"
            ]
          },
          "execution_count": 55,
          "metadata": {},
          "output_type": "execute_result"
        }
      ],
      "source": [
        "pd.merge(left2, right2, how='outer',left_index=True,right_index=True)"
      ]
    },
    {
      "cell_type": "markdown",
      "id": "343efb65",
      "metadata": {
        "id": "343efb65"
      },
      "source": [
        "DataFrame has a convenient join instance for merging by index. It can also be used\n",
        "to combine together many DataFrame objects having the same or similar indexes but\n",
        "non-overlapping columns. In the prior example, we could have written:"
      ]
    },
    {
      "cell_type": "code",
      "execution_count": null,
      "id": "4eda9cf1",
      "metadata": {
        "id": "4eda9cf1",
        "outputId": "09dab3d3-b46b-4b2c-ea28-a8f5f3926ca1"
      },
      "outputs": [
        {
          "data": {
            "text/html": [
              "<div>\n",
              "<style scoped>\n",
              "    .dataframe tbody tr th:only-of-type {\n",
              "        vertical-align: middle;\n",
              "    }\n",
              "\n",
              "    .dataframe tbody tr th {\n",
              "        vertical-align: top;\n",
              "    }\n",
              "\n",
              "    .dataframe thead th {\n",
              "        text-align: right;\n",
              "    }\n",
              "</style>\n",
              "<table border=\"1\" class=\"dataframe\">\n",
              "  <thead>\n",
              "    <tr style=\"text-align: right;\">\n",
              "      <th></th>\n",
              "      <th>Ohio</th>\n",
              "      <th>Nevada</th>\n",
              "      <th>Missouri</th>\n",
              "      <th>Alabama</th>\n",
              "    </tr>\n",
              "  </thead>\n",
              "  <tbody>\n",
              "    <tr>\n",
              "      <th>a</th>\n",
              "      <td>1.0</td>\n",
              "      <td>2.0</td>\n",
              "      <td>NaN</td>\n",
              "      <td>NaN</td>\n",
              "    </tr>\n",
              "    <tr>\n",
              "      <th>b</th>\n",
              "      <td>NaN</td>\n",
              "      <td>NaN</td>\n",
              "      <td>7.0</td>\n",
              "      <td>8.0</td>\n",
              "    </tr>\n",
              "    <tr>\n",
              "      <th>c</th>\n",
              "      <td>3.0</td>\n",
              "      <td>4.0</td>\n",
              "      <td>9.0</td>\n",
              "      <td>10.0</td>\n",
              "    </tr>\n",
              "    <tr>\n",
              "      <th>d</th>\n",
              "      <td>NaN</td>\n",
              "      <td>NaN</td>\n",
              "      <td>11.0</td>\n",
              "      <td>12.0</td>\n",
              "    </tr>\n",
              "    <tr>\n",
              "      <th>e</th>\n",
              "      <td>5.0</td>\n",
              "      <td>6.0</td>\n",
              "      <td>13.0</td>\n",
              "      <td>14.0</td>\n",
              "    </tr>\n",
              "  </tbody>\n",
              "</table>\n",
              "</div>"
            ],
            "text/plain": [
              "   Ohio  Nevada  Missouri  Alabama\n",
              "a   1.0     2.0       NaN      NaN\n",
              "b   NaN     NaN       7.0      8.0\n",
              "c   3.0     4.0       9.0     10.0\n",
              "d   NaN     NaN      11.0     12.0\n",
              "e   5.0     6.0      13.0     14.0"
            ]
          },
          "execution_count": 56,
          "metadata": {},
          "output_type": "execute_result"
        }
      ],
      "source": [
        "left2.join(right2, how='outer')"
      ]
    },
    {
      "cell_type": "markdown",
      "id": "6e063869",
      "metadata": {
        "id": "6e063869"
      },
      "source": [
        "In part for legacy reasons (i.e., much earlier versions of pandas), DataFrame’s join\n",
        "method performs a left join on the join keys, exactly preserving the left frame’s row\n",
        "index. It also supports joining the index of the passed DataFrame on one of the col‐\n",
        "umns of the calling DataFrame"
      ]
    },
    {
      "cell_type": "code",
      "execution_count": null,
      "id": "f18c4ddb",
      "metadata": {
        "id": "f18c4ddb",
        "outputId": "c0c02dd8-930b-4d04-9913-275a1ced8ea0"
      },
      "outputs": [
        {
          "data": {
            "text/html": [
              "<div>\n",
              "<style scoped>\n",
              "    .dataframe tbody tr th:only-of-type {\n",
              "        vertical-align: middle;\n",
              "    }\n",
              "\n",
              "    .dataframe tbody tr th {\n",
              "        vertical-align: top;\n",
              "    }\n",
              "\n",
              "    .dataframe thead th {\n",
              "        text-align: right;\n",
              "    }\n",
              "</style>\n",
              "<table border=\"1\" class=\"dataframe\">\n",
              "  <thead>\n",
              "    <tr style=\"text-align: right;\">\n",
              "      <th></th>\n",
              "      <th>value</th>\n",
              "    </tr>\n",
              "    <tr>\n",
              "      <th>Key</th>\n",
              "      <th></th>\n",
              "    </tr>\n",
              "  </thead>\n",
              "  <tbody>\n",
              "    <tr>\n",
              "      <th>a</th>\n",
              "      <td>0</td>\n",
              "    </tr>\n",
              "    <tr>\n",
              "      <th>b</th>\n",
              "      <td>1</td>\n",
              "    </tr>\n",
              "    <tr>\n",
              "      <th>c</th>\n",
              "      <td>2</td>\n",
              "    </tr>\n",
              "    <tr>\n",
              "      <th>d</th>\n",
              "      <td>3</td>\n",
              "    </tr>\n",
              "    <tr>\n",
              "      <th>e</th>\n",
              "      <td>4</td>\n",
              "    </tr>\n",
              "  </tbody>\n",
              "</table>\n",
              "</div>"
            ],
            "text/plain": [
              "     value\n",
              "Key       \n",
              "a        0\n",
              "b        1\n",
              "c        2\n",
              "d        3\n",
              "e        4"
            ]
          },
          "execution_count": 68,
          "metadata": {},
          "output_type": "execute_result"
        }
      ],
      "source": [
        "left1"
      ]
    },
    {
      "cell_type": "code",
      "execution_count": null,
      "id": "187feae9",
      "metadata": {
        "id": "187feae9"
      },
      "outputs": [],
      "source": [
        "right1.columns=['Key','Group_val']"
      ]
    },
    {
      "cell_type": "code",
      "execution_count": null,
      "id": "a75eb4c8",
      "metadata": {
        "id": "a75eb4c8",
        "outputId": "94ce1fc5-8758-4532-94ef-29224530eb60"
      },
      "outputs": [
        {
          "data": {
            "text/html": [
              "<div>\n",
              "<style scoped>\n",
              "    .dataframe tbody tr th:only-of-type {\n",
              "        vertical-align: middle;\n",
              "    }\n",
              "\n",
              "    .dataframe tbody tr th {\n",
              "        vertical-align: top;\n",
              "    }\n",
              "\n",
              "    .dataframe thead th {\n",
              "        text-align: right;\n",
              "    }\n",
              "</style>\n",
              "<table border=\"1\" class=\"dataframe\">\n",
              "  <thead>\n",
              "    <tr style=\"text-align: right;\">\n",
              "      <th></th>\n",
              "      <th>Key</th>\n",
              "      <th>Group_val</th>\n",
              "    </tr>\n",
              "  </thead>\n",
              "  <tbody>\n",
              "    <tr>\n",
              "      <th>0</th>\n",
              "      <td>a</td>\n",
              "      <td>3.5</td>\n",
              "    </tr>\n",
              "    <tr>\n",
              "      <th>1</th>\n",
              "      <td>b</td>\n",
              "      <td>7.0</td>\n",
              "    </tr>\n",
              "  </tbody>\n",
              "</table>\n",
              "</div>"
            ],
            "text/plain": [
              "  Key  Group_val\n",
              "0   a        3.5\n",
              "1   b        7.0"
            ]
          },
          "execution_count": 61,
          "metadata": {},
          "output_type": "execute_result"
        }
      ],
      "source": [
        "right1"
      ]
    },
    {
      "cell_type": "code",
      "execution_count": null,
      "id": "74bbf8c8",
      "metadata": {
        "id": "74bbf8c8",
        "outputId": "53af3f83-8616-45c1-edf6-eb79d3b51e62"
      },
      "outputs": [
        {
          "data": {
            "text/html": [
              "<div>\n",
              "<style scoped>\n",
              "    .dataframe tbody tr th:only-of-type {\n",
              "        vertical-align: middle;\n",
              "    }\n",
              "\n",
              "    .dataframe tbody tr th {\n",
              "        vertical-align: top;\n",
              "    }\n",
              "\n",
              "    .dataframe thead th {\n",
              "        text-align: right;\n",
              "    }\n",
              "</style>\n",
              "<table border=\"1\" class=\"dataframe\">\n",
              "  <thead>\n",
              "    <tr style=\"text-align: right;\">\n",
              "      <th></th>\n",
              "      <th>Key</th>\n",
              "      <th>Group_val</th>\n",
              "      <th>value</th>\n",
              "    </tr>\n",
              "  </thead>\n",
              "  <tbody>\n",
              "    <tr>\n",
              "      <th>0</th>\n",
              "      <td>a</td>\n",
              "      <td>3.5</td>\n",
              "      <td>0</td>\n",
              "    </tr>\n",
              "    <tr>\n",
              "      <th>1</th>\n",
              "      <td>b</td>\n",
              "      <td>7.0</td>\n",
              "      <td>1</td>\n",
              "    </tr>\n",
              "  </tbody>\n",
              "</table>\n",
              "</div>"
            ],
            "text/plain": [
              "  Key  Group_val  value\n",
              "0   a        3.5      0\n",
              "1   b        7.0      1"
            ]
          },
          "execution_count": 69,
          "metadata": {},
          "output_type": "execute_result"
        }
      ],
      "source": [
        "right1.join(left1,on='Key')"
      ]
    },
    {
      "cell_type": "code",
      "execution_count": null,
      "id": "7f3bfa48",
      "metadata": {
        "id": "7f3bfa48"
      },
      "outputs": [],
      "source": [
        "another = pd.DataFrame([[7., 8.], [9., 10.], [11., 12.], [16., 17.]],index=['a', 'c', 'e', 'f'],columns=['New York', 'Oregon'])\n"
      ]
    },
    {
      "cell_type": "code",
      "execution_count": null,
      "id": "0c2dcd6b",
      "metadata": {
        "id": "0c2dcd6b",
        "outputId": "cd8bfb87-f1ee-4f28-f219-76954d70456b"
      },
      "outputs": [
        {
          "data": {
            "text/html": [
              "<div>\n",
              "<style scoped>\n",
              "    .dataframe tbody tr th:only-of-type {\n",
              "        vertical-align: middle;\n",
              "    }\n",
              "\n",
              "    .dataframe tbody tr th {\n",
              "        vertical-align: top;\n",
              "    }\n",
              "\n",
              "    .dataframe thead th {\n",
              "        text-align: right;\n",
              "    }\n",
              "</style>\n",
              "<table border=\"1\" class=\"dataframe\">\n",
              "  <thead>\n",
              "    <tr style=\"text-align: right;\">\n",
              "      <th></th>\n",
              "      <th>New York</th>\n",
              "      <th>Oregon</th>\n",
              "    </tr>\n",
              "  </thead>\n",
              "  <tbody>\n",
              "    <tr>\n",
              "      <th>a</th>\n",
              "      <td>7.0</td>\n",
              "      <td>8.0</td>\n",
              "    </tr>\n",
              "    <tr>\n",
              "      <th>c</th>\n",
              "      <td>9.0</td>\n",
              "      <td>10.0</td>\n",
              "    </tr>\n",
              "    <tr>\n",
              "      <th>e</th>\n",
              "      <td>11.0</td>\n",
              "      <td>12.0</td>\n",
              "    </tr>\n",
              "    <tr>\n",
              "      <th>f</th>\n",
              "      <td>16.0</td>\n",
              "      <td>17.0</td>\n",
              "    </tr>\n",
              "  </tbody>\n",
              "</table>\n",
              "</div>"
            ],
            "text/plain": [
              "   New York  Oregon\n",
              "a       7.0     8.0\n",
              "c       9.0    10.0\n",
              "e      11.0    12.0\n",
              "f      16.0    17.0"
            ]
          },
          "execution_count": 71,
          "metadata": {},
          "output_type": "execute_result"
        }
      ],
      "source": [
        "another"
      ]
    },
    {
      "cell_type": "code",
      "execution_count": null,
      "id": "a1ab43fb",
      "metadata": {
        "id": "a1ab43fb",
        "outputId": "89e237f4-2f68-4494-a263-f9b6003ef23f"
      },
      "outputs": [
        {
          "data": {
            "text/html": [
              "<div>\n",
              "<style scoped>\n",
              "    .dataframe tbody tr th:only-of-type {\n",
              "        vertical-align: middle;\n",
              "    }\n",
              "\n",
              "    .dataframe tbody tr th {\n",
              "        vertical-align: top;\n",
              "    }\n",
              "\n",
              "    .dataframe thead th {\n",
              "        text-align: right;\n",
              "    }\n",
              "</style>\n",
              "<table border=\"1\" class=\"dataframe\">\n",
              "  <thead>\n",
              "    <tr style=\"text-align: right;\">\n",
              "      <th></th>\n",
              "      <th>Ohio</th>\n",
              "      <th>Nevada</th>\n",
              "    </tr>\n",
              "  </thead>\n",
              "  <tbody>\n",
              "    <tr>\n",
              "      <th>a</th>\n",
              "      <td>1.0</td>\n",
              "      <td>2.0</td>\n",
              "    </tr>\n",
              "    <tr>\n",
              "      <th>c</th>\n",
              "      <td>3.0</td>\n",
              "      <td>4.0</td>\n",
              "    </tr>\n",
              "    <tr>\n",
              "      <th>e</th>\n",
              "      <td>5.0</td>\n",
              "      <td>6.0</td>\n",
              "    </tr>\n",
              "  </tbody>\n",
              "</table>\n",
              "</div>"
            ],
            "text/plain": [
              "   Ohio  Nevada\n",
              "a   1.0     2.0\n",
              "c   3.0     4.0\n",
              "e   5.0     6.0"
            ]
          },
          "execution_count": 73,
          "metadata": {},
          "output_type": "execute_result"
        }
      ],
      "source": [
        "left2"
      ]
    },
    {
      "cell_type": "code",
      "execution_count": null,
      "id": "dd15cc66",
      "metadata": {
        "id": "dd15cc66",
        "outputId": "f38aa619-b498-461b-f656-4ecdb127ff27"
      },
      "outputs": [
        {
          "data": {
            "text/html": [
              "<div>\n",
              "<style scoped>\n",
              "    .dataframe tbody tr th:only-of-type {\n",
              "        vertical-align: middle;\n",
              "    }\n",
              "\n",
              "    .dataframe tbody tr th {\n",
              "        vertical-align: top;\n",
              "    }\n",
              "\n",
              "    .dataframe thead th {\n",
              "        text-align: right;\n",
              "    }\n",
              "</style>\n",
              "<table border=\"1\" class=\"dataframe\">\n",
              "  <thead>\n",
              "    <tr style=\"text-align: right;\">\n",
              "      <th></th>\n",
              "      <th>Missouri</th>\n",
              "      <th>Alabama</th>\n",
              "    </tr>\n",
              "  </thead>\n",
              "  <tbody>\n",
              "    <tr>\n",
              "      <th>b</th>\n",
              "      <td>7.0</td>\n",
              "      <td>8.0</td>\n",
              "    </tr>\n",
              "    <tr>\n",
              "      <th>c</th>\n",
              "      <td>9.0</td>\n",
              "      <td>10.0</td>\n",
              "    </tr>\n",
              "    <tr>\n",
              "      <th>d</th>\n",
              "      <td>11.0</td>\n",
              "      <td>12.0</td>\n",
              "    </tr>\n",
              "    <tr>\n",
              "      <th>e</th>\n",
              "      <td>13.0</td>\n",
              "      <td>14.0</td>\n",
              "    </tr>\n",
              "  </tbody>\n",
              "</table>\n",
              "</div>"
            ],
            "text/plain": [
              "   Missouri  Alabama\n",
              "b       7.0      8.0\n",
              "c       9.0     10.0\n",
              "d      11.0     12.0\n",
              "e      13.0     14.0"
            ]
          },
          "execution_count": 74,
          "metadata": {},
          "output_type": "execute_result"
        }
      ],
      "source": [
        "right2"
      ]
    },
    {
      "cell_type": "code",
      "execution_count": null,
      "id": "d7db04ea",
      "metadata": {
        "id": "d7db04ea",
        "outputId": "ada25b10-e222-48ce-9bc6-0bfe9814bc00"
      },
      "outputs": [
        {
          "data": {
            "text/html": [
              "<div>\n",
              "<style scoped>\n",
              "    .dataframe tbody tr th:only-of-type {\n",
              "        vertical-align: middle;\n",
              "    }\n",
              "\n",
              "    .dataframe tbody tr th {\n",
              "        vertical-align: top;\n",
              "    }\n",
              "\n",
              "    .dataframe thead th {\n",
              "        text-align: right;\n",
              "    }\n",
              "</style>\n",
              "<table border=\"1\" class=\"dataframe\">\n",
              "  <thead>\n",
              "    <tr style=\"text-align: right;\">\n",
              "      <th></th>\n",
              "      <th>Ohio</th>\n",
              "      <th>Nevada</th>\n",
              "      <th>Missouri</th>\n",
              "      <th>Alabama</th>\n",
              "      <th>New York</th>\n",
              "      <th>Oregon</th>\n",
              "    </tr>\n",
              "  </thead>\n",
              "  <tbody>\n",
              "    <tr>\n",
              "      <th>a</th>\n",
              "      <td>1.0</td>\n",
              "      <td>2.0</td>\n",
              "      <td>NaN</td>\n",
              "      <td>NaN</td>\n",
              "      <td>7.0</td>\n",
              "      <td>8.0</td>\n",
              "    </tr>\n",
              "    <tr>\n",
              "      <th>c</th>\n",
              "      <td>3.0</td>\n",
              "      <td>4.0</td>\n",
              "      <td>9.0</td>\n",
              "      <td>10.0</td>\n",
              "      <td>9.0</td>\n",
              "      <td>10.0</td>\n",
              "    </tr>\n",
              "    <tr>\n",
              "      <th>e</th>\n",
              "      <td>5.0</td>\n",
              "      <td>6.0</td>\n",
              "      <td>13.0</td>\n",
              "      <td>14.0</td>\n",
              "      <td>11.0</td>\n",
              "      <td>12.0</td>\n",
              "    </tr>\n",
              "  </tbody>\n",
              "</table>\n",
              "</div>"
            ],
            "text/plain": [
              "   Ohio  Nevada  Missouri  Alabama  New York  Oregon\n",
              "a   1.0     2.0       NaN      NaN       7.0     8.0\n",
              "c   3.0     4.0       9.0     10.0       9.0    10.0\n",
              "e   5.0     6.0      13.0     14.0      11.0    12.0"
            ]
          },
          "execution_count": 72,
          "metadata": {},
          "output_type": "execute_result"
        }
      ],
      "source": [
        "left2.join([right2, another])"
      ]
    },
    {
      "cell_type": "code",
      "execution_count": null,
      "id": "0e0a67c3",
      "metadata": {
        "id": "0e0a67c3",
        "outputId": "f49ad08c-77cf-4245-b351-f41436725d36"
      },
      "outputs": [
        {
          "data": {
            "text/html": [
              "<div>\n",
              "<style scoped>\n",
              "    .dataframe tbody tr th:only-of-type {\n",
              "        vertical-align: middle;\n",
              "    }\n",
              "\n",
              "    .dataframe tbody tr th {\n",
              "        vertical-align: top;\n",
              "    }\n",
              "\n",
              "    .dataframe thead th {\n",
              "        text-align: right;\n",
              "    }\n",
              "</style>\n",
              "<table border=\"1\" class=\"dataframe\">\n",
              "  <thead>\n",
              "    <tr style=\"text-align: right;\">\n",
              "      <th></th>\n",
              "      <th>Ohio</th>\n",
              "      <th>Nevada</th>\n",
              "      <th>Missouri</th>\n",
              "      <th>Alabama</th>\n",
              "      <th>New York</th>\n",
              "      <th>Oregon</th>\n",
              "    </tr>\n",
              "  </thead>\n",
              "  <tbody>\n",
              "    <tr>\n",
              "      <th>a</th>\n",
              "      <td>1.0</td>\n",
              "      <td>2.0</td>\n",
              "      <td>NaN</td>\n",
              "      <td>NaN</td>\n",
              "      <td>7.0</td>\n",
              "      <td>8.0</td>\n",
              "    </tr>\n",
              "    <tr>\n",
              "      <th>c</th>\n",
              "      <td>3.0</td>\n",
              "      <td>4.0</td>\n",
              "      <td>9.0</td>\n",
              "      <td>10.0</td>\n",
              "      <td>9.0</td>\n",
              "      <td>10.0</td>\n",
              "    </tr>\n",
              "    <tr>\n",
              "      <th>e</th>\n",
              "      <td>5.0</td>\n",
              "      <td>6.0</td>\n",
              "      <td>13.0</td>\n",
              "      <td>14.0</td>\n",
              "      <td>11.0</td>\n",
              "      <td>12.0</td>\n",
              "    </tr>\n",
              "    <tr>\n",
              "      <th>b</th>\n",
              "      <td>NaN</td>\n",
              "      <td>NaN</td>\n",
              "      <td>7.0</td>\n",
              "      <td>8.0</td>\n",
              "      <td>NaN</td>\n",
              "      <td>NaN</td>\n",
              "    </tr>\n",
              "    <tr>\n",
              "      <th>d</th>\n",
              "      <td>NaN</td>\n",
              "      <td>NaN</td>\n",
              "      <td>11.0</td>\n",
              "      <td>12.0</td>\n",
              "      <td>NaN</td>\n",
              "      <td>NaN</td>\n",
              "    </tr>\n",
              "    <tr>\n",
              "      <th>f</th>\n",
              "      <td>NaN</td>\n",
              "      <td>NaN</td>\n",
              "      <td>NaN</td>\n",
              "      <td>NaN</td>\n",
              "      <td>16.0</td>\n",
              "      <td>17.0</td>\n",
              "    </tr>\n",
              "  </tbody>\n",
              "</table>\n",
              "</div>"
            ],
            "text/plain": [
              "   Ohio  Nevada  Missouri  Alabama  New York  Oregon\n",
              "a   1.0     2.0       NaN      NaN       7.0     8.0\n",
              "c   3.0     4.0       9.0     10.0       9.0    10.0\n",
              "e   5.0     6.0      13.0     14.0      11.0    12.0\n",
              "b   NaN     NaN       7.0      8.0       NaN     NaN\n",
              "d   NaN     NaN      11.0     12.0       NaN     NaN\n",
              "f   NaN     NaN       NaN      NaN      16.0    17.0"
            ]
          },
          "execution_count": 75,
          "metadata": {},
          "output_type": "execute_result"
        }
      ],
      "source": [
        "left2.join([right2, another], how='outer')"
      ]
    },
    {
      "cell_type": "markdown",
      "id": "496918ea",
      "metadata": {
        "id": "496918ea"
      },
      "source": [
        "### Concatenating Along an Axis"
      ]
    },
    {
      "cell_type": "markdown",
      "id": "ac3d11af",
      "metadata": {
        "id": "ac3d11af"
      },
      "source": [
        "Another kind of data combination operation is referred to interchangeably as concat‐\n",
        "enation, binding, or stacking. NumPy’s concatenate function can do this with\n",
        "NumPy arrays:\n"
      ]
    },
    {
      "cell_type": "code",
      "execution_count": null,
      "id": "97993f19",
      "metadata": {
        "id": "97993f19",
        "outputId": "d1fc367c-c7f0-4330-efb2-0065d894b6bb"
      },
      "outputs": [
        {
          "data": {
            "text/plain": [
              "array([[ 0,  1,  2,  3],\n",
              "       [ 4,  5,  6,  7],\n",
              "       [ 8,  9, 10, 11]])"
            ]
          },
          "execution_count": 76,
          "metadata": {},
          "output_type": "execute_result"
        }
      ],
      "source": [
        "arr = np.arange(12).reshape((3, 4))\n",
        "arr"
      ]
    },
    {
      "cell_type": "code",
      "execution_count": null,
      "id": "1eef74db",
      "metadata": {
        "id": "1eef74db",
        "outputId": "398e124f-ef96-4265-c72e-0117096360b4"
      },
      "outputs": [
        {
          "data": {
            "text/plain": [
              "array([[ 0,  1,  2,  3,  0,  1,  2,  3],\n",
              "       [ 4,  5,  6,  7,  4,  5,  6,  7],\n",
              "       [ 8,  9, 10, 11,  8,  9, 10, 11]])"
            ]
          },
          "execution_count": 79,
          "metadata": {},
          "output_type": "execute_result"
        }
      ],
      "source": [
        "np.concatenate([arr, arr], axis=1)"
      ]
    },
    {
      "cell_type": "code",
      "execution_count": null,
      "id": "1c4c7fcf",
      "metadata": {
        "id": "1c4c7fcf",
        "outputId": "fdbd374a-6be2-484a-a7a4-8857888608ba"
      },
      "outputs": [
        {
          "data": {
            "text/plain": [
              "array([[ 0,  1,  2,  3],\n",
              "       [ 4,  5,  6,  7],\n",
              "       [ 8,  9, 10, 11],\n",
              "       [ 0,  1,  2,  3],\n",
              "       [ 4,  5,  6,  7],\n",
              "       [ 8,  9, 10, 11]])"
            ]
          },
          "execution_count": 80,
          "metadata": {},
          "output_type": "execute_result"
        }
      ],
      "source": [
        "np.concatenate([arr, arr], axis=0)"
      ]
    },
    {
      "cell_type": "markdown",
      "id": "d2908aa0",
      "metadata": {
        "id": "d2908aa0"
      },
      "source": [
        "### concat function arguments"
      ]
    },
    {
      "cell_type": "markdown",
      "id": "5b8aa6b9",
      "metadata": {
        "id": "5b8aa6b9"
      },
      "source": [
        "The concat function in pandas provides a consistent way to address each of these\n",
        "concerns. I’ll give a number of examples to illustrate how it works. Suppose we have\n",
        "three Series with no index overlap:\n",
        "\n",
        "- **objs** - List or dict of pandas objects to be concatenated; this is the only required argument\n",
        "- **axis** - Axis to concatenate along; defaults to 0 (along rows)\n",
        "- **join** - Either 'inner' or 'outer' ('outer' by default); whether to intersection (inner) or union (outer) together indexes along the other axes\n",
        "- **join_axes** - Specific indexes to use for the other n–1 axes instead of performing union/intersection logic\n",
        "- **keys** - Values to associate with objects being concatenated, forming a hierarchical index along the concatenation axis; can either be a list or array of arbitrary values, an array of tuples, or a list of arrays (if multiple-level arrays passed in levels)\n",
        "- **levels** - Specific indexes to use as hierarchical index level or levels if keys passed\n",
        "- **names** - Names for created hierarchical levels if keys and/or levels passed\n",
        "- **verify_integrity** - Check new axis in concatenated object for duplicates and raise exception if so; by default (False)\n",
        "allows duplicates\n",
        "- **ignore_index** - Do not preserve indexes along concatenation axis, instead producing a new range(total_length) index\n"
      ]
    },
    {
      "cell_type": "code",
      "execution_count": null,
      "id": "ac879517",
      "metadata": {
        "id": "ac879517"
      },
      "outputs": [],
      "source": [
        "s1 = pd.Series([0, 1], index=['a', 'b'])"
      ]
    },
    {
      "cell_type": "code",
      "execution_count": null,
      "id": "503f25df",
      "metadata": {
        "id": "503f25df"
      },
      "outputs": [],
      "source": [
        "s2 = pd.Series([2, 3, 4], index=['c', 'd', 'e'])"
      ]
    },
    {
      "cell_type": "code",
      "execution_count": null,
      "id": "e4658cda",
      "metadata": {
        "id": "e4658cda"
      },
      "outputs": [],
      "source": [
        "s3 = pd.Series([5, 6], index=['f', 'g'])"
      ]
    },
    {
      "cell_type": "code",
      "execution_count": null,
      "id": "3721697b",
      "metadata": {
        "id": "3721697b",
        "outputId": "6c59d80d-c3fd-43c8-a069-424ba776a4d3"
      },
      "outputs": [
        {
          "data": {
            "text/plain": [
              "a    0\n",
              "b    1\n",
              "c    2\n",
              "d    3\n",
              "e    4\n",
              "f    5\n",
              "g    6\n",
              "dtype: int64"
            ]
          },
          "execution_count": 85,
          "metadata": {},
          "output_type": "execute_result"
        }
      ],
      "source": [
        "pd.concat([s1, s2, s3])"
      ]
    },
    {
      "cell_type": "markdown",
      "id": "64359055",
      "metadata": {
        "id": "64359055"
      },
      "source": [
        "By default concat works along axis=0, producing another Series. If you pass axis=1,\n",
        "the result will instead be a DataFrame (axis=1 is the columns):"
      ]
    },
    {
      "cell_type": "code",
      "execution_count": null,
      "id": "9796fc12",
      "metadata": {
        "id": "9796fc12",
        "outputId": "6528bcaf-031c-41a3-e96a-6534d8a426f5"
      },
      "outputs": [
        {
          "data": {
            "text/html": [
              "<div>\n",
              "<style scoped>\n",
              "    .dataframe tbody tr th:only-of-type {\n",
              "        vertical-align: middle;\n",
              "    }\n",
              "\n",
              "    .dataframe tbody tr th {\n",
              "        vertical-align: top;\n",
              "    }\n",
              "\n",
              "    .dataframe thead th {\n",
              "        text-align: right;\n",
              "    }\n",
              "</style>\n",
              "<table border=\"1\" class=\"dataframe\">\n",
              "  <thead>\n",
              "    <tr style=\"text-align: right;\">\n",
              "      <th></th>\n",
              "      <th>0</th>\n",
              "      <th>1</th>\n",
              "      <th>2</th>\n",
              "    </tr>\n",
              "  </thead>\n",
              "  <tbody>\n",
              "    <tr>\n",
              "      <th>a</th>\n",
              "      <td>0.0</td>\n",
              "      <td>NaN</td>\n",
              "      <td>NaN</td>\n",
              "    </tr>\n",
              "    <tr>\n",
              "      <th>b</th>\n",
              "      <td>1.0</td>\n",
              "      <td>NaN</td>\n",
              "      <td>NaN</td>\n",
              "    </tr>\n",
              "    <tr>\n",
              "      <th>c</th>\n",
              "      <td>NaN</td>\n",
              "      <td>2.0</td>\n",
              "      <td>NaN</td>\n",
              "    </tr>\n",
              "    <tr>\n",
              "      <th>d</th>\n",
              "      <td>NaN</td>\n",
              "      <td>3.0</td>\n",
              "      <td>NaN</td>\n",
              "    </tr>\n",
              "    <tr>\n",
              "      <th>e</th>\n",
              "      <td>NaN</td>\n",
              "      <td>4.0</td>\n",
              "      <td>NaN</td>\n",
              "    </tr>\n",
              "    <tr>\n",
              "      <th>f</th>\n",
              "      <td>NaN</td>\n",
              "      <td>NaN</td>\n",
              "      <td>5.0</td>\n",
              "    </tr>\n",
              "    <tr>\n",
              "      <th>g</th>\n",
              "      <td>NaN</td>\n",
              "      <td>NaN</td>\n",
              "      <td>6.0</td>\n",
              "    </tr>\n",
              "  </tbody>\n",
              "</table>\n",
              "</div>"
            ],
            "text/plain": [
              "     0    1    2\n",
              "a  0.0  NaN  NaN\n",
              "b  1.0  NaN  NaN\n",
              "c  NaN  2.0  NaN\n",
              "d  NaN  3.0  NaN\n",
              "e  NaN  4.0  NaN\n",
              "f  NaN  NaN  5.0\n",
              "g  NaN  NaN  6.0"
            ]
          },
          "execution_count": 88,
          "metadata": {},
          "output_type": "execute_result"
        }
      ],
      "source": [
        "pd.concat([s1, s2, s3], axis=1,join=\"outer\")"
      ]
    },
    {
      "cell_type": "code",
      "execution_count": null,
      "id": "a678f05e",
      "metadata": {
        "id": "a678f05e"
      },
      "outputs": [],
      "source": [
        "s4 = pd.concat([s1, s3])"
      ]
    },
    {
      "cell_type": "code",
      "execution_count": null,
      "id": "74c33e96",
      "metadata": {
        "id": "74c33e96",
        "outputId": "bf85a1aa-2d34-4bb9-9f2f-7a8528c02dd6"
      },
      "outputs": [
        {
          "data": {
            "text/plain": [
              "a    0\n",
              "b    1\n",
              "f    5\n",
              "g    6\n",
              "dtype: int64"
            ]
          },
          "execution_count": 90,
          "metadata": {},
          "output_type": "execute_result"
        }
      ],
      "source": [
        "s4"
      ]
    },
    {
      "cell_type": "code",
      "execution_count": null,
      "id": "142dc53c",
      "metadata": {
        "id": "142dc53c",
        "outputId": "abba28eb-3bf4-4787-8be1-df09adc3439e"
      },
      "outputs": [
        {
          "data": {
            "text/html": [
              "<div>\n",
              "<style scoped>\n",
              "    .dataframe tbody tr th:only-of-type {\n",
              "        vertical-align: middle;\n",
              "    }\n",
              "\n",
              "    .dataframe tbody tr th {\n",
              "        vertical-align: top;\n",
              "    }\n",
              "\n",
              "    .dataframe thead th {\n",
              "        text-align: right;\n",
              "    }\n",
              "</style>\n",
              "<table border=\"1\" class=\"dataframe\">\n",
              "  <thead>\n",
              "    <tr style=\"text-align: right;\">\n",
              "      <th></th>\n",
              "      <th>0</th>\n",
              "      <th>1</th>\n",
              "    </tr>\n",
              "  </thead>\n",
              "  <tbody>\n",
              "    <tr>\n",
              "      <th>a</th>\n",
              "      <td>0.0</td>\n",
              "      <td>0</td>\n",
              "    </tr>\n",
              "    <tr>\n",
              "      <th>b</th>\n",
              "      <td>1.0</td>\n",
              "      <td>1</td>\n",
              "    </tr>\n",
              "    <tr>\n",
              "      <th>f</th>\n",
              "      <td>NaN</td>\n",
              "      <td>5</td>\n",
              "    </tr>\n",
              "    <tr>\n",
              "      <th>g</th>\n",
              "      <td>NaN</td>\n",
              "      <td>6</td>\n",
              "    </tr>\n",
              "  </tbody>\n",
              "</table>\n",
              "</div>"
            ],
            "text/plain": [
              "     0  1\n",
              "a  0.0  0\n",
              "b  1.0  1\n",
              "f  NaN  5\n",
              "g  NaN  6"
            ]
          },
          "execution_count": 94,
          "metadata": {},
          "output_type": "execute_result"
        }
      ],
      "source": [
        " pd.concat([s1, s4], axis=1)"
      ]
    },
    {
      "cell_type": "code",
      "execution_count": null,
      "id": "163a9bd3",
      "metadata": {
        "id": "163a9bd3",
        "outputId": "15779f96-584e-49f2-c5ce-3654ce639935"
      },
      "outputs": [
        {
          "data": {
            "text/html": [
              "<div>\n",
              "<style scoped>\n",
              "    .dataframe tbody tr th:only-of-type {\n",
              "        vertical-align: middle;\n",
              "    }\n",
              "\n",
              "    .dataframe tbody tr th {\n",
              "        vertical-align: top;\n",
              "    }\n",
              "\n",
              "    .dataframe thead th {\n",
              "        text-align: right;\n",
              "    }\n",
              "</style>\n",
              "<table border=\"1\" class=\"dataframe\">\n",
              "  <thead>\n",
              "    <tr style=\"text-align: right;\">\n",
              "      <th></th>\n",
              "      <th>0</th>\n",
              "      <th>1</th>\n",
              "    </tr>\n",
              "  </thead>\n",
              "  <tbody>\n",
              "    <tr>\n",
              "      <th>a</th>\n",
              "      <td>0</td>\n",
              "      <td>0</td>\n",
              "    </tr>\n",
              "    <tr>\n",
              "      <th>b</th>\n",
              "      <td>1</td>\n",
              "      <td>1</td>\n",
              "    </tr>\n",
              "  </tbody>\n",
              "</table>\n",
              "</div>"
            ],
            "text/plain": [
              "   0  1\n",
              "a  0  0\n",
              "b  1  1"
            ]
          },
          "execution_count": 95,
          "metadata": {},
          "output_type": "execute_result"
        }
      ],
      "source": [
        "pd.concat([s1, s4], axis=1, join='inner')"
      ]
    },
    {
      "cell_type": "markdown",
      "id": "5f8f1a6c",
      "metadata": {
        "id": "5f8f1a6c"
      },
      "source": [
        "You can even specify the axes to be used on the other axes with join_axes:"
      ]
    },
    {
      "cell_type": "code",
      "execution_count": null,
      "id": "bb136e1b",
      "metadata": {
        "id": "bb136e1b"
      },
      "outputs": [],
      "source": [
        "result= pd.concat([s1,s1,s2],axis=0,keys=['one','two','three'])"
      ]
    },
    {
      "cell_type": "code",
      "execution_count": null,
      "id": "d163a017",
      "metadata": {
        "id": "d163a017",
        "outputId": "72b5d445-e58a-4fe2-9406-57978989c1dc"
      },
      "outputs": [
        {
          "data": {
            "text/plain": [
              "one    a    0\n",
              "       b    1\n",
              "two    a    0\n",
              "       b    1\n",
              "three  c    2\n",
              "       d    3\n",
              "       e    4\n",
              "dtype: int64"
            ]
          },
          "execution_count": 109,
          "metadata": {},
          "output_type": "execute_result"
        }
      ],
      "source": [
        "result"
      ]
    },
    {
      "cell_type": "code",
      "execution_count": null,
      "id": "a94fb0a0",
      "metadata": {
        "id": "a94fb0a0",
        "outputId": "d7d7bbdf-1320-49a8-ae35-c61324fd2f73"
      },
      "outputs": [
        {
          "data": {
            "text/html": [
              "<div>\n",
              "<style scoped>\n",
              "    .dataframe tbody tr th:only-of-type {\n",
              "        vertical-align: middle;\n",
              "    }\n",
              "\n",
              "    .dataframe tbody tr th {\n",
              "        vertical-align: top;\n",
              "    }\n",
              "\n",
              "    .dataframe thead th {\n",
              "        text-align: right;\n",
              "    }\n",
              "</style>\n",
              "<table border=\"1\" class=\"dataframe\">\n",
              "  <thead>\n",
              "    <tr style=\"text-align: right;\">\n",
              "      <th></th>\n",
              "      <th>a</th>\n",
              "      <th>b</th>\n",
              "      <th>c</th>\n",
              "      <th>d</th>\n",
              "      <th>e</th>\n",
              "    </tr>\n",
              "  </thead>\n",
              "  <tbody>\n",
              "    <tr>\n",
              "      <th>one</th>\n",
              "      <td>0.0</td>\n",
              "      <td>1.0</td>\n",
              "      <td>NaN</td>\n",
              "      <td>NaN</td>\n",
              "      <td>NaN</td>\n",
              "    </tr>\n",
              "    <tr>\n",
              "      <th>two</th>\n",
              "      <td>0.0</td>\n",
              "      <td>1.0</td>\n",
              "      <td>NaN</td>\n",
              "      <td>NaN</td>\n",
              "      <td>NaN</td>\n",
              "    </tr>\n",
              "    <tr>\n",
              "      <th>three</th>\n",
              "      <td>NaN</td>\n",
              "      <td>NaN</td>\n",
              "      <td>2.0</td>\n",
              "      <td>3.0</td>\n",
              "      <td>4.0</td>\n",
              "    </tr>\n",
              "  </tbody>\n",
              "</table>\n",
              "</div>"
            ],
            "text/plain": [
              "         a    b    c    d    e\n",
              "one    0.0  1.0  NaN  NaN  NaN\n",
              "two    0.0  1.0  NaN  NaN  NaN\n",
              "three  NaN  NaN  2.0  3.0  4.0"
            ]
          },
          "execution_count": 110,
          "metadata": {},
          "output_type": "execute_result"
        }
      ],
      "source": [
        "result.unstack()"
      ]
    },
    {
      "cell_type": "markdown",
      "id": "2bf602d6",
      "metadata": {
        "id": "2bf602d6"
      },
      "source": [
        "In the case of combining Series along axis=1, the keys become the DataFrame col‐\n",
        "umn headers:"
      ]
    },
    {
      "cell_type": "code",
      "execution_count": null,
      "id": "1a1b4a1a",
      "metadata": {
        "id": "1a1b4a1a",
        "outputId": "fc7d6e16-21d3-48e8-eae0-e8bdfb994370"
      },
      "outputs": [
        {
          "data": {
            "text/html": [
              "<div>\n",
              "<style scoped>\n",
              "    .dataframe tbody tr th:only-of-type {\n",
              "        vertical-align: middle;\n",
              "    }\n",
              "\n",
              "    .dataframe tbody tr th {\n",
              "        vertical-align: top;\n",
              "    }\n",
              "\n",
              "    .dataframe thead th {\n",
              "        text-align: right;\n",
              "    }\n",
              "</style>\n",
              "<table border=\"1\" class=\"dataframe\">\n",
              "  <thead>\n",
              "    <tr style=\"text-align: right;\">\n",
              "      <th></th>\n",
              "      <th>one</th>\n",
              "      <th>two</th>\n",
              "      <th>three</th>\n",
              "    </tr>\n",
              "  </thead>\n",
              "  <tbody>\n",
              "    <tr>\n",
              "      <th>a</th>\n",
              "      <td>0.0</td>\n",
              "      <td>NaN</td>\n",
              "      <td>NaN</td>\n",
              "    </tr>\n",
              "    <tr>\n",
              "      <th>b</th>\n",
              "      <td>1.0</td>\n",
              "      <td>NaN</td>\n",
              "      <td>NaN</td>\n",
              "    </tr>\n",
              "    <tr>\n",
              "      <th>c</th>\n",
              "      <td>NaN</td>\n",
              "      <td>2.0</td>\n",
              "      <td>NaN</td>\n",
              "    </tr>\n",
              "    <tr>\n",
              "      <th>d</th>\n",
              "      <td>NaN</td>\n",
              "      <td>3.0</td>\n",
              "      <td>NaN</td>\n",
              "    </tr>\n",
              "    <tr>\n",
              "      <th>e</th>\n",
              "      <td>NaN</td>\n",
              "      <td>4.0</td>\n",
              "      <td>NaN</td>\n",
              "    </tr>\n",
              "    <tr>\n",
              "      <th>f</th>\n",
              "      <td>NaN</td>\n",
              "      <td>NaN</td>\n",
              "      <td>5.0</td>\n",
              "    </tr>\n",
              "    <tr>\n",
              "      <th>g</th>\n",
              "      <td>NaN</td>\n",
              "      <td>NaN</td>\n",
              "      <td>6.0</td>\n",
              "    </tr>\n",
              "  </tbody>\n",
              "</table>\n",
              "</div>"
            ],
            "text/plain": [
              "   one  two  three\n",
              "a  0.0  NaN    NaN\n",
              "b  1.0  NaN    NaN\n",
              "c  NaN  2.0    NaN\n",
              "d  NaN  3.0    NaN\n",
              "e  NaN  4.0    NaN\n",
              "f  NaN  NaN    5.0\n",
              "g  NaN  NaN    6.0"
            ]
          },
          "execution_count": 112,
          "metadata": {},
          "output_type": "execute_result"
        }
      ],
      "source": [
        "pd.concat([s1, s2, s3], axis=1, keys=['one', 'two', 'three'])"
      ]
    },
    {
      "cell_type": "markdown",
      "id": "13b285ca",
      "metadata": {
        "id": "13b285ca"
      },
      "source": [
        "The same logic extends to DataFrame objects:"
      ]
    },
    {
      "cell_type": "code",
      "execution_count": null,
      "id": "aa16a61b",
      "metadata": {
        "id": "aa16a61b"
      },
      "outputs": [],
      "source": [
        "df1 = pd.DataFrame(np.arange(6).reshape(3, 2), index=['a', 'b', 'c'],\n",
        " ....: columns=['one', 'two'])"
      ]
    },
    {
      "cell_type": "code",
      "execution_count": null,
      "id": "991f7c84",
      "metadata": {
        "id": "991f7c84",
        "outputId": "387e9de2-80ec-46b5-b294-c630ac4ccb52"
      },
      "outputs": [
        {
          "data": {
            "text/html": [
              "<div>\n",
              "<style scoped>\n",
              "    .dataframe tbody tr th:only-of-type {\n",
              "        vertical-align: middle;\n",
              "    }\n",
              "\n",
              "    .dataframe tbody tr th {\n",
              "        vertical-align: top;\n",
              "    }\n",
              "\n",
              "    .dataframe thead th {\n",
              "        text-align: right;\n",
              "    }\n",
              "</style>\n",
              "<table border=\"1\" class=\"dataframe\">\n",
              "  <thead>\n",
              "    <tr style=\"text-align: right;\">\n",
              "      <th></th>\n",
              "      <th>one</th>\n",
              "      <th>two</th>\n",
              "    </tr>\n",
              "  </thead>\n",
              "  <tbody>\n",
              "    <tr>\n",
              "      <th>a</th>\n",
              "      <td>0</td>\n",
              "      <td>1</td>\n",
              "    </tr>\n",
              "    <tr>\n",
              "      <th>b</th>\n",
              "      <td>2</td>\n",
              "      <td>3</td>\n",
              "    </tr>\n",
              "    <tr>\n",
              "      <th>c</th>\n",
              "      <td>4</td>\n",
              "      <td>5</td>\n",
              "    </tr>\n",
              "  </tbody>\n",
              "</table>\n",
              "</div>"
            ],
            "text/plain": [
              "   one  two\n",
              "a    0    1\n",
              "b    2    3\n",
              "c    4    5"
            ]
          },
          "execution_count": 115,
          "metadata": {},
          "output_type": "execute_result"
        }
      ],
      "source": [
        "df1"
      ]
    },
    {
      "cell_type": "code",
      "execution_count": null,
      "id": "91a91875",
      "metadata": {
        "id": "91a91875"
      },
      "outputs": [],
      "source": [
        "df2 = pd.DataFrame(5 + np.arange(4).reshape(2, 2), index=['a', 'c'],\n",
        " ....: columns=['three', 'four'])\n"
      ]
    },
    {
      "cell_type": "code",
      "execution_count": null,
      "id": "950e369d",
      "metadata": {
        "id": "950e369d",
        "outputId": "93560536-e994-45a7-e0fd-cea85504768b"
      },
      "outputs": [
        {
          "data": {
            "text/html": [
              "<div>\n",
              "<style scoped>\n",
              "    .dataframe tbody tr th:only-of-type {\n",
              "        vertical-align: middle;\n",
              "    }\n",
              "\n",
              "    .dataframe tbody tr th {\n",
              "        vertical-align: top;\n",
              "    }\n",
              "\n",
              "    .dataframe thead th {\n",
              "        text-align: right;\n",
              "    }\n",
              "</style>\n",
              "<table border=\"1\" class=\"dataframe\">\n",
              "  <thead>\n",
              "    <tr style=\"text-align: right;\">\n",
              "      <th></th>\n",
              "      <th>three</th>\n",
              "      <th>four</th>\n",
              "    </tr>\n",
              "  </thead>\n",
              "  <tbody>\n",
              "    <tr>\n",
              "      <th>a</th>\n",
              "      <td>5</td>\n",
              "      <td>6</td>\n",
              "    </tr>\n",
              "    <tr>\n",
              "      <th>c</th>\n",
              "      <td>7</td>\n",
              "      <td>8</td>\n",
              "    </tr>\n",
              "  </tbody>\n",
              "</table>\n",
              "</div>"
            ],
            "text/plain": [
              "   three  four\n",
              "a      5     6\n",
              "c      7     8"
            ]
          },
          "execution_count": 118,
          "metadata": {},
          "output_type": "execute_result"
        }
      ],
      "source": [
        "df2"
      ]
    },
    {
      "cell_type": "code",
      "execution_count": null,
      "id": "0bd00e5c",
      "metadata": {
        "id": "0bd00e5c",
        "outputId": "33bff9e3-04c9-4863-892b-ff83a9838212"
      },
      "outputs": [
        {
          "data": {
            "text/html": [
              "<div>\n",
              "<style scoped>\n",
              "    .dataframe tbody tr th:only-of-type {\n",
              "        vertical-align: middle;\n",
              "    }\n",
              "\n",
              "    .dataframe tbody tr th {\n",
              "        vertical-align: top;\n",
              "    }\n",
              "\n",
              "    .dataframe thead th {\n",
              "        text-align: right;\n",
              "    }\n",
              "</style>\n",
              "<table border=\"1\" class=\"dataframe\">\n",
              "  <thead>\n",
              "    <tr style=\"text-align: right;\">\n",
              "      <th></th>\n",
              "      <th></th>\n",
              "      <th>one</th>\n",
              "      <th>two</th>\n",
              "      <th>three</th>\n",
              "      <th>four</th>\n",
              "    </tr>\n",
              "  </thead>\n",
              "  <tbody>\n",
              "    <tr>\n",
              "      <th rowspan=\"3\" valign=\"top\">level1</th>\n",
              "      <th>a</th>\n",
              "      <td>0.0</td>\n",
              "      <td>1.0</td>\n",
              "      <td>NaN</td>\n",
              "      <td>NaN</td>\n",
              "    </tr>\n",
              "    <tr>\n",
              "      <th>b</th>\n",
              "      <td>2.0</td>\n",
              "      <td>3.0</td>\n",
              "      <td>NaN</td>\n",
              "      <td>NaN</td>\n",
              "    </tr>\n",
              "    <tr>\n",
              "      <th>c</th>\n",
              "      <td>4.0</td>\n",
              "      <td>5.0</td>\n",
              "      <td>NaN</td>\n",
              "      <td>NaN</td>\n",
              "    </tr>\n",
              "    <tr>\n",
              "      <th rowspan=\"2\" valign=\"top\">level2</th>\n",
              "      <th>a</th>\n",
              "      <td>NaN</td>\n",
              "      <td>NaN</td>\n",
              "      <td>5.0</td>\n",
              "      <td>6.0</td>\n",
              "    </tr>\n",
              "    <tr>\n",
              "      <th>c</th>\n",
              "      <td>NaN</td>\n",
              "      <td>NaN</td>\n",
              "      <td>7.0</td>\n",
              "      <td>8.0</td>\n",
              "    </tr>\n",
              "  </tbody>\n",
              "</table>\n",
              "</div>"
            ],
            "text/plain": [
              "          one  two  three  four\n",
              "level1 a  0.0  1.0    NaN   NaN\n",
              "       b  2.0  3.0    NaN   NaN\n",
              "       c  4.0  5.0    NaN   NaN\n",
              "level2 a  NaN  NaN    5.0   6.0\n",
              "       c  NaN  NaN    7.0   8.0"
            ]
          },
          "execution_count": 119,
          "metadata": {},
          "output_type": "execute_result"
        }
      ],
      "source": [
        "pd.concat([df1, df2], axis=0, keys=['level1', 'level2'])"
      ]
    },
    {
      "cell_type": "code",
      "execution_count": null,
      "id": "13a02155",
      "metadata": {
        "id": "13a02155",
        "outputId": "fc5901e1-2838-45c0-af3b-c5ff60c62d87"
      },
      "outputs": [
        {
          "data": {
            "text/html": [
              "<div>\n",
              "<style scoped>\n",
              "    .dataframe tbody tr th:only-of-type {\n",
              "        vertical-align: middle;\n",
              "    }\n",
              "\n",
              "    .dataframe tbody tr th {\n",
              "        vertical-align: top;\n",
              "    }\n",
              "\n",
              "    .dataframe thead tr th {\n",
              "        text-align: left;\n",
              "    }\n",
              "</style>\n",
              "<table border=\"1\" class=\"dataframe\">\n",
              "  <thead>\n",
              "    <tr>\n",
              "      <th></th>\n",
              "      <th colspan=\"2\" halign=\"left\">level1</th>\n",
              "      <th colspan=\"2\" halign=\"left\">level2</th>\n",
              "    </tr>\n",
              "    <tr>\n",
              "      <th></th>\n",
              "      <th>one</th>\n",
              "      <th>two</th>\n",
              "      <th>three</th>\n",
              "      <th>four</th>\n",
              "    </tr>\n",
              "  </thead>\n",
              "  <tbody>\n",
              "    <tr>\n",
              "      <th>a</th>\n",
              "      <td>0</td>\n",
              "      <td>1</td>\n",
              "      <td>5.0</td>\n",
              "      <td>6.0</td>\n",
              "    </tr>\n",
              "    <tr>\n",
              "      <th>b</th>\n",
              "      <td>2</td>\n",
              "      <td>3</td>\n",
              "      <td>NaN</td>\n",
              "      <td>NaN</td>\n",
              "    </tr>\n",
              "    <tr>\n",
              "      <th>c</th>\n",
              "      <td>4</td>\n",
              "      <td>5</td>\n",
              "      <td>7.0</td>\n",
              "      <td>8.0</td>\n",
              "    </tr>\n",
              "  </tbody>\n",
              "</table>\n",
              "</div>"
            ],
            "text/plain": [
              "  level1     level2     \n",
              "     one two  three four\n",
              "a      0   1    5.0  6.0\n",
              "b      2   3    NaN  NaN\n",
              "c      4   5    7.0  8.0"
            ]
          },
          "execution_count": 120,
          "metadata": {},
          "output_type": "execute_result"
        }
      ],
      "source": [
        "pd.concat([df1, df2], axis=1, keys=['level1', 'level2'])"
      ]
    },
    {
      "cell_type": "markdown",
      "id": "363d48cd",
      "metadata": {
        "id": "363d48cd"
      },
      "source": [
        "If you pass a dict of objects instead of a list, the dict’s keys will be used for the keys\n",
        "option:"
      ]
    },
    {
      "cell_type": "code",
      "execution_count": null,
      "id": "89392987",
      "metadata": {
        "id": "89392987",
        "outputId": "fa1dab1e-22a1-4958-de7d-cb5d544a12d2"
      },
      "outputs": [
        {
          "data": {
            "text/html": [
              "<div>\n",
              "<style scoped>\n",
              "    .dataframe tbody tr th:only-of-type {\n",
              "        vertical-align: middle;\n",
              "    }\n",
              "\n",
              "    .dataframe tbody tr th {\n",
              "        vertical-align: top;\n",
              "    }\n",
              "\n",
              "    .dataframe thead tr th {\n",
              "        text-align: left;\n",
              "    }\n",
              "</style>\n",
              "<table border=\"1\" class=\"dataframe\">\n",
              "  <thead>\n",
              "    <tr>\n",
              "      <th></th>\n",
              "      <th colspan=\"2\" halign=\"left\">level1</th>\n",
              "      <th colspan=\"2\" halign=\"left\">level2</th>\n",
              "    </tr>\n",
              "    <tr>\n",
              "      <th></th>\n",
              "      <th>one</th>\n",
              "      <th>two</th>\n",
              "      <th>three</th>\n",
              "      <th>four</th>\n",
              "    </tr>\n",
              "  </thead>\n",
              "  <tbody>\n",
              "    <tr>\n",
              "      <th>a</th>\n",
              "      <td>0</td>\n",
              "      <td>1</td>\n",
              "      <td>5.0</td>\n",
              "      <td>6.0</td>\n",
              "    </tr>\n",
              "    <tr>\n",
              "      <th>b</th>\n",
              "      <td>2</td>\n",
              "      <td>3</td>\n",
              "      <td>NaN</td>\n",
              "      <td>NaN</td>\n",
              "    </tr>\n",
              "    <tr>\n",
              "      <th>c</th>\n",
              "      <td>4</td>\n",
              "      <td>5</td>\n",
              "      <td>7.0</td>\n",
              "      <td>8.0</td>\n",
              "    </tr>\n",
              "  </tbody>\n",
              "</table>\n",
              "</div>"
            ],
            "text/plain": [
              "  level1     level2     \n",
              "     one two  three four\n",
              "a      0   1    5.0  6.0\n",
              "b      2   3    NaN  NaN\n",
              "c      4   5    7.0  8.0"
            ]
          },
          "execution_count": 121,
          "metadata": {},
          "output_type": "execute_result"
        }
      ],
      "source": [
        "pd.concat({'level1': df1, 'level2': df2}, axis=1)"
      ]
    },
    {
      "cell_type": "code",
      "execution_count": null,
      "id": "d2cab25d",
      "metadata": {
        "id": "d2cab25d",
        "outputId": "dd8f17da-761b-4a8f-8ebe-57a0f13e84a5"
      },
      "outputs": [
        {
          "data": {
            "text/html": [
              "<div>\n",
              "<style scoped>\n",
              "    .dataframe tbody tr th:only-of-type {\n",
              "        vertical-align: middle;\n",
              "    }\n",
              "\n",
              "    .dataframe tbody tr th {\n",
              "        vertical-align: top;\n",
              "    }\n",
              "\n",
              "    .dataframe thead tr th {\n",
              "        text-align: left;\n",
              "    }\n",
              "</style>\n",
              "<table border=\"1\" class=\"dataframe\">\n",
              "  <thead>\n",
              "    <tr>\n",
              "      <th>upper</th>\n",
              "      <th colspan=\"2\" halign=\"left\">level1</th>\n",
              "      <th colspan=\"2\" halign=\"left\">level2</th>\n",
              "    </tr>\n",
              "    <tr>\n",
              "      <th>lower</th>\n",
              "      <th>one</th>\n",
              "      <th>two</th>\n",
              "      <th>three</th>\n",
              "      <th>four</th>\n",
              "    </tr>\n",
              "  </thead>\n",
              "  <tbody>\n",
              "    <tr>\n",
              "      <th>a</th>\n",
              "      <td>0</td>\n",
              "      <td>1</td>\n",
              "      <td>5.0</td>\n",
              "      <td>6.0</td>\n",
              "    </tr>\n",
              "    <tr>\n",
              "      <th>b</th>\n",
              "      <td>2</td>\n",
              "      <td>3</td>\n",
              "      <td>NaN</td>\n",
              "      <td>NaN</td>\n",
              "    </tr>\n",
              "    <tr>\n",
              "      <th>c</th>\n",
              "      <td>4</td>\n",
              "      <td>5</td>\n",
              "      <td>7.0</td>\n",
              "      <td>8.0</td>\n",
              "    </tr>\n",
              "  </tbody>\n",
              "</table>\n",
              "</div>"
            ],
            "text/plain": [
              "upper level1     level2     \n",
              "lower    one two  three four\n",
              "a          0   1    5.0  6.0\n",
              "b          2   3    NaN  NaN\n",
              "c          4   5    7.0  8.0"
            ]
          },
          "execution_count": 122,
          "metadata": {},
          "output_type": "execute_result"
        }
      ],
      "source": [
        "pd.concat([df1, df2], axis=1, keys=['level1', 'level2'],\n",
        " .....: names=['upper', 'lower'])"
      ]
    },
    {
      "cell_type": "code",
      "execution_count": null,
      "id": "ca0e5d54",
      "metadata": {
        "id": "ca0e5d54"
      },
      "outputs": [],
      "source": [
        "df1 = pd.DataFrame(np.random.randn(3, 4), columns=['a', 'b', 'c', 'd'])"
      ]
    },
    {
      "cell_type": "code",
      "execution_count": null,
      "id": "97627ecb",
      "metadata": {
        "id": "97627ecb",
        "outputId": "6fa17bd5-16f0-477e-dc2a-5a1f73a45eb8"
      },
      "outputs": [
        {
          "data": {
            "text/html": [
              "<div>\n",
              "<style scoped>\n",
              "    .dataframe tbody tr th:only-of-type {\n",
              "        vertical-align: middle;\n",
              "    }\n",
              "\n",
              "    .dataframe tbody tr th {\n",
              "        vertical-align: top;\n",
              "    }\n",
              "\n",
              "    .dataframe thead th {\n",
              "        text-align: right;\n",
              "    }\n",
              "</style>\n",
              "<table border=\"1\" class=\"dataframe\">\n",
              "  <thead>\n",
              "    <tr style=\"text-align: right;\">\n",
              "      <th></th>\n",
              "      <th>a</th>\n",
              "      <th>b</th>\n",
              "      <th>c</th>\n",
              "      <th>d</th>\n",
              "    </tr>\n",
              "  </thead>\n",
              "  <tbody>\n",
              "    <tr>\n",
              "      <th>0</th>\n",
              "      <td>-1.355375</td>\n",
              "      <td>-0.042080</td>\n",
              "      <td>0.413574</td>\n",
              "      <td>-1.313131</td>\n",
              "    </tr>\n",
              "    <tr>\n",
              "      <th>1</th>\n",
              "      <td>-0.277643</td>\n",
              "      <td>0.503902</td>\n",
              "      <td>0.441448</td>\n",
              "      <td>-0.174268</td>\n",
              "    </tr>\n",
              "    <tr>\n",
              "      <th>2</th>\n",
              "      <td>-0.673647</td>\n",
              "      <td>-0.336619</td>\n",
              "      <td>0.703966</td>\n",
              "      <td>0.630479</td>\n",
              "    </tr>\n",
              "  </tbody>\n",
              "</table>\n",
              "</div>"
            ],
            "text/plain": [
              "          a         b         c         d\n",
              "0 -1.355375 -0.042080  0.413574 -1.313131\n",
              "1 -0.277643  0.503902  0.441448 -0.174268\n",
              "2 -0.673647 -0.336619  0.703966  0.630479"
            ]
          },
          "execution_count": 124,
          "metadata": {},
          "output_type": "execute_result"
        }
      ],
      "source": [
        "df1"
      ]
    },
    {
      "cell_type": "code",
      "execution_count": null,
      "id": "b195f26a",
      "metadata": {
        "id": "b195f26a"
      },
      "outputs": [],
      "source": [
        "df2 = pd.DataFrame(np.random.randn(2, 3), columns=['b', 'd', 'a'])"
      ]
    },
    {
      "cell_type": "code",
      "execution_count": null,
      "id": "74ca308a",
      "metadata": {
        "id": "74ca308a",
        "outputId": "50f4a0a1-3369-469b-deda-3460ea971085"
      },
      "outputs": [
        {
          "data": {
            "text/html": [
              "<div>\n",
              "<style scoped>\n",
              "    .dataframe tbody tr th:only-of-type {\n",
              "        vertical-align: middle;\n",
              "    }\n",
              "\n",
              "    .dataframe tbody tr th {\n",
              "        vertical-align: top;\n",
              "    }\n",
              "\n",
              "    .dataframe thead th {\n",
              "        text-align: right;\n",
              "    }\n",
              "</style>\n",
              "<table border=\"1\" class=\"dataframe\">\n",
              "  <thead>\n",
              "    <tr style=\"text-align: right;\">\n",
              "      <th></th>\n",
              "      <th>b</th>\n",
              "      <th>d</th>\n",
              "      <th>a</th>\n",
              "    </tr>\n",
              "  </thead>\n",
              "  <tbody>\n",
              "    <tr>\n",
              "      <th>0</th>\n",
              "      <td>0.637043</td>\n",
              "      <td>-0.182044</td>\n",
              "      <td>1.142839</td>\n",
              "    </tr>\n",
              "    <tr>\n",
              "      <th>1</th>\n",
              "      <td>-0.856315</td>\n",
              "      <td>-0.373455</td>\n",
              "      <td>2.074000</td>\n",
              "    </tr>\n",
              "  </tbody>\n",
              "</table>\n",
              "</div>"
            ],
            "text/plain": [
              "          b         d         a\n",
              "0  0.637043 -0.182044  1.142839\n",
              "1 -0.856315 -0.373455  2.074000"
            ]
          },
          "execution_count": 126,
          "metadata": {},
          "output_type": "execute_result"
        }
      ],
      "source": [
        "df2"
      ]
    },
    {
      "cell_type": "code",
      "execution_count": null,
      "id": "a4162137",
      "metadata": {
        "id": "a4162137",
        "outputId": "03987c55-ad28-4dd9-9920-579053e0d454"
      },
      "outputs": [
        {
          "data": {
            "text/html": [
              "<div>\n",
              "<style scoped>\n",
              "    .dataframe tbody tr th:only-of-type {\n",
              "        vertical-align: middle;\n",
              "    }\n",
              "\n",
              "    .dataframe tbody tr th {\n",
              "        vertical-align: top;\n",
              "    }\n",
              "\n",
              "    .dataframe thead th {\n",
              "        text-align: right;\n",
              "    }\n",
              "</style>\n",
              "<table border=\"1\" class=\"dataframe\">\n",
              "  <thead>\n",
              "    <tr style=\"text-align: right;\">\n",
              "      <th></th>\n",
              "      <th>a</th>\n",
              "      <th>b</th>\n",
              "      <th>c</th>\n",
              "      <th>d</th>\n",
              "    </tr>\n",
              "  </thead>\n",
              "  <tbody>\n",
              "    <tr>\n",
              "      <th>0</th>\n",
              "      <td>-1.355375</td>\n",
              "      <td>-0.042080</td>\n",
              "      <td>0.413574</td>\n",
              "      <td>-1.313131</td>\n",
              "    </tr>\n",
              "    <tr>\n",
              "      <th>1</th>\n",
              "      <td>-0.277643</td>\n",
              "      <td>0.503902</td>\n",
              "      <td>0.441448</td>\n",
              "      <td>-0.174268</td>\n",
              "    </tr>\n",
              "    <tr>\n",
              "      <th>2</th>\n",
              "      <td>-0.673647</td>\n",
              "      <td>-0.336619</td>\n",
              "      <td>0.703966</td>\n",
              "      <td>0.630479</td>\n",
              "    </tr>\n",
              "    <tr>\n",
              "      <th>3</th>\n",
              "      <td>1.142839</td>\n",
              "      <td>0.637043</td>\n",
              "      <td>NaN</td>\n",
              "      <td>-0.182044</td>\n",
              "    </tr>\n",
              "    <tr>\n",
              "      <th>4</th>\n",
              "      <td>2.074000</td>\n",
              "      <td>-0.856315</td>\n",
              "      <td>NaN</td>\n",
              "      <td>-0.373455</td>\n",
              "    </tr>\n",
              "  </tbody>\n",
              "</table>\n",
              "</div>"
            ],
            "text/plain": [
              "          a         b         c         d\n",
              "0 -1.355375 -0.042080  0.413574 -1.313131\n",
              "1 -0.277643  0.503902  0.441448 -0.174268\n",
              "2 -0.673647 -0.336619  0.703966  0.630479\n",
              "3  1.142839  0.637043       NaN -0.182044\n",
              "4  2.074000 -0.856315       NaN -0.373455"
            ]
          },
          "execution_count": 129,
          "metadata": {},
          "output_type": "execute_result"
        }
      ],
      "source": [
        "pd.concat([df1, df2], ignore_index=True)"
      ]
    },
    {
      "cell_type": "markdown",
      "id": "a2327c92",
      "metadata": {
        "id": "a2327c92"
      },
      "source": [
        "### Combining Data with Overlap"
      ]
    },
    {
      "cell_type": "markdown",
      "id": "ba7ffab1",
      "metadata": {
        "id": "ba7ffab1"
      },
      "source": [
        "There is another data combination situation that can’t be expressed as either a merge\n",
        "or concatenation operation. You may have two datasets whose indexes overlap in full\n",
        "or part. As a motivating example, consider NumPy’s where function, which performs\n",
        "the array-oriented equivalent of an if-else expression:\n"
      ]
    },
    {
      "cell_type": "code",
      "execution_count": null,
      "id": "6b1872db",
      "metadata": {
        "id": "6b1872db"
      },
      "outputs": [],
      "source": [
        "a = pd.Series([np.nan, 2.5, np.nan, 3.5, 4.5, np.nan],index=['f', 'e', 'd', 'c', 'b', 'a'])"
      ]
    },
    {
      "cell_type": "code",
      "execution_count": null,
      "id": "62f6a965",
      "metadata": {
        "id": "62f6a965",
        "outputId": "a5273aad-4474-4675-9050-a9992e362d64"
      },
      "outputs": [
        {
          "data": {
            "text/plain": [
              "f    NaN\n",
              "e    2.5\n",
              "d    NaN\n",
              "c    3.5\n",
              "b    4.5\n",
              "a    NaN\n",
              "dtype: float64"
            ]
          },
          "execution_count": 131,
          "metadata": {},
          "output_type": "execute_result"
        }
      ],
      "source": [
        "a"
      ]
    },
    {
      "cell_type": "code",
      "execution_count": null,
      "id": "94407e9a",
      "metadata": {
        "id": "94407e9a"
      },
      "outputs": [],
      "source": [
        "b = pd.Series(np.arange(len(a), dtype=np.float64),index=['f', 'e', 'd', 'c', 'b', 'a'])"
      ]
    },
    {
      "cell_type": "code",
      "execution_count": null,
      "id": "d5bc5590",
      "metadata": {
        "id": "d5bc5590"
      },
      "outputs": [],
      "source": [
        "b[-1] = np.nan"
      ]
    },
    {
      "cell_type": "code",
      "execution_count": null,
      "id": "f0bf1b75",
      "metadata": {
        "id": "f0bf1b75",
        "outputId": "dd2bce02-9f30-4901-9ce7-999dda1be3e8"
      },
      "outputs": [
        {
          "data": {
            "text/plain": [
              "f    0.0\n",
              "e    1.0\n",
              "d    2.0\n",
              "c    3.0\n",
              "b    4.0\n",
              "a    NaN\n",
              "dtype: float64"
            ]
          },
          "execution_count": 135,
          "metadata": {},
          "output_type": "execute_result"
        }
      ],
      "source": [
        "b"
      ]
    },
    {
      "cell_type": "code",
      "execution_count": null,
      "id": "328680ff",
      "metadata": {
        "id": "328680ff",
        "outputId": "62cdc993-8836-414c-9647-934541de65a7"
      },
      "outputs": [
        {
          "data": {
            "text/plain": [
              "array([0. , 2.5, 2. , 3.5, 4.5, nan])"
            ]
          },
          "execution_count": 147,
          "metadata": {},
          "output_type": "execute_result"
        }
      ],
      "source": [
        "np.where(pd.isnull(a),b,a)"
      ]
    },
    {
      "cell_type": "code",
      "execution_count": null,
      "id": "1a4b23f1",
      "metadata": {
        "id": "1a4b23f1",
        "outputId": "84cc9f37-32cf-4e26-c504-33ff330affc9"
      },
      "outputs": [
        {
          "data": {
            "text/plain": [
              "f     True\n",
              "e    False\n",
              "d     True\n",
              "c    False\n",
              "b    False\n",
              "a     True\n",
              "dtype: bool"
            ]
          },
          "execution_count": 149,
          "metadata": {},
          "output_type": "execute_result"
        }
      ],
      "source": [
        "pd.isnull(a)"
      ]
    },
    {
      "cell_type": "markdown",
      "id": "91dbe6a3",
      "metadata": {
        "id": "91dbe6a3"
      },
      "source": [
        "Series has a combine_first method, which performs the equivalent of this operation\n",
        "along with pandas’s usual data alignment logic:"
      ]
    },
    {
      "cell_type": "code",
      "execution_count": null,
      "id": "1d5f7078",
      "metadata": {
        "id": "1d5f7078",
        "outputId": "1d0683a8-a2b3-48f8-afd3-e40bb18af3fd"
      },
      "outputs": [
        {
          "data": {
            "text/plain": [
              "c    3.5\n",
              "d    2.0\n",
              "e    1.0\n",
              "f    0.0\n",
              "dtype: float64"
            ]
          },
          "execution_count": 153,
          "metadata": {},
          "output_type": "execute_result"
        }
      ],
      "source": [
        "b[0:3].combine_first(a[0:4])"
      ]
    },
    {
      "cell_type": "markdown",
      "id": "e436c352",
      "metadata": {
        "id": "e436c352"
      },
      "source": [
        "With DataFrames, combine_first does the same thing column by column, so you\n",
        "can think of it as “patching” missing data in the calling object with data from the\n",
        "object you pass:"
      ]
    },
    {
      "cell_type": "code",
      "execution_count": null,
      "id": "13f5f6fe",
      "metadata": {
        "id": "13f5f6fe"
      },
      "outputs": [],
      "source": [
        "df1 = pd.DataFrame({'a': [1., np.nan, 5., np.nan],'b': [np.nan, 2., np.nan, 6.],'c': range(2, 18, 4)})"
      ]
    },
    {
      "cell_type": "code",
      "execution_count": null,
      "id": "9817814a",
      "metadata": {
        "id": "9817814a"
      },
      "outputs": [],
      "source": [
        "df2 = pd.DataFrame({'a': [5., 4., np.nan, 3., 7.],'b': [np.nan, 3., 4., 6., 8.]})\n"
      ]
    },
    {
      "cell_type": "code",
      "execution_count": null,
      "id": "06313462",
      "metadata": {
        "id": "06313462",
        "outputId": "a105a57e-d5c4-45a2-b9d5-350825e2ea8b"
      },
      "outputs": [
        {
          "data": {
            "text/html": [
              "<div>\n",
              "<style scoped>\n",
              "    .dataframe tbody tr th:only-of-type {\n",
              "        vertical-align: middle;\n",
              "    }\n",
              "\n",
              "    .dataframe tbody tr th {\n",
              "        vertical-align: top;\n",
              "    }\n",
              "\n",
              "    .dataframe thead th {\n",
              "        text-align: right;\n",
              "    }\n",
              "</style>\n",
              "<table border=\"1\" class=\"dataframe\">\n",
              "  <thead>\n",
              "    <tr style=\"text-align: right;\">\n",
              "      <th></th>\n",
              "      <th>a</th>\n",
              "      <th>b</th>\n",
              "      <th>c</th>\n",
              "    </tr>\n",
              "  </thead>\n",
              "  <tbody>\n",
              "    <tr>\n",
              "      <th>0</th>\n",
              "      <td>1.0</td>\n",
              "      <td>NaN</td>\n",
              "      <td>2</td>\n",
              "    </tr>\n",
              "    <tr>\n",
              "      <th>1</th>\n",
              "      <td>NaN</td>\n",
              "      <td>2.0</td>\n",
              "      <td>6</td>\n",
              "    </tr>\n",
              "    <tr>\n",
              "      <th>2</th>\n",
              "      <td>5.0</td>\n",
              "      <td>NaN</td>\n",
              "      <td>10</td>\n",
              "    </tr>\n",
              "    <tr>\n",
              "      <th>3</th>\n",
              "      <td>NaN</td>\n",
              "      <td>6.0</td>\n",
              "      <td>14</td>\n",
              "    </tr>\n",
              "  </tbody>\n",
              "</table>\n",
              "</div>"
            ],
            "text/plain": [
              "     a    b   c\n",
              "0  1.0  NaN   2\n",
              "1  NaN  2.0   6\n",
              "2  5.0  NaN  10\n",
              "3  NaN  6.0  14"
            ]
          },
          "execution_count": 157,
          "metadata": {},
          "output_type": "execute_result"
        }
      ],
      "source": [
        "df1"
      ]
    },
    {
      "cell_type": "code",
      "execution_count": null,
      "id": "0b790137",
      "metadata": {
        "id": "0b790137",
        "outputId": "7b7aa987-2482-4b12-b84a-72129e792348"
      },
      "outputs": [
        {
          "data": {
            "text/html": [
              "<div>\n",
              "<style scoped>\n",
              "    .dataframe tbody tr th:only-of-type {\n",
              "        vertical-align: middle;\n",
              "    }\n",
              "\n",
              "    .dataframe tbody tr th {\n",
              "        vertical-align: top;\n",
              "    }\n",
              "\n",
              "    .dataframe thead th {\n",
              "        text-align: right;\n",
              "    }\n",
              "</style>\n",
              "<table border=\"1\" class=\"dataframe\">\n",
              "  <thead>\n",
              "    <tr style=\"text-align: right;\">\n",
              "      <th></th>\n",
              "      <th>a</th>\n",
              "      <th>b</th>\n",
              "    </tr>\n",
              "  </thead>\n",
              "  <tbody>\n",
              "    <tr>\n",
              "      <th>0</th>\n",
              "      <td>5.0</td>\n",
              "      <td>NaN</td>\n",
              "    </tr>\n",
              "    <tr>\n",
              "      <th>1</th>\n",
              "      <td>4.0</td>\n",
              "      <td>3.0</td>\n",
              "    </tr>\n",
              "    <tr>\n",
              "      <th>2</th>\n",
              "      <td>NaN</td>\n",
              "      <td>4.0</td>\n",
              "    </tr>\n",
              "    <tr>\n",
              "      <th>3</th>\n",
              "      <td>3.0</td>\n",
              "      <td>6.0</td>\n",
              "    </tr>\n",
              "    <tr>\n",
              "      <th>4</th>\n",
              "      <td>7.0</td>\n",
              "      <td>8.0</td>\n",
              "    </tr>\n",
              "  </tbody>\n",
              "</table>\n",
              "</div>"
            ],
            "text/plain": [
              "     a    b\n",
              "0  5.0  NaN\n",
              "1  4.0  3.0\n",
              "2  NaN  4.0\n",
              "3  3.0  6.0\n",
              "4  7.0  8.0"
            ]
          },
          "execution_count": 158,
          "metadata": {},
          "output_type": "execute_result"
        }
      ],
      "source": [
        "df2"
      ]
    },
    {
      "cell_type": "code",
      "execution_count": null,
      "id": "775615e8",
      "metadata": {
        "id": "775615e8",
        "outputId": "74e9bcb3-3d73-43cc-c8ec-acc6dfbc5c26"
      },
      "outputs": [
        {
          "data": {
            "text/html": [
              "<div>\n",
              "<style scoped>\n",
              "    .dataframe tbody tr th:only-of-type {\n",
              "        vertical-align: middle;\n",
              "    }\n",
              "\n",
              "    .dataframe tbody tr th {\n",
              "        vertical-align: top;\n",
              "    }\n",
              "\n",
              "    .dataframe thead th {\n",
              "        text-align: right;\n",
              "    }\n",
              "</style>\n",
              "<table border=\"1\" class=\"dataframe\">\n",
              "  <thead>\n",
              "    <tr style=\"text-align: right;\">\n",
              "      <th></th>\n",
              "      <th>a</th>\n",
              "      <th>b</th>\n",
              "      <th>c</th>\n",
              "    </tr>\n",
              "  </thead>\n",
              "  <tbody>\n",
              "    <tr>\n",
              "      <th>0</th>\n",
              "      <td>1.0</td>\n",
              "      <td>NaN</td>\n",
              "      <td>2.0</td>\n",
              "    </tr>\n",
              "    <tr>\n",
              "      <th>1</th>\n",
              "      <td>4.0</td>\n",
              "      <td>2.0</td>\n",
              "      <td>6.0</td>\n",
              "    </tr>\n",
              "    <tr>\n",
              "      <th>2</th>\n",
              "      <td>5.0</td>\n",
              "      <td>4.0</td>\n",
              "      <td>10.0</td>\n",
              "    </tr>\n",
              "    <tr>\n",
              "      <th>3</th>\n",
              "      <td>3.0</td>\n",
              "      <td>6.0</td>\n",
              "      <td>14.0</td>\n",
              "    </tr>\n",
              "    <tr>\n",
              "      <th>4</th>\n",
              "      <td>7.0</td>\n",
              "      <td>8.0</td>\n",
              "      <td>NaN</td>\n",
              "    </tr>\n",
              "  </tbody>\n",
              "</table>\n",
              "</div>"
            ],
            "text/plain": [
              "     a    b     c\n",
              "0  1.0  NaN   2.0\n",
              "1  4.0  2.0   6.0\n",
              "2  5.0  4.0  10.0\n",
              "3  3.0  6.0  14.0\n",
              "4  7.0  8.0   NaN"
            ]
          },
          "execution_count": 159,
          "metadata": {},
          "output_type": "execute_result"
        }
      ],
      "source": [
        "df1.combine_first(df2)"
      ]
    },
    {
      "cell_type": "markdown",
      "id": "7028b162",
      "metadata": {
        "id": "7028b162"
      },
      "source": [
        "## Reshaping and Pivoting\n",
        "\n",
        "There are a number of basic operations for rearranging tabular data. These are alter‐\n",
        "natingly referred to as reshape or pivot operations."
      ]
    },
    {
      "cell_type": "markdown",
      "id": "06417738",
      "metadata": {
        "id": "06417738"
      },
      "source": [
        "### Reshaping with Hierarchical Indexing"
      ]
    },
    {
      "cell_type": "markdown",
      "id": "acb87578",
      "metadata": {
        "id": "acb87578"
      },
      "source": [
        "Hierarchical indexing provides a consistent way to rearrange data in a DataFrame.\n",
        "\n",
        "There are two primary actions:\n",
        "\n",
        "**stack** - This “rotates” or pivots from the columns in the data to the rows\n",
        "\n",
        "**unstack** - This pivots from the rows into the columns"
      ]
    },
    {
      "cell_type": "code",
      "execution_count": null,
      "id": "c3596d26",
      "metadata": {
        "id": "c3596d26"
      },
      "outputs": [],
      "source": [
        "data = pd.DataFrame(np.arange(6).reshape((2, 3)),\n",
        " .....: index=pd.Index(['Ohio', 'Colorado'], name='state'),\n",
        " .....: columns=pd.Index(['one', 'two', 'three'],\n",
        " .....: name='number'))\n"
      ]
    },
    {
      "cell_type": "code",
      "execution_count": null,
      "id": "549d11a2",
      "metadata": {
        "id": "549d11a2",
        "outputId": "33dd3761-c9ba-4ee7-c929-afc0f1bd54fc"
      },
      "outputs": [
        {
          "data": {
            "text/html": [
              "<div>\n",
              "<style scoped>\n",
              "    .dataframe tbody tr th:only-of-type {\n",
              "        vertical-align: middle;\n",
              "    }\n",
              "\n",
              "    .dataframe tbody tr th {\n",
              "        vertical-align: top;\n",
              "    }\n",
              "\n",
              "    .dataframe thead th {\n",
              "        text-align: right;\n",
              "    }\n",
              "</style>\n",
              "<table border=\"1\" class=\"dataframe\">\n",
              "  <thead>\n",
              "    <tr style=\"text-align: right;\">\n",
              "      <th>number</th>\n",
              "      <th>one</th>\n",
              "      <th>two</th>\n",
              "      <th>three</th>\n",
              "    </tr>\n",
              "    <tr>\n",
              "      <th>state</th>\n",
              "      <th></th>\n",
              "      <th></th>\n",
              "      <th></th>\n",
              "    </tr>\n",
              "  </thead>\n",
              "  <tbody>\n",
              "    <tr>\n",
              "      <th>Ohio</th>\n",
              "      <td>0</td>\n",
              "      <td>1</td>\n",
              "      <td>2</td>\n",
              "    </tr>\n",
              "    <tr>\n",
              "      <th>Colorado</th>\n",
              "      <td>3</td>\n",
              "      <td>4</td>\n",
              "      <td>5</td>\n",
              "    </tr>\n",
              "  </tbody>\n",
              "</table>\n",
              "</div>"
            ],
            "text/plain": [
              "number    one  two  three\n",
              "state                    \n",
              "Ohio        0    1      2\n",
              "Colorado    3    4      5"
            ]
          },
          "execution_count": 161,
          "metadata": {},
          "output_type": "execute_result"
        }
      ],
      "source": [
        "data"
      ]
    },
    {
      "cell_type": "code",
      "execution_count": null,
      "id": "3dedb609",
      "metadata": {
        "id": "3dedb609"
      },
      "outputs": [],
      "source": [
        "result = data.stack()"
      ]
    },
    {
      "cell_type": "code",
      "execution_count": null,
      "id": "02487e49",
      "metadata": {
        "id": "02487e49",
        "outputId": "219adc92-8059-4c8f-d8ab-3c2e1c126388"
      },
      "outputs": [
        {
          "data": {
            "text/plain": [
              "state     number\n",
              "Ohio      one       0\n",
              "          two       1\n",
              "          three     2\n",
              "Colorado  one       3\n",
              "          two       4\n",
              "          three     5\n",
              "dtype: int32"
            ]
          },
          "execution_count": 163,
          "metadata": {},
          "output_type": "execute_result"
        }
      ],
      "source": [
        "result"
      ]
    },
    {
      "cell_type": "code",
      "execution_count": null,
      "id": "8f8a7f48",
      "metadata": {
        "id": "8f8a7f48",
        "outputId": "ce3bbfa4-da99-45b8-e2da-540e130353fe"
      },
      "outputs": [
        {
          "data": {
            "text/html": [
              "<div>\n",
              "<style scoped>\n",
              "    .dataframe tbody tr th:only-of-type {\n",
              "        vertical-align: middle;\n",
              "    }\n",
              "\n",
              "    .dataframe tbody tr th {\n",
              "        vertical-align: top;\n",
              "    }\n",
              "\n",
              "    .dataframe thead th {\n",
              "        text-align: right;\n",
              "    }\n",
              "</style>\n",
              "<table border=\"1\" class=\"dataframe\">\n",
              "  <thead>\n",
              "    <tr style=\"text-align: right;\">\n",
              "      <th>number</th>\n",
              "      <th>one</th>\n",
              "      <th>two</th>\n",
              "      <th>three</th>\n",
              "    </tr>\n",
              "    <tr>\n",
              "      <th>state</th>\n",
              "      <th></th>\n",
              "      <th></th>\n",
              "      <th></th>\n",
              "    </tr>\n",
              "  </thead>\n",
              "  <tbody>\n",
              "    <tr>\n",
              "      <th>Ohio</th>\n",
              "      <td>0</td>\n",
              "      <td>1</td>\n",
              "      <td>2</td>\n",
              "    </tr>\n",
              "    <tr>\n",
              "      <th>Colorado</th>\n",
              "      <td>3</td>\n",
              "      <td>4</td>\n",
              "      <td>5</td>\n",
              "    </tr>\n",
              "  </tbody>\n",
              "</table>\n",
              "</div>"
            ],
            "text/plain": [
              "number    one  two  three\n",
              "state                    \n",
              "Ohio        0    1      2\n",
              "Colorado    3    4      5"
            ]
          },
          "execution_count": 164,
          "metadata": {},
          "output_type": "execute_result"
        }
      ],
      "source": [
        "result.unstack()"
      ]
    },
    {
      "cell_type": "markdown",
      "id": "cc04ec49",
      "metadata": {
        "id": "cc04ec49"
      },
      "source": [
        "By default the innermost level is unstacked (same with stack). You can unstack a dif‐\n",
        "ferent level by passing a level number or name:"
      ]
    },
    {
      "cell_type": "code",
      "execution_count": null,
      "id": "c50f150d",
      "metadata": {
        "id": "c50f150d",
        "outputId": "67db643a-2b86-4fd7-9504-504a394f9f2e"
      },
      "outputs": [
        {
          "data": {
            "text/html": [
              "<div>\n",
              "<style scoped>\n",
              "    .dataframe tbody tr th:only-of-type {\n",
              "        vertical-align: middle;\n",
              "    }\n",
              "\n",
              "    .dataframe tbody tr th {\n",
              "        vertical-align: top;\n",
              "    }\n",
              "\n",
              "    .dataframe thead th {\n",
              "        text-align: right;\n",
              "    }\n",
              "</style>\n",
              "<table border=\"1\" class=\"dataframe\">\n",
              "  <thead>\n",
              "    <tr style=\"text-align: right;\">\n",
              "      <th>state</th>\n",
              "      <th>Ohio</th>\n",
              "      <th>Colorado</th>\n",
              "    </tr>\n",
              "    <tr>\n",
              "      <th>number</th>\n",
              "      <th></th>\n",
              "      <th></th>\n",
              "    </tr>\n",
              "  </thead>\n",
              "  <tbody>\n",
              "    <tr>\n",
              "      <th>one</th>\n",
              "      <td>0</td>\n",
              "      <td>3</td>\n",
              "    </tr>\n",
              "    <tr>\n",
              "      <th>two</th>\n",
              "      <td>1</td>\n",
              "      <td>4</td>\n",
              "    </tr>\n",
              "    <tr>\n",
              "      <th>three</th>\n",
              "      <td>2</td>\n",
              "      <td>5</td>\n",
              "    </tr>\n",
              "  </tbody>\n",
              "</table>\n",
              "</div>"
            ],
            "text/plain": [
              "state   Ohio  Colorado\n",
              "number                \n",
              "one        0         3\n",
              "two        1         4\n",
              "three      2         5"
            ]
          },
          "execution_count": 165,
          "metadata": {},
          "output_type": "execute_result"
        }
      ],
      "source": [
        "result.unstack(0)"
      ]
    },
    {
      "cell_type": "code",
      "execution_count": null,
      "id": "b9734dfb",
      "metadata": {
        "id": "b9734dfb",
        "outputId": "96e25fcf-6c83-4c84-fd82-486f404e0d7e"
      },
      "outputs": [
        {
          "data": {
            "text/html": [
              "<div>\n",
              "<style scoped>\n",
              "    .dataframe tbody tr th:only-of-type {\n",
              "        vertical-align: middle;\n",
              "    }\n",
              "\n",
              "    .dataframe tbody tr th {\n",
              "        vertical-align: top;\n",
              "    }\n",
              "\n",
              "    .dataframe thead th {\n",
              "        text-align: right;\n",
              "    }\n",
              "</style>\n",
              "<table border=\"1\" class=\"dataframe\">\n",
              "  <thead>\n",
              "    <tr style=\"text-align: right;\">\n",
              "      <th>number</th>\n",
              "      <th>one</th>\n",
              "      <th>two</th>\n",
              "      <th>three</th>\n",
              "    </tr>\n",
              "    <tr>\n",
              "      <th>state</th>\n",
              "      <th></th>\n",
              "      <th></th>\n",
              "      <th></th>\n",
              "    </tr>\n",
              "  </thead>\n",
              "  <tbody>\n",
              "    <tr>\n",
              "      <th>Ohio</th>\n",
              "      <td>0</td>\n",
              "      <td>1</td>\n",
              "      <td>2</td>\n",
              "    </tr>\n",
              "    <tr>\n",
              "      <th>Colorado</th>\n",
              "      <td>3</td>\n",
              "      <td>4</td>\n",
              "      <td>5</td>\n",
              "    </tr>\n",
              "  </tbody>\n",
              "</table>\n",
              "</div>"
            ],
            "text/plain": [
              "number    one  two  three\n",
              "state                    \n",
              "Ohio        0    1      2\n",
              "Colorado    3    4      5"
            ]
          },
          "execution_count": 167,
          "metadata": {},
          "output_type": "execute_result"
        }
      ],
      "source": [
        "result.unstack('number')"
      ]
    },
    {
      "cell_type": "code",
      "execution_count": null,
      "id": "2fae9631",
      "metadata": {
        "id": "2fae9631",
        "outputId": "51975fc2-e465-4ad7-b67e-044ad6277746"
      },
      "outputs": [
        {
          "data": {
            "text/html": [
              "<div>\n",
              "<style scoped>\n",
              "    .dataframe tbody tr th:only-of-type {\n",
              "        vertical-align: middle;\n",
              "    }\n",
              "\n",
              "    .dataframe tbody tr th {\n",
              "        vertical-align: top;\n",
              "    }\n",
              "\n",
              "    .dataframe thead th {\n",
              "        text-align: right;\n",
              "    }\n",
              "</style>\n",
              "<table border=\"1\" class=\"dataframe\">\n",
              "  <thead>\n",
              "    <tr style=\"text-align: right;\">\n",
              "      <th>state</th>\n",
              "      <th>Ohio</th>\n",
              "      <th>Colorado</th>\n",
              "    </tr>\n",
              "    <tr>\n",
              "      <th>number</th>\n",
              "      <th></th>\n",
              "      <th></th>\n",
              "    </tr>\n",
              "  </thead>\n",
              "  <tbody>\n",
              "    <tr>\n",
              "      <th>one</th>\n",
              "      <td>0</td>\n",
              "      <td>3</td>\n",
              "    </tr>\n",
              "    <tr>\n",
              "      <th>two</th>\n",
              "      <td>1</td>\n",
              "      <td>4</td>\n",
              "    </tr>\n",
              "    <tr>\n",
              "      <th>three</th>\n",
              "      <td>2</td>\n",
              "      <td>5</td>\n",
              "    </tr>\n",
              "  </tbody>\n",
              "</table>\n",
              "</div>"
            ],
            "text/plain": [
              "state   Ohio  Colorado\n",
              "number                \n",
              "one        0         3\n",
              "two        1         4\n",
              "three      2         5"
            ]
          },
          "execution_count": 168,
          "metadata": {},
          "output_type": "execute_result"
        }
      ],
      "source": [
        "result.unstack('state')"
      ]
    },
    {
      "cell_type": "code",
      "execution_count": null,
      "id": "d22f7f47",
      "metadata": {
        "id": "d22f7f47"
      },
      "outputs": [],
      "source": [
        "s1 = pd.Series([0, 1, 2, 3], index=['a', 'b', 'c', 'd'])"
      ]
    },
    {
      "cell_type": "code",
      "execution_count": null,
      "id": "f560e321",
      "metadata": {
        "id": "f560e321"
      },
      "outputs": [],
      "source": [
        "s2 = pd.Series([4, 5, 6], index=['c', 'd', 'e'])"
      ]
    },
    {
      "cell_type": "code",
      "execution_count": null,
      "id": "8b019c72",
      "metadata": {
        "id": "8b019c72"
      },
      "outputs": [],
      "source": [
        "data2 = pd.concat([s1, s2], keys=['one', 'two'])"
      ]
    },
    {
      "cell_type": "code",
      "execution_count": null,
      "id": "c54deec1",
      "metadata": {
        "id": "c54deec1",
        "outputId": "87d2ea8c-9215-4fbc-8a87-38558cd0852a"
      },
      "outputs": [
        {
          "data": {
            "text/plain": [
              "one  a    0\n",
              "     b    1\n",
              "     c    2\n",
              "     d    3\n",
              "two  c    4\n",
              "     d    5\n",
              "     e    6\n",
              "dtype: int64"
            ]
          },
          "execution_count": 172,
          "metadata": {},
          "output_type": "execute_result"
        }
      ],
      "source": [
        "data2"
      ]
    },
    {
      "cell_type": "code",
      "execution_count": null,
      "id": "59a0d0da",
      "metadata": {
        "id": "59a0d0da",
        "outputId": "1ece9749-7a6f-4233-8881-a7d8957fed40"
      },
      "outputs": [
        {
          "data": {
            "text/html": [
              "<div>\n",
              "<style scoped>\n",
              "    .dataframe tbody tr th:only-of-type {\n",
              "        vertical-align: middle;\n",
              "    }\n",
              "\n",
              "    .dataframe tbody tr th {\n",
              "        vertical-align: top;\n",
              "    }\n",
              "\n",
              "    .dataframe thead th {\n",
              "        text-align: right;\n",
              "    }\n",
              "</style>\n",
              "<table border=\"1\" class=\"dataframe\">\n",
              "  <thead>\n",
              "    <tr style=\"text-align: right;\">\n",
              "      <th></th>\n",
              "      <th>a</th>\n",
              "      <th>b</th>\n",
              "      <th>c</th>\n",
              "      <th>d</th>\n",
              "      <th>e</th>\n",
              "    </tr>\n",
              "  </thead>\n",
              "  <tbody>\n",
              "    <tr>\n",
              "      <th>one</th>\n",
              "      <td>0.0</td>\n",
              "      <td>1.0</td>\n",
              "      <td>2.0</td>\n",
              "      <td>3.0</td>\n",
              "      <td>NaN</td>\n",
              "    </tr>\n",
              "    <tr>\n",
              "      <th>two</th>\n",
              "      <td>NaN</td>\n",
              "      <td>NaN</td>\n",
              "      <td>4.0</td>\n",
              "      <td>5.0</td>\n",
              "      <td>6.0</td>\n",
              "    </tr>\n",
              "  </tbody>\n",
              "</table>\n",
              "</div>"
            ],
            "text/plain": [
              "       a    b    c    d    e\n",
              "one  0.0  1.0  2.0  3.0  NaN\n",
              "two  NaN  NaN  4.0  5.0  6.0"
            ]
          },
          "execution_count": 178,
          "metadata": {},
          "output_type": "execute_result"
        }
      ],
      "source": [
        "data2.unstack()"
      ]
    },
    {
      "cell_type": "code",
      "execution_count": null,
      "id": "d9b826e7",
      "metadata": {
        "id": "d9b826e7",
        "outputId": "ca287d22-593c-4863-905c-b90156975601"
      },
      "outputs": [
        {
          "data": {
            "text/html": [
              "<div>\n",
              "<style scoped>\n",
              "    .dataframe tbody tr th:only-of-type {\n",
              "        vertical-align: middle;\n",
              "    }\n",
              "\n",
              "    .dataframe tbody tr th {\n",
              "        vertical-align: top;\n",
              "    }\n",
              "\n",
              "    .dataframe thead th {\n",
              "        text-align: right;\n",
              "    }\n",
              "</style>\n",
              "<table border=\"1\" class=\"dataframe\">\n",
              "  <thead>\n",
              "    <tr style=\"text-align: right;\">\n",
              "      <th></th>\n",
              "      <th>one</th>\n",
              "      <th>two</th>\n",
              "    </tr>\n",
              "  </thead>\n",
              "  <tbody>\n",
              "    <tr>\n",
              "      <th>a</th>\n",
              "      <td>0.0</td>\n",
              "      <td>NaN</td>\n",
              "    </tr>\n",
              "    <tr>\n",
              "      <th>b</th>\n",
              "      <td>1.0</td>\n",
              "      <td>NaN</td>\n",
              "    </tr>\n",
              "    <tr>\n",
              "      <th>c</th>\n",
              "      <td>2.0</td>\n",
              "      <td>4.0</td>\n",
              "    </tr>\n",
              "    <tr>\n",
              "      <th>d</th>\n",
              "      <td>3.0</td>\n",
              "      <td>5.0</td>\n",
              "    </tr>\n",
              "    <tr>\n",
              "      <th>e</th>\n",
              "      <td>NaN</td>\n",
              "      <td>6.0</td>\n",
              "    </tr>\n",
              "  </tbody>\n",
              "</table>\n",
              "</div>"
            ],
            "text/plain": [
              "   one  two\n",
              "a  0.0  NaN\n",
              "b  1.0  NaN\n",
              "c  2.0  4.0\n",
              "d  3.0  5.0\n",
              "e  NaN  6.0"
            ]
          },
          "execution_count": 179,
          "metadata": {},
          "output_type": "execute_result"
        }
      ],
      "source": [
        "data2.unstack(0)"
      ]
    },
    {
      "cell_type": "code",
      "execution_count": null,
      "id": "481d010e",
      "metadata": {
        "id": "481d010e",
        "outputId": "36c4c34e-86aa-4bfc-dacb-dea2d66fc8cc"
      },
      "outputs": [
        {
          "data": {
            "text/plain": [
              "one  a    0.0\n",
              "     b    1.0\n",
              "     c    2.0\n",
              "     d    3.0\n",
              "two  c    4.0\n",
              "     d    5.0\n",
              "     e    6.0\n",
              "dtype: float64"
            ]
          },
          "execution_count": 180,
          "metadata": {},
          "output_type": "execute_result"
        }
      ],
      "source": [
        "data2.unstack().stack()"
      ]
    },
    {
      "cell_type": "code",
      "execution_count": null,
      "id": "de94d833",
      "metadata": {
        "id": "de94d833",
        "outputId": "a5d4dda9-cb7f-4305-b659-b83d706e26bb"
      },
      "outputs": [
        {
          "data": {
            "text/plain": [
              "one  a    0.0\n",
              "     b    1.0\n",
              "     c    2.0\n",
              "     d    3.0\n",
              "     e    NaN\n",
              "two  a    NaN\n",
              "     b    NaN\n",
              "     c    4.0\n",
              "     d    5.0\n",
              "     e    6.0\n",
              "dtype: float64"
            ]
          },
          "execution_count": 181,
          "metadata": {},
          "output_type": "execute_result"
        }
      ],
      "source": [
        "data2.unstack().stack(dropna=False)"
      ]
    },
    {
      "cell_type": "markdown",
      "id": "dfea2ec0",
      "metadata": {
        "id": "dfea2ec0"
      },
      "source": [
        "When you unstack in a DataFrame, the level unstacked becomes the lowest level in\n",
        "the result:"
      ]
    },
    {
      "cell_type": "code",
      "execution_count": null,
      "id": "55ca96b6",
      "metadata": {
        "id": "55ca96b6"
      },
      "outputs": [],
      "source": [
        "df = pd.DataFrame({'left': result, 'right': result + 5},\n",
        " .....: columns=pd.Index(['left', 'right'], name='side'))"
      ]
    },
    {
      "cell_type": "code",
      "execution_count": null,
      "id": "a090101c",
      "metadata": {
        "id": "a090101c",
        "outputId": "9eea4503-231d-4e84-c534-57f940b1bda1"
      },
      "outputs": [
        {
          "data": {
            "text/html": [
              "<div>\n",
              "<style scoped>\n",
              "    .dataframe tbody tr th:only-of-type {\n",
              "        vertical-align: middle;\n",
              "    }\n",
              "\n",
              "    .dataframe tbody tr th {\n",
              "        vertical-align: top;\n",
              "    }\n",
              "\n",
              "    .dataframe thead th {\n",
              "        text-align: right;\n",
              "    }\n",
              "</style>\n",
              "<table border=\"1\" class=\"dataframe\">\n",
              "  <thead>\n",
              "    <tr style=\"text-align: right;\">\n",
              "      <th></th>\n",
              "      <th>side</th>\n",
              "      <th>left</th>\n",
              "      <th>right</th>\n",
              "    </tr>\n",
              "    <tr>\n",
              "      <th>state</th>\n",
              "      <th>number</th>\n",
              "      <th></th>\n",
              "      <th></th>\n",
              "    </tr>\n",
              "  </thead>\n",
              "  <tbody>\n",
              "    <tr>\n",
              "      <th rowspan=\"3\" valign=\"top\">Ohio</th>\n",
              "      <th>one</th>\n",
              "      <td>0</td>\n",
              "      <td>5</td>\n",
              "    </tr>\n",
              "    <tr>\n",
              "      <th>two</th>\n",
              "      <td>1</td>\n",
              "      <td>6</td>\n",
              "    </tr>\n",
              "    <tr>\n",
              "      <th>three</th>\n",
              "      <td>2</td>\n",
              "      <td>7</td>\n",
              "    </tr>\n",
              "    <tr>\n",
              "      <th rowspan=\"3\" valign=\"top\">Colorado</th>\n",
              "      <th>one</th>\n",
              "      <td>3</td>\n",
              "      <td>8</td>\n",
              "    </tr>\n",
              "    <tr>\n",
              "      <th>two</th>\n",
              "      <td>4</td>\n",
              "      <td>9</td>\n",
              "    </tr>\n",
              "    <tr>\n",
              "      <th>three</th>\n",
              "      <td>5</td>\n",
              "      <td>10</td>\n",
              "    </tr>\n",
              "  </tbody>\n",
              "</table>\n",
              "</div>"
            ],
            "text/plain": [
              "side             left  right\n",
              "state    number             \n",
              "Ohio     one        0      5\n",
              "         two        1      6\n",
              "         three      2      7\n",
              "Colorado one        3      8\n",
              "         two        4      9\n",
              "         three      5     10"
            ]
          },
          "execution_count": 183,
          "metadata": {},
          "output_type": "execute_result"
        }
      ],
      "source": [
        "df"
      ]
    },
    {
      "cell_type": "code",
      "execution_count": null,
      "id": "efc48715",
      "metadata": {
        "id": "efc48715",
        "outputId": "2a361481-d17d-4d9f-db82-f7b167858419"
      },
      "outputs": [
        {
          "data": {
            "text/html": [
              "<div>\n",
              "<style scoped>\n",
              "    .dataframe tbody tr th:only-of-type {\n",
              "        vertical-align: middle;\n",
              "    }\n",
              "\n",
              "    .dataframe tbody tr th {\n",
              "        vertical-align: top;\n",
              "    }\n",
              "\n",
              "    .dataframe thead tr th {\n",
              "        text-align: left;\n",
              "    }\n",
              "\n",
              "    .dataframe thead tr:last-of-type th {\n",
              "        text-align: right;\n",
              "    }\n",
              "</style>\n",
              "<table border=\"1\" class=\"dataframe\">\n",
              "  <thead>\n",
              "    <tr>\n",
              "      <th>side</th>\n",
              "      <th colspan=\"2\" halign=\"left\">left</th>\n",
              "      <th colspan=\"2\" halign=\"left\">right</th>\n",
              "    </tr>\n",
              "    <tr>\n",
              "      <th>state</th>\n",
              "      <th>Ohio</th>\n",
              "      <th>Colorado</th>\n",
              "      <th>Ohio</th>\n",
              "      <th>Colorado</th>\n",
              "    </tr>\n",
              "    <tr>\n",
              "      <th>number</th>\n",
              "      <th></th>\n",
              "      <th></th>\n",
              "      <th></th>\n",
              "      <th></th>\n",
              "    </tr>\n",
              "  </thead>\n",
              "  <tbody>\n",
              "    <tr>\n",
              "      <th>one</th>\n",
              "      <td>0</td>\n",
              "      <td>3</td>\n",
              "      <td>5</td>\n",
              "      <td>8</td>\n",
              "    </tr>\n",
              "    <tr>\n",
              "      <th>two</th>\n",
              "      <td>1</td>\n",
              "      <td>4</td>\n",
              "      <td>6</td>\n",
              "      <td>9</td>\n",
              "    </tr>\n",
              "    <tr>\n",
              "      <th>three</th>\n",
              "      <td>2</td>\n",
              "      <td>5</td>\n",
              "      <td>7</td>\n",
              "      <td>10</td>\n",
              "    </tr>\n",
              "  </tbody>\n",
              "</table>\n",
              "</div>"
            ],
            "text/plain": [
              "side   left          right         \n",
              "state  Ohio Colorado  Ohio Colorado\n",
              "number                             \n",
              "one       0        3     5        8\n",
              "two       1        4     6        9\n",
              "three     2        5     7       10"
            ]
          },
          "execution_count": 184,
          "metadata": {},
          "output_type": "execute_result"
        }
      ],
      "source": [
        "df.unstack('state')"
      ]
    },
    {
      "cell_type": "code",
      "execution_count": null,
      "id": "570d9e2d",
      "metadata": {
        "id": "570d9e2d",
        "outputId": "2d4aefbf-64de-4aa7-d7cb-ceb8268734b3"
      },
      "outputs": [
        {
          "data": {
            "text/html": [
              "<div>\n",
              "<style scoped>\n",
              "    .dataframe tbody tr th:only-of-type {\n",
              "        vertical-align: middle;\n",
              "    }\n",
              "\n",
              "    .dataframe tbody tr th {\n",
              "        vertical-align: top;\n",
              "    }\n",
              "\n",
              "    .dataframe thead th {\n",
              "        text-align: right;\n",
              "    }\n",
              "</style>\n",
              "<table border=\"1\" class=\"dataframe\">\n",
              "  <thead>\n",
              "    <tr style=\"text-align: right;\">\n",
              "      <th></th>\n",
              "      <th>state</th>\n",
              "      <th>Colorado</th>\n",
              "      <th>Ohio</th>\n",
              "    </tr>\n",
              "    <tr>\n",
              "      <th>number</th>\n",
              "      <th>side</th>\n",
              "      <th></th>\n",
              "      <th></th>\n",
              "    </tr>\n",
              "  </thead>\n",
              "  <tbody>\n",
              "    <tr>\n",
              "      <th rowspan=\"2\" valign=\"top\">one</th>\n",
              "      <th>left</th>\n",
              "      <td>3</td>\n",
              "      <td>0</td>\n",
              "    </tr>\n",
              "    <tr>\n",
              "      <th>right</th>\n",
              "      <td>8</td>\n",
              "      <td>5</td>\n",
              "    </tr>\n",
              "    <tr>\n",
              "      <th rowspan=\"2\" valign=\"top\">two</th>\n",
              "      <th>left</th>\n",
              "      <td>4</td>\n",
              "      <td>1</td>\n",
              "    </tr>\n",
              "    <tr>\n",
              "      <th>right</th>\n",
              "      <td>9</td>\n",
              "      <td>6</td>\n",
              "    </tr>\n",
              "    <tr>\n",
              "      <th rowspan=\"2\" valign=\"top\">three</th>\n",
              "      <th>left</th>\n",
              "      <td>5</td>\n",
              "      <td>2</td>\n",
              "    </tr>\n",
              "    <tr>\n",
              "      <th>right</th>\n",
              "      <td>10</td>\n",
              "      <td>7</td>\n",
              "    </tr>\n",
              "  </tbody>\n",
              "</table>\n",
              "</div>"
            ],
            "text/plain": [
              "state         Colorado  Ohio\n",
              "number side                 \n",
              "one    left          3     0\n",
              "       right         8     5\n",
              "two    left          4     1\n",
              "       right         9     6\n",
              "three  left          5     2\n",
              "       right        10     7"
            ]
          },
          "execution_count": 185,
          "metadata": {},
          "output_type": "execute_result"
        }
      ],
      "source": [
        "df.unstack('state').stack('side')"
      ]
    },
    {
      "cell_type": "markdown",
      "id": "2068dba5",
      "metadata": {
        "id": "2068dba5"
      },
      "source": [
        "### Pivoting “Long” to “Wide” Format"
      ]
    },
    {
      "cell_type": "markdown",
      "id": "6395d776",
      "metadata": {
        "id": "6395d776"
      },
      "source": [
        "A common way to store multiple time series in databases and CSV is in so-called long\n",
        "or stacked format. Let’s load some example data and do a small amount of time series\n",
        "wrangling and other data cleaning:"
      ]
    },
    {
      "cell_type": "code",
      "execution_count": null,
      "id": "9833a05e",
      "metadata": {
        "id": "9833a05e"
      },
      "outputs": [],
      "source": [
        "data = pd.read_csv('./Dataset/macrodata.csv')"
      ]
    },
    {
      "cell_type": "code",
      "execution_count": null,
      "id": "f228a4ed",
      "metadata": {
        "id": "f228a4ed",
        "outputId": "c215af10-a0a9-4e14-d2bf-9b5c8a191211"
      },
      "outputs": [
        {
          "data": {
            "text/html": [
              "<div>\n",
              "<style scoped>\n",
              "    .dataframe tbody tr th:only-of-type {\n",
              "        vertical-align: middle;\n",
              "    }\n",
              "\n",
              "    .dataframe tbody tr th {\n",
              "        vertical-align: top;\n",
              "    }\n",
              "\n",
              "    .dataframe thead th {\n",
              "        text-align: right;\n",
              "    }\n",
              "</style>\n",
              "<table border=\"1\" class=\"dataframe\">\n",
              "  <thead>\n",
              "    <tr style=\"text-align: right;\">\n",
              "      <th></th>\n",
              "      <th>year</th>\n",
              "      <th>quarter</th>\n",
              "      <th>realgdp</th>\n",
              "      <th>realcons</th>\n",
              "      <th>realinv</th>\n",
              "      <th>realgovt</th>\n",
              "      <th>realdpi</th>\n",
              "      <th>cpi</th>\n",
              "      <th>m1</th>\n",
              "      <th>tbilrate</th>\n",
              "      <th>unemp</th>\n",
              "      <th>pop</th>\n",
              "      <th>infl</th>\n",
              "      <th>realint</th>\n",
              "    </tr>\n",
              "  </thead>\n",
              "  <tbody>\n",
              "    <tr>\n",
              "      <th>0</th>\n",
              "      <td>1959.0</td>\n",
              "      <td>1.0</td>\n",
              "      <td>2710.349</td>\n",
              "      <td>1707.4</td>\n",
              "      <td>286.898</td>\n",
              "      <td>470.045</td>\n",
              "      <td>1886.9</td>\n",
              "      <td>28.98</td>\n",
              "      <td>139.7</td>\n",
              "      <td>2.82</td>\n",
              "      <td>5.8</td>\n",
              "      <td>177.146</td>\n",
              "      <td>0.00</td>\n",
              "      <td>0.00</td>\n",
              "    </tr>\n",
              "    <tr>\n",
              "      <th>1</th>\n",
              "      <td>1959.0</td>\n",
              "      <td>2.0</td>\n",
              "      <td>2778.801</td>\n",
              "      <td>1733.7</td>\n",
              "      <td>310.859</td>\n",
              "      <td>481.301</td>\n",
              "      <td>1919.7</td>\n",
              "      <td>29.15</td>\n",
              "      <td>141.7</td>\n",
              "      <td>3.08</td>\n",
              "      <td>5.1</td>\n",
              "      <td>177.830</td>\n",
              "      <td>2.34</td>\n",
              "      <td>0.74</td>\n",
              "    </tr>\n",
              "    <tr>\n",
              "      <th>2</th>\n",
              "      <td>1959.0</td>\n",
              "      <td>3.0</td>\n",
              "      <td>2775.488</td>\n",
              "      <td>1751.8</td>\n",
              "      <td>289.226</td>\n",
              "      <td>491.260</td>\n",
              "      <td>1916.4</td>\n",
              "      <td>29.35</td>\n",
              "      <td>140.5</td>\n",
              "      <td>3.82</td>\n",
              "      <td>5.3</td>\n",
              "      <td>178.657</td>\n",
              "      <td>2.74</td>\n",
              "      <td>1.09</td>\n",
              "    </tr>\n",
              "    <tr>\n",
              "      <th>3</th>\n",
              "      <td>1959.0</td>\n",
              "      <td>4.0</td>\n",
              "      <td>2785.204</td>\n",
              "      <td>1753.7</td>\n",
              "      <td>299.356</td>\n",
              "      <td>484.052</td>\n",
              "      <td>1931.3</td>\n",
              "      <td>29.37</td>\n",
              "      <td>140.0</td>\n",
              "      <td>4.33</td>\n",
              "      <td>5.6</td>\n",
              "      <td>179.386</td>\n",
              "      <td>0.27</td>\n",
              "      <td>4.06</td>\n",
              "    </tr>\n",
              "    <tr>\n",
              "      <th>4</th>\n",
              "      <td>1960.0</td>\n",
              "      <td>1.0</td>\n",
              "      <td>2847.699</td>\n",
              "      <td>1770.5</td>\n",
              "      <td>331.722</td>\n",
              "      <td>462.199</td>\n",
              "      <td>1955.5</td>\n",
              "      <td>29.54</td>\n",
              "      <td>139.6</td>\n",
              "      <td>3.50</td>\n",
              "      <td>5.2</td>\n",
              "      <td>180.007</td>\n",
              "      <td>2.31</td>\n",
              "      <td>1.19</td>\n",
              "    </tr>\n",
              "  </tbody>\n",
              "</table>\n",
              "</div>"
            ],
            "text/plain": [
              "     year  quarter   realgdp  realcons  realinv  realgovt  realdpi    cpi  \\\n",
              "0  1959.0      1.0  2710.349    1707.4  286.898   470.045   1886.9  28.98   \n",
              "1  1959.0      2.0  2778.801    1733.7  310.859   481.301   1919.7  29.15   \n",
              "2  1959.0      3.0  2775.488    1751.8  289.226   491.260   1916.4  29.35   \n",
              "3  1959.0      4.0  2785.204    1753.7  299.356   484.052   1931.3  29.37   \n",
              "4  1960.0      1.0  2847.699    1770.5  331.722   462.199   1955.5  29.54   \n",
              "\n",
              "      m1  tbilrate  unemp      pop  infl  realint  \n",
              "0  139.7      2.82    5.8  177.146  0.00     0.00  \n",
              "1  141.7      3.08    5.1  177.830  2.34     0.74  \n",
              "2  140.5      3.82    5.3  178.657  2.74     1.09  \n",
              "3  140.0      4.33    5.6  179.386  0.27     4.06  \n",
              "4  139.6      3.50    5.2  180.007  2.31     1.19  "
            ]
          },
          "execution_count": 189,
          "metadata": {},
          "output_type": "execute_result"
        }
      ],
      "source": [
        "data.head()"
      ]
    },
    {
      "cell_type": "code",
      "execution_count": null,
      "id": "c226b5a8",
      "metadata": {
        "id": "c226b5a8"
      },
      "outputs": [],
      "source": [
        "periods = pd.PeriodIndex(year=data.year, quarter=data.quarter,\n",
        " .....: name='date')"
      ]
    },
    {
      "cell_type": "code",
      "execution_count": null,
      "id": "d64953d7",
      "metadata": {
        "id": "d64953d7",
        "outputId": "1da3c199-01c3-416f-8999-c5ea84eccc37"
      },
      "outputs": [
        {
          "data": {
            "text/plain": [
              "PeriodIndex(['1959Q1', '1959Q2', '1959Q3', '1959Q4', '1960Q1', '1960Q2',\n",
              "             '1960Q3', '1960Q4', '1961Q1', '1961Q2',\n",
              "             ...\n",
              "             '2007Q2', '2007Q3', '2007Q4', '2008Q1', '2008Q2', '2008Q3',\n",
              "             '2008Q4', '2009Q1', '2009Q2', '2009Q3'],\n",
              "            dtype='period[Q-DEC]', name='date', length=203, freq='Q-DEC')"
            ]
          },
          "execution_count": 191,
          "metadata": {},
          "output_type": "execute_result"
        }
      ],
      "source": [
        "periods"
      ]
    },
    {
      "cell_type": "code",
      "execution_count": null,
      "id": "fef9e16a",
      "metadata": {
        "id": "fef9e16a"
      },
      "outputs": [],
      "source": [
        "columns = pd.Index(['realgdp', 'infl', 'unemp'], name='item')"
      ]
    },
    {
      "cell_type": "code",
      "execution_count": null,
      "id": "b6ea180e",
      "metadata": {
        "id": "b6ea180e",
        "outputId": "88db4dd5-01db-4397-ac70-ac23a4a5b82f"
      },
      "outputs": [
        {
          "data": {
            "text/plain": [
              "Index(['realgdp', 'infl', 'unemp'], dtype='object', name='item')"
            ]
          },
          "execution_count": 193,
          "metadata": {},
          "output_type": "execute_result"
        }
      ],
      "source": [
        "columns"
      ]
    },
    {
      "cell_type": "code",
      "execution_count": null,
      "id": "b00a7b43",
      "metadata": {
        "id": "b00a7b43"
      },
      "outputs": [],
      "source": [
        "data = data.reindex(columns=columns)"
      ]
    },
    {
      "cell_type": "code",
      "execution_count": null,
      "id": "41840633",
      "metadata": {
        "id": "41840633",
        "outputId": "21d39a8b-e25a-4250-d026-5968a879db89"
      },
      "outputs": [
        {
          "data": {
            "text/html": [
              "<div>\n",
              "<style scoped>\n",
              "    .dataframe tbody tr th:only-of-type {\n",
              "        vertical-align: middle;\n",
              "    }\n",
              "\n",
              "    .dataframe tbody tr th {\n",
              "        vertical-align: top;\n",
              "    }\n",
              "\n",
              "    .dataframe thead th {\n",
              "        text-align: right;\n",
              "    }\n",
              "</style>\n",
              "<table border=\"1\" class=\"dataframe\">\n",
              "  <thead>\n",
              "    <tr style=\"text-align: right;\">\n",
              "      <th>item</th>\n",
              "      <th>realgdp</th>\n",
              "      <th>infl</th>\n",
              "      <th>unemp</th>\n",
              "    </tr>\n",
              "  </thead>\n",
              "  <tbody>\n",
              "    <tr>\n",
              "      <th>0</th>\n",
              "      <td>2710.349</td>\n",
              "      <td>0.00</td>\n",
              "      <td>5.8</td>\n",
              "    </tr>\n",
              "    <tr>\n",
              "      <th>1</th>\n",
              "      <td>2778.801</td>\n",
              "      <td>2.34</td>\n",
              "      <td>5.1</td>\n",
              "    </tr>\n",
              "    <tr>\n",
              "      <th>2</th>\n",
              "      <td>2775.488</td>\n",
              "      <td>2.74</td>\n",
              "      <td>5.3</td>\n",
              "    </tr>\n",
              "    <tr>\n",
              "      <th>3</th>\n",
              "      <td>2785.204</td>\n",
              "      <td>0.27</td>\n",
              "      <td>5.6</td>\n",
              "    </tr>\n",
              "    <tr>\n",
              "      <th>4</th>\n",
              "      <td>2847.699</td>\n",
              "      <td>2.31</td>\n",
              "      <td>5.2</td>\n",
              "    </tr>\n",
              "    <tr>\n",
              "      <th>...</th>\n",
              "      <td>...</td>\n",
              "      <td>...</td>\n",
              "      <td>...</td>\n",
              "    </tr>\n",
              "    <tr>\n",
              "      <th>198</th>\n",
              "      <td>13324.600</td>\n",
              "      <td>-3.16</td>\n",
              "      <td>6.0</td>\n",
              "    </tr>\n",
              "    <tr>\n",
              "      <th>199</th>\n",
              "      <td>13141.920</td>\n",
              "      <td>-8.79</td>\n",
              "      <td>6.9</td>\n",
              "    </tr>\n",
              "    <tr>\n",
              "      <th>200</th>\n",
              "      <td>12925.410</td>\n",
              "      <td>0.94</td>\n",
              "      <td>8.1</td>\n",
              "    </tr>\n",
              "    <tr>\n",
              "      <th>201</th>\n",
              "      <td>12901.504</td>\n",
              "      <td>3.37</td>\n",
              "      <td>9.2</td>\n",
              "    </tr>\n",
              "    <tr>\n",
              "      <th>202</th>\n",
              "      <td>12990.341</td>\n",
              "      <td>3.56</td>\n",
              "      <td>9.6</td>\n",
              "    </tr>\n",
              "  </tbody>\n",
              "</table>\n",
              "<p>203 rows × 3 columns</p>\n",
              "</div>"
            ],
            "text/plain": [
              "item    realgdp  infl  unemp\n",
              "0      2710.349  0.00    5.8\n",
              "1      2778.801  2.34    5.1\n",
              "2      2775.488  2.74    5.3\n",
              "3      2785.204  0.27    5.6\n",
              "4      2847.699  2.31    5.2\n",
              "..          ...   ...    ...\n",
              "198   13324.600 -3.16    6.0\n",
              "199   13141.920 -8.79    6.9\n",
              "200   12925.410  0.94    8.1\n",
              "201   12901.504  3.37    9.2\n",
              "202   12990.341  3.56    9.6\n",
              "\n",
              "[203 rows x 3 columns]"
            ]
          },
          "execution_count": 195,
          "metadata": {},
          "output_type": "execute_result"
        }
      ],
      "source": [
        "data"
      ]
    },
    {
      "cell_type": "code",
      "execution_count": null,
      "id": "688157ad",
      "metadata": {
        "id": "688157ad"
      },
      "outputs": [],
      "source": [
        "data.index = periods.to_timestamp('D', 'end')"
      ]
    },
    {
      "cell_type": "code",
      "execution_count": null,
      "id": "c5710740",
      "metadata": {
        "id": "c5710740",
        "outputId": "8d1e39a5-277d-466e-ed67-ae2b1f02172d"
      },
      "outputs": [
        {
          "data": {
            "text/html": [
              "<div>\n",
              "<style scoped>\n",
              "    .dataframe tbody tr th:only-of-type {\n",
              "        vertical-align: middle;\n",
              "    }\n",
              "\n",
              "    .dataframe tbody tr th {\n",
              "        vertical-align: top;\n",
              "    }\n",
              "\n",
              "    .dataframe thead th {\n",
              "        text-align: right;\n",
              "    }\n",
              "</style>\n",
              "<table border=\"1\" class=\"dataframe\">\n",
              "  <thead>\n",
              "    <tr style=\"text-align: right;\">\n",
              "      <th>item</th>\n",
              "      <th>realgdp</th>\n",
              "      <th>infl</th>\n",
              "      <th>unemp</th>\n",
              "    </tr>\n",
              "    <tr>\n",
              "      <th>date</th>\n",
              "      <th></th>\n",
              "      <th></th>\n",
              "      <th></th>\n",
              "    </tr>\n",
              "  </thead>\n",
              "  <tbody>\n",
              "    <tr>\n",
              "      <th>1959-03-31 23:59:59.999999999</th>\n",
              "      <td>2710.349</td>\n",
              "      <td>0.00</td>\n",
              "      <td>5.8</td>\n",
              "    </tr>\n",
              "    <tr>\n",
              "      <th>1959-06-30 23:59:59.999999999</th>\n",
              "      <td>2778.801</td>\n",
              "      <td>2.34</td>\n",
              "      <td>5.1</td>\n",
              "    </tr>\n",
              "    <tr>\n",
              "      <th>1959-09-30 23:59:59.999999999</th>\n",
              "      <td>2775.488</td>\n",
              "      <td>2.74</td>\n",
              "      <td>5.3</td>\n",
              "    </tr>\n",
              "    <tr>\n",
              "      <th>1959-12-31 23:59:59.999999999</th>\n",
              "      <td>2785.204</td>\n",
              "      <td>0.27</td>\n",
              "      <td>5.6</td>\n",
              "    </tr>\n",
              "    <tr>\n",
              "      <th>1960-03-31 23:59:59.999999999</th>\n",
              "      <td>2847.699</td>\n",
              "      <td>2.31</td>\n",
              "      <td>5.2</td>\n",
              "    </tr>\n",
              "    <tr>\n",
              "      <th>...</th>\n",
              "      <td>...</td>\n",
              "      <td>...</td>\n",
              "      <td>...</td>\n",
              "    </tr>\n",
              "    <tr>\n",
              "      <th>2008-09-30 23:59:59.999999999</th>\n",
              "      <td>13324.600</td>\n",
              "      <td>-3.16</td>\n",
              "      <td>6.0</td>\n",
              "    </tr>\n",
              "    <tr>\n",
              "      <th>2008-12-31 23:59:59.999999999</th>\n",
              "      <td>13141.920</td>\n",
              "      <td>-8.79</td>\n",
              "      <td>6.9</td>\n",
              "    </tr>\n",
              "    <tr>\n",
              "      <th>2009-03-31 23:59:59.999999999</th>\n",
              "      <td>12925.410</td>\n",
              "      <td>0.94</td>\n",
              "      <td>8.1</td>\n",
              "    </tr>\n",
              "    <tr>\n",
              "      <th>2009-06-30 23:59:59.999999999</th>\n",
              "      <td>12901.504</td>\n",
              "      <td>3.37</td>\n",
              "      <td>9.2</td>\n",
              "    </tr>\n",
              "    <tr>\n",
              "      <th>2009-09-30 23:59:59.999999999</th>\n",
              "      <td>12990.341</td>\n",
              "      <td>3.56</td>\n",
              "      <td>9.6</td>\n",
              "    </tr>\n",
              "  </tbody>\n",
              "</table>\n",
              "<p>203 rows × 3 columns</p>\n",
              "</div>"
            ],
            "text/plain": [
              "item                             realgdp  infl  unemp\n",
              "date                                                 \n",
              "1959-03-31 23:59:59.999999999   2710.349  0.00    5.8\n",
              "1959-06-30 23:59:59.999999999   2778.801  2.34    5.1\n",
              "1959-09-30 23:59:59.999999999   2775.488  2.74    5.3\n",
              "1959-12-31 23:59:59.999999999   2785.204  0.27    5.6\n",
              "1960-03-31 23:59:59.999999999   2847.699  2.31    5.2\n",
              "...                                  ...   ...    ...\n",
              "2008-09-30 23:59:59.999999999  13324.600 -3.16    6.0\n",
              "2008-12-31 23:59:59.999999999  13141.920 -8.79    6.9\n",
              "2009-03-31 23:59:59.999999999  12925.410  0.94    8.1\n",
              "2009-06-30 23:59:59.999999999  12901.504  3.37    9.2\n",
              "2009-09-30 23:59:59.999999999  12990.341  3.56    9.6\n",
              "\n",
              "[203 rows x 3 columns]"
            ]
          },
          "execution_count": 197,
          "metadata": {},
          "output_type": "execute_result"
        }
      ],
      "source": [
        "data"
      ]
    },
    {
      "cell_type": "code",
      "execution_count": null,
      "id": "258abacd",
      "metadata": {
        "id": "258abacd"
      },
      "outputs": [],
      "source": [
        "ldata = data.stack().reset_index().rename(columns={0: 'value'})"
      ]
    },
    {
      "cell_type": "code",
      "execution_count": null,
      "id": "27948864",
      "metadata": {
        "id": "27948864",
        "outputId": "381c6168-6100-4b3f-8c62-5222cc133ee4"
      },
      "outputs": [
        {
          "data": {
            "text/html": [
              "<div>\n",
              "<style scoped>\n",
              "    .dataframe tbody tr th:only-of-type {\n",
              "        vertical-align: middle;\n",
              "    }\n",
              "\n",
              "    .dataframe tbody tr th {\n",
              "        vertical-align: top;\n",
              "    }\n",
              "\n",
              "    .dataframe thead th {\n",
              "        text-align: right;\n",
              "    }\n",
              "</style>\n",
              "<table border=\"1\" class=\"dataframe\">\n",
              "  <thead>\n",
              "    <tr style=\"text-align: right;\">\n",
              "      <th></th>\n",
              "      <th>date</th>\n",
              "      <th>item</th>\n",
              "      <th>value</th>\n",
              "    </tr>\n",
              "  </thead>\n",
              "  <tbody>\n",
              "    <tr>\n",
              "      <th>0</th>\n",
              "      <td>1959-03-31 23:59:59.999999999</td>\n",
              "      <td>realgdp</td>\n",
              "      <td>2710.349</td>\n",
              "    </tr>\n",
              "    <tr>\n",
              "      <th>1</th>\n",
              "      <td>1959-03-31 23:59:59.999999999</td>\n",
              "      <td>infl</td>\n",
              "      <td>0.000</td>\n",
              "    </tr>\n",
              "    <tr>\n",
              "      <th>2</th>\n",
              "      <td>1959-03-31 23:59:59.999999999</td>\n",
              "      <td>unemp</td>\n",
              "      <td>5.800</td>\n",
              "    </tr>\n",
              "    <tr>\n",
              "      <th>3</th>\n",
              "      <td>1959-06-30 23:59:59.999999999</td>\n",
              "      <td>realgdp</td>\n",
              "      <td>2778.801</td>\n",
              "    </tr>\n",
              "    <tr>\n",
              "      <th>4</th>\n",
              "      <td>1959-06-30 23:59:59.999999999</td>\n",
              "      <td>infl</td>\n",
              "      <td>2.340</td>\n",
              "    </tr>\n",
              "    <tr>\n",
              "      <th>...</th>\n",
              "      <td>...</td>\n",
              "      <td>...</td>\n",
              "      <td>...</td>\n",
              "    </tr>\n",
              "    <tr>\n",
              "      <th>604</th>\n",
              "      <td>2009-06-30 23:59:59.999999999</td>\n",
              "      <td>infl</td>\n",
              "      <td>3.370</td>\n",
              "    </tr>\n",
              "    <tr>\n",
              "      <th>605</th>\n",
              "      <td>2009-06-30 23:59:59.999999999</td>\n",
              "      <td>unemp</td>\n",
              "      <td>9.200</td>\n",
              "    </tr>\n",
              "    <tr>\n",
              "      <th>606</th>\n",
              "      <td>2009-09-30 23:59:59.999999999</td>\n",
              "      <td>realgdp</td>\n",
              "      <td>12990.341</td>\n",
              "    </tr>\n",
              "    <tr>\n",
              "      <th>607</th>\n",
              "      <td>2009-09-30 23:59:59.999999999</td>\n",
              "      <td>infl</td>\n",
              "      <td>3.560</td>\n",
              "    </tr>\n",
              "    <tr>\n",
              "      <th>608</th>\n",
              "      <td>2009-09-30 23:59:59.999999999</td>\n",
              "      <td>unemp</td>\n",
              "      <td>9.600</td>\n",
              "    </tr>\n",
              "  </tbody>\n",
              "</table>\n",
              "<p>609 rows × 3 columns</p>\n",
              "</div>"
            ],
            "text/plain": [
              "                             date     item      value\n",
              "0   1959-03-31 23:59:59.999999999  realgdp   2710.349\n",
              "1   1959-03-31 23:59:59.999999999     infl      0.000\n",
              "2   1959-03-31 23:59:59.999999999    unemp      5.800\n",
              "3   1959-06-30 23:59:59.999999999  realgdp   2778.801\n",
              "4   1959-06-30 23:59:59.999999999     infl      2.340\n",
              "..                            ...      ...        ...\n",
              "604 2009-06-30 23:59:59.999999999     infl      3.370\n",
              "605 2009-06-30 23:59:59.999999999    unemp      9.200\n",
              "606 2009-09-30 23:59:59.999999999  realgdp  12990.341\n",
              "607 2009-09-30 23:59:59.999999999     infl      3.560\n",
              "608 2009-09-30 23:59:59.999999999    unemp      9.600\n",
              "\n",
              "[609 rows x 3 columns]"
            ]
          },
          "execution_count": 199,
          "metadata": {},
          "output_type": "execute_result"
        }
      ],
      "source": [
        "ldata"
      ]
    },
    {
      "cell_type": "code",
      "execution_count": null,
      "id": "f6b4ad07",
      "metadata": {
        "id": "f6b4ad07",
        "outputId": "00a48156-ed52-47f8-97ab-1a900d3440a1"
      },
      "outputs": [
        {
          "data": {
            "text/html": [
              "<div>\n",
              "<style scoped>\n",
              "    .dataframe tbody tr th:only-of-type {\n",
              "        vertical-align: middle;\n",
              "    }\n",
              "\n",
              "    .dataframe tbody tr th {\n",
              "        vertical-align: top;\n",
              "    }\n",
              "\n",
              "    .dataframe thead th {\n",
              "        text-align: right;\n",
              "    }\n",
              "</style>\n",
              "<table border=\"1\" class=\"dataframe\">\n",
              "  <thead>\n",
              "    <tr style=\"text-align: right;\">\n",
              "      <th></th>\n",
              "      <th>date</th>\n",
              "      <th>item</th>\n",
              "      <th>value</th>\n",
              "    </tr>\n",
              "  </thead>\n",
              "  <tbody>\n",
              "    <tr>\n",
              "      <th>0</th>\n",
              "      <td>1959-03-31 23:59:59.999999999</td>\n",
              "      <td>realgdp</td>\n",
              "      <td>2710.349</td>\n",
              "    </tr>\n",
              "    <tr>\n",
              "      <th>1</th>\n",
              "      <td>1959-03-31 23:59:59.999999999</td>\n",
              "      <td>infl</td>\n",
              "      <td>0.000</td>\n",
              "    </tr>\n",
              "    <tr>\n",
              "      <th>2</th>\n",
              "      <td>1959-03-31 23:59:59.999999999</td>\n",
              "      <td>unemp</td>\n",
              "      <td>5.800</td>\n",
              "    </tr>\n",
              "    <tr>\n",
              "      <th>3</th>\n",
              "      <td>1959-06-30 23:59:59.999999999</td>\n",
              "      <td>realgdp</td>\n",
              "      <td>2778.801</td>\n",
              "    </tr>\n",
              "    <tr>\n",
              "      <th>4</th>\n",
              "      <td>1959-06-30 23:59:59.999999999</td>\n",
              "      <td>infl</td>\n",
              "      <td>2.340</td>\n",
              "    </tr>\n",
              "    <tr>\n",
              "      <th>5</th>\n",
              "      <td>1959-06-30 23:59:59.999999999</td>\n",
              "      <td>unemp</td>\n",
              "      <td>5.100</td>\n",
              "    </tr>\n",
              "    <tr>\n",
              "      <th>6</th>\n",
              "      <td>1959-09-30 23:59:59.999999999</td>\n",
              "      <td>realgdp</td>\n",
              "      <td>2775.488</td>\n",
              "    </tr>\n",
              "    <tr>\n",
              "      <th>7</th>\n",
              "      <td>1959-09-30 23:59:59.999999999</td>\n",
              "      <td>infl</td>\n",
              "      <td>2.740</td>\n",
              "    </tr>\n",
              "    <tr>\n",
              "      <th>8</th>\n",
              "      <td>1959-09-30 23:59:59.999999999</td>\n",
              "      <td>unemp</td>\n",
              "      <td>5.300</td>\n",
              "    </tr>\n",
              "    <tr>\n",
              "      <th>9</th>\n",
              "      <td>1959-12-31 23:59:59.999999999</td>\n",
              "      <td>realgdp</td>\n",
              "      <td>2785.204</td>\n",
              "    </tr>\n",
              "  </tbody>\n",
              "</table>\n",
              "</div>"
            ],
            "text/plain": [
              "                           date     item     value\n",
              "0 1959-03-31 23:59:59.999999999  realgdp  2710.349\n",
              "1 1959-03-31 23:59:59.999999999     infl     0.000\n",
              "2 1959-03-31 23:59:59.999999999    unemp     5.800\n",
              "3 1959-06-30 23:59:59.999999999  realgdp  2778.801\n",
              "4 1959-06-30 23:59:59.999999999     infl     2.340\n",
              "5 1959-06-30 23:59:59.999999999    unemp     5.100\n",
              "6 1959-09-30 23:59:59.999999999  realgdp  2775.488\n",
              "7 1959-09-30 23:59:59.999999999     infl     2.740\n",
              "8 1959-09-30 23:59:59.999999999    unemp     5.300\n",
              "9 1959-12-31 23:59:59.999999999  realgdp  2785.204"
            ]
          },
          "execution_count": 200,
          "metadata": {},
          "output_type": "execute_result"
        }
      ],
      "source": [
        "ldata[:10]"
      ]
    },
    {
      "cell_type": "code",
      "execution_count": null,
      "id": "860a21e5",
      "metadata": {
        "id": "860a21e5"
      },
      "outputs": [],
      "source": [
        "pivoted = ldata.pivot('date', 'item', 'value')"
      ]
    },
    {
      "cell_type": "code",
      "execution_count": null,
      "id": "5ed5c93a",
      "metadata": {
        "id": "5ed5c93a",
        "outputId": "5b220441-d218-439d-ba66-4ff2ab95830a"
      },
      "outputs": [
        {
          "data": {
            "text/html": [
              "<div>\n",
              "<style scoped>\n",
              "    .dataframe tbody tr th:only-of-type {\n",
              "        vertical-align: middle;\n",
              "    }\n",
              "\n",
              "    .dataframe tbody tr th {\n",
              "        vertical-align: top;\n",
              "    }\n",
              "\n",
              "    .dataframe thead th {\n",
              "        text-align: right;\n",
              "    }\n",
              "</style>\n",
              "<table border=\"1\" class=\"dataframe\">\n",
              "  <thead>\n",
              "    <tr style=\"text-align: right;\">\n",
              "      <th>item</th>\n",
              "      <th>infl</th>\n",
              "      <th>realgdp</th>\n",
              "      <th>unemp</th>\n",
              "    </tr>\n",
              "    <tr>\n",
              "      <th>date</th>\n",
              "      <th></th>\n",
              "      <th></th>\n",
              "      <th></th>\n",
              "    </tr>\n",
              "  </thead>\n",
              "  <tbody>\n",
              "    <tr>\n",
              "      <th>1959-03-31 23:59:59.999999999</th>\n",
              "      <td>0.00</td>\n",
              "      <td>2710.349</td>\n",
              "      <td>5.8</td>\n",
              "    </tr>\n",
              "    <tr>\n",
              "      <th>1959-06-30 23:59:59.999999999</th>\n",
              "      <td>2.34</td>\n",
              "      <td>2778.801</td>\n",
              "      <td>5.1</td>\n",
              "    </tr>\n",
              "    <tr>\n",
              "      <th>1959-09-30 23:59:59.999999999</th>\n",
              "      <td>2.74</td>\n",
              "      <td>2775.488</td>\n",
              "      <td>5.3</td>\n",
              "    </tr>\n",
              "    <tr>\n",
              "      <th>1959-12-31 23:59:59.999999999</th>\n",
              "      <td>0.27</td>\n",
              "      <td>2785.204</td>\n",
              "      <td>5.6</td>\n",
              "    </tr>\n",
              "    <tr>\n",
              "      <th>1960-03-31 23:59:59.999999999</th>\n",
              "      <td>2.31</td>\n",
              "      <td>2847.699</td>\n",
              "      <td>5.2</td>\n",
              "    </tr>\n",
              "    <tr>\n",
              "      <th>...</th>\n",
              "      <td>...</td>\n",
              "      <td>...</td>\n",
              "      <td>...</td>\n",
              "    </tr>\n",
              "    <tr>\n",
              "      <th>2008-09-30 23:59:59.999999999</th>\n",
              "      <td>-3.16</td>\n",
              "      <td>13324.600</td>\n",
              "      <td>6.0</td>\n",
              "    </tr>\n",
              "    <tr>\n",
              "      <th>2008-12-31 23:59:59.999999999</th>\n",
              "      <td>-8.79</td>\n",
              "      <td>13141.920</td>\n",
              "      <td>6.9</td>\n",
              "    </tr>\n",
              "    <tr>\n",
              "      <th>2009-03-31 23:59:59.999999999</th>\n",
              "      <td>0.94</td>\n",
              "      <td>12925.410</td>\n",
              "      <td>8.1</td>\n",
              "    </tr>\n",
              "    <tr>\n",
              "      <th>2009-06-30 23:59:59.999999999</th>\n",
              "      <td>3.37</td>\n",
              "      <td>12901.504</td>\n",
              "      <td>9.2</td>\n",
              "    </tr>\n",
              "    <tr>\n",
              "      <th>2009-09-30 23:59:59.999999999</th>\n",
              "      <td>3.56</td>\n",
              "      <td>12990.341</td>\n",
              "      <td>9.6</td>\n",
              "    </tr>\n",
              "  </tbody>\n",
              "</table>\n",
              "<p>203 rows × 3 columns</p>\n",
              "</div>"
            ],
            "text/plain": [
              "item                           infl    realgdp  unemp\n",
              "date                                                 \n",
              "1959-03-31 23:59:59.999999999  0.00   2710.349    5.8\n",
              "1959-06-30 23:59:59.999999999  2.34   2778.801    5.1\n",
              "1959-09-30 23:59:59.999999999  2.74   2775.488    5.3\n",
              "1959-12-31 23:59:59.999999999  0.27   2785.204    5.6\n",
              "1960-03-31 23:59:59.999999999  2.31   2847.699    5.2\n",
              "...                             ...        ...    ...\n",
              "2008-09-30 23:59:59.999999999 -3.16  13324.600    6.0\n",
              "2008-12-31 23:59:59.999999999 -8.79  13141.920    6.9\n",
              "2009-03-31 23:59:59.999999999  0.94  12925.410    8.1\n",
              "2009-06-30 23:59:59.999999999  3.37  12901.504    9.2\n",
              "2009-09-30 23:59:59.999999999  3.56  12990.341    9.6\n",
              "\n",
              "[203 rows x 3 columns]"
            ]
          },
          "execution_count": 202,
          "metadata": {},
          "output_type": "execute_result"
        }
      ],
      "source": [
        "pivoted"
      ]
    },
    {
      "cell_type": "markdown",
      "id": "30db02ba",
      "metadata": {
        "id": "30db02ba"
      },
      "source": [
        "The first two values passed are the columns to be used respectively as the row and\n",
        "column index, then finally an optional value column to fill the DataFrame. Suppose\n",
        "you had two value columns that you wanted to reshape simultaneously"
      ]
    },
    {
      "cell_type": "code",
      "execution_count": null,
      "id": "f6c65137",
      "metadata": {
        "id": "f6c65137"
      },
      "outputs": [],
      "source": [
        "ldata['value2'] = np.random.randn(len(ldata))"
      ]
    },
    {
      "cell_type": "code",
      "execution_count": null,
      "id": "91fe2274",
      "metadata": {
        "id": "91fe2274",
        "outputId": "2825a82d-6f81-4eab-96e6-1ae445d5db01"
      },
      "outputs": [
        {
          "data": {
            "text/html": [
              "<div>\n",
              "<style scoped>\n",
              "    .dataframe tbody tr th:only-of-type {\n",
              "        vertical-align: middle;\n",
              "    }\n",
              "\n",
              "    .dataframe tbody tr th {\n",
              "        vertical-align: top;\n",
              "    }\n",
              "\n",
              "    .dataframe thead th {\n",
              "        text-align: right;\n",
              "    }\n",
              "</style>\n",
              "<table border=\"1\" class=\"dataframe\">\n",
              "  <thead>\n",
              "    <tr style=\"text-align: right;\">\n",
              "      <th></th>\n",
              "      <th>date</th>\n",
              "      <th>item</th>\n",
              "      <th>value</th>\n",
              "      <th>value2</th>\n",
              "    </tr>\n",
              "  </thead>\n",
              "  <tbody>\n",
              "    <tr>\n",
              "      <th>0</th>\n",
              "      <td>1959-03-31 23:59:59.999999999</td>\n",
              "      <td>realgdp</td>\n",
              "      <td>2710.349</td>\n",
              "      <td>0.101070</td>\n",
              "    </tr>\n",
              "    <tr>\n",
              "      <th>1</th>\n",
              "      <td>1959-03-31 23:59:59.999999999</td>\n",
              "      <td>infl</td>\n",
              "      <td>0.000</td>\n",
              "      <td>-0.775337</td>\n",
              "    </tr>\n",
              "    <tr>\n",
              "      <th>2</th>\n",
              "      <td>1959-03-31 23:59:59.999999999</td>\n",
              "      <td>unemp</td>\n",
              "      <td>5.800</td>\n",
              "      <td>-0.289894</td>\n",
              "    </tr>\n",
              "    <tr>\n",
              "      <th>3</th>\n",
              "      <td>1959-06-30 23:59:59.999999999</td>\n",
              "      <td>realgdp</td>\n",
              "      <td>2778.801</td>\n",
              "      <td>0.236553</td>\n",
              "    </tr>\n",
              "    <tr>\n",
              "      <th>4</th>\n",
              "      <td>1959-06-30 23:59:59.999999999</td>\n",
              "      <td>infl</td>\n",
              "      <td>2.340</td>\n",
              "      <td>-1.522471</td>\n",
              "    </tr>\n",
              "    <tr>\n",
              "      <th>5</th>\n",
              "      <td>1959-06-30 23:59:59.999999999</td>\n",
              "      <td>unemp</td>\n",
              "      <td>5.100</td>\n",
              "      <td>0.322256</td>\n",
              "    </tr>\n",
              "    <tr>\n",
              "      <th>6</th>\n",
              "      <td>1959-09-30 23:59:59.999999999</td>\n",
              "      <td>realgdp</td>\n",
              "      <td>2775.488</td>\n",
              "      <td>0.642608</td>\n",
              "    </tr>\n",
              "    <tr>\n",
              "      <th>7</th>\n",
              "      <td>1959-09-30 23:59:59.999999999</td>\n",
              "      <td>infl</td>\n",
              "      <td>2.740</td>\n",
              "      <td>1.293816</td>\n",
              "    </tr>\n",
              "    <tr>\n",
              "      <th>8</th>\n",
              "      <td>1959-09-30 23:59:59.999999999</td>\n",
              "      <td>unemp</td>\n",
              "      <td>5.300</td>\n",
              "      <td>-0.076443</td>\n",
              "    </tr>\n",
              "    <tr>\n",
              "      <th>9</th>\n",
              "      <td>1959-12-31 23:59:59.999999999</td>\n",
              "      <td>realgdp</td>\n",
              "      <td>2785.204</td>\n",
              "      <td>1.623030</td>\n",
              "    </tr>\n",
              "  </tbody>\n",
              "</table>\n",
              "</div>"
            ],
            "text/plain": [
              "                           date     item     value    value2\n",
              "0 1959-03-31 23:59:59.999999999  realgdp  2710.349  0.101070\n",
              "1 1959-03-31 23:59:59.999999999     infl     0.000 -0.775337\n",
              "2 1959-03-31 23:59:59.999999999    unemp     5.800 -0.289894\n",
              "3 1959-06-30 23:59:59.999999999  realgdp  2778.801  0.236553\n",
              "4 1959-06-30 23:59:59.999999999     infl     2.340 -1.522471\n",
              "5 1959-06-30 23:59:59.999999999    unemp     5.100  0.322256\n",
              "6 1959-09-30 23:59:59.999999999  realgdp  2775.488  0.642608\n",
              "7 1959-09-30 23:59:59.999999999     infl     2.740  1.293816\n",
              "8 1959-09-30 23:59:59.999999999    unemp     5.300 -0.076443\n",
              "9 1959-12-31 23:59:59.999999999  realgdp  2785.204  1.623030"
            ]
          },
          "execution_count": 205,
          "metadata": {},
          "output_type": "execute_result"
        }
      ],
      "source": [
        "ldata[:10]"
      ]
    },
    {
      "cell_type": "code",
      "execution_count": null,
      "id": "9369cc17",
      "metadata": {
        "id": "9369cc17"
      },
      "outputs": [],
      "source": [
        "pivoted = ldata.pivot('date', 'item')"
      ]
    },
    {
      "cell_type": "code",
      "execution_count": null,
      "id": "e683686e",
      "metadata": {
        "id": "e683686e",
        "outputId": "34639f4c-c0ae-41b1-9e0b-588ef2ae2804"
      },
      "outputs": [
        {
          "data": {
            "text/html": [
              "<div>\n",
              "<style scoped>\n",
              "    .dataframe tbody tr th:only-of-type {\n",
              "        vertical-align: middle;\n",
              "    }\n",
              "\n",
              "    .dataframe tbody tr th {\n",
              "        vertical-align: top;\n",
              "    }\n",
              "\n",
              "    .dataframe thead tr th {\n",
              "        text-align: left;\n",
              "    }\n",
              "\n",
              "    .dataframe thead tr:last-of-type th {\n",
              "        text-align: right;\n",
              "    }\n",
              "</style>\n",
              "<table border=\"1\" class=\"dataframe\">\n",
              "  <thead>\n",
              "    <tr>\n",
              "      <th></th>\n",
              "      <th colspan=\"3\" halign=\"left\">value</th>\n",
              "      <th colspan=\"3\" halign=\"left\">value2</th>\n",
              "    </tr>\n",
              "    <tr>\n",
              "      <th>item</th>\n",
              "      <th>infl</th>\n",
              "      <th>realgdp</th>\n",
              "      <th>unemp</th>\n",
              "      <th>infl</th>\n",
              "      <th>realgdp</th>\n",
              "      <th>unemp</th>\n",
              "    </tr>\n",
              "    <tr>\n",
              "      <th>date</th>\n",
              "      <th></th>\n",
              "      <th></th>\n",
              "      <th></th>\n",
              "      <th></th>\n",
              "      <th></th>\n",
              "      <th></th>\n",
              "    </tr>\n",
              "  </thead>\n",
              "  <tbody>\n",
              "    <tr>\n",
              "      <th>1959-03-31 23:59:59.999999999</th>\n",
              "      <td>0.00</td>\n",
              "      <td>2710.349</td>\n",
              "      <td>5.8</td>\n",
              "      <td>-0.775337</td>\n",
              "      <td>0.101070</td>\n",
              "      <td>-0.289894</td>\n",
              "    </tr>\n",
              "    <tr>\n",
              "      <th>1959-06-30 23:59:59.999999999</th>\n",
              "      <td>2.34</td>\n",
              "      <td>2778.801</td>\n",
              "      <td>5.1</td>\n",
              "      <td>-1.522471</td>\n",
              "      <td>0.236553</td>\n",
              "      <td>0.322256</td>\n",
              "    </tr>\n",
              "    <tr>\n",
              "      <th>1959-09-30 23:59:59.999999999</th>\n",
              "      <td>2.74</td>\n",
              "      <td>2775.488</td>\n",
              "      <td>5.3</td>\n",
              "      <td>1.293816</td>\n",
              "      <td>0.642608</td>\n",
              "      <td>-0.076443</td>\n",
              "    </tr>\n",
              "    <tr>\n",
              "      <th>1959-12-31 23:59:59.999999999</th>\n",
              "      <td>0.27</td>\n",
              "      <td>2785.204</td>\n",
              "      <td>5.6</td>\n",
              "      <td>-1.269019</td>\n",
              "      <td>1.623030</td>\n",
              "      <td>-1.246025</td>\n",
              "    </tr>\n",
              "    <tr>\n",
              "      <th>1960-03-31 23:59:59.999999999</th>\n",
              "      <td>2.31</td>\n",
              "      <td>2847.699</td>\n",
              "      <td>5.2</td>\n",
              "      <td>1.442736</td>\n",
              "      <td>1.090278</td>\n",
              "      <td>-1.222467</td>\n",
              "    </tr>\n",
              "    <tr>\n",
              "      <th>...</th>\n",
              "      <td>...</td>\n",
              "      <td>...</td>\n",
              "      <td>...</td>\n",
              "      <td>...</td>\n",
              "      <td>...</td>\n",
              "      <td>...</td>\n",
              "    </tr>\n",
              "    <tr>\n",
              "      <th>2008-09-30 23:59:59.999999999</th>\n",
              "      <td>-3.16</td>\n",
              "      <td>13324.600</td>\n",
              "      <td>6.0</td>\n",
              "      <td>0.974920</td>\n",
              "      <td>1.217666</td>\n",
              "      <td>0.265989</td>\n",
              "    </tr>\n",
              "    <tr>\n",
              "      <th>2008-12-31 23:59:59.999999999</th>\n",
              "      <td>-8.79</td>\n",
              "      <td>13141.920</td>\n",
              "      <td>6.9</td>\n",
              "      <td>0.673879</td>\n",
              "      <td>-3.020404</td>\n",
              "      <td>-3.041866</td>\n",
              "    </tr>\n",
              "    <tr>\n",
              "      <th>2009-03-31 23:59:59.999999999</th>\n",
              "      <td>0.94</td>\n",
              "      <td>12925.410</td>\n",
              "      <td>8.1</td>\n",
              "      <td>1.708662</td>\n",
              "      <td>0.287558</td>\n",
              "      <td>-0.911421</td>\n",
              "    </tr>\n",
              "    <tr>\n",
              "      <th>2009-06-30 23:59:59.999999999</th>\n",
              "      <td>3.37</td>\n",
              "      <td>12901.504</td>\n",
              "      <td>9.2</td>\n",
              "      <td>-0.713630</td>\n",
              "      <td>-0.931730</td>\n",
              "      <td>-0.321302</td>\n",
              "    </tr>\n",
              "    <tr>\n",
              "      <th>2009-09-30 23:59:59.999999999</th>\n",
              "      <td>3.56</td>\n",
              "      <td>12990.341</td>\n",
              "      <td>9.6</td>\n",
              "      <td>0.506622</td>\n",
              "      <td>-1.442782</td>\n",
              "      <td>0.406830</td>\n",
              "    </tr>\n",
              "  </tbody>\n",
              "</table>\n",
              "<p>203 rows × 6 columns</p>\n",
              "</div>"
            ],
            "text/plain": [
              "                              value                     value2            \\\n",
              "item                           infl    realgdp unemp      infl   realgdp   \n",
              "date                                                                       \n",
              "1959-03-31 23:59:59.999999999  0.00   2710.349   5.8 -0.775337  0.101070   \n",
              "1959-06-30 23:59:59.999999999  2.34   2778.801   5.1 -1.522471  0.236553   \n",
              "1959-09-30 23:59:59.999999999  2.74   2775.488   5.3  1.293816  0.642608   \n",
              "1959-12-31 23:59:59.999999999  0.27   2785.204   5.6 -1.269019  1.623030   \n",
              "1960-03-31 23:59:59.999999999  2.31   2847.699   5.2  1.442736  1.090278   \n",
              "...                             ...        ...   ...       ...       ...   \n",
              "2008-09-30 23:59:59.999999999 -3.16  13324.600   6.0  0.974920  1.217666   \n",
              "2008-12-31 23:59:59.999999999 -8.79  13141.920   6.9  0.673879 -3.020404   \n",
              "2009-03-31 23:59:59.999999999  0.94  12925.410   8.1  1.708662  0.287558   \n",
              "2009-06-30 23:59:59.999999999  3.37  12901.504   9.2 -0.713630 -0.931730   \n",
              "2009-09-30 23:59:59.999999999  3.56  12990.341   9.6  0.506622 -1.442782   \n",
              "\n",
              "                                         \n",
              "item                              unemp  \n",
              "date                                     \n",
              "1959-03-31 23:59:59.999999999 -0.289894  \n",
              "1959-06-30 23:59:59.999999999  0.322256  \n",
              "1959-09-30 23:59:59.999999999 -0.076443  \n",
              "1959-12-31 23:59:59.999999999 -1.246025  \n",
              "1960-03-31 23:59:59.999999999 -1.222467  \n",
              "...                                 ...  \n",
              "2008-09-30 23:59:59.999999999  0.265989  \n",
              "2008-12-31 23:59:59.999999999 -3.041866  \n",
              "2009-03-31 23:59:59.999999999 -0.911421  \n",
              "2009-06-30 23:59:59.999999999 -0.321302  \n",
              "2009-09-30 23:59:59.999999999  0.406830  \n",
              "\n",
              "[203 rows x 6 columns]"
            ]
          },
          "execution_count": 207,
          "metadata": {},
          "output_type": "execute_result"
        }
      ],
      "source": [
        "pivoted"
      ]
    },
    {
      "cell_type": "code",
      "execution_count": null,
      "id": "92b5bb61",
      "metadata": {
        "id": "92b5bb61",
        "outputId": "f03f3651-9aa0-46ac-a2c2-f61c0cf5e03a"
      },
      "outputs": [
        {
          "data": {
            "text/html": [
              "<div>\n",
              "<style scoped>\n",
              "    .dataframe tbody tr th:only-of-type {\n",
              "        vertical-align: middle;\n",
              "    }\n",
              "\n",
              "    .dataframe tbody tr th {\n",
              "        vertical-align: top;\n",
              "    }\n",
              "\n",
              "    .dataframe thead tr th {\n",
              "        text-align: left;\n",
              "    }\n",
              "\n",
              "    .dataframe thead tr:last-of-type th {\n",
              "        text-align: right;\n",
              "    }\n",
              "</style>\n",
              "<table border=\"1\" class=\"dataframe\">\n",
              "  <thead>\n",
              "    <tr>\n",
              "      <th></th>\n",
              "      <th colspan=\"3\" halign=\"left\">value</th>\n",
              "      <th colspan=\"3\" halign=\"left\">value2</th>\n",
              "    </tr>\n",
              "    <tr>\n",
              "      <th>item</th>\n",
              "      <th>infl</th>\n",
              "      <th>realgdp</th>\n",
              "      <th>unemp</th>\n",
              "      <th>infl</th>\n",
              "      <th>realgdp</th>\n",
              "      <th>unemp</th>\n",
              "    </tr>\n",
              "    <tr>\n",
              "      <th>date</th>\n",
              "      <th></th>\n",
              "      <th></th>\n",
              "      <th></th>\n",
              "      <th></th>\n",
              "      <th></th>\n",
              "      <th></th>\n",
              "    </tr>\n",
              "  </thead>\n",
              "  <tbody>\n",
              "    <tr>\n",
              "      <th>1959-03-31 23:59:59.999999999</th>\n",
              "      <td>0.00</td>\n",
              "      <td>2710.349</td>\n",
              "      <td>5.8</td>\n",
              "      <td>-0.775337</td>\n",
              "      <td>0.101070</td>\n",
              "      <td>-0.289894</td>\n",
              "    </tr>\n",
              "    <tr>\n",
              "      <th>1959-06-30 23:59:59.999999999</th>\n",
              "      <td>2.34</td>\n",
              "      <td>2778.801</td>\n",
              "      <td>5.1</td>\n",
              "      <td>-1.522471</td>\n",
              "      <td>0.236553</td>\n",
              "      <td>0.322256</td>\n",
              "    </tr>\n",
              "    <tr>\n",
              "      <th>1959-09-30 23:59:59.999999999</th>\n",
              "      <td>2.74</td>\n",
              "      <td>2775.488</td>\n",
              "      <td>5.3</td>\n",
              "      <td>1.293816</td>\n",
              "      <td>0.642608</td>\n",
              "      <td>-0.076443</td>\n",
              "    </tr>\n",
              "    <tr>\n",
              "      <th>1959-12-31 23:59:59.999999999</th>\n",
              "      <td>0.27</td>\n",
              "      <td>2785.204</td>\n",
              "      <td>5.6</td>\n",
              "      <td>-1.269019</td>\n",
              "      <td>1.623030</td>\n",
              "      <td>-1.246025</td>\n",
              "    </tr>\n",
              "    <tr>\n",
              "      <th>1960-03-31 23:59:59.999999999</th>\n",
              "      <td>2.31</td>\n",
              "      <td>2847.699</td>\n",
              "      <td>5.2</td>\n",
              "      <td>1.442736</td>\n",
              "      <td>1.090278</td>\n",
              "      <td>-1.222467</td>\n",
              "    </tr>\n",
              "  </tbody>\n",
              "</table>\n",
              "</div>"
            ],
            "text/plain": [
              "                              value                    value2            \\\n",
              "item                           infl   realgdp unemp      infl   realgdp   \n",
              "date                                                                      \n",
              "1959-03-31 23:59:59.999999999  0.00  2710.349   5.8 -0.775337  0.101070   \n",
              "1959-06-30 23:59:59.999999999  2.34  2778.801   5.1 -1.522471  0.236553   \n",
              "1959-09-30 23:59:59.999999999  2.74  2775.488   5.3  1.293816  0.642608   \n",
              "1959-12-31 23:59:59.999999999  0.27  2785.204   5.6 -1.269019  1.623030   \n",
              "1960-03-31 23:59:59.999999999  2.31  2847.699   5.2  1.442736  1.090278   \n",
              "\n",
              "                                         \n",
              "item                              unemp  \n",
              "date                                     \n",
              "1959-03-31 23:59:59.999999999 -0.289894  \n",
              "1959-06-30 23:59:59.999999999  0.322256  \n",
              "1959-09-30 23:59:59.999999999 -0.076443  \n",
              "1959-12-31 23:59:59.999999999 -1.246025  \n",
              "1960-03-31 23:59:59.999999999 -1.222467  "
            ]
          },
          "execution_count": 208,
          "metadata": {},
          "output_type": "execute_result"
        }
      ],
      "source": [
        "pivoted[:5]"
      ]
    },
    {
      "cell_type": "code",
      "execution_count": null,
      "id": "ed917953",
      "metadata": {
        "id": "ed917953",
        "outputId": "24006298-2ec3-4695-e206-a9d4adb523ec"
      },
      "outputs": [
        {
          "data": {
            "text/html": [
              "<div>\n",
              "<style scoped>\n",
              "    .dataframe tbody tr th:only-of-type {\n",
              "        vertical-align: middle;\n",
              "    }\n",
              "\n",
              "    .dataframe tbody tr th {\n",
              "        vertical-align: top;\n",
              "    }\n",
              "\n",
              "    .dataframe thead th {\n",
              "        text-align: right;\n",
              "    }\n",
              "</style>\n",
              "<table border=\"1\" class=\"dataframe\">\n",
              "  <thead>\n",
              "    <tr style=\"text-align: right;\">\n",
              "      <th>item</th>\n",
              "      <th>infl</th>\n",
              "      <th>realgdp</th>\n",
              "      <th>unemp</th>\n",
              "    </tr>\n",
              "    <tr>\n",
              "      <th>date</th>\n",
              "      <th></th>\n",
              "      <th></th>\n",
              "      <th></th>\n",
              "    </tr>\n",
              "  </thead>\n",
              "  <tbody>\n",
              "    <tr>\n",
              "      <th>1959-03-31 23:59:59.999999999</th>\n",
              "      <td>0.00</td>\n",
              "      <td>2710.349</td>\n",
              "      <td>5.8</td>\n",
              "    </tr>\n",
              "    <tr>\n",
              "      <th>1959-06-30 23:59:59.999999999</th>\n",
              "      <td>2.34</td>\n",
              "      <td>2778.801</td>\n",
              "      <td>5.1</td>\n",
              "    </tr>\n",
              "    <tr>\n",
              "      <th>1959-09-30 23:59:59.999999999</th>\n",
              "      <td>2.74</td>\n",
              "      <td>2775.488</td>\n",
              "      <td>5.3</td>\n",
              "    </tr>\n",
              "    <tr>\n",
              "      <th>1959-12-31 23:59:59.999999999</th>\n",
              "      <td>0.27</td>\n",
              "      <td>2785.204</td>\n",
              "      <td>5.6</td>\n",
              "    </tr>\n",
              "    <tr>\n",
              "      <th>1960-03-31 23:59:59.999999999</th>\n",
              "      <td>2.31</td>\n",
              "      <td>2847.699</td>\n",
              "      <td>5.2</td>\n",
              "    </tr>\n",
              "  </tbody>\n",
              "</table>\n",
              "</div>"
            ],
            "text/plain": [
              "item                           infl   realgdp  unemp\n",
              "date                                                \n",
              "1959-03-31 23:59:59.999999999  0.00  2710.349    5.8\n",
              "1959-06-30 23:59:59.999999999  2.34  2778.801    5.1\n",
              "1959-09-30 23:59:59.999999999  2.74  2775.488    5.3\n",
              "1959-12-31 23:59:59.999999999  0.27  2785.204    5.6\n",
              "1960-03-31 23:59:59.999999999  2.31  2847.699    5.2"
            ]
          },
          "execution_count": 209,
          "metadata": {},
          "output_type": "execute_result"
        }
      ],
      "source": [
        "pivoted['value'][:5]"
      ]
    },
    {
      "cell_type": "code",
      "execution_count": null,
      "id": "42f2fbc6",
      "metadata": {
        "id": "42f2fbc6"
      },
      "outputs": [],
      "source": [
        "unstacked = ldata.set_index(['date', 'item']).unstack('item')"
      ]
    },
    {
      "cell_type": "code",
      "execution_count": null,
      "id": "98ab7eaf",
      "metadata": {
        "id": "98ab7eaf",
        "outputId": "21949c6b-3033-4e1a-c24f-1971d9eba4dc"
      },
      "outputs": [
        {
          "data": {
            "text/html": [
              "<div>\n",
              "<style scoped>\n",
              "    .dataframe tbody tr th:only-of-type {\n",
              "        vertical-align: middle;\n",
              "    }\n",
              "\n",
              "    .dataframe tbody tr th {\n",
              "        vertical-align: top;\n",
              "    }\n",
              "\n",
              "    .dataframe thead tr th {\n",
              "        text-align: left;\n",
              "    }\n",
              "\n",
              "    .dataframe thead tr:last-of-type th {\n",
              "        text-align: right;\n",
              "    }\n",
              "</style>\n",
              "<table border=\"1\" class=\"dataframe\">\n",
              "  <thead>\n",
              "    <tr>\n",
              "      <th></th>\n",
              "      <th colspan=\"3\" halign=\"left\">value</th>\n",
              "      <th colspan=\"3\" halign=\"left\">value2</th>\n",
              "    </tr>\n",
              "    <tr>\n",
              "      <th>item</th>\n",
              "      <th>infl</th>\n",
              "      <th>realgdp</th>\n",
              "      <th>unemp</th>\n",
              "      <th>infl</th>\n",
              "      <th>realgdp</th>\n",
              "      <th>unemp</th>\n",
              "    </tr>\n",
              "    <tr>\n",
              "      <th>date</th>\n",
              "      <th></th>\n",
              "      <th></th>\n",
              "      <th></th>\n",
              "      <th></th>\n",
              "      <th></th>\n",
              "      <th></th>\n",
              "    </tr>\n",
              "  </thead>\n",
              "  <tbody>\n",
              "    <tr>\n",
              "      <th>1959-03-31 23:59:59.999999999</th>\n",
              "      <td>0.00</td>\n",
              "      <td>2710.349</td>\n",
              "      <td>5.8</td>\n",
              "      <td>-0.775337</td>\n",
              "      <td>0.101070</td>\n",
              "      <td>-0.289894</td>\n",
              "    </tr>\n",
              "    <tr>\n",
              "      <th>1959-06-30 23:59:59.999999999</th>\n",
              "      <td>2.34</td>\n",
              "      <td>2778.801</td>\n",
              "      <td>5.1</td>\n",
              "      <td>-1.522471</td>\n",
              "      <td>0.236553</td>\n",
              "      <td>0.322256</td>\n",
              "    </tr>\n",
              "    <tr>\n",
              "      <th>1959-09-30 23:59:59.999999999</th>\n",
              "      <td>2.74</td>\n",
              "      <td>2775.488</td>\n",
              "      <td>5.3</td>\n",
              "      <td>1.293816</td>\n",
              "      <td>0.642608</td>\n",
              "      <td>-0.076443</td>\n",
              "    </tr>\n",
              "    <tr>\n",
              "      <th>1959-12-31 23:59:59.999999999</th>\n",
              "      <td>0.27</td>\n",
              "      <td>2785.204</td>\n",
              "      <td>5.6</td>\n",
              "      <td>-1.269019</td>\n",
              "      <td>1.623030</td>\n",
              "      <td>-1.246025</td>\n",
              "    </tr>\n",
              "    <tr>\n",
              "      <th>1960-03-31 23:59:59.999999999</th>\n",
              "      <td>2.31</td>\n",
              "      <td>2847.699</td>\n",
              "      <td>5.2</td>\n",
              "      <td>1.442736</td>\n",
              "      <td>1.090278</td>\n",
              "      <td>-1.222467</td>\n",
              "    </tr>\n",
              "    <tr>\n",
              "      <th>1960-06-30 23:59:59.999999999</th>\n",
              "      <td>0.14</td>\n",
              "      <td>2834.390</td>\n",
              "      <td>5.2</td>\n",
              "      <td>-0.378595</td>\n",
              "      <td>2.462551</td>\n",
              "      <td>-0.111058</td>\n",
              "    </tr>\n",
              "    <tr>\n",
              "      <th>1960-09-30 23:59:59.999999999</th>\n",
              "      <td>2.70</td>\n",
              "      <td>2839.022</td>\n",
              "      <td>5.6</td>\n",
              "      <td>0.932123</td>\n",
              "      <td>-0.361540</td>\n",
              "      <td>0.378706</td>\n",
              "    </tr>\n",
              "  </tbody>\n",
              "</table>\n",
              "</div>"
            ],
            "text/plain": [
              "                              value                    value2            \\\n",
              "item                           infl   realgdp unemp      infl   realgdp   \n",
              "date                                                                      \n",
              "1959-03-31 23:59:59.999999999  0.00  2710.349   5.8 -0.775337  0.101070   \n",
              "1959-06-30 23:59:59.999999999  2.34  2778.801   5.1 -1.522471  0.236553   \n",
              "1959-09-30 23:59:59.999999999  2.74  2775.488   5.3  1.293816  0.642608   \n",
              "1959-12-31 23:59:59.999999999  0.27  2785.204   5.6 -1.269019  1.623030   \n",
              "1960-03-31 23:59:59.999999999  2.31  2847.699   5.2  1.442736  1.090278   \n",
              "1960-06-30 23:59:59.999999999  0.14  2834.390   5.2 -0.378595  2.462551   \n",
              "1960-09-30 23:59:59.999999999  2.70  2839.022   5.6  0.932123 -0.361540   \n",
              "\n",
              "                                         \n",
              "item                              unemp  \n",
              "date                                     \n",
              "1959-03-31 23:59:59.999999999 -0.289894  \n",
              "1959-06-30 23:59:59.999999999  0.322256  \n",
              "1959-09-30 23:59:59.999999999 -0.076443  \n",
              "1959-12-31 23:59:59.999999999 -1.246025  \n",
              "1960-03-31 23:59:59.999999999 -1.222467  \n",
              "1960-06-30 23:59:59.999999999 -0.111058  \n",
              "1960-09-30 23:59:59.999999999  0.378706  "
            ]
          },
          "execution_count": 212,
          "metadata": {},
          "output_type": "execute_result"
        }
      ],
      "source": [
        "unstacked[:7]"
      ]
    },
    {
      "cell_type": "markdown",
      "id": "2db8237c",
      "metadata": {
        "id": "2db8237c"
      },
      "source": [
        "### Pivoting “Wide” to “Long” Format"
      ]
    },
    {
      "cell_type": "markdown",
      "id": "860bed08",
      "metadata": {
        "id": "860bed08"
      },
      "source": [
        "An inverse operation to pivot for DataFrames is pandas.melt. Rather than trans‐\n",
        "forming one column into many in a new DataFrame, it merges multiple columns into\n",
        "one, producing a DataFrame that is longer than the input. Let’s look at an example:\n"
      ]
    },
    {
      "cell_type": "code",
      "execution_count": null,
      "id": "f3dddc64",
      "metadata": {
        "id": "f3dddc64"
      },
      "outputs": [],
      "source": [
        "df = pd.DataFrame({'key': ['foo', 'bar', 'baz'],'A': [1, 2, 3],'B': [4, 5, 6],'C': [7, 8, 9]})"
      ]
    },
    {
      "cell_type": "code",
      "execution_count": null,
      "id": "3e015f30",
      "metadata": {
        "id": "3e015f30",
        "outputId": "1c544586-5de4-4216-d269-4a532ed7ef3b"
      },
      "outputs": [
        {
          "data": {
            "text/html": [
              "<div>\n",
              "<style scoped>\n",
              "    .dataframe tbody tr th:only-of-type {\n",
              "        vertical-align: middle;\n",
              "    }\n",
              "\n",
              "    .dataframe tbody tr th {\n",
              "        vertical-align: top;\n",
              "    }\n",
              "\n",
              "    .dataframe thead th {\n",
              "        text-align: right;\n",
              "    }\n",
              "</style>\n",
              "<table border=\"1\" class=\"dataframe\">\n",
              "  <thead>\n",
              "    <tr style=\"text-align: right;\">\n",
              "      <th></th>\n",
              "      <th>key</th>\n",
              "      <th>A</th>\n",
              "      <th>B</th>\n",
              "      <th>C</th>\n",
              "    </tr>\n",
              "  </thead>\n",
              "  <tbody>\n",
              "    <tr>\n",
              "      <th>0</th>\n",
              "      <td>foo</td>\n",
              "      <td>1</td>\n",
              "      <td>4</td>\n",
              "      <td>7</td>\n",
              "    </tr>\n",
              "    <tr>\n",
              "      <th>1</th>\n",
              "      <td>bar</td>\n",
              "      <td>2</td>\n",
              "      <td>5</td>\n",
              "      <td>8</td>\n",
              "    </tr>\n",
              "    <tr>\n",
              "      <th>2</th>\n",
              "      <td>baz</td>\n",
              "      <td>3</td>\n",
              "      <td>6</td>\n",
              "      <td>9</td>\n",
              "    </tr>\n",
              "  </tbody>\n",
              "</table>\n",
              "</div>"
            ],
            "text/plain": [
              "   key  A  B  C\n",
              "0  foo  1  4  7\n",
              "1  bar  2  5  8\n",
              "2  baz  3  6  9"
            ]
          },
          "execution_count": 216,
          "metadata": {},
          "output_type": "execute_result"
        }
      ],
      "source": [
        "df"
      ]
    },
    {
      "cell_type": "markdown",
      "id": "de7ed6af",
      "metadata": {
        "id": "de7ed6af"
      },
      "source": [
        "The 'key' column may be a group indicator, and the other columns are data values.\n",
        "When using pandas.melt, we must indicate which columns (if any) are group indica‐\n",
        "tors. Let’s use 'key' as the only group indicator here:"
      ]
    },
    {
      "cell_type": "code",
      "execution_count": null,
      "id": "7be6aac9",
      "metadata": {
        "id": "7be6aac9"
      },
      "outputs": [],
      "source": [
        "melted = pd.melt(df, ['key'])"
      ]
    },
    {
      "cell_type": "code",
      "execution_count": null,
      "id": "144de817",
      "metadata": {
        "id": "144de817",
        "outputId": "1e473281-9b0c-4570-cf90-416da87b640f"
      },
      "outputs": [
        {
          "data": {
            "text/html": [
              "<div>\n",
              "<style scoped>\n",
              "    .dataframe tbody tr th:only-of-type {\n",
              "        vertical-align: middle;\n",
              "    }\n",
              "\n",
              "    .dataframe tbody tr th {\n",
              "        vertical-align: top;\n",
              "    }\n",
              "\n",
              "    .dataframe thead th {\n",
              "        text-align: right;\n",
              "    }\n",
              "</style>\n",
              "<table border=\"1\" class=\"dataframe\">\n",
              "  <thead>\n",
              "    <tr style=\"text-align: right;\">\n",
              "      <th></th>\n",
              "      <th>key</th>\n",
              "      <th>variable</th>\n",
              "      <th>value</th>\n",
              "    </tr>\n",
              "  </thead>\n",
              "  <tbody>\n",
              "    <tr>\n",
              "      <th>0</th>\n",
              "      <td>foo</td>\n",
              "      <td>A</td>\n",
              "      <td>1</td>\n",
              "    </tr>\n",
              "    <tr>\n",
              "      <th>1</th>\n",
              "      <td>bar</td>\n",
              "      <td>A</td>\n",
              "      <td>2</td>\n",
              "    </tr>\n",
              "    <tr>\n",
              "      <th>2</th>\n",
              "      <td>baz</td>\n",
              "      <td>A</td>\n",
              "      <td>3</td>\n",
              "    </tr>\n",
              "    <tr>\n",
              "      <th>3</th>\n",
              "      <td>foo</td>\n",
              "      <td>B</td>\n",
              "      <td>4</td>\n",
              "    </tr>\n",
              "    <tr>\n",
              "      <th>4</th>\n",
              "      <td>bar</td>\n",
              "      <td>B</td>\n",
              "      <td>5</td>\n",
              "    </tr>\n",
              "    <tr>\n",
              "      <th>5</th>\n",
              "      <td>baz</td>\n",
              "      <td>B</td>\n",
              "      <td>6</td>\n",
              "    </tr>\n",
              "    <tr>\n",
              "      <th>6</th>\n",
              "      <td>foo</td>\n",
              "      <td>C</td>\n",
              "      <td>7</td>\n",
              "    </tr>\n",
              "    <tr>\n",
              "      <th>7</th>\n",
              "      <td>bar</td>\n",
              "      <td>C</td>\n",
              "      <td>8</td>\n",
              "    </tr>\n",
              "    <tr>\n",
              "      <th>8</th>\n",
              "      <td>baz</td>\n",
              "      <td>C</td>\n",
              "      <td>9</td>\n",
              "    </tr>\n",
              "  </tbody>\n",
              "</table>\n",
              "</div>"
            ],
            "text/plain": [
              "   key variable  value\n",
              "0  foo        A      1\n",
              "1  bar        A      2\n",
              "2  baz        A      3\n",
              "3  foo        B      4\n",
              "4  bar        B      5\n",
              "5  baz        B      6\n",
              "6  foo        C      7\n",
              "7  bar        C      8\n",
              "8  baz        C      9"
            ]
          },
          "execution_count": 218,
          "metadata": {},
          "output_type": "execute_result"
        }
      ],
      "source": [
        "melted"
      ]
    },
    {
      "cell_type": "code",
      "execution_count": null,
      "id": "acf21122",
      "metadata": {
        "id": "acf21122"
      },
      "outputs": [],
      "source": [
        "reshaped = melted.pivot('key', 'variable', 'value')"
      ]
    },
    {
      "cell_type": "code",
      "execution_count": null,
      "id": "33e9e848",
      "metadata": {
        "id": "33e9e848",
        "outputId": "e4769807-6941-47a3-fab2-8835a117e246"
      },
      "outputs": [
        {
          "data": {
            "text/html": [
              "<div>\n",
              "<style scoped>\n",
              "    .dataframe tbody tr th:only-of-type {\n",
              "        vertical-align: middle;\n",
              "    }\n",
              "\n",
              "    .dataframe tbody tr th {\n",
              "        vertical-align: top;\n",
              "    }\n",
              "\n",
              "    .dataframe thead th {\n",
              "        text-align: right;\n",
              "    }\n",
              "</style>\n",
              "<table border=\"1\" class=\"dataframe\">\n",
              "  <thead>\n",
              "    <tr style=\"text-align: right;\">\n",
              "      <th>variable</th>\n",
              "      <th>A</th>\n",
              "      <th>B</th>\n",
              "      <th>C</th>\n",
              "    </tr>\n",
              "    <tr>\n",
              "      <th>key</th>\n",
              "      <th></th>\n",
              "      <th></th>\n",
              "      <th></th>\n",
              "    </tr>\n",
              "  </thead>\n",
              "  <tbody>\n",
              "    <tr>\n",
              "      <th>bar</th>\n",
              "      <td>2</td>\n",
              "      <td>5</td>\n",
              "      <td>8</td>\n",
              "    </tr>\n",
              "    <tr>\n",
              "      <th>baz</th>\n",
              "      <td>3</td>\n",
              "      <td>6</td>\n",
              "      <td>9</td>\n",
              "    </tr>\n",
              "    <tr>\n",
              "      <th>foo</th>\n",
              "      <td>1</td>\n",
              "      <td>4</td>\n",
              "      <td>7</td>\n",
              "    </tr>\n",
              "  </tbody>\n",
              "</table>\n",
              "</div>"
            ],
            "text/plain": [
              "variable  A  B  C\n",
              "key              \n",
              "bar       2  5  8\n",
              "baz       3  6  9\n",
              "foo       1  4  7"
            ]
          },
          "execution_count": 220,
          "metadata": {},
          "output_type": "execute_result"
        }
      ],
      "source": [
        "reshaped"
      ]
    },
    {
      "cell_type": "code",
      "execution_count": null,
      "id": "2ae35336",
      "metadata": {
        "id": "2ae35336",
        "outputId": "c43590f4-5877-491d-b976-83139f555c12"
      },
      "outputs": [
        {
          "data": {
            "text/html": [
              "<div>\n",
              "<style scoped>\n",
              "    .dataframe tbody tr th:only-of-type {\n",
              "        vertical-align: middle;\n",
              "    }\n",
              "\n",
              "    .dataframe tbody tr th {\n",
              "        vertical-align: top;\n",
              "    }\n",
              "\n",
              "    .dataframe thead th {\n",
              "        text-align: right;\n",
              "    }\n",
              "</style>\n",
              "<table border=\"1\" class=\"dataframe\">\n",
              "  <thead>\n",
              "    <tr style=\"text-align: right;\">\n",
              "      <th>variable</th>\n",
              "      <th>key</th>\n",
              "      <th>A</th>\n",
              "      <th>B</th>\n",
              "      <th>C</th>\n",
              "    </tr>\n",
              "  </thead>\n",
              "  <tbody>\n",
              "    <tr>\n",
              "      <th>0</th>\n",
              "      <td>bar</td>\n",
              "      <td>2</td>\n",
              "      <td>5</td>\n",
              "      <td>8</td>\n",
              "    </tr>\n",
              "    <tr>\n",
              "      <th>1</th>\n",
              "      <td>baz</td>\n",
              "      <td>3</td>\n",
              "      <td>6</td>\n",
              "      <td>9</td>\n",
              "    </tr>\n",
              "    <tr>\n",
              "      <th>2</th>\n",
              "      <td>foo</td>\n",
              "      <td>1</td>\n",
              "      <td>4</td>\n",
              "      <td>7</td>\n",
              "    </tr>\n",
              "  </tbody>\n",
              "</table>\n",
              "</div>"
            ],
            "text/plain": [
              "variable  key  A  B  C\n",
              "0         bar  2  5  8\n",
              "1         baz  3  6  9\n",
              "2         foo  1  4  7"
            ]
          },
          "execution_count": 221,
          "metadata": {},
          "output_type": "execute_result"
        }
      ],
      "source": [
        "reshaped.reset_index()"
      ]
    },
    {
      "cell_type": "code",
      "execution_count": null,
      "id": "7d5516ce",
      "metadata": {
        "id": "7d5516ce",
        "outputId": "7db465f0-2b3f-4b3d-e861-d1140de0c81c"
      },
      "outputs": [
        {
          "data": {
            "text/html": [
              "<div>\n",
              "<style scoped>\n",
              "    .dataframe tbody tr th:only-of-type {\n",
              "        vertical-align: middle;\n",
              "    }\n",
              "\n",
              "    .dataframe tbody tr th {\n",
              "        vertical-align: top;\n",
              "    }\n",
              "\n",
              "    .dataframe thead th {\n",
              "        text-align: right;\n",
              "    }\n",
              "</style>\n",
              "<table border=\"1\" class=\"dataframe\">\n",
              "  <thead>\n",
              "    <tr style=\"text-align: right;\">\n",
              "      <th></th>\n",
              "      <th>key</th>\n",
              "      <th>variable</th>\n",
              "      <th>value</th>\n",
              "    </tr>\n",
              "  </thead>\n",
              "  <tbody>\n",
              "    <tr>\n",
              "      <th>0</th>\n",
              "      <td>foo</td>\n",
              "      <td>A</td>\n",
              "      <td>1</td>\n",
              "    </tr>\n",
              "    <tr>\n",
              "      <th>1</th>\n",
              "      <td>bar</td>\n",
              "      <td>A</td>\n",
              "      <td>2</td>\n",
              "    </tr>\n",
              "    <tr>\n",
              "      <th>2</th>\n",
              "      <td>baz</td>\n",
              "      <td>A</td>\n",
              "      <td>3</td>\n",
              "    </tr>\n",
              "    <tr>\n",
              "      <th>3</th>\n",
              "      <td>foo</td>\n",
              "      <td>B</td>\n",
              "      <td>4</td>\n",
              "    </tr>\n",
              "    <tr>\n",
              "      <th>4</th>\n",
              "      <td>bar</td>\n",
              "      <td>B</td>\n",
              "      <td>5</td>\n",
              "    </tr>\n",
              "    <tr>\n",
              "      <th>5</th>\n",
              "      <td>baz</td>\n",
              "      <td>B</td>\n",
              "      <td>6</td>\n",
              "    </tr>\n",
              "  </tbody>\n",
              "</table>\n",
              "</div>"
            ],
            "text/plain": [
              "   key variable  value\n",
              "0  foo        A      1\n",
              "1  bar        A      2\n",
              "2  baz        A      3\n",
              "3  foo        B      4\n",
              "4  bar        B      5\n",
              "5  baz        B      6"
            ]
          },
          "execution_count": 222,
          "metadata": {},
          "output_type": "execute_result"
        }
      ],
      "source": [
        "pd.melt(df, id_vars=['key'], value_vars=['A', 'B'])"
      ]
    },
    {
      "cell_type": "code",
      "execution_count": null,
      "id": "3802db4b",
      "metadata": {
        "id": "3802db4b",
        "outputId": "326d32ee-effc-4262-9e8f-63eeb0be2d12"
      },
      "outputs": [
        {
          "data": {
            "text/html": [
              "<div>\n",
              "<style scoped>\n",
              "    .dataframe tbody tr th:only-of-type {\n",
              "        vertical-align: middle;\n",
              "    }\n",
              "\n",
              "    .dataframe tbody tr th {\n",
              "        vertical-align: top;\n",
              "    }\n",
              "\n",
              "    .dataframe thead th {\n",
              "        text-align: right;\n",
              "    }\n",
              "</style>\n",
              "<table border=\"1\" class=\"dataframe\">\n",
              "  <thead>\n",
              "    <tr style=\"text-align: right;\">\n",
              "      <th></th>\n",
              "      <th>variable</th>\n",
              "      <th>value</th>\n",
              "    </tr>\n",
              "  </thead>\n",
              "  <tbody>\n",
              "    <tr>\n",
              "      <th>0</th>\n",
              "      <td>A</td>\n",
              "      <td>1</td>\n",
              "    </tr>\n",
              "    <tr>\n",
              "      <th>1</th>\n",
              "      <td>A</td>\n",
              "      <td>2</td>\n",
              "    </tr>\n",
              "    <tr>\n",
              "      <th>2</th>\n",
              "      <td>A</td>\n",
              "      <td>3</td>\n",
              "    </tr>\n",
              "    <tr>\n",
              "      <th>3</th>\n",
              "      <td>B</td>\n",
              "      <td>4</td>\n",
              "    </tr>\n",
              "    <tr>\n",
              "      <th>4</th>\n",
              "      <td>B</td>\n",
              "      <td>5</td>\n",
              "    </tr>\n",
              "    <tr>\n",
              "      <th>5</th>\n",
              "      <td>B</td>\n",
              "      <td>6</td>\n",
              "    </tr>\n",
              "    <tr>\n",
              "      <th>6</th>\n",
              "      <td>C</td>\n",
              "      <td>7</td>\n",
              "    </tr>\n",
              "    <tr>\n",
              "      <th>7</th>\n",
              "      <td>C</td>\n",
              "      <td>8</td>\n",
              "    </tr>\n",
              "    <tr>\n",
              "      <th>8</th>\n",
              "      <td>C</td>\n",
              "      <td>9</td>\n",
              "    </tr>\n",
              "  </tbody>\n",
              "</table>\n",
              "</div>"
            ],
            "text/plain": [
              "  variable  value\n",
              "0        A      1\n",
              "1        A      2\n",
              "2        A      3\n",
              "3        B      4\n",
              "4        B      5\n",
              "5        B      6\n",
              "6        C      7\n",
              "7        C      8\n",
              "8        C      9"
            ]
          },
          "execution_count": 223,
          "metadata": {},
          "output_type": "execute_result"
        }
      ],
      "source": [
        "pd.melt(df, value_vars=['A', 'B', 'C'])"
      ]
    },
    {
      "cell_type": "code",
      "execution_count": null,
      "id": "b7700938",
      "metadata": {
        "id": "b7700938",
        "outputId": "4c85d41d-591e-46bf-a013-f6a8cf1ae27c"
      },
      "outputs": [
        {
          "data": {
            "text/html": [
              "<div>\n",
              "<style scoped>\n",
              "    .dataframe tbody tr th:only-of-type {\n",
              "        vertical-align: middle;\n",
              "    }\n",
              "\n",
              "    .dataframe tbody tr th {\n",
              "        vertical-align: top;\n",
              "    }\n",
              "\n",
              "    .dataframe thead th {\n",
              "        text-align: right;\n",
              "    }\n",
              "</style>\n",
              "<table border=\"1\" class=\"dataframe\">\n",
              "  <thead>\n",
              "    <tr style=\"text-align: right;\">\n",
              "      <th></th>\n",
              "      <th>variable</th>\n",
              "      <th>value</th>\n",
              "    </tr>\n",
              "  </thead>\n",
              "  <tbody>\n",
              "    <tr>\n",
              "      <th>0</th>\n",
              "      <td>key</td>\n",
              "      <td>foo</td>\n",
              "    </tr>\n",
              "    <tr>\n",
              "      <th>1</th>\n",
              "      <td>key</td>\n",
              "      <td>bar</td>\n",
              "    </tr>\n",
              "    <tr>\n",
              "      <th>2</th>\n",
              "      <td>key</td>\n",
              "      <td>baz</td>\n",
              "    </tr>\n",
              "    <tr>\n",
              "      <th>3</th>\n",
              "      <td>A</td>\n",
              "      <td>1</td>\n",
              "    </tr>\n",
              "    <tr>\n",
              "      <th>4</th>\n",
              "      <td>A</td>\n",
              "      <td>2</td>\n",
              "    </tr>\n",
              "    <tr>\n",
              "      <th>5</th>\n",
              "      <td>A</td>\n",
              "      <td>3</td>\n",
              "    </tr>\n",
              "    <tr>\n",
              "      <th>6</th>\n",
              "      <td>B</td>\n",
              "      <td>4</td>\n",
              "    </tr>\n",
              "    <tr>\n",
              "      <th>7</th>\n",
              "      <td>B</td>\n",
              "      <td>5</td>\n",
              "    </tr>\n",
              "    <tr>\n",
              "      <th>8</th>\n",
              "      <td>B</td>\n",
              "      <td>6</td>\n",
              "    </tr>\n",
              "  </tbody>\n",
              "</table>\n",
              "</div>"
            ],
            "text/plain": [
              "  variable value\n",
              "0      key   foo\n",
              "1      key   bar\n",
              "2      key   baz\n",
              "3        A     1\n",
              "4        A     2\n",
              "5        A     3\n",
              "6        B     4\n",
              "7        B     5\n",
              "8        B     6"
            ]
          },
          "execution_count": 224,
          "metadata": {},
          "output_type": "execute_result"
        }
      ],
      "source": [
        "pd.melt(df, value_vars=['key', 'A', 'B'])"
      ]
    }
  ],
  "metadata": {
    "kernelspec": {
      "display_name": "Python 3",
      "language": "python",
      "name": "python3"
    },
    "language_info": {
      "codemirror_mode": {
        "name": "ipython",
        "version": 3
      },
      "file_extension": ".py",
      "mimetype": "text/x-python",
      "name": "python",
      "nbconvert_exporter": "python",
      "pygments_lexer": "ipython3",
      "version": "3.8.8"
    },
    "colab": {
      "name": "Assignment 8 - Data Wrangling.ipynb",
      "provenance": [],
      "include_colab_link": true
    }
  },
  "nbformat": 4,
  "nbformat_minor": 5
}